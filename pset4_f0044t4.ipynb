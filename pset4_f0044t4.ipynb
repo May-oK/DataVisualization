{
 "cells": [
  {
   "cell_type": "code",
   "execution_count": 380,
   "metadata": {},
   "outputs": [
    {
     "name": "stderr",
     "output_type": "stream",
     "text": [
      "[nltk_data] Downloading package punkt to\n",
      "[nltk_data]     /Users/prof.yeeyeeaung/nltk_data...\n",
      "[nltk_data]   Package punkt is already up-to-date!\n"
     ]
    },
    {
     "data": {
      "text/plain": [
       "True"
      ]
     },
     "execution_count": 380,
     "metadata": {},
     "output_type": "execute_result"
    },
    {
     "name": "stderr",
     "output_type": "stream",
     "text": [
      "[nltk_data] Downloading package averaged_perceptron_tagger to\n",
      "[nltk_data]     /Users/prof.yeeyeeaung/nltk_data...\n",
      "[nltk_data]   Package averaged_perceptron_tagger is already up-to-\n",
      "[nltk_data]       date!\n"
     ]
    },
    {
     "data": {
      "text/plain": [
       "True"
      ]
     },
     "execution_count": 380,
     "metadata": {},
     "output_type": "execute_result"
    },
    {
     "name": "stderr",
     "output_type": "stream",
     "text": [
      "[nltk_data] Downloading package stopwords to\n",
      "[nltk_data]     /Users/prof.yeeyeeaung/nltk_data...\n",
      "[nltk_data]   Package stopwords is already up-to-date!\n"
     ]
    },
    {
     "data": {
      "text/plain": [
       "True"
      ]
     },
     "execution_count": 380,
     "metadata": {},
     "output_type": "execute_result"
    },
    {
     "name": "stdout",
     "output_type": "stream",
     "text": [
      "Requirement already satisfied: spacy in /Users/prof.yeeyeeaung/opt/anaconda3/lib/python3.9/site-packages (3.2.2)\n",
      "Requirement already satisfied: catalogue<2.1.0,>=2.0.6 in /Users/prof.yeeyeeaung/opt/anaconda3/lib/python3.9/site-packages (from spacy) (2.0.6)\n",
      "Requirement already satisfied: blis<0.8.0,>=0.4.0 in /Users/prof.yeeyeeaung/opt/anaconda3/lib/python3.9/site-packages (from spacy) (0.7.5)\n",
      "Requirement already satisfied: pydantic!=1.8,!=1.8.1,<1.9.0,>=1.7.4 in /Users/prof.yeeyeeaung/opt/anaconda3/lib/python3.9/site-packages (from spacy) (1.8.2)\n",
      "Requirement already satisfied: murmurhash<1.1.0,>=0.28.0 in /Users/prof.yeeyeeaung/opt/anaconda3/lib/python3.9/site-packages (from spacy) (1.0.6)\n",
      "Requirement already satisfied: jinja2 in /Users/prof.yeeyeeaung/opt/anaconda3/lib/python3.9/site-packages (from spacy) (2.11.3)\n",
      "Requirement already satisfied: preshed<3.1.0,>=3.0.2 in /Users/prof.yeeyeeaung/opt/anaconda3/lib/python3.9/site-packages (from spacy) (3.0.6)\n",
      "Requirement already satisfied: packaging>=20.0 in /Users/prof.yeeyeeaung/opt/anaconda3/lib/python3.9/site-packages (from spacy) (21.0)\n",
      "Requirement already satisfied: thinc<8.1.0,>=8.0.12 in /Users/prof.yeeyeeaung/opt/anaconda3/lib/python3.9/site-packages (from spacy) (8.0.13)\n",
      "Requirement already satisfied: spacy-loggers<2.0.0,>=1.0.0 in /Users/prof.yeeyeeaung/opt/anaconda3/lib/python3.9/site-packages (from spacy) (1.0.1)\n",
      "Requirement already satisfied: tqdm<5.0.0,>=4.38.0 in /Users/prof.yeeyeeaung/opt/anaconda3/lib/python3.9/site-packages (from spacy) (4.62.3)\n",
      "Requirement already satisfied: numpy>=1.15.0 in /Users/prof.yeeyeeaung/opt/anaconda3/lib/python3.9/site-packages (from spacy) (1.20.3)\n",
      "Requirement already satisfied: srsly<3.0.0,>=2.4.1 in /Users/prof.yeeyeeaung/opt/anaconda3/lib/python3.9/site-packages (from spacy) (2.4.2)\n",
      "Requirement already satisfied: setuptools in /Users/prof.yeeyeeaung/opt/anaconda3/lib/python3.9/site-packages (from spacy) (58.0.4)\n",
      "Requirement already satisfied: cymem<2.1.0,>=2.0.2 in /Users/prof.yeeyeeaung/opt/anaconda3/lib/python3.9/site-packages (from spacy) (2.0.6)\n",
      "Requirement already satisfied: typer<0.5.0,>=0.3.0 in /Users/prof.yeeyeeaung/opt/anaconda3/lib/python3.9/site-packages (from spacy) (0.4.0)\n",
      "Requirement already satisfied: wasabi<1.1.0,>=0.8.1 in /Users/prof.yeeyeeaung/opt/anaconda3/lib/python3.9/site-packages (from spacy) (0.9.0)\n",
      "Requirement already satisfied: pathy>=0.3.5 in /Users/prof.yeeyeeaung/opt/anaconda3/lib/python3.9/site-packages (from spacy) (0.6.1)\n",
      "Requirement already satisfied: spacy-legacy<3.1.0,>=3.0.8 in /Users/prof.yeeyeeaung/opt/anaconda3/lib/python3.9/site-packages (from spacy) (3.0.9)\n",
      "Requirement already satisfied: requests<3.0.0,>=2.13.0 in /Users/prof.yeeyeeaung/opt/anaconda3/lib/python3.9/site-packages (from spacy) (2.26.0)\n",
      "Requirement already satisfied: langcodes<4.0.0,>=3.2.0 in /Users/prof.yeeyeeaung/opt/anaconda3/lib/python3.9/site-packages (from spacy) (3.3.0)\n",
      "Requirement already satisfied: pyparsing>=2.0.2 in /Users/prof.yeeyeeaung/opt/anaconda3/lib/python3.9/site-packages (from packaging>=20.0->spacy) (3.0.4)\n",
      "Requirement already satisfied: smart-open<6.0.0,>=5.0.0 in /Users/prof.yeeyeeaung/opt/anaconda3/lib/python3.9/site-packages (from pathy>=0.3.5->spacy) (5.2.1)\n",
      "Requirement already satisfied: typing-extensions>=3.7.4.3 in /Users/prof.yeeyeeaung/opt/anaconda3/lib/python3.9/site-packages (from pydantic!=1.8,!=1.8.1,<1.9.0,>=1.7.4->spacy) (3.10.0.2)\n",
      "Requirement already satisfied: charset-normalizer~=2.0.0 in /Users/prof.yeeyeeaung/opt/anaconda3/lib/python3.9/site-packages (from requests<3.0.0,>=2.13.0->spacy) (2.0.4)\n",
      "Requirement already satisfied: urllib3<1.27,>=1.21.1 in /Users/prof.yeeyeeaung/opt/anaconda3/lib/python3.9/site-packages (from requests<3.0.0,>=2.13.0->spacy) (1.26.7)\n",
      "Requirement already satisfied: certifi>=2017.4.17 in /Users/prof.yeeyeeaung/opt/anaconda3/lib/python3.9/site-packages (from requests<3.0.0,>=2.13.0->spacy) (2021.10.8)\n",
      "Requirement already satisfied: idna<4,>=2.5 in /Users/prof.yeeyeeaung/opt/anaconda3/lib/python3.9/site-packages (from requests<3.0.0,>=2.13.0->spacy) (3.2)\n",
      "Requirement already satisfied: click<9.0.0,>=7.1.1 in /Users/prof.yeeyeeaung/opt/anaconda3/lib/python3.9/site-packages (from typer<0.5.0,>=0.3.0->spacy) (8.0.3)\n",
      "Requirement already satisfied: MarkupSafe>=0.23 in /Users/prof.yeeyeeaung/opt/anaconda3/lib/python3.9/site-packages (from jinja2->spacy) (1.1.1)\n",
      "Collecting en-core-web-sm==3.2.0\n",
      "  Downloading https://github.com/explosion/spacy-models/releases/download/en_core_web_sm-3.2.0/en_core_web_sm-3.2.0-py3-none-any.whl (13.9 MB)\n",
      "\u001b[K     |████████████████████████████████| 13.9 MB 8.2 MB/s eta 0:00:01    |███████████████████▋            | 8.5 MB 3.7 MB/s eta 0:00:02\n",
      "\u001b[?25hRequirement already satisfied: spacy<3.3.0,>=3.2.0 in /Users/prof.yeeyeeaung/opt/anaconda3/lib/python3.9/site-packages (from en-core-web-sm==3.2.0) (3.2.2)\n",
      "Requirement already satisfied: preshed<3.1.0,>=3.0.2 in /Users/prof.yeeyeeaung/opt/anaconda3/lib/python3.9/site-packages (from spacy<3.3.0,>=3.2.0->en-core-web-sm==3.2.0) (3.0.6)\n",
      "Requirement already satisfied: blis<0.8.0,>=0.4.0 in /Users/prof.yeeyeeaung/opt/anaconda3/lib/python3.9/site-packages (from spacy<3.3.0,>=3.2.0->en-core-web-sm==3.2.0) (0.7.5)\n",
      "Requirement already satisfied: tqdm<5.0.0,>=4.38.0 in /Users/prof.yeeyeeaung/opt/anaconda3/lib/python3.9/site-packages (from spacy<3.3.0,>=3.2.0->en-core-web-sm==3.2.0) (4.62.3)\n",
      "Requirement already satisfied: packaging>=20.0 in /Users/prof.yeeyeeaung/opt/anaconda3/lib/python3.9/site-packages (from spacy<3.3.0,>=3.2.0->en-core-web-sm==3.2.0) (21.0)\n",
      "Requirement already satisfied: cymem<2.1.0,>=2.0.2 in /Users/prof.yeeyeeaung/opt/anaconda3/lib/python3.9/site-packages (from spacy<3.3.0,>=3.2.0->en-core-web-sm==3.2.0) (2.0.6)\n",
      "Requirement already satisfied: typer<0.5.0,>=0.3.0 in /Users/prof.yeeyeeaung/opt/anaconda3/lib/python3.9/site-packages (from spacy<3.3.0,>=3.2.0->en-core-web-sm==3.2.0) (0.4.0)\n",
      "Requirement already satisfied: spacy-legacy<3.1.0,>=3.0.8 in /Users/prof.yeeyeeaung/opt/anaconda3/lib/python3.9/site-packages (from spacy<3.3.0,>=3.2.0->en-core-web-sm==3.2.0) (3.0.9)\n",
      "Requirement already satisfied: spacy-loggers<2.0.0,>=1.0.0 in /Users/prof.yeeyeeaung/opt/anaconda3/lib/python3.9/site-packages (from spacy<3.3.0,>=3.2.0->en-core-web-sm==3.2.0) (1.0.1)\n",
      "Requirement already satisfied: wasabi<1.1.0,>=0.8.1 in /Users/prof.yeeyeeaung/opt/anaconda3/lib/python3.9/site-packages (from spacy<3.3.0,>=3.2.0->en-core-web-sm==3.2.0) (0.9.0)\n",
      "Requirement already satisfied: pydantic!=1.8,!=1.8.1,<1.9.0,>=1.7.4 in /Users/prof.yeeyeeaung/opt/anaconda3/lib/python3.9/site-packages (from spacy<3.3.0,>=3.2.0->en-core-web-sm==3.2.0) (1.8.2)\n",
      "Requirement already satisfied: numpy>=1.15.0 in /Users/prof.yeeyeeaung/opt/anaconda3/lib/python3.9/site-packages (from spacy<3.3.0,>=3.2.0->en-core-web-sm==3.2.0) (1.20.3)\n",
      "Requirement already satisfied: murmurhash<1.1.0,>=0.28.0 in /Users/prof.yeeyeeaung/opt/anaconda3/lib/python3.9/site-packages (from spacy<3.3.0,>=3.2.0->en-core-web-sm==3.2.0) (1.0.6)\n",
      "Requirement already satisfied: thinc<8.1.0,>=8.0.12 in /Users/prof.yeeyeeaung/opt/anaconda3/lib/python3.9/site-packages (from spacy<3.3.0,>=3.2.0->en-core-web-sm==3.2.0) (8.0.13)\n",
      "Requirement already satisfied: pathy>=0.3.5 in /Users/prof.yeeyeeaung/opt/anaconda3/lib/python3.9/site-packages (from spacy<3.3.0,>=3.2.0->en-core-web-sm==3.2.0) (0.6.1)\n",
      "Requirement already satisfied: srsly<3.0.0,>=2.4.1 in /Users/prof.yeeyeeaung/opt/anaconda3/lib/python3.9/site-packages (from spacy<3.3.0,>=3.2.0->en-core-web-sm==3.2.0) (2.4.2)\n",
      "Requirement already satisfied: catalogue<2.1.0,>=2.0.6 in /Users/prof.yeeyeeaung/opt/anaconda3/lib/python3.9/site-packages (from spacy<3.3.0,>=3.2.0->en-core-web-sm==3.2.0) (2.0.6)\n",
      "Requirement already satisfied: requests<3.0.0,>=2.13.0 in /Users/prof.yeeyeeaung/opt/anaconda3/lib/python3.9/site-packages (from spacy<3.3.0,>=3.2.0->en-core-web-sm==3.2.0) (2.26.0)\n",
      "Requirement already satisfied: langcodes<4.0.0,>=3.2.0 in /Users/prof.yeeyeeaung/opt/anaconda3/lib/python3.9/site-packages (from spacy<3.3.0,>=3.2.0->en-core-web-sm==3.2.0) (3.3.0)\n",
      "Requirement already satisfied: setuptools in /Users/prof.yeeyeeaung/opt/anaconda3/lib/python3.9/site-packages (from spacy<3.3.0,>=3.2.0->en-core-web-sm==3.2.0) (58.0.4)\n",
      "Requirement already satisfied: jinja2 in /Users/prof.yeeyeeaung/opt/anaconda3/lib/python3.9/site-packages (from spacy<3.3.0,>=3.2.0->en-core-web-sm==3.2.0) (2.11.3)\n"
     ]
    },
    {
     "name": "stdout",
     "output_type": "stream",
     "text": [
      "Requirement already satisfied: pyparsing>=2.0.2 in /Users/prof.yeeyeeaung/opt/anaconda3/lib/python3.9/site-packages (from packaging>=20.0->spacy<3.3.0,>=3.2.0->en-core-web-sm==3.2.0) (3.0.4)\n",
      "Requirement already satisfied: smart-open<6.0.0,>=5.0.0 in /Users/prof.yeeyeeaung/opt/anaconda3/lib/python3.9/site-packages (from pathy>=0.3.5->spacy<3.3.0,>=3.2.0->en-core-web-sm==3.2.0) (5.2.1)\n",
      "Requirement already satisfied: typing-extensions>=3.7.4.3 in /Users/prof.yeeyeeaung/opt/anaconda3/lib/python3.9/site-packages (from pydantic!=1.8,!=1.8.1,<1.9.0,>=1.7.4->spacy<3.3.0,>=3.2.0->en-core-web-sm==3.2.0) (3.10.0.2)\n",
      "Requirement already satisfied: certifi>=2017.4.17 in /Users/prof.yeeyeeaung/opt/anaconda3/lib/python3.9/site-packages (from requests<3.0.0,>=2.13.0->spacy<3.3.0,>=3.2.0->en-core-web-sm==3.2.0) (2021.10.8)\n",
      "Requirement already satisfied: charset-normalizer~=2.0.0 in /Users/prof.yeeyeeaung/opt/anaconda3/lib/python3.9/site-packages (from requests<3.0.0,>=2.13.0->spacy<3.3.0,>=3.2.0->en-core-web-sm==3.2.0) (2.0.4)\n",
      "Requirement already satisfied: idna<4,>=2.5 in /Users/prof.yeeyeeaung/opt/anaconda3/lib/python3.9/site-packages (from requests<3.0.0,>=2.13.0->spacy<3.3.0,>=3.2.0->en-core-web-sm==3.2.0) (3.2)\n",
      "Requirement already satisfied: urllib3<1.27,>=1.21.1 in /Users/prof.yeeyeeaung/opt/anaconda3/lib/python3.9/site-packages (from requests<3.0.0,>=2.13.0->spacy<3.3.0,>=3.2.0->en-core-web-sm==3.2.0) (1.26.7)\n",
      "Requirement already satisfied: click<9.0.0,>=7.1.1 in /Users/prof.yeeyeeaung/opt/anaconda3/lib/python3.9/site-packages (from typer<0.5.0,>=0.3.0->spacy<3.3.0,>=3.2.0->en-core-web-sm==3.2.0) (8.0.3)\n",
      "Requirement already satisfied: MarkupSafe>=0.23 in /Users/prof.yeeyeeaung/opt/anaconda3/lib/python3.9/site-packages (from jinja2->spacy<3.3.0,>=3.2.0->en-core-web-sm==3.2.0) (1.1.1)\n",
      "\u001b[38;5;2m✔ Download and installation successful\u001b[0m\n",
      "You can now load the package via spacy.load('en_core_web_sm')\n",
      "Requirement already satisfied: vaderSentiment in /Users/prof.yeeyeeaung/opt/anaconda3/lib/python3.9/site-packages (3.3.2)\n",
      "Requirement already satisfied: requests in /Users/prof.yeeyeeaung/opt/anaconda3/lib/python3.9/site-packages (from vaderSentiment) (2.26.0)\n",
      "Requirement already satisfied: urllib3<1.27,>=1.21.1 in /Users/prof.yeeyeeaung/opt/anaconda3/lib/python3.9/site-packages (from requests->vaderSentiment) (1.26.7)\n",
      "Requirement already satisfied: charset-normalizer~=2.0.0 in /Users/prof.yeeyeeaung/opt/anaconda3/lib/python3.9/site-packages (from requests->vaderSentiment) (2.0.4)\n",
      "Requirement already satisfied: idna<4,>=2.5 in /Users/prof.yeeyeeaung/opt/anaconda3/lib/python3.9/site-packages (from requests->vaderSentiment) (3.2)\n",
      "Requirement already satisfied: certifi>=2017.4.17 in /Users/prof.yeeyeeaung/opt/anaconda3/lib/python3.9/site-packages (from requests->vaderSentiment) (2021.10.8)\n"
     ]
    }
   ],
   "source": [
    "## helpful packages\n",
    "import pandas as pd\n",
    "import numpy as np\n",
    "import random\n",
    "import re\n",
    "\n",
    "## nltk imports\n",
    "import nltk\n",
    "nltk.download('punkt')\n",
    "import nltk\n",
    "## nltk imports\n",
    "from nltk.tokenize import word_tokenize, wordpunct_tokenize\n",
    "from nltk.corpus import stopwords\n",
    "from nltk.stem.porter import PorterStemmer\n",
    "### uncomment and run these lines if you haven't downloaded relevant nltk add-ons yet\n",
    "nltk.download('averaged_perceptron_tagger')\n",
    "nltk.download('stopwords')\n",
    "from nltk import pos_tag\n",
    "from nltk.tokenize import word_tokenize, wordpunct_tokenize\n",
    "from nltk.stem.snowball import SnowballStemmer\n",
    "from nltk.corpus import stopwords\n",
    "\n",
    "## spacy imports\n",
    "!pip install spacy\n",
    "import spacy\n",
    "### uncomment and run the below line if you haven't loaded the en_core_web_sm library yet\n",
    "! python -m spacy download en_core_web_sm\n",
    "\n",
    "import en_core_web_sm\n",
    "nlp = en_core_web_sm.load()\n",
    "\n",
    "## vectorizer\n",
    "from sklearn.feature_extraction.text import CountVectorizer\n",
    "\n",
    "## sentiment\n",
    "!pip install vaderSentiment\n",
    "from vaderSentiment.vaderSentiment import SentimentIntensityAnalyzer\n",
    "\n",
    "## lda\n",
    "from gensim import corpora\n",
    "import gensim\n",
    "\n",
    "## repeated printouts and wide-format text\n",
    "from IPython.core.interactiveshell import InteractiveShell\n",
    "InteractiveShell.ast_node_interactivity = \"all\"\n",
    "pd.set_option('display.max_colwidth', None)"
   ]
  },
  {
   "cell_type": "markdown",
   "metadata": {},
   "source": [
    "# Text analysis of DOJ press releases (52 points)\n",
    "\n",
    "For background, here's the Kaggle that contains the data: https://www.kaggle.com/jbencina/department-of-justice-20092018-press-releases \n",
    "\n",
    "Here's the code the dataset owner used to scrape those press releases here if you're interested: https://github.com/jbencina/dojreleases"
   ]
  },
  {
   "cell_type": "code",
   "execution_count": 381,
   "metadata": {},
   "outputs": [
    {
     "data": {
      "text/html": [
       "<div>\n",
       "<style scoped>\n",
       "    .dataframe tbody tr th:only-of-type {\n",
       "        vertical-align: middle;\n",
       "    }\n",
       "\n",
       "    .dataframe tbody tr th {\n",
       "        vertical-align: top;\n",
       "    }\n",
       "\n",
       "    .dataframe thead th {\n",
       "        text-align: right;\n",
       "    }\n",
       "</style>\n",
       "<table border=\"1\" class=\"dataframe\">\n",
       "  <thead>\n",
       "    <tr style=\"text-align: right;\">\n",
       "      <th></th>\n",
       "      <th>id</th>\n",
       "      <th>title</th>\n",
       "      <th>contents</th>\n",
       "      <th>date</th>\n",
       "      <th>topics_clean</th>\n",
       "      <th>components_clean</th>\n",
       "    </tr>\n",
       "  </thead>\n",
       "  <tbody>\n",
       "    <tr>\n",
       "      <th>0</th>\n",
       "      <td>None</td>\n",
       "      <td>Convicted Bomb Plotter Sentenced to 30 Years</td>\n",
       "      <td>PORTLAND, Oregon. – Mohamed Osman Mohamud, 23, who was convicted in 2013 of attempting to use a weapon of mass destruction (explosives) in connection with a plot to detonate a vehicle bomb at an annual Christmas tree lighting ceremony in Portland, was sentenced today to serve 30 years in prison, followed by a lifetime term of supervised release. Mohamud, a naturalized U.S. citizen from Somalia and former resident of Corvallis, Oregon, was arrested on Nov. 26, 2010, after he attempted to detonate what he believed to be an explosives-laden van that was parked near the tree lighting ceremony in Portland.  The arrest was the culmination of a long-term undercover operation, during which Mohamud was monitored closely for months as his bomb plot developed.  The device was in fact inert, and the public was never in danger from the device. At sentencing, United States District Court Judge Garr M. King, who presided over Mohamed’s 14-day trial, said “the intended crime was horrific,” and that the defendant, even though he was presented with options by undercover FBI employees, “never once expressed a change of heart.”  King further noted that the Christmas tree ceremony was attended by up to 10,000 people, and that the defendant “wanted everyone to leave either dead or injured.”  King said his sentence was necessary in view of the seriousness of the crime and to serve as deterrence to others who might consider similar acts.     “With today’s sentencing, Mohamed Osman Mohamud is being held accountable for his attempted use of what he believed to be a massive bomb to attack innocent civilians attending a public Christmas tree lighting ceremony in Portland,” said John P. Carlin, Assistant Attorney General for National Security.  “The evidence clearly indicated that Mohamud was intent on killing as many people as possible with his attack.  Fortunately, law enforcement was able to identify him as a threat, insert themselves in the place of a terrorist that Mohamud was trying to contact, and thwart Mohamud’s efforts to conduct an attack on our soil.  This case highlights how the use of undercover operations against would-be terrorists allows us to engage and disrupt those who wish to commit horrific acts of violence against the innocent public.  The many agents, analysts, and prosecutors who have worked on this case deserve great credit for their roles in protecting Portland from the threat posed by this defendant and ensuring that he was brought to justice.” “This trial provided a rare glimpse into the techniques Al Qaeda employs to radicalize home-grown extremists,” said Amanda Marshall, U.S. Attorney for the District of Oregon.  “With the sentencing today, the court has held this defendant accountable.   I thank the dedicated professionals in the law enforcement and intelligence communities who were responsible for this successful outcome.  I look forward to our continued work with Muslim communities in Oregon who are committed to ensuring that all young people are safe from extremists who seek to radicalize others to engage in violence.”  According to the trial evidence, in February 2009, Mohamud began communicating via e-mail with Samir Khan, a now-deceased al Qaeda terrorist who published Jihad Recollections, an online magazine that advocated violent jihad, and who also published Inspire, the official magazine of al-Qaeda in the Arabian Peninsula.  Between February and August 2009, Mohamed exchanged approximately 150 emails with Khan.  Mohamud wrote several articles for Jihad Recollections that were published under assumed names. In August 2009, Mohamud was in email contact with Amro Al-Ali, a Saudi national who was in Yemen at the time and is today in custody in Saudi Arabia for terrorism offenses.  Al-Ali sent Mohamud detailed e-mails designed to facilitate Mohamud’s travel to Yemen to train for violent jihad.  In December 2009, while Al-Ali was in the northwest frontier province of Pakistan, Mohamud and Al-Ali discussed the possibility of Mohamud traveling to Pakistan to join Al-Ali in terrorist activities. Mohamud responded to Al-Ali in an e-mail: “yes, that would be wonderful, just tell me what I need to do.”  Al-Ali referred Mohamud to a second associate overseas and provided Mohamud with a name and email address to facilitate the process. In the following months, Mohamud made several unsuccessful attempts to contact Al-Ali’s associate.  Ultimately, an FBI undercover operative contacted Mohamud via email under the guise of being an associate of Al-Ali’s.  Mohamud and the FBI undercover operative agreed to meet in Portland in July 2010.  At the meeting, Mohamud told the FBI undercover operative he had written articles that were published in Jihad Recollections.  Mohamud also said that he wanted to become “operational.”  Asked what he meant by “operational,” Mohamud said he wanted to put an explosion together, but needed help. According to evidence presented at trial, at a meeting in August 2010, Mohamud told undercover FBI operatives he had been thinking of committing violent jihad since the age of 15.  Mohamud then told the undercover FBI operatives that he had identified a potential target for a bomb: the annual Christmas tree lighting ceremony in Portland’s Pioneer Courthouse Square on Nov. 26, 2010.  The undercover FBI operatives cautioned Mohamud several times about the seriousness of this plan, noting there would be many people at the event, including children, and emphasized that Mohamud could abandon his attack plans at any time with no shame.  Mohamud indicated the deaths would be justified and that he would not mind carrying out a suicide attack on the crowd. According to evidence presented at trial, in the ensuing months Mohamud continued to express his interest in carrying out the attack and worked on logistics.  On Nov. 4, 2010, Mohamud and the undercover FBI operatives traveled to a remote location in Lincoln County, Oregon, where they detonated a bomb concealed in a backpack as a trial run for the upcoming attack.  During the drive back to Corvallis, Mohamud was asked if was capable looking at all the bodies of those who would be killed during the explosion.  In response, Mohamud noted, “I want whoever is attending that event to be, to leave either dead or injured.”  Mohamud later recorded a video of himself, with the assistance of the undercover FBI operatives, in which he read a statement that offered his rationale for his bomb attack.  On Nov. 18, 2010, undercover FBI operatives picked up Mohamud to travel to Portland to finalize the details of the attack.  On Nov. 26, 2010, just hours before the planned attack, Mohamud examined the 1,800 pound bomb in the van and remarked that it was “beautiful.”  Later that day, Mohamud was arrested after he attempted to remotely detonate the inert vehicle bomb rked near the Christmas tree lighting ceremony This case was investigated by the FBI, with assistance from the Oregon State Police, the Corvallis Police Department, the Lincoln County Sheriff’s Office and the Portland Police Bureau.  The prosecution was handled by Assistant U.S. Attorneys Ethan D. Knight and Pamala Holsinger from the U.S. Attorney’s Office for the District of Oregon.  Trial Attorney Jolie F. Zimmerman, from the Counterterrorism Section of the Justice Department’s National Security Division, assisted. # # # 14-1077</td>\n",
       "      <td>2014-10-01T00:00:00-04:00</td>\n",
       "      <td>No topic</td>\n",
       "      <td>National Security Division (NSD)</td>\n",
       "    </tr>\n",
       "    <tr>\n",
       "      <th>1</th>\n",
       "      <td>12-919</td>\n",
       "      <td>$1 Million in Restitution Payments Announced to Preserve North Carolina Wetlands</td>\n",
       "      <td>WASHINGTON – North Carolina’s Waccamaw River watershed will benefit from a $1 million restitution order from a federal court, funding environmental projects to acquire and preserve wetlands in an area damaged by illegal releases of wastewater from a corporate hog farm, announced Ignacia S. Moreno, Assistant Attorney General of the Justice Department’s Environment and Natural Resources Division; U.S. Attorney for the Eastern District of North Carolina Thomas G. Walker; Director Greg McLeod from the North Carolina State Bureau of Investigation; and Camilla M. Herlevich, Executive Director of the North Carolina Coastal Land Trust.   Freedman Farms Inc. was sentenced in February 2012 to five years of probation and ordered to pay $1.5 million in fines, restitution and community service payments for violating the Clean Water Act when it discharged hog waste into a stream that leads to the Waccamaw River.  William B. Freedman, president of Freedman Farms, was sentenced to six months in prison to be followed by six months of home confinement.  Freedman Farms also is required to implement a comprehensive environmental compliance program and institute an annual training program.   In an order issued on April 19, 2012, the court ordered that the defendants would be responsible for restitution of $1 million in the form of five annual payments starting in January 2013, which the court will direct to the North Carolina Coastal Land Trust (NCCLT).  The NCCLT plans to use the money to acquire and conserve land along streams in the Waccamaw watershed.  The court also directed a $75,000 community service payment to the Southern Environmental Enforcement Network, an organization dedicated to environmental law enforcement training and information sharing in the region.    “The resolution of the case against Freedman Farms demonstrates the commitment of the Department of Justice to enforcing the Clean Water Act to ensure the protection of human health and the environment,” said Assistant Attorney General Moreno.  “The court-ordered restitution in this case will conserve wetlands for the benefit of the people of North Carolina.  By enforcing the nation’s environmental laws, we will continue to ensure that concentrated animal feeding operations (CAFOs) operate without threatening our drinking water, the health of our communities and the environment.”   “This office is committed to doing our part to hold accountable those who commit crimes against our environment, which can cause serious health problems to residents and damage the environment that makes North Carolina such a beautiful place to live and visit,” said U.S. Attorney Walker.   “This case shows what we can accomplish when our SBI agents work closely with their local, state and federal partners to investigate environmental crimes and hold the polluters accountable,” said Director McLeod.  “We’ll continue our efforts to fight illegal pollution that damages our water and puts the public’s health at risk.”    “The Waccamaw is unique and wild,” said Director Herlevich of the North Carolina Coastal Land Trust. “Its watershed includes some of the most extensive cypress gum swamps in the state, and its headwaters at Lake Waccamaw contain fish that are found nowhere else on Earth.  We appreciate the trust of the court and the U. S. Attorney, and we look forward to using these funds for conservation projects in a river system that is one of our top conservation priorities.”   According to evidence presented in court, in December 2007 Freedman Farms discharged hog waste into Browder’s Branch, a tributary to the Waccamaw River that flows through the White Marsh, a large wetlands complex.  Freedman Farms, located in Columbus County, N.C., is in the business of raising hogs for market, and this particular farm had some 4,800 hogs.  The hog waste was supposed to be directed to two lagoons for treatment and disposal.  Instead, hog waste was discharged from Freedman Farms directly into Browder’s Branch.    The Clean Water Act is a federal law that makes it illegal to knowingly or negligently discharge a pollutant into a water of the United States.    The Freedman case was investigated by the U.S. Environmental Protection Agency (EPA) Criminal Investigation Division, the U.S. Army Corps of Engineers and the North Carolina State Bureau of Investigation, with assistance from the EPA Science and Ecosystem Support Division.  The case was prosecuted by Assistant U.S. Attorney J. Gaston B. Williams of the Eastern District of North Carolina and Trial Attorney Mary Dee Carraway of the Environmental Crimes Section of the Justice Department’s Environment and Natural Resources Division.   The North Carolina Coastal Land Trust is celebrating its 20th anniversary of saving special lands in eastern North Carolina. The organization has protected nearly 50,000 acres of lands with scenic, recreational, historic and ecological values. North Carolina Coastal Land Trust has saved streams and wetlands that provide clean water, forests that are havens for wildlife, working farms that provide local food and nature parks that everyone can enjoy.  More information about the Coastal Land Trust is available at www.coastallandtrust.org.</td>\n",
       "      <td>2012-07-25T00:00:00-04:00</td>\n",
       "      <td>No topic</td>\n",
       "      <td>Environment and Natural Resources Division</td>\n",
       "    </tr>\n",
       "    <tr>\n",
       "      <th>2</th>\n",
       "      <td>11-1002</td>\n",
       "      <td>$1 Million Settlement Reached for Natural Resource Damages at Superfund Site in Massachusetts</td>\n",
       "      <td>BOSTON– A $1-million settlement has been reached for natural resource damages (NRD) at the Blackburn &amp; Union Privileges Superfund Site in Walpole, Mass., the Departments of Justice and Interior (DOI), and the Office of the Massachusetts Attorney General announced today.                The Blackburn &amp; Union Privileges Superfund Site includes 22 acres of contaminated land and water in Walpole. The contamination resulted from the operations of various industrial facilities dating back to the 19th century that exposed the site to asbestos, arsenic, lead and other hazardous substances.                The private parties involved in the settlement include two former owners and operators of the site, W.R. Grace &amp; Co.– Conn. and Tyco Healthcare Group LP, as well as the current owners, BIM Investment Corp. and Shaffer Realty Nominee Trust.               From about 1915 to 1936, a predecessor of W.R. Grace manufactured asbestos brake linings and clutch linings on a large portion of the property. From 1946 to about 1983, a predecessor of Tyco Healthcare operated a cotton fabric manufacturing business, which used caustic solutions, on a portion of the property.               In a 2010 settlement with U.S. Environmental Protection Agency (EPA), the four private parties agreed to perform a remedial action to clean up the site at an estimated cost of $13 million. The consent decree lodged today resolves both state and federal NRD liability claims; it requires the parties to pay $1,094,169.56 to the state and federal natural resource trustees, the Massachusetts Executive Office of Energy and Environmental Affairs (EEA) and DOI, for injuries to ecological resources including groundwater and wetlands, which provide habitat for waterfowl and wading birds, including black ducks and great blue herons.  The trustees will use the settlement funds for natural resource restoration projects in the area.               “This settlement demonstrates our commitment to recovering damages from the parties responsible for injury to natural resources, in partnership with state trustees,” said Bruce Gelber, Acting Deputy Assistant Attorney General of the Justice Department’s Environment and Natural Resources Division.               “The citizens of Walpole have had to live with the environmental impact of this contamination for many years,” Attorney General Martha Coakley said. “We are pleased that today’s agreement will not only require the responsible parties to reimburse taxpayer dollars, but will also provide funding to begin restoring or replacing the wetland and other natural resources.”                 The consent decree was lodged in the U.S. District Court for Massachusetts.     A portion of the funds, $300,000, will be distributed to the EEA-sponsored groundwater restoration projects; $575,000 will be used for ecological restoration projects jointly sponsored by EEA and the U.S. Fish and Wildlife Service (FWS).               In addition, $125,000 will go for projects jointly sponsored by EEA and FWS that achieve both ecological and groundwater restoration; $57,491.34 will be allocated for reimbursement for the FWS’s assessment costs; and $36,678.22 will be distributed as reimbursement for the commonwealth’s assessment costs.       “This settlement provides the means for a range of projects designed to compensate the public for decades of groundwater and other ecological damage at this site.  I encourage local citizens and organizations to become engaged in the public process that will take place as we solicit, take comment on, and choose these projects in the months ahead,” said Energy and Environmental Affairs Secretary Richard K. Sullivan Jr., who serves as the Commonwealth’s Natural Resources Damages trustee.       “This settlement will help restore habitat for fish and wildlife in the Neponset River watershed,” said Tom Chapman of the FWS New England Field Office. “We look forward to working with the commonwealth and local stakeholders to implement restoration.”               “More than 100 years-worth of industrial activities at this site caused major environmental contamination to the Neponset River, nearby wetlands and to groundwater below the site,” said Commissioner Kenneth Kimmell of the Massachusetts Department of Environmental Protection (MassDEP), which will staff the Trustee Council for the Commonwealth. “We will ensure that the community and the public will be active participants in the process to use these NRD funds to restore the injured natural resources.”                Under the federal Comprehensive Environmental Response, Compensation and Liability Act, EEA and DOI, acting through the FWS, are the designated state and federal natural resource Trustees for the site. The site has been listed on the EPA’s National Priorities List since 1994.        The consent decree is subject to a public comment period and court approval. A copy of the consent decree and instructions about how to submit comments is available on www.usdoj.gov/enrd/Consent_Decrees.html  .               After the consent decree is approved, EEA and FWS will develop proposed restoration plans to use the settlement funds for restoration projects. The proposed restoration plans will also be made available to the public for review and comment.                Assistant Attorney General Matthew Brock of Massachusetts Attorney General Coakley's Environmental Protection Division handled this matter.  Attorney Jennifer Davis of MassDEP, Attorney Anna Blumkin of EEA and MassDEP’s NRD Coordinator Karen Pelto also worked on this settlement.</td>\n",
       "      <td>2011-08-03T00:00:00-04:00</td>\n",
       "      <td>No topic</td>\n",
       "      <td>Environment and Natural Resources Division</td>\n",
       "    </tr>\n",
       "    <tr>\n",
       "      <th>3</th>\n",
       "      <td>10-015</td>\n",
       "      <td>10 Las Vegas Men Indicted \\r\\nfor Falsifying Vehicle Emissions Tests</td>\n",
       "      <td>WASHINGTON—A federal grand jury in Las Vegas today returned indictments against 10 Nevada-certified emissions testers for falsifying vehicle emissions test reports, the Justice Department announced.   Each defendant faces one felony Clean Air Act count for falsifying reports between November 2007 and May 2009. The number of falsifications varied by defendant, with some defendants having falsified approximately 250 records, while others falsified more than double that figure. One defendant is alleged to have falsified over 700 reports.   The individuals indicted include:     Escudero resides in Pahrump, Nev. All other individuals are from Clark County, Nev.    The 10 defendants are alleged to have engaged in a practice known as \"clean scanning\" vehicles. The scheme involved entering the Vehicle Identification Number (VIN) for a vehicle that would not pass the emissions test into the computerized system, then connecting a different vehicle the testers knew would pass the test. These falsifications were allegedly performed for anywhere from $10 to $100 over and above the usual emissions testing fee.    The U.S. Environmental Protection Agency (EPA), under the Clean Air Act, requires the state of Nevada to conduct vehicle emissions testing in certain areas because the areas exceed national standards for carbon monoxide and ozone. Las Vegas is currently required to perform emissions testing.    To obtain a registration renewal, vehicle owners bring the vehicles to a licensed inspection station for testing. The emissions inspector logs into a computer to activate the system by using a unique password issued to the emissions inspector. The emissions inspector manually inputs the vehicle’s VIN to identify the tested vehicle, then connects the vehicle for model year 1996 and later to an onboard diagnostics port connected to an analyzer. The analyzer downloads data from the vehicle’s computer, analyzes the data and provides a \"pass\" or \"fail\" result. The pass or fail result and vehicle identification data are reported on the Vehicle Inspection Report. It is a crime to knowingly alter or conceal any record or other document required to be maintained by the Clean Air Act.     \"Falsifications of vehicle emissions testing, such as those alleged in the indictments unsealed today, are serious matters and we intend to use all of our enforcement tools to stop this harmful practice. These actions undermine a system that is designed to reduce air pollutants including smog and provide better air quality for the citizens of Nevada,\" said Ignacia S. Moreno, Assistant Attorney General for the Justice Department’s Environment and Natural Resources Division.    \"The residents of Nevada deserve to know that the vast majority of licensed vehicle emission inspectors are not corrupt and are not circumventing emission testing procedures,\" said U.S. Attorney Bogden. \"These indictments should serve as a clear warning to offenders that the Department of Justice will prosecute you if you make fraudulent statements and reports concerning compliance with the federal Clean Air Act.\"    \"Lying about car emissions means dirtier air, which is especially of concern in areas like Las Vegas that are already experiencing air quality problems,\" said Cynthia Giles, Assistant Administrator for Enforcement and Compliance Assurance at EPA. \"We will take aggressive action to ensure communities have clean air.\"    The maximum penalty for the felony violations contained in the indictments includes up to two years in prison and a fine of up to $250,000.    An indictment is merely an accusation, and a defendant is presumed innocent unless and until proven guilty in a court of law.    The case was investigated by the EPA, Criminal Investigation Division; and the Nevada Department of Motor Vehicles Compliance Enforcement Division. The case is being prosecuted by the U.S. Attorney’s Office for the District of Nevada and the Justice Department’s Environmental Crimes Section.</td>\n",
       "      <td>2010-01-08T00:00:00-05:00</td>\n",
       "      <td>No topic</td>\n",
       "      <td>Environment and Natural Resources Division</td>\n",
       "    </tr>\n",
       "    <tr>\n",
       "      <th>4</th>\n",
       "      <td>18-898</td>\n",
       "      <td>$100 Million Settlement Will Speed Cleanup Work at Centredale Manor Superfund Site in North Providence, R.I.</td>\n",
       "      <td>The U.S. Department of Justice, the U.S. Environmental Protection Agency (EPA), and the Rhode Island Department of Environmental Management (RIDEM) announced today that two subsidiaries of Stanley Black &amp; Decker Inc.—Emhart Industries Inc. and Black &amp; Decker Inc.—have agreed to clean up dioxin contaminated sediment and soil at the Centredale Manor Restoration Project Superfund Site in North Providence and Johnston, Rhode Island.  “We are pleased to reach a resolution through collaborative work with the responsible parties, EPA, and other stakeholders,” said Acting Assistant Attorney General Jeffrey H. Wood for the Justice Department's Environment and Natural Resources Division . “Today’s settlement ends protracted litigation and allows for important work to get underway to restore a healthy environment for citizens living in and around the Centredale Manor Site and the Woonasquatucket River.” “This settlement demonstrates the tremendous progress we are achieving working with responsible parties, states, and our federal partners to expedite sites through the entire Superfund remediation process,” said EPA Acting Administrator Andrew Wheeler. “The Centredale Manor Site has been on the National Priorities List for 18 years; we are taking charge and ensuring the Agency makes good on its promise to clean it up for the betterment of the environment and those communities affected.” “Successfully concluding this settlement paves the way for EPA to make good on our commitment to aggressively pursue cleaning up the Centredale Manor Superfund Site,” said EPA New England Regional Administrator Alexandra Dunn. “We are excited to get to work on the cleanup at this site, and get it closer to the goal of being fully utilized by the North Providence and Johnston communities.” “We are pleased that the collective efforts of the State of Rhode Island, EPA, and DOJ in these negotiations have concluded in this major milestone toward the cleanup of the Centredale Manor Restoration Superfund site and are consistent with our long-standing efforts to make the polluter pay,” said RIDEM Director Janet Coit. “The settlement will speed up a remedy that protects public health and the river environment, and moves us closer to the day that we can reclaim recreational uses of this beautiful river resource.” The settlement, which includes cleanup work in the Woonasquatucket River (River) and bordering residential and commercial properties along the River, requires the companies to perform the remedy selected by EPA for the Site in 2012, which is estimated to cost approximately $100 million, and resolves longstanding litigation. The cleanup remedy includes excavation of contaminated sediment and floodplain soil from the Woonasquatucket River, including from adjacent residential properties. Once the cleanup remedy is completed, full access to the Woonasquatucket River should be restored for local citizens. The cleanup will be a step toward the State’s goal of a fishable and swimmable river. The work will also include upgrading caps over contaminated soil in the peninsula area of the Site that currently house two high-rise apartment buildings. The settlement also ensures that the long-term monitoring and maintenance of the site, as directed in the remedy, will be implemented to ensure that public health is protected.  Under the settlement, Emhart and Black &amp; Decker will reimburse EPA for approximately $42 million in past costs incurred at the Site. The companies will also reimburse EPA and the State of Rhode Island for future costs incurred by those agencies in overseeing the work required by the settlement. The settlement will also include payments on behalf of two federal agencies to resolve claims against those agencies. These payments, along with prior settlements related to the Site, will result in a 100 percent recovery for the United States of its past and future response costs related to the Site. Litigation related to the Site has been ongoing for nearly eight years. While the Federal District Court found Black &amp; Decker and Emhart to be liable for their hazardous waste and responsible to conduct the cleanup of the Site, it had also ruled that EPA needed to reconsider certain aspects of that cleanup. EPA appealed the decision requiring it to reconsider aspects of the cleanup. This settlement, once entered by the District Court, will resolve the litigation between the United States, Rhode Island, and Emhart and Black and Decker, allowing the cleanup of the Site to begin. The Site spans a one and a half mile stretch of the Woonasquatucket River and encompasses a nine-acre peninsula, two ponds and a significant forested wetland. From the 1940s to the early 1970s, Emhart’s predecessor operated a chemical manufacturing facility on the peninsula and used a raw material that was contaminated with 2,3,7,8-tetrachlorodibenzo-p-dioxin, a toxic form of dioxin. The Site property was also previously used by a barrel refurbisher. Elevated levels of dioxins and other contaminants have been detected in soil, groundwater, sediment, surface water and fish.  The Site was added to the National Priorities List (NPL) in 2000, and in December 2017, EPA included the Centredale Manor Restoration Project Superfund Site on a list of Superfund sites targeted for immediate and intense attention. Several short-term actions were previously performed at the Site to address immediate threats to the residents and minimize potential erosion and downstream transport of contaminated soil and sediment. This settlement is the latest agreement EPA has reached since the Site was listed on the NPL. Prior agreements addressed the performance and recovery of costs for the past environmental investigations and interim cleanup actions from Emhart, the barrel reconditioning company, the current owners of the peninsula portion of the Site, and other potentially responsible parties. The Consent Decree, lodged in the U.S. District Court of Rhode Island, will be posted in the Federal Register and available for public comment for a period of 30 days. The Consent Decree can be viewed on the Justice Department website: www.justice.gov/enrd/Consent_Decrees.html.  EPA information on the Centredale Manor Superfund Site: www.epa.gov/superfund/centredale.</td>\n",
       "      <td>2018-07-09T00:00:00-04:00</td>\n",
       "      <td>Environment</td>\n",
       "      <td>Environment and Natural Resources Division</td>\n",
       "    </tr>\n",
       "  </tbody>\n",
       "</table>\n",
       "</div>"
      ],
      "text/plain": [
       "        id  \\\n",
       "0     None   \n",
       "1  12-919    \n",
       "2  11-1002   \n",
       "3   10-015   \n",
       "4   18-898   \n",
       "\n",
       "                                                                                                          title  \\\n",
       "0                                                                  Convicted Bomb Plotter Sentenced to 30 Years   \n",
       "1                              $1 Million in Restitution Payments Announced to Preserve North Carolina Wetlands   \n",
       "2                 $1 Million Settlement Reached for Natural Resource Damages at Superfund Site in Massachusetts   \n",
       "3                                          10 Las Vegas Men Indicted \\r\\nfor Falsifying Vehicle Emissions Tests   \n",
       "4  $100 Million Settlement Will Speed Cleanup Work at Centredale Manor Superfund Site in North Providence, R.I.   \n",
       "\n",
       "                                                                                                                                                                                                                                                                                                                                                                                                                                                                                                                                                                                                                                                                                                                                                                                                                                                                                                                                                                                                                                                                                                                                                                                                                                                                                                                                                                                                                                                                                                                                                                                                                                                                                                                                                                                                                                                                                                                                                                                                                                                                                                                                                                                                                                                                                                                                                                                                                                                                                                                                                                                                                                                                                                                                                                                                                                                                                                                                                                                                                                                                                                                                                                                                                                                                                                                                                                                                                                                                                                                                                                                                                                                                                                                                                                                                                                                                                                                                                                                                                                                                                                                                                                                                                                                                                                                                                                                                                                                                                                                                                                                                                                                                                                                                                                                                                                                                                                                                                                                                                                                                                                                                                                                                                                                                                                                                                                                                                                                                                                                                                                                                                                                                                                                                                                                                                                                                                                                                                                                                                                                                                                                                                                                                                                                                                                                                                                                                                                                                                                                                                                                                                                                                                                                                                                                                                                                                                                                                                                                                                                                                                                                                                                                                                                                                                                                                                                                                                                                                                                                                                                                                                                                                          contents  \\\n",
       "0  PORTLAND, Oregon. – Mohamed Osman Mohamud, 23, who was convicted in 2013 of attempting to use a weapon of mass destruction (explosives) in connection with a plot to detonate a vehicle bomb at an annual Christmas tree lighting ceremony in Portland, was sentenced today to serve 30 years in prison, followed by a lifetime term of supervised release. Mohamud, a naturalized U.S. citizen from Somalia and former resident of Corvallis, Oregon, was arrested on Nov. 26, 2010, after he attempted to detonate what he believed to be an explosives-laden van that was parked near the tree lighting ceremony in Portland.  The arrest was the culmination of a long-term undercover operation, during which Mohamud was monitored closely for months as his bomb plot developed.  The device was in fact inert, and the public was never in danger from the device. At sentencing, United States District Court Judge Garr M. King, who presided over Mohamed’s 14-day trial, said “the intended crime was horrific,” and that the defendant, even though he was presented with options by undercover FBI employees, “never once expressed a change of heart.”  King further noted that the Christmas tree ceremony was attended by up to 10,000 people, and that the defendant “wanted everyone to leave either dead or injured.”  King said his sentence was necessary in view of the seriousness of the crime and to serve as deterrence to others who might consider similar acts.     “With today’s sentencing, Mohamed Osman Mohamud is being held accountable for his attempted use of what he believed to be a massive bomb to attack innocent civilians attending a public Christmas tree lighting ceremony in Portland,” said John P. Carlin, Assistant Attorney General for National Security.  “The evidence clearly indicated that Mohamud was intent on killing as many people as possible with his attack.  Fortunately, law enforcement was able to identify him as a threat, insert themselves in the place of a terrorist that Mohamud was trying to contact, and thwart Mohamud’s efforts to conduct an attack on our soil.  This case highlights how the use of undercover operations against would-be terrorists allows us to engage and disrupt those who wish to commit horrific acts of violence against the innocent public.  The many agents, analysts, and prosecutors who have worked on this case deserve great credit for their roles in protecting Portland from the threat posed by this defendant and ensuring that he was brought to justice.” “This trial provided a rare glimpse into the techniques Al Qaeda employs to radicalize home-grown extremists,” said Amanda Marshall, U.S. Attorney for the District of Oregon.  “With the sentencing today, the court has held this defendant accountable.   I thank the dedicated professionals in the law enforcement and intelligence communities who were responsible for this successful outcome.  I look forward to our continued work with Muslim communities in Oregon who are committed to ensuring that all young people are safe from extremists who seek to radicalize others to engage in violence.”  According to the trial evidence, in February 2009, Mohamud began communicating via e-mail with Samir Khan, a now-deceased al Qaeda terrorist who published Jihad Recollections, an online magazine that advocated violent jihad, and who also published Inspire, the official magazine of al-Qaeda in the Arabian Peninsula.  Between February and August 2009, Mohamed exchanged approximately 150 emails with Khan.  Mohamud wrote several articles for Jihad Recollections that were published under assumed names. In August 2009, Mohamud was in email contact with Amro Al-Ali, a Saudi national who was in Yemen at the time and is today in custody in Saudi Arabia for terrorism offenses.  Al-Ali sent Mohamud detailed e-mails designed to facilitate Mohamud’s travel to Yemen to train for violent jihad.  In December 2009, while Al-Ali was in the northwest frontier province of Pakistan, Mohamud and Al-Ali discussed the possibility of Mohamud traveling to Pakistan to join Al-Ali in terrorist activities. Mohamud responded to Al-Ali in an e-mail: “yes, that would be wonderful, just tell me what I need to do.”  Al-Ali referred Mohamud to a second associate overseas and provided Mohamud with a name and email address to facilitate the process. In the following months, Mohamud made several unsuccessful attempts to contact Al-Ali’s associate.  Ultimately, an FBI undercover operative contacted Mohamud via email under the guise of being an associate of Al-Ali’s.  Mohamud and the FBI undercover operative agreed to meet in Portland in July 2010.  At the meeting, Mohamud told the FBI undercover operative he had written articles that were published in Jihad Recollections.  Mohamud also said that he wanted to become “operational.”  Asked what he meant by “operational,” Mohamud said he wanted to put an explosion together, but needed help. According to evidence presented at trial, at a meeting in August 2010, Mohamud told undercover FBI operatives he had been thinking of committing violent jihad since the age of 15.  Mohamud then told the undercover FBI operatives that he had identified a potential target for a bomb: the annual Christmas tree lighting ceremony in Portland’s Pioneer Courthouse Square on Nov. 26, 2010.  The undercover FBI operatives cautioned Mohamud several times about the seriousness of this plan, noting there would be many people at the event, including children, and emphasized that Mohamud could abandon his attack plans at any time with no shame.  Mohamud indicated the deaths would be justified and that he would not mind carrying out a suicide attack on the crowd. According to evidence presented at trial, in the ensuing months Mohamud continued to express his interest in carrying out the attack and worked on logistics.  On Nov. 4, 2010, Mohamud and the undercover FBI operatives traveled to a remote location in Lincoln County, Oregon, where they detonated a bomb concealed in a backpack as a trial run for the upcoming attack.  During the drive back to Corvallis, Mohamud was asked if was capable looking at all the bodies of those who would be killed during the explosion.  In response, Mohamud noted, “I want whoever is attending that event to be, to leave either dead or injured.”  Mohamud later recorded a video of himself, with the assistance of the undercover FBI operatives, in which he read a statement that offered his rationale for his bomb attack.  On Nov. 18, 2010, undercover FBI operatives picked up Mohamud to travel to Portland to finalize the details of the attack.  On Nov. 26, 2010, just hours before the planned attack, Mohamud examined the 1,800 pound bomb in the van and remarked that it was “beautiful.”  Later that day, Mohamud was arrested after he attempted to remotely detonate the inert vehicle bomb rked near the Christmas tree lighting ceremony This case was investigated by the FBI, with assistance from the Oregon State Police, the Corvallis Police Department, the Lincoln County Sheriff’s Office and the Portland Police Bureau.  The prosecution was handled by Assistant U.S. Attorneys Ethan D. Knight and Pamala Holsinger from the U.S. Attorney’s Office for the District of Oregon.  Trial Attorney Jolie F. Zimmerman, from the Counterterrorism Section of the Justice Department’s National Security Division, assisted. # # # 14-1077   \n",
       "1                                                                                                                                                                                                                                                                                                                                                                                                                                                                                                                                                                                                                                                                                                                                                                                                                                                                                                                                                                                                                                                                                                                                                                                                                                                                                                                                                                                                                                                                                                                                                                                                                                                                                                                                                                                                                                                                                                                                                                                                                                                                                                                                                                                                                                       WASHINGTON – North Carolina’s Waccamaw River watershed will benefit from a $1 million restitution order from a federal court, funding environmental projects to acquire and preserve wetlands in an area damaged by illegal releases of wastewater from a corporate hog farm, announced Ignacia S. Moreno, Assistant Attorney General of the Justice Department’s Environment and Natural Resources Division; U.S. Attorney for the Eastern District of North Carolina Thomas G. Walker; Director Greg McLeod from the North Carolina State Bureau of Investigation; and Camilla M. Herlevich, Executive Director of the North Carolina Coastal Land Trust.   Freedman Farms Inc. was sentenced in February 2012 to five years of probation and ordered to pay $1.5 million in fines, restitution and community service payments for violating the Clean Water Act when it discharged hog waste into a stream that leads to the Waccamaw River.  William B. Freedman, president of Freedman Farms, was sentenced to six months in prison to be followed by six months of home confinement.  Freedman Farms also is required to implement a comprehensive environmental compliance program and institute an annual training program.   In an order issued on April 19, 2012, the court ordered that the defendants would be responsible for restitution of $1 million in the form of five annual payments starting in January 2013, which the court will direct to the North Carolina Coastal Land Trust (NCCLT).  The NCCLT plans to use the money to acquire and conserve land along streams in the Waccamaw watershed.  The court also directed a $75,000 community service payment to the Southern Environmental Enforcement Network, an organization dedicated to environmental law enforcement training and information sharing in the region.    “The resolution of the case against Freedman Farms demonstrates the commitment of the Department of Justice to enforcing the Clean Water Act to ensure the protection of human health and the environment,” said Assistant Attorney General Moreno.  “The court-ordered restitution in this case will conserve wetlands for the benefit of the people of North Carolina.  By enforcing the nation’s environmental laws, we will continue to ensure that concentrated animal feeding operations (CAFOs) operate without threatening our drinking water, the health of our communities and the environment.”   “This office is committed to doing our part to hold accountable those who commit crimes against our environment, which can cause serious health problems to residents and damage the environment that makes North Carolina such a beautiful place to live and visit,” said U.S. Attorney Walker.   “This case shows what we can accomplish when our SBI agents work closely with their local, state and federal partners to investigate environmental crimes and hold the polluters accountable,” said Director McLeod.  “We’ll continue our efforts to fight illegal pollution that damages our water and puts the public’s health at risk.”    “The Waccamaw is unique and wild,” said Director Herlevich of the North Carolina Coastal Land Trust. “Its watershed includes some of the most extensive cypress gum swamps in the state, and its headwaters at Lake Waccamaw contain fish that are found nowhere else on Earth.  We appreciate the trust of the court and the U. S. Attorney, and we look forward to using these funds for conservation projects in a river system that is one of our top conservation priorities.”   According to evidence presented in court, in December 2007 Freedman Farms discharged hog waste into Browder’s Branch, a tributary to the Waccamaw River that flows through the White Marsh, a large wetlands complex.  Freedman Farms, located in Columbus County, N.C., is in the business of raising hogs for market, and this particular farm had some 4,800 hogs.  The hog waste was supposed to be directed to two lagoons for treatment and disposal.  Instead, hog waste was discharged from Freedman Farms directly into Browder’s Branch.    The Clean Water Act is a federal law that makes it illegal to knowingly or negligently discharge a pollutant into a water of the United States.    The Freedman case was investigated by the U.S. Environmental Protection Agency (EPA) Criminal Investigation Division, the U.S. Army Corps of Engineers and the North Carolina State Bureau of Investigation, with assistance from the EPA Science and Ecosystem Support Division.  The case was prosecuted by Assistant U.S. Attorney J. Gaston B. Williams of the Eastern District of North Carolina and Trial Attorney Mary Dee Carraway of the Environmental Crimes Section of the Justice Department’s Environment and Natural Resources Division.   The North Carolina Coastal Land Trust is celebrating its 20th anniversary of saving special lands in eastern North Carolina. The organization has protected nearly 50,000 acres of lands with scenic, recreational, historic and ecological values. North Carolina Coastal Land Trust has saved streams and wetlands that provide clean water, forests that are havens for wildlife, working farms that provide local food and nature parks that everyone can enjoy.  More information about the Coastal Land Trust is available at www.coastallandtrust.org.   \n",
       "2                                                                                                                                                                                                                                                                                                                                                                                                                                                                                                                                                                                                                                                                                                                                                                                                                                                                                                                                                                                                                                                                                                                                                                                                                                                                                                                                                                                                                                                                                                                                                                                                                                                                                                                                                                                                                                                        BOSTON– A $1-million settlement has been reached for natural resource damages (NRD) at the Blackburn & Union Privileges Superfund Site in Walpole, Mass., the Departments of Justice and Interior (DOI), and the Office of the Massachusetts Attorney General announced today.                The Blackburn & Union Privileges Superfund Site includes 22 acres of contaminated land and water in Walpole. The contamination resulted from the operations of various industrial facilities dating back to the 19th century that exposed the site to asbestos, arsenic, lead and other hazardous substances.                The private parties involved in the settlement include two former owners and operators of the site, W.R. Grace & Co.– Conn. and Tyco Healthcare Group LP, as well as the current owners, BIM Investment Corp. and Shaffer Realty Nominee Trust.               From about 1915 to 1936, a predecessor of W.R. Grace manufactured asbestos brake linings and clutch linings on a large portion of the property. From 1946 to about 1983, a predecessor of Tyco Healthcare operated a cotton fabric manufacturing business, which used caustic solutions, on a portion of the property.               In a 2010 settlement with U.S. Environmental Protection Agency (EPA), the four private parties agreed to perform a remedial action to clean up the site at an estimated cost of $13 million. The consent decree lodged today resolves both state and federal NRD liability claims; it requires the parties to pay $1,094,169.56 to the state and federal natural resource trustees, the Massachusetts Executive Office of Energy and Environmental Affairs (EEA) and DOI, for injuries to ecological resources including groundwater and wetlands, which provide habitat for waterfowl and wading birds, including black ducks and great blue herons.  The trustees will use the settlement funds for natural resource restoration projects in the area.               “This settlement demonstrates our commitment to recovering damages from the parties responsible for injury to natural resources, in partnership with state trustees,” said Bruce Gelber, Acting Deputy Assistant Attorney General of the Justice Department’s Environment and Natural Resources Division.               “The citizens of Walpole have had to live with the environmental impact of this contamination for many years,” Attorney General Martha Coakley said. “We are pleased that today’s agreement will not only require the responsible parties to reimburse taxpayer dollars, but will also provide funding to begin restoring or replacing the wetland and other natural resources.”                 The consent decree was lodged in the U.S. District Court for Massachusetts.     A portion of the funds, $300,000, will be distributed to the EEA-sponsored groundwater restoration projects; $575,000 will be used for ecological restoration projects jointly sponsored by EEA and the U.S. Fish and Wildlife Service (FWS).               In addition, $125,000 will go for projects jointly sponsored by EEA and FWS that achieve both ecological and groundwater restoration; $57,491.34 will be allocated for reimbursement for the FWS’s assessment costs; and $36,678.22 will be distributed as reimbursement for the commonwealth’s assessment costs.       “This settlement provides the means for a range of projects designed to compensate the public for decades of groundwater and other ecological damage at this site.  I encourage local citizens and organizations to become engaged in the public process that will take place as we solicit, take comment on, and choose these projects in the months ahead,” said Energy and Environmental Affairs Secretary Richard K. Sullivan Jr., who serves as the Commonwealth’s Natural Resources Damages trustee.       “This settlement will help restore habitat for fish and wildlife in the Neponset River watershed,” said Tom Chapman of the FWS New England Field Office. “We look forward to working with the commonwealth and local stakeholders to implement restoration.”               “More than 100 years-worth of industrial activities at this site caused major environmental contamination to the Neponset River, nearby wetlands and to groundwater below the site,” said Commissioner Kenneth Kimmell of the Massachusetts Department of Environmental Protection (MassDEP), which will staff the Trustee Council for the Commonwealth. “We will ensure that the community and the public will be active participants in the process to use these NRD funds to restore the injured natural resources.”                Under the federal Comprehensive Environmental Response, Compensation and Liability Act, EEA and DOI, acting through the FWS, are the designated state and federal natural resource Trustees for the site. The site has been listed on the EPA’s National Priorities List since 1994.        The consent decree is subject to a public comment period and court approval. A copy of the consent decree and instructions about how to submit comments is available on www.usdoj.gov/enrd/Consent_Decrees.html  .               After the consent decree is approved, EEA and FWS will develop proposed restoration plans to use the settlement funds for restoration projects. The proposed restoration plans will also be made available to the public for review and comment.                Assistant Attorney General Matthew Brock of Massachusetts Attorney General Coakley's Environmental Protection Division handled this matter.  Attorney Jennifer Davis of MassDEP, Attorney Anna Blumkin of EEA and MassDEP’s NRD Coordinator Karen Pelto also worked on this settlement.   \n",
       "3                                                                                                                                                                                                                                                                                                                                                                                                                                                                                                                                                                                                                                                                                                                                                                                                                                                                                                                                                                                                                                                                                                                                                                                                                                                                                                                                                                                                                                                                                                                                                                                                                                                                                                                                                                                                                                                                                                                                                                                                                                                                                                                                                                                                                                                                                                                                                                                                                                                                                                                                                                                                                                                                                                                                                                                                                                                                                                                                                                                                                                                                                                                                                                                                                                                                                                                                                                                                                                                                                                                           WASHINGTON—A federal grand jury in Las Vegas today returned indictments against 10 Nevada-certified emissions testers for falsifying vehicle emissions test reports, the Justice Department announced.   Each defendant faces one felony Clean Air Act count for falsifying reports between November 2007 and May 2009. The number of falsifications varied by defendant, with some defendants having falsified approximately 250 records, while others falsified more than double that figure. One defendant is alleged to have falsified over 700 reports.   The individuals indicted include:     Escudero resides in Pahrump, Nev. All other individuals are from Clark County, Nev.    The 10 defendants are alleged to have engaged in a practice known as \"clean scanning\" vehicles. The scheme involved entering the Vehicle Identification Number (VIN) for a vehicle that would not pass the emissions test into the computerized system, then connecting a different vehicle the testers knew would pass the test. These falsifications were allegedly performed for anywhere from $10 to $100 over and above the usual emissions testing fee.    The U.S. Environmental Protection Agency (EPA), under the Clean Air Act, requires the state of Nevada to conduct vehicle emissions testing in certain areas because the areas exceed national standards for carbon monoxide and ozone. Las Vegas is currently required to perform emissions testing.    To obtain a registration renewal, vehicle owners bring the vehicles to a licensed inspection station for testing. The emissions inspector logs into a computer to activate the system by using a unique password issued to the emissions inspector. The emissions inspector manually inputs the vehicle’s VIN to identify the tested vehicle, then connects the vehicle for model year 1996 and later to an onboard diagnostics port connected to an analyzer. The analyzer downloads data from the vehicle’s computer, analyzes the data and provides a \"pass\" or \"fail\" result. The pass or fail result and vehicle identification data are reported on the Vehicle Inspection Report. It is a crime to knowingly alter or conceal any record or other document required to be maintained by the Clean Air Act.     \"Falsifications of vehicle emissions testing, such as those alleged in the indictments unsealed today, are serious matters and we intend to use all of our enforcement tools to stop this harmful practice. These actions undermine a system that is designed to reduce air pollutants including smog and provide better air quality for the citizens of Nevada,\" said Ignacia S. Moreno, Assistant Attorney General for the Justice Department’s Environment and Natural Resources Division.    \"The residents of Nevada deserve to know that the vast majority of licensed vehicle emission inspectors are not corrupt and are not circumventing emission testing procedures,\" said U.S. Attorney Bogden. \"These indictments should serve as a clear warning to offenders that the Department of Justice will prosecute you if you make fraudulent statements and reports concerning compliance with the federal Clean Air Act.\"    \"Lying about car emissions means dirtier air, which is especially of concern in areas like Las Vegas that are already experiencing air quality problems,\" said Cynthia Giles, Assistant Administrator for Enforcement and Compliance Assurance at EPA. \"We will take aggressive action to ensure communities have clean air.\"    The maximum penalty for the felony violations contained in the indictments includes up to two years in prison and a fine of up to $250,000.    An indictment is merely an accusation, and a defendant is presumed innocent unless and until proven guilty in a court of law.    The case was investigated by the EPA, Criminal Investigation Division; and the Nevada Department of Motor Vehicles Compliance Enforcement Division. The case is being prosecuted by the U.S. Attorney’s Office for the District of Nevada and the Justice Department’s Environmental Crimes Section.   \n",
       "4                                                                                                                                                                                                                                                                                                                                                                                                                                                                                                                                                                                                                                                                                                                                                                                                                                                                                                                                                                                                                                                                                                                                   The U.S. Department of Justice, the U.S. Environmental Protection Agency (EPA), and the Rhode Island Department of Environmental Management (RIDEM) announced today that two subsidiaries of Stanley Black & Decker Inc.—Emhart Industries Inc. and Black & Decker Inc.—have agreed to clean up dioxin contaminated sediment and soil at the Centredale Manor Restoration Project Superfund Site in North Providence and Johnston, Rhode Island.  “We are pleased to reach a resolution through collaborative work with the responsible parties, EPA, and other stakeholders,” said Acting Assistant Attorney General Jeffrey H. Wood for the Justice Department's Environment and Natural Resources Division . “Today’s settlement ends protracted litigation and allows for important work to get underway to restore a healthy environment for citizens living in and around the Centredale Manor Site and the Woonasquatucket River.” “This settlement demonstrates the tremendous progress we are achieving working with responsible parties, states, and our federal partners to expedite sites through the entire Superfund remediation process,” said EPA Acting Administrator Andrew Wheeler. “The Centredale Manor Site has been on the National Priorities List for 18 years; we are taking charge and ensuring the Agency makes good on its promise to clean it up for the betterment of the environment and those communities affected.” “Successfully concluding this settlement paves the way for EPA to make good on our commitment to aggressively pursue cleaning up the Centredale Manor Superfund Site,” said EPA New England Regional Administrator Alexandra Dunn. “We are excited to get to work on the cleanup at this site, and get it closer to the goal of being fully utilized by the North Providence and Johnston communities.” “We are pleased that the collective efforts of the State of Rhode Island, EPA, and DOJ in these negotiations have concluded in this major milestone toward the cleanup of the Centredale Manor Restoration Superfund site and are consistent with our long-standing efforts to make the polluter pay,” said RIDEM Director Janet Coit. “The settlement will speed up a remedy that protects public health and the river environment, and moves us closer to the day that we can reclaim recreational uses of this beautiful river resource.” The settlement, which includes cleanup work in the Woonasquatucket River (River) and bordering residential and commercial properties along the River, requires the companies to perform the remedy selected by EPA for the Site in 2012, which is estimated to cost approximately $100 million, and resolves longstanding litigation. The cleanup remedy includes excavation of contaminated sediment and floodplain soil from the Woonasquatucket River, including from adjacent residential properties. Once the cleanup remedy is completed, full access to the Woonasquatucket River should be restored for local citizens. The cleanup will be a step toward the State’s goal of a fishable and swimmable river. The work will also include upgrading caps over contaminated soil in the peninsula area of the Site that currently house two high-rise apartment buildings. The settlement also ensures that the long-term monitoring and maintenance of the site, as directed in the remedy, will be implemented to ensure that public health is protected.  Under the settlement, Emhart and Black & Decker will reimburse EPA for approximately $42 million in past costs incurred at the Site. The companies will also reimburse EPA and the State of Rhode Island for future costs incurred by those agencies in overseeing the work required by the settlement. The settlement will also include payments on behalf of two federal agencies to resolve claims against those agencies. These payments, along with prior settlements related to the Site, will result in a 100 percent recovery for the United States of its past and future response costs related to the Site. Litigation related to the Site has been ongoing for nearly eight years. While the Federal District Court found Black & Decker and Emhart to be liable for their hazardous waste and responsible to conduct the cleanup of the Site, it had also ruled that EPA needed to reconsider certain aspects of that cleanup. EPA appealed the decision requiring it to reconsider aspects of the cleanup. This settlement, once entered by the District Court, will resolve the litigation between the United States, Rhode Island, and Emhart and Black and Decker, allowing the cleanup of the Site to begin. The Site spans a one and a half mile stretch of the Woonasquatucket River and encompasses a nine-acre peninsula, two ponds and a significant forested wetland. From the 1940s to the early 1970s, Emhart’s predecessor operated a chemical manufacturing facility on the peninsula and used a raw material that was contaminated with 2,3,7,8-tetrachlorodibenzo-p-dioxin, a toxic form of dioxin. The Site property was also previously used by a barrel refurbisher. Elevated levels of dioxins and other contaminants have been detected in soil, groundwater, sediment, surface water and fish.  The Site was added to the National Priorities List (NPL) in 2000, and in December 2017, EPA included the Centredale Manor Restoration Project Superfund Site on a list of Superfund sites targeted for immediate and intense attention. Several short-term actions were previously performed at the Site to address immediate threats to the residents and minimize potential erosion and downstream transport of contaminated soil and sediment. This settlement is the latest agreement EPA has reached since the Site was listed on the NPL. Prior agreements addressed the performance and recovery of costs for the past environmental investigations and interim cleanup actions from Emhart, the barrel reconditioning company, the current owners of the peninsula portion of the Site, and other potentially responsible parties. The Consent Decree, lodged in the U.S. District Court of Rhode Island, will be posted in the Federal Register and available for public comment for a period of 30 days. The Consent Decree can be viewed on the Justice Department website: www.justice.gov/enrd/Consent_Decrees.html.  EPA information on the Centredale Manor Superfund Site: www.epa.gov/superfund/centredale.   \n",
       "\n",
       "                        date topics_clean  \\\n",
       "0  2014-10-01T00:00:00-04:00     No topic   \n",
       "1  2012-07-25T00:00:00-04:00     No topic   \n",
       "2  2011-08-03T00:00:00-04:00     No topic   \n",
       "3  2010-01-08T00:00:00-05:00     No topic   \n",
       "4  2018-07-09T00:00:00-04:00  Environment   \n",
       "\n",
       "                             components_clean  \n",
       "0            National Security Division (NSD)  \n",
       "1  Environment and Natural Resources Division  \n",
       "2  Environment and Natural Resources Division  \n",
       "3  Environment and Natural Resources Division  \n",
       "4  Environment and Natural Resources Division  "
      ]
     },
     "execution_count": 381,
     "metadata": {},
     "output_type": "execute_result"
    }
   ],
   "source": [
    "## first, unzip the file pset4_inputdata.zip \n",
    "## then, run this code to load the unzipped json file and convert to a dataframe\n",
    "## (may need to change the pathname depending on where you store stuff)\n",
    "## and convert some of the attributes from lists to values\n",
    "doj = pd.read_json(\"combined.json\", lines = True)\n",
    "\n",
    "## due to json, topics are in a list so remove them and concatenate with ;\n",
    "doj['topics_clean'] = [\"; \".join(topic) \n",
    "                      if len(topic) > 0 else \"No topic\" \n",
    "                      for topic in doj.topics]\n",
    "\n",
    "## similarly with components\n",
    "doj['components_clean'] = [\"; \".join(comp) \n",
    "                           if len(comp) > 0 else \"No component\" \n",
    "                           for comp in doj.components]\n",
    "\n",
    "## drop older columns from data\n",
    "doj = doj[['id', 'title', 'contents', 'date', 'topics_clean', \n",
    "           'components_clean']].copy()\n",
    "\n",
    "doj.head()\n"
   ]
  },
  {
   "cell_type": "markdown",
   "metadata": {},
   "source": [
    "## 1. Tagging and sentiment scoring (17 points)\n",
    "\n",
    "Focus on the following press release: `id` == \"17-1204\" about this pharmaceutical kickback prosecution: https://www.forbes.com/sites/michelatindera/2017/11/16/fentanyl-billionaire-john-kapoor-to-plead-not-guilty-in-opioid-kickback-case/?sh=21b8574d6c6c \n",
    "\n",
    "The `contents` column is the one we're treating as a document. You may need to to convert it from a pandas series to a single string.\n",
    "\n",
    "We'll call the raw string of this press release `pharma`"
   ]
  },
  {
   "cell_type": "code",
   "execution_count": 382,
   "metadata": {},
   "outputs": [],
   "source": [
    "## Subset to one press release and take the string\n",
    "doj[\"contents\"] = doj[\"contents\"].astype(\"string\")\n",
    "pharma = doj.contents[doj.id == \"17-1204\"].iloc[0]\n",
    "##pharma\n"
   ]
  },
  {
   "cell_type": "markdown",
   "metadata": {},
   "source": [
    "### 1.1 part of speech tagging (3 points)\n",
    "\n",
    "A. Preprocess the `pharma` press release to remove all punctuation / digits (so can use `.isalpha()` to subset)\n",
    "\n",
    "B. With the preprocessed press release from part A, use the part of speech tagger within nltk to tag all the words in that one press release with their part of speech. \n",
    "\n",
    "C. Using the output from B, extract the adjectives and sort those adjectives from most occurrences to fewest occurrences. Print a dataframe with the 5 most frequent adjectives and their counts in the `pharma` release. See here for a list of the names of adjectives within nltk: https://pythonprogramming.net/natural-language-toolkit-nltk-part-speech-tagging/\n",
    "\n",
    "**Resources**:\n",
    "\n",
    "- Documentation for .isalpha(): https://www.w3schools.com/python/ref_string_isalpha.asp\n",
    "- `processtext` function here has an example of tokenizing and filtering to words where .isalpha() is true: https://github.com/rebeccajohnson88/qss20_slides_activities/blob/main/activities/w22_activities/06_textasdata_partII_topicmodeling.ipynb\n",
    "- Part of speech tagging section of this code: https://github.com/rebeccajohnson88/qss20_slides_activities/blob/main/activities/w22_activities/solutions/06_textasdata_partI_textmining_examplecode.ipynb\n",
    "\n"
   ]
  },
  {
   "cell_type": "code",
   "execution_count": 383,
   "metadata": {},
   "outputs": [],
   "source": [
    "##A\n",
    "##Restrict to alpha\n",
    "import nltk\n",
    "tokens = [word for word in wordpunct_tokenize(pharma) if \n",
    "          word.isalpha()]\n"
   ]
  },
  {
   "cell_type": "code",
   "execution_count": 384,
   "metadata": {},
   "outputs": [
    {
     "data": {
      "text/plain": [
       "former        8\n",
       "opioid        5\n",
       "nationwide    4\n",
       "addictive     3\n",
       "other         3\n",
       "dtype: int64"
      ]
     },
     "execution_count": 384,
     "metadata": {},
     "output_type": "execute_result"
    }
   ],
   "source": [
    "##B\n",
    "##Use the part of speech tagger within nltk to tag all the words  with their part of speech\n",
    "tokens_pos = pos_tag(tokens) # generate part of speech tags for those tokens\n",
    "tokens_pos\n"
   ]
  },
  {
   "cell_type": "code",
   "execution_count": null,
   "metadata": {},
   "outputs": [],
   "source": [
    "##C\n",
    "##Extract the adjectives and sort those adjectives from most occurrences to fewest occurrences\n",
    "all_adj = [one_tok[0] for one_tok in tokens_pos\n",
    "           if (one_tok[1] == \"JJ\") | (one_tok[1] == \"JJJ\")| (one_tok[1] == \"JJS\")]\n",
    "\n",
    "all_adj_sort = pd.Series(all_adj).value_counts()\n",
    "all_adj_sort.head(5)\n"
   ]
  },
  {
   "cell_type": "markdown",
   "metadata": {},
   "source": [
    "## 1.2 named entity recognition (4 points)\n",
    "\n",
    "**Resources**:\n",
    "\n",
    "- For parts A and B: named entity recognition part of this code: https://github.com/rebeccajohnson88/qss20_slides_activities/blob/main/activities/w22_activities/solutions/06_textasdata_partI_textmining_examplecode.ipynb\n",
    "- For part E, re.search and re.findall examples here for filtering to ones containing year (multiple approaches; some need not involve `re`): https://github.com/rebeccajohnson88/qss20_slides_activities/blob/main/activities/w22_activities/solutions/04_basicregex_solutions.ipynb"
   ]
  },
  {
   "cell_type": "markdown",
   "metadata": {},
   "source": [
    "A. Using the original `pharma` press release (so the one before stripping punctuation/digits), use spaCy to extract all named entities from the press release.\n",
    "\n",
    "B. Print the unique named entities with the tag: `LAW`\n",
    "\n",
    "C. Use Google to summarize in one sentence what the `RICO` named entity means and why this might apply to a pharmaceutical kickbacks case (and not just a mafia case...) "
   ]
  },
  {
   "cell_type": "code",
   "execution_count": 385,
   "metadata": {},
   "outputs": [
    {
     "data": {
      "text/plain": [
       "['RICO', 'the Controlled Substances Act']"
      ]
     },
     "execution_count": 385,
     "metadata": {},
     "output_type": "execute_result"
    }
   ],
   "source": [
    "##A\n",
    "##Extract name entities \n",
    "spacy_pharma = nlp(pharma)\n"
   ]
  },
  {
   "cell_type": "code",
   "execution_count": null,
   "metadata": {},
   "outputs": [],
   "source": [
    "##B\n",
    "##Print unique named entities with LAW tag \n",
    "law_tag = list(set([e.text for e in spacy_pharma.ents if e.label_ == \"LAW\"]))\n",
    "law_tag\n"
   ]
  },
  {
   "cell_type": "code",
   "execution_count": null,
   "metadata": {},
   "outputs": [],
   "source": [
    "##C\n",
    "#RICO means Racketeer Influenced and Corrupt Organizations Act and it might appy to a pharmaceutical kickbacks case because\n",
    "#organizations involved deal use bribery, illegal cash payments, and improper practices that inflate drug practices. \n"
   ]
  },
  {
   "cell_type": "markdown",
   "metadata": {},
   "source": [
    "D. You want to extract the possible sentence lengths the CEO is facing; pull out the named entities with (1) the label `DATE` and (2) that contain the word year or years (hint: you may want to use the `re` module for that second part). Print these named entities."
   ]
  },
  {
   "cell_type": "code",
   "execution_count": 386,
   "metadata": {},
   "outputs": [
    {
     "data": {
      "text/plain": [
       "['last year', '20 years', 'three years', 'five years', 'three years']"
      ]
     },
     "execution_count": 386,
     "metadata": {},
     "output_type": "execute_result"
    }
   ],
   "source": [
    "##D\n",
    "##Extract entities with label DATE and contain year/s\n",
    "new_entities = list([e.text for e in spacy_pharma.ents if e.label_ == \"DATE\"])\n",
    "\n",
    "## Regax pattern\n",
    "regax = r'(?=.*(year|years))'\n",
    "\n",
    "## Print entities\n",
    "years = [i for i in new_entities if re.search(regax, i)]\n",
    "years\n"
   ]
  },
  {
   "cell_type": "markdown",
   "metadata": {},
   "source": [
    "E. Pull and print the original parts of the press releases where those year lengths are mentioned (e.g., the sentences or rough region of the press release). Describe in your own words (1 sentence) what length of sentence (prison) and probation (supervised release) the CEO may be facing if convicted after this indictment (if there are multiple lengths mentioned describe the maximum). *Hint*: you may want to use re.search or re.findall \n"
   ]
  },
  {
   "cell_type": "code",
   "execution_count": 1,
   "metadata": {},
   "outputs": [],
   "source": [
    "##E\n",
    "##Extract parts of press release with mention of year lengths\n",
    "pattern = r'^[A-Za-z,;\"]\\s*+(last year|20 years|three years|five years)\\s*\\.$'\n",
    "##re.findall(pattern, pharma)\n",
    "\n",
    "## The CEO may be facing no greater than 20 years in prison and 3 years of probation. \n"
   ]
  },
  {
   "cell_type": "markdown",
   "metadata": {},
   "source": [
    "## 1.3 sentiment analysis  (10 points)\n",
    "\n",
    "- Sentiment analysis section of this script: https://github.com/rebeccajohnson88/qss20_slides_activities/blob/main/activities/w22_activities/solutions/06_textasdata_partI_textmining_examplecode.ipynb\n",
    "\n",
    "\n",
    "A. Subset the press releases to those labeled with one of three topics via `topics_clean`: Civil Rights, Hate Crimes, and Project Safe Childhood. We'll call this `doj_subset` going forward and it should have 717 rows.\n",
    "\n"
   ]
  },
  {
   "cell_type": "code",
   "execution_count": 388,
   "metadata": {},
   "outputs": [
    {
     "data": {
      "text/plain": [
       "(717, 6)"
      ]
     },
     "execution_count": 388,
     "metadata": {},
     "output_type": "execute_result"
    }
   ],
   "source": [
    "##A\n",
    "##Subsetting\n",
    "doj_subset= doj[(doj[\"topics_clean\"] == \"Civil Rights\") | (doj[\"topics_clean\"] == \"Hate Crimes\") | (doj[\"topics_clean\"] == \"Project Safe Childhood\")]\n",
    "doj_subset.shape\n"
   ]
  },
  {
   "cell_type": "markdown",
   "metadata": {},
   "source": [
    "B. Write a function that takes one press release string as an input and:\n",
    "\n",
    "- Removes named entities from each press release string (hint: you may want to use `re.sub` with an or condition)\n",
    "- Scores the sentiment of the entire press release using the `SentimentIntensityAnalyzer` and `polarity_scores`\n",
    "- Returns the length-four (negative, positive, neutral, compound) sentiment dictionary (any order is fine)\n",
    "\n",
    "Apply that function to each of the press releases in `doj_subset`. \n",
    "\n",
    "**Hints**: \n",
    "\n",
    "- You may want to use `re.escape` at some point to avoid errors relating to escape characters like ( in the press release\n",
    "- I used a function + list comprehension to execute and it takes about 30 seconds on my local machine and about 2 mins on jhub; if it's taking a very long time, you may want to check your code for inefficiencies. If you can't fix those, for partial credit on this part/full credit on remainder, you can take a small random sample of the 717\n"
   ]
  },
  {
   "cell_type": "code",
   "execution_count": 584,
   "metadata": {},
   "outputs": [
    {
     "data": {
      "text/plain": [
       "{'neg': 0.18, 'neu': 0.773, 'pos': 0.047, 'compound': -0.992}"
      ]
     },
     "execution_count": 584,
     "metadata": {},
     "output_type": "execute_result"
    },
    {
     "data": {
      "text/plain": [
       "{'neg': 0.11, 'neu': 0.825, 'pos': 0.065, 'compound': -0.891}"
      ]
     },
     "execution_count": 584,
     "metadata": {},
     "output_type": "execute_result"
    },
    {
     "data": {
      "text/plain": [
       "{'neg': 0.091, 'neu': 0.838, 'pos': 0.07, 'compound': -0.8316}"
      ]
     },
     "execution_count": 584,
     "metadata": {},
     "output_type": "execute_result"
    },
    {
     "data": {
      "text/plain": [
       "{'neg': 0.114, 'neu': 0.81, 'pos': 0.076, 'compound': -0.9037}"
      ]
     },
     "execution_count": 584,
     "metadata": {},
     "output_type": "execute_result"
    },
    {
     "data": {
      "text/plain": [
       "{'neg': 0.166, 'neu': 0.783, 'pos': 0.051, 'compound': -0.9839}"
      ]
     },
     "execution_count": 584,
     "metadata": {},
     "output_type": "execute_result"
    },
    {
     "data": {
      "text/plain": [
       "{'neg': 0.143, 'neu': 0.81, 'pos': 0.047, 'compound': -0.9905}"
      ]
     },
     "execution_count": 584,
     "metadata": {},
     "output_type": "execute_result"
    },
    {
     "data": {
      "text/plain": [
       "{'neg': 0.145, 'neu': 0.773, 'pos': 0.082, 'compound': -0.946}"
      ]
     },
     "execution_count": 584,
     "metadata": {},
     "output_type": "execute_result"
    },
    {
     "data": {
      "text/plain": [
       "{'neg': 0.082, 'neu': 0.852, 'pos': 0.066, 'compound': -0.6597}"
      ]
     },
     "execution_count": 584,
     "metadata": {},
     "output_type": "execute_result"
    },
    {
     "data": {
      "text/plain": [
       "{'neg': 0.12, 'neu': 0.825, 'pos': 0.055, 'compound': -0.9648}"
      ]
     },
     "execution_count": 584,
     "metadata": {},
     "output_type": "execute_result"
    },
    {
     "data": {
      "text/plain": [
       "{'neg': 0.147, 'neu': 0.799, 'pos': 0.054, 'compound': -0.9741}"
      ]
     },
     "execution_count": 584,
     "metadata": {},
     "output_type": "execute_result"
    },
    {
     "data": {
      "text/plain": [
       "{'neg': 0.225, 'neu': 0.744, 'pos': 0.032, 'compound': -0.9982}"
      ]
     },
     "execution_count": 584,
     "metadata": {},
     "output_type": "execute_result"
    },
    {
     "data": {
      "text/plain": [
       "{'neg': 0.089, 'neu': 0.851, 'pos': 0.06, 'compound': -0.8519}"
      ]
     },
     "execution_count": 584,
     "metadata": {},
     "output_type": "execute_result"
    },
    {
     "data": {
      "text/plain": [
       "{'neg': 0.076, 'neu': 0.863, 'pos': 0.06, 'compound': -0.6486}"
      ]
     },
     "execution_count": 584,
     "metadata": {},
     "output_type": "execute_result"
    },
    {
     "data": {
      "text/plain": [
       "{'neg': 0.316, 'neu': 0.655, 'pos': 0.029, 'compound': -0.9956}"
      ]
     },
     "execution_count": 584,
     "metadata": {},
     "output_type": "execute_result"
    },
    {
     "data": {
      "text/plain": [
       "{'neg': 0.18, 'neu': 0.767, 'pos': 0.052, 'compound': -0.9932}"
      ]
     },
     "execution_count": 584,
     "metadata": {},
     "output_type": "execute_result"
    },
    {
     "data": {
      "text/plain": [
       "{'neg': 0.117, 'neu': 0.816, 'pos': 0.067, 'compound': -0.9643}"
      ]
     },
     "execution_count": 584,
     "metadata": {},
     "output_type": "execute_result"
    },
    {
     "data": {
      "text/plain": [
       "{'neg': 0.146, 'neu': 0.766, 'pos': 0.088, 'compound': -0.9911}"
      ]
     },
     "execution_count": 584,
     "metadata": {},
     "output_type": "execute_result"
    },
    {
     "data": {
      "text/plain": [
       "{'neg': 0.234, 'neu': 0.718, 'pos': 0.047, 'compound': -0.9987}"
      ]
     },
     "execution_count": 584,
     "metadata": {},
     "output_type": "execute_result"
    },
    {
     "data": {
      "text/plain": [
       "{'neg': 0.175, 'neu': 0.744, 'pos': 0.081, 'compound': -0.9917}"
      ]
     },
     "execution_count": 584,
     "metadata": {},
     "output_type": "execute_result"
    },
    {
     "data": {
      "text/plain": [
       "{'neg': 0.154, 'neu': 0.779, 'pos': 0.067, 'compound': -0.9895}"
      ]
     },
     "execution_count": 584,
     "metadata": {},
     "output_type": "execute_result"
    },
    {
     "data": {
      "text/plain": [
       "{'neg': 0.212, 'neu': 0.725, 'pos': 0.063, 'compound': -0.997}"
      ]
     },
     "execution_count": 584,
     "metadata": {},
     "output_type": "execute_result"
    },
    {
     "data": {
      "text/plain": [
       "{'neg': 0.144, 'neu': 0.828, 'pos': 0.028, 'compound': -0.9865}"
      ]
     },
     "execution_count": 584,
     "metadata": {},
     "output_type": "execute_result"
    },
    {
     "data": {
      "text/plain": [
       "{'neg': 0.276, 'neu': 0.696, 'pos': 0.027, 'compound': -0.9987}"
      ]
     },
     "execution_count": 584,
     "metadata": {},
     "output_type": "execute_result"
    },
    {
     "data": {
      "text/plain": [
       "{'neg': 0.2, 'neu': 0.745, 'pos': 0.056, 'compound': -0.9953}"
      ]
     },
     "execution_count": 584,
     "metadata": {},
     "output_type": "execute_result"
    },
    {
     "data": {
      "text/plain": [
       "{'neg': 0.177, 'neu': 0.755, 'pos': 0.068, 'compound': -0.9874}"
      ]
     },
     "execution_count": 584,
     "metadata": {},
     "output_type": "execute_result"
    },
    {
     "data": {
      "text/plain": [
       "{'neg': 0.157, 'neu': 0.791, 'pos': 0.052, 'compound': -0.9827}"
      ]
     },
     "execution_count": 584,
     "metadata": {},
     "output_type": "execute_result"
    },
    {
     "data": {
      "text/plain": [
       "{'neg': 0.172, 'neu': 0.778, 'pos': 0.05, 'compound': -0.9931}"
      ]
     },
     "execution_count": 584,
     "metadata": {},
     "output_type": "execute_result"
    },
    {
     "data": {
      "text/plain": [
       "{'neg': 0.244, 'neu': 0.72, 'pos': 0.036, 'compound': -0.9953}"
      ]
     },
     "execution_count": 584,
     "metadata": {},
     "output_type": "execute_result"
    },
    {
     "data": {
      "text/plain": [
       "{'neg': 0.183, 'neu': 0.773, 'pos': 0.045, 'compound': -0.9751}"
      ]
     },
     "execution_count": 584,
     "metadata": {},
     "output_type": "execute_result"
    },
    {
     "data": {
      "text/plain": [
       "{'neg': 0.217, 'neu': 0.731, 'pos': 0.051, 'compound': -0.9989}"
      ]
     },
     "execution_count": 584,
     "metadata": {},
     "output_type": "execute_result"
    },
    {
     "data": {
      "text/plain": [
       "{'neg': 0.136, 'neu': 0.821, 'pos': 0.043, 'compound': -0.9712}"
      ]
     },
     "execution_count": 584,
     "metadata": {},
     "output_type": "execute_result"
    },
    {
     "data": {
      "text/plain": [
       "{'neg': 0.108, 'neu': 0.764, 'pos': 0.128, 'compound': 0.5095}"
      ]
     },
     "execution_count": 584,
     "metadata": {},
     "output_type": "execute_result"
    },
    {
     "data": {
      "text/plain": [
       "{'neg': 0.071, 'neu': 0.858, 'pos': 0.07, 'compound': -0.0772}"
      ]
     },
     "execution_count": 584,
     "metadata": {},
     "output_type": "execute_result"
    },
    {
     "data": {
      "text/plain": [
       "{'neg': 0.104, 'neu': 0.783, 'pos': 0.114, 'compound': -0.3506}"
      ]
     },
     "execution_count": 584,
     "metadata": {},
     "output_type": "execute_result"
    },
    {
     "data": {
      "text/plain": [
       "{'neg': 0.299, 'neu': 0.678, 'pos': 0.023, 'compound': -0.9986}"
      ]
     },
     "execution_count": 584,
     "metadata": {},
     "output_type": "execute_result"
    },
    {
     "data": {
      "text/plain": [
       "{'neg': 0.063, 'neu': 0.803, 'pos': 0.133, 'compound': 0.998}"
      ]
     },
     "execution_count": 584,
     "metadata": {},
     "output_type": "execute_result"
    },
    {
     "data": {
      "text/plain": [
       "{'neg': 0.126, 'neu': 0.764, 'pos': 0.11, 'compound': -0.9435}"
      ]
     },
     "execution_count": 584,
     "metadata": {},
     "output_type": "execute_result"
    },
    {
     "data": {
      "text/plain": [
       "{'neg': 0.195, 'neu': 0.694, 'pos': 0.112, 'compound': -0.9743}"
      ]
     },
     "execution_count": 584,
     "metadata": {},
     "output_type": "execute_result"
    },
    {
     "data": {
      "text/plain": [
       "{'neg': 0.12, 'neu': 0.759, 'pos': 0.121, 'compound': -0.383}"
      ]
     },
     "execution_count": 584,
     "metadata": {},
     "output_type": "execute_result"
    },
    {
     "data": {
      "text/plain": [
       "{'neg': 0.238, 'neu': 0.686, 'pos': 0.076, 'compound': -0.9169}"
      ]
     },
     "execution_count": 584,
     "metadata": {},
     "output_type": "execute_result"
    },
    {
     "data": {
      "text/plain": [
       "{'neg': 0.031, 'neu': 0.867, 'pos': 0.102, 'compound': 0.9217}"
      ]
     },
     "execution_count": 584,
     "metadata": {},
     "output_type": "execute_result"
    },
    {
     "data": {
      "text/plain": [
       "{'neg': 0.157, 'neu': 0.8, 'pos': 0.043, 'compound': -0.9779}"
      ]
     },
     "execution_count": 584,
     "metadata": {},
     "output_type": "execute_result"
    },
    {
     "data": {
      "text/plain": [
       "{'neg': 0.112, 'neu': 0.842, 'pos': 0.046, 'compound': -0.9559}"
      ]
     },
     "execution_count": 584,
     "metadata": {},
     "output_type": "execute_result"
    },
    {
     "data": {
      "text/plain": [
       "{'neg': 0.103, 'neu': 0.844, 'pos': 0.053, 'compound': -0.9723}"
      ]
     },
     "execution_count": 584,
     "metadata": {},
     "output_type": "execute_result"
    },
    {
     "data": {
      "text/plain": [
       "{'neg': 0.074, 'neu': 0.854, 'pos': 0.072, 'compound': 0.4153}"
      ]
     },
     "execution_count": 584,
     "metadata": {},
     "output_type": "execute_result"
    },
    {
     "data": {
      "text/plain": [
       "{'neg': 0.061, 'neu': 0.881, 'pos': 0.058, 'compound': -0.2263}"
      ]
     },
     "execution_count": 584,
     "metadata": {},
     "output_type": "execute_result"
    },
    {
     "data": {
      "text/plain": [
       "{'neg': 0.179, 'neu': 0.781, 'pos': 0.04, 'compound': -0.9913}"
      ]
     },
     "execution_count": 584,
     "metadata": {},
     "output_type": "execute_result"
    },
    {
     "data": {
      "text/plain": [
       "{'neg': 0.132, 'neu': 0.823, 'pos': 0.046, 'compound': -0.9661}"
      ]
     },
     "execution_count": 584,
     "metadata": {},
     "output_type": "execute_result"
    },
    {
     "data": {
      "text/plain": [
       "{'neg': 0.125, 'neu': 0.802, 'pos': 0.073, 'compound': -0.9517}"
      ]
     },
     "execution_count": 584,
     "metadata": {},
     "output_type": "execute_result"
    },
    {
     "data": {
      "text/plain": [
       "{'neg': 0.111, 'neu': 0.818, 'pos': 0.071, 'compound': -0.9369}"
      ]
     },
     "execution_count": 584,
     "metadata": {},
     "output_type": "execute_result"
    },
    {
     "data": {
      "text/plain": [
       "{'neg': 0.193, 'neu': 0.722, 'pos': 0.085, 'compound': -0.9917}"
      ]
     },
     "execution_count": 584,
     "metadata": {},
     "output_type": "execute_result"
    },
    {
     "data": {
      "text/plain": [
       "{'neg': 0.1, 'neu': 0.823, 'pos': 0.077, 'compound': -0.9274}"
      ]
     },
     "execution_count": 584,
     "metadata": {},
     "output_type": "execute_result"
    },
    {
     "data": {
      "text/plain": [
       "{'neg': 0.189, 'neu': 0.745, 'pos': 0.065, 'compound': -0.9935}"
      ]
     },
     "execution_count": 584,
     "metadata": {},
     "output_type": "execute_result"
    },
    {
     "data": {
      "text/plain": [
       "{'neg': 0.093, 'neu': 0.796, 'pos': 0.11, 'compound': 0.5267}"
      ]
     },
     "execution_count": 584,
     "metadata": {},
     "output_type": "execute_result"
    },
    {
     "data": {
      "text/plain": [
       "{'neg': 0.087, 'neu': 0.826, 'pos': 0.088, 'compound': -0.2023}"
      ]
     },
     "execution_count": 584,
     "metadata": {},
     "output_type": "execute_result"
    },
    {
     "data": {
      "text/plain": [
       "{'neg': 0.116, 'neu': 0.789, 'pos': 0.095, 'compound': -0.7832}"
      ]
     },
     "execution_count": 584,
     "metadata": {},
     "output_type": "execute_result"
    },
    {
     "data": {
      "text/plain": [
       "{'neg': 0.133, 'neu': 0.801, 'pos': 0.065, 'compound': -0.9423}"
      ]
     },
     "execution_count": 584,
     "metadata": {},
     "output_type": "execute_result"
    },
    {
     "data": {
      "text/plain": [
       "{'neg': 0.163, 'neu': 0.81, 'pos': 0.026, 'compound': -0.9924}"
      ]
     },
     "execution_count": 584,
     "metadata": {},
     "output_type": "execute_result"
    },
    {
     "data": {
      "text/plain": [
       "{'neg': 0.178, 'neu': 0.791, 'pos': 0.031, 'compound': -0.9982}"
      ]
     },
     "execution_count": 584,
     "metadata": {},
     "output_type": "execute_result"
    },
    {
     "data": {
      "text/plain": [
       "{'neg': 0.155, 'neu': 0.778, 'pos': 0.068, 'compound': -0.985}"
      ]
     },
     "execution_count": 584,
     "metadata": {},
     "output_type": "execute_result"
    },
    {
     "data": {
      "text/plain": [
       "{'neg': 0.19, 'neu': 0.784, 'pos': 0.026, 'compound': -0.9973}"
      ]
     },
     "execution_count": 584,
     "metadata": {},
     "output_type": "execute_result"
    },
    {
     "data": {
      "text/plain": [
       "{'neg': 0.091, 'neu': 0.812, 'pos': 0.097, 'compound': 0.128}"
      ]
     },
     "execution_count": 584,
     "metadata": {},
     "output_type": "execute_result"
    },
    {
     "data": {
      "text/plain": [
       "{'neg': 0.164, 'neu': 0.77, 'pos': 0.066, 'compound': -0.9846}"
      ]
     },
     "execution_count": 584,
     "metadata": {},
     "output_type": "execute_result"
    },
    {
     "data": {
      "text/plain": [
       "{'neg': 0.141, 'neu': 0.794, 'pos': 0.066, 'compound': -0.9618}"
      ]
     },
     "execution_count": 584,
     "metadata": {},
     "output_type": "execute_result"
    },
    {
     "data": {
      "text/plain": [
       "{'neg': 0.182, 'neu': 0.764, 'pos': 0.053, 'compound': -0.9776}"
      ]
     },
     "execution_count": 584,
     "metadata": {},
     "output_type": "execute_result"
    },
    {
     "data": {
      "text/plain": [
       "{'neg': 0.119, 'neu': 0.819, 'pos': 0.062, 'compound': -0.99}"
      ]
     },
     "execution_count": 584,
     "metadata": {},
     "output_type": "execute_result"
    },
    {
     "data": {
      "text/plain": [
       "{'neg': 0.135, 'neu': 0.799, 'pos': 0.065, 'compound': -0.9859}"
      ]
     },
     "execution_count": 584,
     "metadata": {},
     "output_type": "execute_result"
    },
    {
     "data": {
      "text/plain": [
       "{'neg': 0.144, 'neu': 0.822, 'pos': 0.034, 'compound': -0.9729}"
      ]
     },
     "execution_count": 584,
     "metadata": {},
     "output_type": "execute_result"
    },
    {
     "data": {
      "text/plain": [
       "{'neg': 0.121, 'neu': 0.757, 'pos': 0.122, 'compound': 0.343}"
      ]
     },
     "execution_count": 584,
     "metadata": {},
     "output_type": "execute_result"
    },
    {
     "data": {
      "text/plain": [
       "{'neg': 0.108, 'neu': 0.805, 'pos': 0.087, 'compound': -0.9661}"
      ]
     },
     "execution_count": 584,
     "metadata": {},
     "output_type": "execute_result"
    },
    {
     "data": {
      "text/plain": [
       "{'neg': 0.203, 'neu': 0.762, 'pos': 0.035, 'compound': -0.9859}"
      ]
     },
     "execution_count": 584,
     "metadata": {},
     "output_type": "execute_result"
    },
    {
     "data": {
      "text/plain": [
       "{'neg': 0.119, 'neu': 0.82, 'pos': 0.061, 'compound': -0.93}"
      ]
     },
     "execution_count": 584,
     "metadata": {},
     "output_type": "execute_result"
    },
    {
     "data": {
      "text/plain": [
       "{'neg': 0.006, 'neu': 0.826, 'pos': 0.168, 'compound': 0.9914}"
      ]
     },
     "execution_count": 584,
     "metadata": {},
     "output_type": "execute_result"
    },
    {
     "data": {
      "text/plain": [
       "{'neg': 0.121, 'neu': 0.84, 'pos': 0.04, 'compound': -0.9423}"
      ]
     },
     "execution_count": 584,
     "metadata": {},
     "output_type": "execute_result"
    },
    {
     "data": {
      "text/plain": [
       "{'neg': 0.088, 'neu': 0.846, 'pos': 0.066, 'compound': -0.927}"
      ]
     },
     "execution_count": 584,
     "metadata": {},
     "output_type": "execute_result"
    },
    {
     "data": {
      "text/plain": [
       "{'neg': 0.084, 'neu': 0.854, 'pos': 0.062, 'compound': -0.6085}"
      ]
     },
     "execution_count": 584,
     "metadata": {},
     "output_type": "execute_result"
    },
    {
     "data": {
      "text/plain": [
       "{'neg': 0.1, 'neu': 0.832, 'pos': 0.068, 'compound': -0.8779}"
      ]
     },
     "execution_count": 584,
     "metadata": {},
     "output_type": "execute_result"
    },
    {
     "data": {
      "text/plain": [
       "{'neg': 0.062, 'neu': 0.842, 'pos': 0.096, 'compound': 0.836}"
      ]
     },
     "execution_count": 584,
     "metadata": {},
     "output_type": "execute_result"
    },
    {
     "data": {
      "text/plain": [
       "{'neg': 0.077, 'neu': 0.898, 'pos': 0.025, 'compound': -0.9709}"
      ]
     },
     "execution_count": 584,
     "metadata": {},
     "output_type": "execute_result"
    },
    {
     "data": {
      "text/plain": [
       "{'neg': 0.075, 'neu': 0.837, 'pos': 0.088, 'compound': 0.5574}"
      ]
     },
     "execution_count": 584,
     "metadata": {},
     "output_type": "execute_result"
    },
    {
     "data": {
      "text/plain": [
       "{'neg': 0.126, 'neu': 0.809, 'pos': 0.065, 'compound': -0.9565}"
      ]
     },
     "execution_count": 584,
     "metadata": {},
     "output_type": "execute_result"
    },
    {
     "data": {
      "text/plain": [
       "{'neg': 0.142, 'neu': 0.784, 'pos': 0.074, 'compound': -0.9186}"
      ]
     },
     "execution_count": 584,
     "metadata": {},
     "output_type": "execute_result"
    },
    {
     "data": {
      "text/plain": [
       "{'neg': 0.05, 'neu': 0.846, 'pos': 0.104, 'compound': 0.9637}"
      ]
     },
     "execution_count": 584,
     "metadata": {},
     "output_type": "execute_result"
    },
    {
     "data": {
      "text/plain": [
       "{'neg': 0.08, 'neu': 0.856, 'pos': 0.064, 'compound': -0.8222}"
      ]
     },
     "execution_count": 584,
     "metadata": {},
     "output_type": "execute_result"
    },
    {
     "data": {
      "text/plain": [
       "{'neg': 0.035, 'neu': 0.875, 'pos': 0.09, 'compound': 0.9678}"
      ]
     },
     "execution_count": 584,
     "metadata": {},
     "output_type": "execute_result"
    },
    {
     "data": {
      "text/plain": [
       "{'neg': 0.094, 'neu': 0.823, 'pos': 0.083, 'compound': -0.7184}"
      ]
     },
     "execution_count": 584,
     "metadata": {},
     "output_type": "execute_result"
    },
    {
     "data": {
      "text/plain": [
       "{'neg': 0.115, 'neu': 0.76, 'pos': 0.125, 'compound': 0.296}"
      ]
     },
     "execution_count": 584,
     "metadata": {},
     "output_type": "execute_result"
    },
    {
     "data": {
      "text/plain": [
       "{'neg': 0.062, 'neu': 0.864, 'pos': 0.075, 'compound': 0.6745}"
      ]
     },
     "execution_count": 584,
     "metadata": {},
     "output_type": "execute_result"
    },
    {
     "data": {
      "text/plain": [
       "{'neg': 0.122, 'neu': 0.793, 'pos': 0.085, 'compound': -0.9811}"
      ]
     },
     "execution_count": 584,
     "metadata": {},
     "output_type": "execute_result"
    },
    {
     "data": {
      "text/plain": [
       "{'neg': 0.01, 'neu': 0.809, 'pos': 0.181, 'compound': 0.9967}"
      ]
     },
     "execution_count": 584,
     "metadata": {},
     "output_type": "execute_result"
    },
    {
     "data": {
      "text/plain": [
       "{'neg': 0.022, 'neu': 0.861, 'pos': 0.117, 'compound': 0.996}"
      ]
     },
     "execution_count": 584,
     "metadata": {},
     "output_type": "execute_result"
    },
    {
     "data": {
      "text/plain": [
       "{'neg': 0.022, 'neu': 0.878, 'pos': 0.1, 'compound': 0.987}"
      ]
     },
     "execution_count": 584,
     "metadata": {},
     "output_type": "execute_result"
    },
    {
     "data": {
      "text/plain": [
       "{'neg': 0.158, 'neu': 0.77, 'pos': 0.072, 'compound': -0.9828}"
      ]
     },
     "execution_count": 584,
     "metadata": {},
     "output_type": "execute_result"
    },
    {
     "data": {
      "text/plain": [
       "{'neg': 0.227, 'neu': 0.715, 'pos': 0.058, 'compound': -0.9961}"
      ]
     },
     "execution_count": 584,
     "metadata": {},
     "output_type": "execute_result"
    },
    {
     "data": {
      "text/plain": [
       "{'neg': 0.18, 'neu': 0.756, 'pos': 0.064, 'compound': -0.9836}"
      ]
     },
     "execution_count": 584,
     "metadata": {},
     "output_type": "execute_result"
    },
    {
     "data": {
      "text/plain": [
       "{'neg': 0.156, 'neu': 0.775, 'pos': 0.069, 'compound': -0.9867}"
      ]
     },
     "execution_count": 584,
     "metadata": {},
     "output_type": "execute_result"
    },
    {
     "data": {
      "text/plain": [
       "{'neg': 0.163, 'neu': 0.764, 'pos': 0.072, 'compound': -0.9833}"
      ]
     },
     "execution_count": 584,
     "metadata": {},
     "output_type": "execute_result"
    },
    {
     "data": {
      "text/plain": [
       "{'neg': 0.167, 'neu': 0.728, 'pos': 0.105, 'compound': -0.9515}"
      ]
     },
     "execution_count": 584,
     "metadata": {},
     "output_type": "execute_result"
    },
    {
     "data": {
      "text/plain": [
       "{'neg': 0.084, 'neu': 0.833, 'pos': 0.082, 'compound': -0.6379}"
      ]
     },
     "execution_count": 584,
     "metadata": {},
     "output_type": "execute_result"
    },
    {
     "data": {
      "text/plain": [
       "{'neg': 0.117, 'neu': 0.819, 'pos': 0.065, 'compound': -0.993}"
      ]
     },
     "execution_count": 584,
     "metadata": {},
     "output_type": "execute_result"
    },
    {
     "data": {
      "text/plain": [
       "{'neg': 0.087, 'neu': 0.827, 'pos': 0.085, 'compound': -0.8201}"
      ]
     },
     "execution_count": 584,
     "metadata": {},
     "output_type": "execute_result"
    },
    {
     "data": {
      "text/plain": [
       "{'neg': 0.063, 'neu': 0.816, 'pos': 0.121, 'compound': 0.992}"
      ]
     },
     "execution_count": 584,
     "metadata": {},
     "output_type": "execute_result"
    },
    {
     "data": {
      "text/plain": [
       "{'neg': 0.024, 'neu': 0.929, 'pos': 0.047, 'compound': 0.8002}"
      ]
     },
     "execution_count": 584,
     "metadata": {},
     "output_type": "execute_result"
    },
    {
     "data": {
      "text/plain": [
       "{'neg': 0.085, 'neu': 0.807, 'pos': 0.108, 'compound': 0.9337}"
      ]
     },
     "execution_count": 584,
     "metadata": {},
     "output_type": "execute_result"
    },
    {
     "data": {
      "text/plain": [
       "{'neg': 0.139, 'neu': 0.804, 'pos': 0.057, 'compound': -0.9922}"
      ]
     },
     "execution_count": 584,
     "metadata": {},
     "output_type": "execute_result"
    },
    {
     "data": {
      "text/plain": [
       "{'neg': 0.149, 'neu': 0.778, 'pos': 0.073, 'compound': -0.9931}"
      ]
     },
     "execution_count": 584,
     "metadata": {},
     "output_type": "execute_result"
    },
    {
     "data": {
      "text/plain": [
       "{'neg': 0.117, 'neu': 0.8, 'pos': 0.083, 'compound': -0.9902}"
      ]
     },
     "execution_count": 584,
     "metadata": {},
     "output_type": "execute_result"
    },
    {
     "data": {
      "text/plain": [
       "{'neg': 0.115, 'neu': 0.835, 'pos': 0.05, 'compound': -0.9996}"
      ]
     },
     "execution_count": 584,
     "metadata": {},
     "output_type": "execute_result"
    },
    {
     "data": {
      "text/plain": [
       "{'neg': 0.119, 'neu': 0.802, 'pos': 0.079, 'compound': -0.9859}"
      ]
     },
     "execution_count": 584,
     "metadata": {},
     "output_type": "execute_result"
    },
    {
     "data": {
      "text/plain": [
       "{'neg': 0.181, 'neu': 0.786, 'pos': 0.033, 'compound': -0.9967}"
      ]
     },
     "execution_count": 584,
     "metadata": {},
     "output_type": "execute_result"
    },
    {
     "data": {
      "text/plain": [
       "{'neg': 0.084, 'neu': 0.875, 'pos': 0.041, 'compound': -0.9977}"
      ]
     },
     "execution_count": 584,
     "metadata": {},
     "output_type": "execute_result"
    },
    {
     "data": {
      "text/plain": [
       "{'neg': 0.178, 'neu': 0.732, 'pos': 0.09, 'compound': -0.9966}"
      ]
     },
     "execution_count": 584,
     "metadata": {},
     "output_type": "execute_result"
    },
    {
     "data": {
      "text/plain": [
       "{'neg': 0.134, 'neu': 0.823, 'pos': 0.043, 'compound': -0.9817}"
      ]
     },
     "execution_count": 584,
     "metadata": {},
     "output_type": "execute_result"
    },
    {
     "data": {
      "text/plain": [
       "{'neg': 0.146, 'neu': 0.813, 'pos': 0.04, 'compound': -0.9824}"
      ]
     },
     "execution_count": 584,
     "metadata": {},
     "output_type": "execute_result"
    },
    {
     "data": {
      "text/plain": [
       "{'neg': 0.12, 'neu': 0.778, 'pos': 0.102, 'compound': -0.8871}"
      ]
     },
     "execution_count": 584,
     "metadata": {},
     "output_type": "execute_result"
    },
    {
     "data": {
      "text/plain": [
       "{'neg': 0.094, 'neu': 0.797, 'pos': 0.109, 'compound': 0.1815}"
      ]
     },
     "execution_count": 584,
     "metadata": {},
     "output_type": "execute_result"
    },
    {
     "data": {
      "text/plain": [
       "{'neg': 0.189, 'neu': 0.758, 'pos': 0.053, 'compound': -0.9872}"
      ]
     },
     "execution_count": 584,
     "metadata": {},
     "output_type": "execute_result"
    },
    {
     "data": {
      "text/plain": [
       "{'neg': 0.127, 'neu': 0.792, 'pos': 0.081, 'compound': -0.9738}"
      ]
     },
     "execution_count": 584,
     "metadata": {},
     "output_type": "execute_result"
    },
    {
     "data": {
      "text/plain": [
       "{'neg': 0.241, 'neu': 0.676, 'pos': 0.083, 'compound': -0.997}"
      ]
     },
     "execution_count": 584,
     "metadata": {},
     "output_type": "execute_result"
    },
    {
     "data": {
      "text/plain": [
       "{'neg': 0.197, 'neu': 0.723, 'pos': 0.08, 'compound': -0.994}"
      ]
     },
     "execution_count": 584,
     "metadata": {},
     "output_type": "execute_result"
    },
    {
     "data": {
      "text/plain": [
       "{'neg': 0.104, 'neu': 0.841, 'pos': 0.056, 'compound': -0.9653}"
      ]
     },
     "execution_count": 584,
     "metadata": {},
     "output_type": "execute_result"
    },
    {
     "data": {
      "text/plain": [
       "{'neg': 0.117, 'neu': 0.775, 'pos': 0.108, 'compound': -0.7351}"
      ]
     },
     "execution_count": 584,
     "metadata": {},
     "output_type": "execute_result"
    },
    {
     "data": {
      "text/plain": [
       "{'neg': 0.096, 'neu': 0.827, 'pos': 0.077, 'compound': -0.6808}"
      ]
     },
     "execution_count": 584,
     "metadata": {},
     "output_type": "execute_result"
    },
    {
     "data": {
      "text/plain": [
       "{'neg': 0.126, 'neu': 0.786, 'pos': 0.088, 'compound': -0.9944}"
      ]
     },
     "execution_count": 584,
     "metadata": {},
     "output_type": "execute_result"
    },
    {
     "data": {
      "text/plain": [
       "{'neg': 0.22, 'neu': 0.695, 'pos': 0.085, 'compound': -0.9938}"
      ]
     },
     "execution_count": 584,
     "metadata": {},
     "output_type": "execute_result"
    },
    {
     "data": {
      "text/plain": [
       "{'neg': 0.158, 'neu': 0.802, 'pos': 0.04, 'compound': -0.9943}"
      ]
     },
     "execution_count": 584,
     "metadata": {},
     "output_type": "execute_result"
    },
    {
     "data": {
      "text/plain": [
       "{'neg': 0.145, 'neu': 0.811, 'pos': 0.044, 'compound': -0.9816}"
      ]
     },
     "execution_count": 584,
     "metadata": {},
     "output_type": "execute_result"
    },
    {
     "data": {
      "text/plain": [
       "{'neg': 0.082, 'neu': 0.851, 'pos': 0.067, 'compound': -0.6249}"
      ]
     },
     "execution_count": 584,
     "metadata": {},
     "output_type": "execute_result"
    },
    {
     "data": {
      "text/plain": [
       "{'neg': 0.155, 'neu': 0.791, 'pos': 0.054, 'compound': -0.9964}"
      ]
     },
     "execution_count": 584,
     "metadata": {},
     "output_type": "execute_result"
    },
    {
     "data": {
      "text/plain": [
       "{'neg': 0.162, 'neu': 0.811, 'pos': 0.027, 'compound': -0.9982}"
      ]
     },
     "execution_count": 584,
     "metadata": {},
     "output_type": "execute_result"
    },
    {
     "data": {
      "text/plain": [
       "{'neg': 0.125, 'neu': 0.808, 'pos': 0.067, 'compound': -0.9579}"
      ]
     },
     "execution_count": 584,
     "metadata": {},
     "output_type": "execute_result"
    },
    {
     "data": {
      "text/plain": [
       "{'neg': 0.139, 'neu': 0.765, 'pos': 0.097, 'compound': -0.9401}"
      ]
     },
     "execution_count": 584,
     "metadata": {},
     "output_type": "execute_result"
    },
    {
     "data": {
      "text/plain": [
       "{'neg': 0.115, 'neu': 0.778, 'pos': 0.107, 'compound': -0.8242}"
      ]
     },
     "execution_count": 584,
     "metadata": {},
     "output_type": "execute_result"
    },
    {
     "data": {
      "text/plain": [
       "{'neg': 0.139, 'neu': 0.772, 'pos': 0.089, 'compound': -0.957}"
      ]
     },
     "execution_count": 584,
     "metadata": {},
     "output_type": "execute_result"
    },
    {
     "data": {
      "text/plain": [
       "{'neg': 0.097, 'neu': 0.844, 'pos': 0.059, 'compound': -0.9081}"
      ]
     },
     "execution_count": 584,
     "metadata": {},
     "output_type": "execute_result"
    },
    {
     "data": {
      "text/plain": [
       "{'neg': 0.137, 'neu': 0.787, 'pos': 0.076, 'compound': -0.9524}"
      ]
     },
     "execution_count": 584,
     "metadata": {},
     "output_type": "execute_result"
    },
    {
     "data": {
      "text/plain": [
       "{'neg': 0.236, 'neu': 0.721, 'pos': 0.043, 'compound': -0.9881}"
      ]
     },
     "execution_count": 584,
     "metadata": {},
     "output_type": "execute_result"
    },
    {
     "data": {
      "text/plain": [
       "{'neg': 0.163, 'neu': 0.784, 'pos': 0.053, 'compound': -0.9854}"
      ]
     },
     "execution_count": 584,
     "metadata": {},
     "output_type": "execute_result"
    },
    {
     "data": {
      "text/plain": [
       "{'neg': 0.148, 'neu': 0.774, 'pos': 0.078, 'compound': -0.9809}"
      ]
     },
     "execution_count": 584,
     "metadata": {},
     "output_type": "execute_result"
    },
    {
     "data": {
      "text/plain": [
       "{'neg': 0.125, 'neu': 0.779, 'pos': 0.095, 'compound': -0.8765}"
      ]
     },
     "execution_count": 584,
     "metadata": {},
     "output_type": "execute_result"
    },
    {
     "data": {
      "text/plain": [
       "{'neg': 0.135, 'neu': 0.78, 'pos': 0.085, 'compound': -0.9428}"
      ]
     },
     "execution_count": 584,
     "metadata": {},
     "output_type": "execute_result"
    },
    {
     "data": {
      "text/plain": [
       "{'neg': 0.179, 'neu': 0.752, 'pos': 0.069, 'compound': -0.9627}"
      ]
     },
     "execution_count": 584,
     "metadata": {},
     "output_type": "execute_result"
    },
    {
     "data": {
      "text/plain": [
       "{'neg': 0.139, 'neu': 0.803, 'pos': 0.058, 'compound': -0.9921}"
      ]
     },
     "execution_count": 584,
     "metadata": {},
     "output_type": "execute_result"
    },
    {
     "data": {
      "text/plain": [
       "{'neg': 0.168, 'neu': 0.801, 'pos': 0.032, 'compound': -0.98}"
      ]
     },
     "execution_count": 584,
     "metadata": {},
     "output_type": "execute_result"
    },
    {
     "data": {
      "text/plain": [
       "{'neg': 0.161, 'neu': 0.806, 'pos': 0.032, 'compound': -0.998}"
      ]
     },
     "execution_count": 584,
     "metadata": {},
     "output_type": "execute_result"
    },
    {
     "data": {
      "text/plain": [
       "{'neg': 0.107, 'neu': 0.812, 'pos': 0.08, 'compound': -0.8462}"
      ]
     },
     "execution_count": 584,
     "metadata": {},
     "output_type": "execute_result"
    },
    {
     "data": {
      "text/plain": [
       "{'neg': 0.071, 'neu': 0.882, 'pos': 0.047, 'compound': -0.9062}"
      ]
     },
     "execution_count": 584,
     "metadata": {},
     "output_type": "execute_result"
    },
    {
     "data": {
      "text/plain": [
       "{'neg': 0.088, 'neu': 0.827, 'pos': 0.085, 'compound': -0.4404}"
      ]
     },
     "execution_count": 584,
     "metadata": {},
     "output_type": "execute_result"
    },
    {
     "data": {
      "text/plain": [
       "{'neg': 0.117, 'neu': 0.831, 'pos': 0.051, 'compound': -0.9772}"
      ]
     },
     "execution_count": 584,
     "metadata": {},
     "output_type": "execute_result"
    },
    {
     "data": {
      "text/plain": [
       "{'neg': 0.099, 'neu': 0.819, 'pos': 0.082, 'compound': -0.7096}"
      ]
     },
     "execution_count": 584,
     "metadata": {},
     "output_type": "execute_result"
    },
    {
     "data": {
      "text/plain": [
       "{'neg': 0.096, 'neu': 0.825, 'pos': 0.079, 'compound': -0.7845}"
      ]
     },
     "execution_count": 584,
     "metadata": {},
     "output_type": "execute_result"
    },
    {
     "data": {
      "text/plain": [
       "{'neg': 0.205, 'neu': 0.725, 'pos': 0.07, 'compound': -0.9969}"
      ]
     },
     "execution_count": 584,
     "metadata": {},
     "output_type": "execute_result"
    },
    {
     "data": {
      "text/plain": [
       "{'neg': 0.113, 'neu': 0.841, 'pos': 0.046, 'compound': -0.9743}"
      ]
     },
     "execution_count": 584,
     "metadata": {},
     "output_type": "execute_result"
    },
    {
     "data": {
      "text/plain": [
       "{'neg': 0.11, 'neu': 0.812, 'pos': 0.078, 'compound': -0.8316}"
      ]
     },
     "execution_count": 584,
     "metadata": {},
     "output_type": "execute_result"
    },
    {
     "data": {
      "text/plain": [
       "{'neg': 0.135, 'neu': 0.817, 'pos': 0.048, 'compound': -0.986}"
      ]
     },
     "execution_count": 584,
     "metadata": {},
     "output_type": "execute_result"
    },
    {
     "data": {
      "text/plain": [
       "{'neg': 0.131, 'neu': 0.793, 'pos': 0.077, 'compound': -0.9444}"
      ]
     },
     "execution_count": 584,
     "metadata": {},
     "output_type": "execute_result"
    },
    {
     "data": {
      "text/plain": [
       "{'neg': 0.121, 'neu': 0.83, 'pos': 0.049, 'compound': -0.9871}"
      ]
     },
     "execution_count": 584,
     "metadata": {},
     "output_type": "execute_result"
    },
    {
     "data": {
      "text/plain": [
       "{'neg': 0.141, 'neu': 0.79, 'pos': 0.069, 'compound': -0.9898}"
      ]
     },
     "execution_count": 584,
     "metadata": {},
     "output_type": "execute_result"
    },
    {
     "data": {
      "text/plain": [
       "{'neg': 0.189, 'neu': 0.776, 'pos': 0.035, 'compound': -0.9956}"
      ]
     },
     "execution_count": 584,
     "metadata": {},
     "output_type": "execute_result"
    },
    {
     "data": {
      "text/plain": [
       "{'neg': 0.105, 'neu': 0.872, 'pos': 0.023, 'compound': -0.9836}"
      ]
     },
     "execution_count": 584,
     "metadata": {},
     "output_type": "execute_result"
    },
    {
     "data": {
      "text/plain": [
       "{'neg': 0.105, 'neu': 0.83, 'pos': 0.065, 'compound': -0.8402}"
      ]
     },
     "execution_count": 584,
     "metadata": {},
     "output_type": "execute_result"
    },
    {
     "data": {
      "text/plain": [
       "{'neg': 0.091, 'neu': 0.838, 'pos': 0.071, 'compound': -0.7813}"
      ]
     },
     "execution_count": 584,
     "metadata": {},
     "output_type": "execute_result"
    },
    {
     "data": {
      "text/plain": [
       "{'neg': 0.158, 'neu': 0.753, 'pos': 0.088, 'compound': -0.9905}"
      ]
     },
     "execution_count": 584,
     "metadata": {},
     "output_type": "execute_result"
    },
    {
     "data": {
      "text/plain": [
       "{'neg': 0.116, 'neu': 0.823, 'pos': 0.061, 'compound': -0.9698}"
      ]
     },
     "execution_count": 584,
     "metadata": {},
     "output_type": "execute_result"
    },
    {
     "data": {
      "text/plain": [
       "{'neg': 0.093, 'neu': 0.832, 'pos': 0.074, 'compound': -0.7085}"
      ]
     },
     "execution_count": 584,
     "metadata": {},
     "output_type": "execute_result"
    },
    {
     "data": {
      "text/plain": [
       "{'neg': 0.124, 'neu': 0.762, 'pos': 0.114, 'compound': -0.3291}"
      ]
     },
     "execution_count": 584,
     "metadata": {},
     "output_type": "execute_result"
    },
    {
     "data": {
      "text/plain": [
       "{'neg': 0.111, 'neu': 0.766, 'pos': 0.123, 'compound': 0.5994}"
      ]
     },
     "execution_count": 584,
     "metadata": {},
     "output_type": "execute_result"
    },
    {
     "data": {
      "text/plain": [
       "{'neg': 0.127, 'neu': 0.804, 'pos': 0.069, 'compound': -0.9477}"
      ]
     },
     "execution_count": 584,
     "metadata": {},
     "output_type": "execute_result"
    },
    {
     "data": {
      "text/plain": [
       "{'neg': 0.092, 'neu': 0.83, 'pos': 0.079, 'compound': -0.802}"
      ]
     },
     "execution_count": 584,
     "metadata": {},
     "output_type": "execute_result"
    },
    {
     "data": {
      "text/plain": [
       "{'neg': 0.156, 'neu': 0.807, 'pos': 0.037, 'compound': -0.9873}"
      ]
     },
     "execution_count": 584,
     "metadata": {},
     "output_type": "execute_result"
    },
    {
     "data": {
      "text/plain": [
       "{'neg': 0.109, 'neu': 0.851, 'pos': 0.04, 'compound': -0.9477}"
      ]
     },
     "execution_count": 584,
     "metadata": {},
     "output_type": "execute_result"
    },
    {
     "data": {
      "text/plain": [
       "{'neg': 0.169, 'neu': 0.736, 'pos': 0.096, 'compound': -0.994}"
      ]
     },
     "execution_count": 584,
     "metadata": {},
     "output_type": "execute_result"
    },
    {
     "data": {
      "text/plain": [
       "{'neg': 0.133, 'neu': 0.815, 'pos': 0.053, 'compound': -0.9931}"
      ]
     },
     "execution_count": 584,
     "metadata": {},
     "output_type": "execute_result"
    },
    {
     "data": {
      "text/plain": [
       "{'neg': 0.085, 'neu': 0.854, 'pos': 0.061, 'compound': -0.8121}"
      ]
     },
     "execution_count": 584,
     "metadata": {},
     "output_type": "execute_result"
    },
    {
     "data": {
      "text/plain": [
       "{'neg': 0.166, 'neu': 0.789, 'pos': 0.045, 'compound': -0.9666}"
      ]
     },
     "execution_count": 584,
     "metadata": {},
     "output_type": "execute_result"
    },
    {
     "data": {
      "text/plain": [
       "{'neg': 0.173, 'neu': 0.783, 'pos': 0.044, 'compound': -0.9943}"
      ]
     },
     "execution_count": 584,
     "metadata": {},
     "output_type": "execute_result"
    },
    {
     "data": {
      "text/plain": [
       "{'neg': 0.117, 'neu': 0.788, 'pos': 0.095, 'compound': -0.5994}"
      ]
     },
     "execution_count": 584,
     "metadata": {},
     "output_type": "execute_result"
    },
    {
     "data": {
      "text/plain": [
       "{'neg': 0.113, 'neu': 0.82, 'pos': 0.066, 'compound': -0.9406}"
      ]
     },
     "execution_count": 584,
     "metadata": {},
     "output_type": "execute_result"
    },
    {
     "data": {
      "text/plain": [
       "{'neg': 0.176, 'neu': 0.741, 'pos': 0.083, 'compound': -0.9916}"
      ]
     },
     "execution_count": 584,
     "metadata": {},
     "output_type": "execute_result"
    },
    {
     "data": {
      "text/plain": [
       "{'neg': 0.09, 'neu': 0.851, 'pos': 0.059, 'compound': -0.9625}"
      ]
     },
     "execution_count": 584,
     "metadata": {},
     "output_type": "execute_result"
    },
    {
     "data": {
      "text/plain": [
       "{'neg': 0.141, 'neu': 0.784, 'pos': 0.074, 'compound': -0.9499}"
      ]
     },
     "execution_count": 584,
     "metadata": {},
     "output_type": "execute_result"
    },
    {
     "data": {
      "text/plain": [
       "{'neg': 0.083, 'neu': 0.785, 'pos': 0.132, 'compound': 0.9904}"
      ]
     },
     "execution_count": 584,
     "metadata": {},
     "output_type": "execute_result"
    },
    {
     "data": {
      "text/plain": [
       "{'neg': 0.166, 'neu': 0.787, 'pos': 0.048, 'compound': -0.9911}"
      ]
     },
     "execution_count": 584,
     "metadata": {},
     "output_type": "execute_result"
    },
    {
     "data": {
      "text/plain": [
       "{'neg': 0.114, 'neu': 0.84, 'pos': 0.046, 'compound': -0.9869}"
      ]
     },
     "execution_count": 584,
     "metadata": {},
     "output_type": "execute_result"
    },
    {
     "data": {
      "text/plain": [
       "{'neg': 0.182, 'neu': 0.776, 'pos': 0.042, 'compound': -0.985}"
      ]
     },
     "execution_count": 584,
     "metadata": {},
     "output_type": "execute_result"
    },
    {
     "data": {
      "text/plain": [
       "{'neg': 0.156, 'neu': 0.796, 'pos': 0.047, 'compound': -0.9953}"
      ]
     },
     "execution_count": 584,
     "metadata": {},
     "output_type": "execute_result"
    },
    {
     "data": {
      "text/plain": [
       "{'neg': 0.153, 'neu': 0.787, 'pos': 0.061, 'compound': -0.9975}"
      ]
     },
     "execution_count": 584,
     "metadata": {},
     "output_type": "execute_result"
    },
    {
     "data": {
      "text/plain": [
       "{'neg': 0.177, 'neu': 0.784, 'pos': 0.039, 'compound': -0.9878}"
      ]
     },
     "execution_count": 584,
     "metadata": {},
     "output_type": "execute_result"
    },
    {
     "data": {
      "text/plain": [
       "{'neg': 0.098, 'neu': 0.834, 'pos': 0.068, 'compound': -0.9712}"
      ]
     },
     "execution_count": 584,
     "metadata": {},
     "output_type": "execute_result"
    },
    {
     "data": {
      "text/plain": [
       "{'neg': 0.11, 'neu': 0.819, 'pos': 0.071, 'compound': -0.9839}"
      ]
     },
     "execution_count": 584,
     "metadata": {},
     "output_type": "execute_result"
    },
    {
     "data": {
      "text/plain": [
       "{'neg': 0.14, 'neu': 0.801, 'pos': 0.059, 'compound': -0.997}"
      ]
     },
     "execution_count": 584,
     "metadata": {},
     "output_type": "execute_result"
    },
    {
     "data": {
      "text/plain": [
       "{'neg': 0.204, 'neu': 0.727, 'pos': 0.068, 'compound': -0.9989}"
      ]
     },
     "execution_count": 584,
     "metadata": {},
     "output_type": "execute_result"
    },
    {
     "data": {
      "text/plain": [
       "{'neg': 0.153, 'neu': 0.786, 'pos': 0.061, 'compound': -0.9973}"
      ]
     },
     "execution_count": 584,
     "metadata": {},
     "output_type": "execute_result"
    },
    {
     "data": {
      "text/plain": [
       "{'neg': 0.167, 'neu': 0.793, 'pos': 0.04, 'compound': -0.994}"
      ]
     },
     "execution_count": 584,
     "metadata": {},
     "output_type": "execute_result"
    },
    {
     "data": {
      "text/plain": [
       "{'neg': 0.12, 'neu': 0.789, 'pos': 0.091, 'compound': -0.9355}"
      ]
     },
     "execution_count": 584,
     "metadata": {},
     "output_type": "execute_result"
    },
    {
     "data": {
      "text/plain": [
       "{'neg': 0.131, 'neu': 0.817, 'pos': 0.052, 'compound': -0.9845}"
      ]
     },
     "execution_count": 584,
     "metadata": {},
     "output_type": "execute_result"
    },
    {
     "data": {
      "text/plain": [
       "{'neg': 0.081, 'neu': 0.823, 'pos': 0.096, 'compound': 0.1531}"
      ]
     },
     "execution_count": 584,
     "metadata": {},
     "output_type": "execute_result"
    },
    {
     "data": {
      "text/plain": [
       "{'neg': 0.083, 'neu': 0.832, 'pos': 0.086, 'compound': -0.2263}"
      ]
     },
     "execution_count": 584,
     "metadata": {},
     "output_type": "execute_result"
    },
    {
     "data": {
      "text/plain": [
       "{'neg': 0.204, 'neu': 0.711, 'pos': 0.085, 'compound': -0.9913}"
      ]
     },
     "execution_count": 584,
     "metadata": {},
     "output_type": "execute_result"
    },
    {
     "data": {
      "text/plain": [
       "{'neg': 0.101, 'neu': 0.86, 'pos': 0.039, 'compound': -0.9201}"
      ]
     },
     "execution_count": 584,
     "metadata": {},
     "output_type": "execute_result"
    },
    {
     "data": {
      "text/plain": [
       "{'neg': 0.105, 'neu': 0.834, 'pos': 0.061, 'compound': -0.9403}"
      ]
     },
     "execution_count": 584,
     "metadata": {},
     "output_type": "execute_result"
    },
    {
     "data": {
      "text/plain": [
       "{'neg': 0.087, 'neu': 0.833, 'pos': 0.08, 'compound': -0.5994}"
      ]
     },
     "execution_count": 584,
     "metadata": {},
     "output_type": "execute_result"
    },
    {
     "data": {
      "text/plain": [
       "{'neg': 0.095, 'neu': 0.865, 'pos': 0.039, 'compound': -0.9552}"
      ]
     },
     "execution_count": 584,
     "metadata": {},
     "output_type": "execute_result"
    },
    {
     "data": {
      "text/plain": [
       "{'neg': 0.082, 'neu': 0.844, 'pos': 0.073, 'compound': -0.802}"
      ]
     },
     "execution_count": 584,
     "metadata": {},
     "output_type": "execute_result"
    },
    {
     "data": {
      "text/plain": [
       "{'neg': 0.134, 'neu': 0.803, 'pos': 0.063, 'compound': -0.9732}"
      ]
     },
     "execution_count": 584,
     "metadata": {},
     "output_type": "execute_result"
    },
    {
     "data": {
      "text/plain": [
       "{'neg': 0.143, 'neu': 0.744, 'pos': 0.113, 'compound': -0.9118}"
      ]
     },
     "execution_count": 584,
     "metadata": {},
     "output_type": "execute_result"
    },
    {
     "data": {
      "text/plain": [
       "{'neg': 0.191, 'neu': 0.759, 'pos': 0.05, 'compound': -0.996}"
      ]
     },
     "execution_count": 584,
     "metadata": {},
     "output_type": "execute_result"
    },
    {
     "data": {
      "text/plain": [
       "{'neg': 0.148, 'neu': 0.767, 'pos': 0.084, 'compound': -0.9795}"
      ]
     },
     "execution_count": 584,
     "metadata": {},
     "output_type": "execute_result"
    },
    {
     "data": {
      "text/plain": [
       "{'neg': 0.17, 'neu': 0.777, 'pos': 0.054, 'compound': -0.9979}"
      ]
     },
     "execution_count": 584,
     "metadata": {},
     "output_type": "execute_result"
    },
    {
     "data": {
      "text/plain": [
       "{'neg': 0.139, 'neu': 0.787, 'pos': 0.074, 'compound': -0.9898}"
      ]
     },
     "execution_count": 584,
     "metadata": {},
     "output_type": "execute_result"
    },
    {
     "data": {
      "text/plain": [
       "{'neg': 0.18, 'neu': 0.746, 'pos': 0.075, 'compound': -0.998}"
      ]
     },
     "execution_count": 584,
     "metadata": {},
     "output_type": "execute_result"
    },
    {
     "data": {
      "text/plain": [
       "{'neg': 0.206, 'neu': 0.743, 'pos': 0.051, 'compound': -0.9885}"
      ]
     },
     "execution_count": 584,
     "metadata": {},
     "output_type": "execute_result"
    },
    {
     "data": {
      "text/plain": [
       "{'neg': 0.199, 'neu': 0.704, 'pos': 0.096, 'compound': -0.996}"
      ]
     },
     "execution_count": 584,
     "metadata": {},
     "output_type": "execute_result"
    },
    {
     "data": {
      "text/plain": [
       "{'neg': 0.218, 'neu': 0.739, 'pos': 0.043, 'compound': -0.9975}"
      ]
     },
     "execution_count": 584,
     "metadata": {},
     "output_type": "execute_result"
    },
    {
     "data": {
      "text/plain": [
       "{'neg': 0.245, 'neu': 0.711, 'pos': 0.044, 'compound': -0.9983}"
      ]
     },
     "execution_count": 584,
     "metadata": {},
     "output_type": "execute_result"
    },
    {
     "data": {
      "text/plain": [
       "{'neg': 0.161, 'neu': 0.773, 'pos': 0.066, 'compound': -0.9918}"
      ]
     },
     "execution_count": 584,
     "metadata": {},
     "output_type": "execute_result"
    },
    {
     "data": {
      "text/plain": [
       "{'neg': 0.115, 'neu': 0.805, 'pos': 0.081, 'compound': -0.9434}"
      ]
     },
     "execution_count": 584,
     "metadata": {},
     "output_type": "execute_result"
    },
    {
     "data": {
      "text/plain": [
       "{'neg': 0.09, 'neu': 0.838, 'pos': 0.071, 'compound': -0.8481}"
      ]
     },
     "execution_count": 584,
     "metadata": {},
     "output_type": "execute_result"
    },
    {
     "data": {
      "text/plain": [
       "{'neg': 0.089, 'neu': 0.829, 'pos': 0.082, 'compound': -0.296}"
      ]
     },
     "execution_count": 584,
     "metadata": {},
     "output_type": "execute_result"
    },
    {
     "data": {
      "text/plain": [
       "{'neg': 0.18, 'neu': 0.815, 'pos': 0.005, 'compound': -0.9958}"
      ]
     },
     "execution_count": 584,
     "metadata": {},
     "output_type": "execute_result"
    },
    {
     "data": {
      "text/plain": [
       "{'neg': 0.076, 'neu': 0.807, 'pos': 0.118, 'compound': 0.9549}"
      ]
     },
     "execution_count": 584,
     "metadata": {},
     "output_type": "execute_result"
    },
    {
     "data": {
      "text/plain": [
       "{'neg': 0.223, 'neu': 0.742, 'pos': 0.035, 'compound': -0.9961}"
      ]
     },
     "execution_count": 584,
     "metadata": {},
     "output_type": "execute_result"
    },
    {
     "data": {
      "text/plain": [
       "{'neg': 0.212, 'neu': 0.76, 'pos': 0.028, 'compound': -0.9905}"
      ]
     },
     "execution_count": 584,
     "metadata": {},
     "output_type": "execute_result"
    },
    {
     "data": {
      "text/plain": [
       "{'neg': 0.212, 'neu': 0.705, 'pos': 0.082, 'compound': -0.9906}"
      ]
     },
     "execution_count": 584,
     "metadata": {},
     "output_type": "execute_result"
    },
    {
     "data": {
      "text/plain": [
       "{'neg': 0.2, 'neu': 0.729, 'pos': 0.071, 'compound': -0.9871}"
      ]
     },
     "execution_count": 584,
     "metadata": {},
     "output_type": "execute_result"
    },
    {
     "data": {
      "text/plain": [
       "{'neg': 0.183, 'neu': 0.783, 'pos': 0.035, 'compound': -0.9917}"
      ]
     },
     "execution_count": 584,
     "metadata": {},
     "output_type": "execute_result"
    },
    {
     "data": {
      "text/plain": [
       "{'neg': 0.174, 'neu': 0.792, 'pos': 0.035, 'compound': -0.99}"
      ]
     },
     "execution_count": 584,
     "metadata": {},
     "output_type": "execute_result"
    },
    {
     "data": {
      "text/plain": [
       "{'neg': 0.214, 'neu': 0.741, 'pos': 0.044, 'compound': -0.9917}"
      ]
     },
     "execution_count": 584,
     "metadata": {},
     "output_type": "execute_result"
    },
    {
     "data": {
      "text/plain": [
       "{'neg': 0.114, 'neu': 0.818, 'pos': 0.067, 'compound': -0.9274}"
      ]
     },
     "execution_count": 584,
     "metadata": {},
     "output_type": "execute_result"
    },
    {
     "data": {
      "text/plain": [
       "{'neg': 0.143, 'neu': 0.793, 'pos': 0.064, 'compound': -0.9844}"
      ]
     },
     "execution_count": 584,
     "metadata": {},
     "output_type": "execute_result"
    },
    {
     "data": {
      "text/plain": [
       "{'neg': 0.084, 'neu': 0.838, 'pos': 0.078, 'compound': -0.34}"
      ]
     },
     "execution_count": 584,
     "metadata": {},
     "output_type": "execute_result"
    },
    {
     "data": {
      "text/plain": [
       "{'neg': 0.173, 'neu': 0.767, 'pos': 0.059, 'compound': -0.9517}"
      ]
     },
     "execution_count": 584,
     "metadata": {},
     "output_type": "execute_result"
    },
    {
     "data": {
      "text/plain": [
       "{'neg': 0.211, 'neu': 0.762, 'pos': 0.027, 'compound': -0.9943}"
      ]
     },
     "execution_count": 584,
     "metadata": {},
     "output_type": "execute_result"
    },
    {
     "data": {
      "text/plain": [
       "{'neg': 0.153, 'neu': 0.723, 'pos': 0.124, 'compound': -0.9645}"
      ]
     },
     "execution_count": 584,
     "metadata": {},
     "output_type": "execute_result"
    },
    {
     "data": {
      "text/plain": [
       "{'neg': 0.109, 'neu': 0.797, 'pos': 0.094, 'compound': -0.7923}"
      ]
     },
     "execution_count": 584,
     "metadata": {},
     "output_type": "execute_result"
    },
    {
     "data": {
      "text/plain": [
       "{'neg': 0.134, 'neu': 0.757, 'pos': 0.109, 'compound': -0.8528}"
      ]
     },
     "execution_count": 584,
     "metadata": {},
     "output_type": "execute_result"
    },
    {
     "data": {
      "text/plain": [
       "{'neg': 0.113, 'neu': 0.824, 'pos': 0.063, 'compound': -0.9001}"
      ]
     },
     "execution_count": 584,
     "metadata": {},
     "output_type": "execute_result"
    },
    {
     "data": {
      "text/plain": [
       "{'neg': 0.213, 'neu': 0.755, 'pos': 0.032, 'compound': -0.9944}"
      ]
     },
     "execution_count": 584,
     "metadata": {},
     "output_type": "execute_result"
    },
    {
     "data": {
      "text/plain": [
       "{'neg': 0.108, 'neu': 0.812, 'pos': 0.08, 'compound': -0.9772}"
      ]
     },
     "execution_count": 584,
     "metadata": {},
     "output_type": "execute_result"
    },
    {
     "data": {
      "text/plain": [
       "{'neg': 0.151, 'neu': 0.776, 'pos': 0.073, 'compound': -0.9477}"
      ]
     },
     "execution_count": 584,
     "metadata": {},
     "output_type": "execute_result"
    },
    {
     "data": {
      "text/plain": [
       "{'neg': 0.176, 'neu': 0.752, 'pos': 0.072, 'compound': -0.9957}"
      ]
     },
     "execution_count": 584,
     "metadata": {},
     "output_type": "execute_result"
    },
    {
     "data": {
      "text/plain": [
       "{'neg': 0.163, 'neu': 0.771, 'pos': 0.066, 'compound': -0.9981}"
      ]
     },
     "execution_count": 584,
     "metadata": {},
     "output_type": "execute_result"
    },
    {
     "data": {
      "text/plain": [
       "{'neg': 0.184, 'neu': 0.754, 'pos': 0.062, 'compound': -0.9945}"
      ]
     },
     "execution_count": 584,
     "metadata": {},
     "output_type": "execute_result"
    },
    {
     "data": {
      "text/plain": [
       "{'neg': 0.153, 'neu': 0.786, 'pos': 0.061, 'compound': -0.9833}"
      ]
     },
     "execution_count": 584,
     "metadata": {},
     "output_type": "execute_result"
    },
    {
     "data": {
      "text/plain": [
       "{'neg': 0.172, 'neu': 0.747, 'pos': 0.081, 'compound': -0.9967}"
      ]
     },
     "execution_count": 584,
     "metadata": {},
     "output_type": "execute_result"
    },
    {
     "data": {
      "text/plain": [
       "{'neg': 0.032, 'neu': 0.841, 'pos': 0.127, 'compound': 0.9949}"
      ]
     },
     "execution_count": 584,
     "metadata": {},
     "output_type": "execute_result"
    },
    {
     "data": {
      "text/plain": [
       "{'neg': 0.062, 'neu': 0.791, 'pos': 0.148, 'compound': 0.9899}"
      ]
     },
     "execution_count": 584,
     "metadata": {},
     "output_type": "execute_result"
    },
    {
     "data": {
      "text/plain": [
       "{'neg': 0.038, 'neu': 0.855, 'pos': 0.108, 'compound': 0.9863}"
      ]
     },
     "execution_count": 584,
     "metadata": {},
     "output_type": "execute_result"
    },
    {
     "data": {
      "text/plain": [
       "{'neg': 0.047, 'neu': 0.79, 'pos': 0.163, 'compound': 0.9934}"
      ]
     },
     "execution_count": 584,
     "metadata": {},
     "output_type": "execute_result"
    },
    {
     "data": {
      "text/plain": [
       "{'neg': 0.063, 'neu': 0.844, 'pos': 0.093, 'compound': 0.9314}"
      ]
     },
     "execution_count": 584,
     "metadata": {},
     "output_type": "execute_result"
    },
    {
     "data": {
      "text/plain": [
       "{'neg': 0.055, 'neu': 0.886, 'pos': 0.059, 'compound': 0.2023}"
      ]
     },
     "execution_count": 584,
     "metadata": {},
     "output_type": "execute_result"
    },
    {
     "data": {
      "text/plain": [
       "{'neg': 0.079, 'neu': 0.797, 'pos': 0.124, 'compound': 0.9947}"
      ]
     },
     "execution_count": 584,
     "metadata": {},
     "output_type": "execute_result"
    },
    {
     "data": {
      "text/plain": [
       "{'neg': 0.052, 'neu': 0.843, 'pos': 0.104, 'compound': 0.9956}"
      ]
     },
     "execution_count": 584,
     "metadata": {},
     "output_type": "execute_result"
    },
    {
     "data": {
      "text/plain": [
       "{'neg': 0.065, 'neu': 0.823, 'pos': 0.112, 'compound': 0.9717}"
      ]
     },
     "execution_count": 584,
     "metadata": {},
     "output_type": "execute_result"
    },
    {
     "data": {
      "text/plain": [
       "{'neg': 0.017, 'neu': 0.875, 'pos': 0.108, 'compound': 0.988}"
      ]
     },
     "execution_count": 584,
     "metadata": {},
     "output_type": "execute_result"
    },
    {
     "data": {
      "text/plain": [
       "{'neg': 0.055, 'neu': 0.84, 'pos': 0.105, 'compound': 0.9674}"
      ]
     },
     "execution_count": 584,
     "metadata": {},
     "output_type": "execute_result"
    },
    {
     "data": {
      "text/plain": [
       "{'neg': 0.058, 'neu': 0.843, 'pos': 0.099, 'compound': 0.9531}"
      ]
     },
     "execution_count": 584,
     "metadata": {},
     "output_type": "execute_result"
    },
    {
     "data": {
      "text/plain": [
       "{'neg': 0.027, 'neu': 0.896, 'pos': 0.077, 'compound': 0.9699}"
      ]
     },
     "execution_count": 584,
     "metadata": {},
     "output_type": "execute_result"
    },
    {
     "data": {
      "text/plain": [
       "{'neg': 0.053, 'neu': 0.853, 'pos': 0.094, 'compound': 0.9868}"
      ]
     },
     "execution_count": 584,
     "metadata": {},
     "output_type": "execute_result"
    },
    {
     "data": {
      "text/plain": [
       "{'neg': 0.049, 'neu': 0.834, 'pos': 0.117, 'compound': 0.9975}"
      ]
     },
     "execution_count": 584,
     "metadata": {},
     "output_type": "execute_result"
    },
    {
     "data": {
      "text/plain": [
       "{'neg': 0.059, 'neu': 0.871, 'pos': 0.07, 'compound': 0.1779}"
      ]
     },
     "execution_count": 584,
     "metadata": {},
     "output_type": "execute_result"
    },
    {
     "data": {
      "text/plain": [
       "{'neg': 0.038, 'neu': 0.801, 'pos': 0.161, 'compound': 0.9971}"
      ]
     },
     "execution_count": 584,
     "metadata": {},
     "output_type": "execute_result"
    },
    {
     "data": {
      "text/plain": [
       "{'neg': 0.1, 'neu': 0.821, 'pos': 0.079, 'compound': -0.8431}"
      ]
     },
     "execution_count": 584,
     "metadata": {},
     "output_type": "execute_result"
    },
    {
     "data": {
      "text/plain": [
       "{'neg': 0.026, 'neu': 0.895, 'pos': 0.079, 'compound': 0.991}"
      ]
     },
     "execution_count": 584,
     "metadata": {},
     "output_type": "execute_result"
    },
    {
     "data": {
      "text/plain": [
       "{'neg': 0.012, 'neu': 0.811, 'pos': 0.177, 'compound': 0.9943}"
      ]
     },
     "execution_count": 584,
     "metadata": {},
     "output_type": "execute_result"
    },
    {
     "data": {
      "text/plain": [
       "{'neg': 0.129, 'neu': 0.752, 'pos': 0.119, 'compound': -0.9097}"
      ]
     },
     "execution_count": 584,
     "metadata": {},
     "output_type": "execute_result"
    },
    {
     "data": {
      "text/plain": [
       "{'neg': 0.067, 'neu': 0.893, 'pos': 0.04, 'compound': -0.8591}"
      ]
     },
     "execution_count": 584,
     "metadata": {},
     "output_type": "execute_result"
    },
    {
     "data": {
      "text/plain": [
       "{'neg': 0.056, 'neu': 0.819, 'pos': 0.125, 'compound': 0.9905}"
      ]
     },
     "execution_count": 584,
     "metadata": {},
     "output_type": "execute_result"
    },
    {
     "data": {
      "text/plain": [
       "{'neg': 0.083, 'neu': 0.839, 'pos': 0.078, 'compound': -0.3612}"
      ]
     },
     "execution_count": 584,
     "metadata": {},
     "output_type": "execute_result"
    },
    {
     "data": {
      "text/plain": [
       "{'neg': 0.006, 'neu': 0.81, 'pos': 0.184, 'compound': 0.9946}"
      ]
     },
     "execution_count": 584,
     "metadata": {},
     "output_type": "execute_result"
    },
    {
     "data": {
      "text/plain": [
       "{'neg': 0.093, 'neu': 0.732, 'pos': 0.175, 'compound': 0.9853}"
      ]
     },
     "execution_count": 584,
     "metadata": {},
     "output_type": "execute_result"
    },
    {
     "data": {
      "text/plain": [
       "{'neg': 0.111, 'neu': 0.827, 'pos': 0.062, 'compound': -0.9672}"
      ]
     },
     "execution_count": 584,
     "metadata": {},
     "output_type": "execute_result"
    },
    {
     "data": {
      "text/plain": [
       "{'neg': 0.136, 'neu': 0.79, 'pos': 0.074, 'compound': -0.9922}"
      ]
     },
     "execution_count": 584,
     "metadata": {},
     "output_type": "execute_result"
    },
    {
     "data": {
      "text/plain": [
       "{'neg': 0.071, 'neu': 0.864, 'pos': 0.065, 'compound': -0.7705}"
      ]
     },
     "execution_count": 584,
     "metadata": {},
     "output_type": "execute_result"
    },
    {
     "data": {
      "text/plain": [
       "{'neg': 0.082, 'neu': 0.851, 'pos': 0.067, 'compound': -0.9109}"
      ]
     },
     "execution_count": 584,
     "metadata": {},
     "output_type": "execute_result"
    },
    {
     "data": {
      "text/plain": [
       "{'neg': 0.148, 'neu': 0.779, 'pos': 0.073, 'compound': -0.996}"
      ]
     },
     "execution_count": 584,
     "metadata": {},
     "output_type": "execute_result"
    },
    {
     "data": {
      "text/plain": [
       "{'neg': 0.07, 'neu': 0.873, 'pos': 0.057, 'compound': -0.5831}"
      ]
     },
     "execution_count": 584,
     "metadata": {},
     "output_type": "execute_result"
    },
    {
     "data": {
      "text/plain": [
       "{'neg': 0.074, 'neu': 0.87, 'pos': 0.056, 'compound': -0.4588}"
      ]
     },
     "execution_count": 584,
     "metadata": {},
     "output_type": "execute_result"
    },
    {
     "data": {
      "text/plain": [
       "{'neg': 0.092, 'neu': 0.853, 'pos': 0.054, 'compound': -0.9322}"
      ]
     },
     "execution_count": 584,
     "metadata": {},
     "output_type": "execute_result"
    },
    {
     "data": {
      "text/plain": [
       "{'neg': 0.088, 'neu': 0.802, 'pos': 0.11, 'compound': 0.8531}"
      ]
     },
     "execution_count": 584,
     "metadata": {},
     "output_type": "execute_result"
    },
    {
     "data": {
      "text/plain": [
       "{'neg': 0.072, 'neu': 0.844, 'pos': 0.084, 'compound': 0.6883}"
      ]
     },
     "execution_count": 584,
     "metadata": {},
     "output_type": "execute_result"
    },
    {
     "data": {
      "text/plain": [
       "{'neg': 0.08, 'neu': 0.829, 'pos': 0.091, 'compound': 0.5641}"
      ]
     },
     "execution_count": 584,
     "metadata": {},
     "output_type": "execute_result"
    },
    {
     "data": {
      "text/plain": [
       "{'neg': 0.066, 'neu': 0.891, 'pos': 0.043, 'compound': -0.628}"
      ]
     },
     "execution_count": 584,
     "metadata": {},
     "output_type": "execute_result"
    },
    {
     "data": {
      "text/plain": [
       "{'neg': 0.062, 'neu': 0.905, 'pos': 0.032, 'compound': -0.9423}"
      ]
     },
     "execution_count": 584,
     "metadata": {},
     "output_type": "execute_result"
    },
    {
     "data": {
      "text/plain": [
       "{'neg': 0.129, 'neu': 0.769, 'pos': 0.102, 'compound': -0.9633}"
      ]
     },
     "execution_count": 584,
     "metadata": {},
     "output_type": "execute_result"
    },
    {
     "data": {
      "text/plain": [
       "{'neg': 0.111, 'neu': 0.831, 'pos': 0.058, 'compound': -0.9839}"
      ]
     },
     "execution_count": 584,
     "metadata": {},
     "output_type": "execute_result"
    },
    {
     "data": {
      "text/plain": [
       "{'neg': 0.144, 'neu': 0.813, 'pos': 0.043, 'compound': -0.9884}"
      ]
     },
     "execution_count": 584,
     "metadata": {},
     "output_type": "execute_result"
    },
    {
     "data": {
      "text/plain": [
       "{'neg': 0.17, 'neu': 0.774, 'pos': 0.056, 'compound': -0.9959}"
      ]
     },
     "execution_count": 584,
     "metadata": {},
     "output_type": "execute_result"
    },
    {
     "data": {
      "text/plain": [
       "{'neg': 0.153, 'neu': 0.791, 'pos': 0.057, 'compound': -0.9934}"
      ]
     },
     "execution_count": 584,
     "metadata": {},
     "output_type": "execute_result"
    },
    {
     "data": {
      "text/plain": [
       "{'neg': 0.167, 'neu': 0.767, 'pos': 0.066, 'compound': -0.9886}"
      ]
     },
     "execution_count": 584,
     "metadata": {},
     "output_type": "execute_result"
    },
    {
     "data": {
      "text/plain": [
       "{'neg': 0.038, 'neu': 0.886, 'pos': 0.076, 'compound': 0.9334}"
      ]
     },
     "execution_count": 584,
     "metadata": {},
     "output_type": "execute_result"
    },
    {
     "data": {
      "text/plain": [
       "{'neg': 0.08, 'neu': 0.844, 'pos': 0.076, 'compound': -0.3167}"
      ]
     },
     "execution_count": 584,
     "metadata": {},
     "output_type": "execute_result"
    },
    {
     "data": {
      "text/plain": [
       "{'neg': 0.069, 'neu': 0.853, 'pos': 0.078, 'compound': 0.5267}"
      ]
     },
     "execution_count": 584,
     "metadata": {},
     "output_type": "execute_result"
    },
    {
     "data": {
      "text/plain": [
       "{'neg': 0.071, 'neu': 0.794, 'pos': 0.135, 'compound': 0.9641}"
      ]
     },
     "execution_count": 584,
     "metadata": {},
     "output_type": "execute_result"
    },
    {
     "data": {
      "text/plain": [
       "{'neg': 0.065, 'neu': 0.846, 'pos': 0.088, 'compound': 0.8673}"
      ]
     },
     "execution_count": 584,
     "metadata": {},
     "output_type": "execute_result"
    },
    {
     "data": {
      "text/plain": [
       "{'neg': 0.048, 'neu': 0.845, 'pos': 0.107, 'compound': 0.9801}"
      ]
     },
     "execution_count": 584,
     "metadata": {},
     "output_type": "execute_result"
    },
    {
     "data": {
      "text/plain": [
       "{'neg': 0.091, 'neu': 0.806, 'pos': 0.104, 'compound': 0.6993}"
      ]
     },
     "execution_count": 584,
     "metadata": {},
     "output_type": "execute_result"
    },
    {
     "data": {
      "text/plain": [
       "{'neg': 0.091, 'neu': 0.802, 'pos': 0.107, 'compound': 0.7891}"
      ]
     },
     "execution_count": 584,
     "metadata": {},
     "output_type": "execute_result"
    },
    {
     "data": {
      "text/plain": [
       "{'neg': 0.038, 'neu': 0.899, 'pos': 0.063, 'compound': 0.9378}"
      ]
     },
     "execution_count": 584,
     "metadata": {},
     "output_type": "execute_result"
    },
    {
     "data": {
      "text/plain": [
       "{'neg': 0.071, 'neu': 0.824, 'pos': 0.105, 'compound': 0.9411}"
      ]
     },
     "execution_count": 584,
     "metadata": {},
     "output_type": "execute_result"
    },
    {
     "data": {
      "text/plain": [
       "{'neg': 0.094, 'neu': 0.834, 'pos': 0.072, 'compound': -0.7887}"
      ]
     },
     "execution_count": 584,
     "metadata": {},
     "output_type": "execute_result"
    },
    {
     "data": {
      "text/plain": [
       "{'neg': 0.04, 'neu': 0.877, 'pos': 0.083, 'compound': 0.9337}"
      ]
     },
     "execution_count": 584,
     "metadata": {},
     "output_type": "execute_result"
    },
    {
     "data": {
      "text/plain": [
       "{'neg': 0.027, 'neu': 0.93, 'pos': 0.044, 'compound': 0.7798}"
      ]
     },
     "execution_count": 584,
     "metadata": {},
     "output_type": "execute_result"
    },
    {
     "data": {
      "text/plain": [
       "{'neg': 0.089, 'neu': 0.862, 'pos': 0.049, 'compound': -0.9869}"
      ]
     },
     "execution_count": 584,
     "metadata": {},
     "output_type": "execute_result"
    },
    {
     "data": {
      "text/plain": [
       "{'neg': 0.075, 'neu': 0.861, 'pos': 0.064, 'compound': -0.7935}"
      ]
     },
     "execution_count": 584,
     "metadata": {},
     "output_type": "execute_result"
    },
    {
     "data": {
      "text/plain": [
       "{'neg': 0.06, 'neu': 0.898, 'pos': 0.042, 'compound': -0.6486}"
      ]
     },
     "execution_count": 584,
     "metadata": {},
     "output_type": "execute_result"
    },
    {
     "data": {
      "text/plain": [
       "{'neg': 0.084, 'neu': 0.875, 'pos': 0.042, 'compound': -0.9607}"
      ]
     },
     "execution_count": 584,
     "metadata": {},
     "output_type": "execute_result"
    },
    {
     "data": {
      "text/plain": [
       "{'neg': 0.124, 'neu': 0.799, 'pos': 0.077, 'compound': -0.9649}"
      ]
     },
     "execution_count": 584,
     "metadata": {},
     "output_type": "execute_result"
    },
    {
     "data": {
      "text/plain": [
       "{'neg': 0.08, 'neu': 0.789, 'pos': 0.131, 'compound': 0.9433}"
      ]
     },
     "execution_count": 584,
     "metadata": {},
     "output_type": "execute_result"
    },
    {
     "data": {
      "text/plain": [
       "{'neg': 0.036, 'neu': 0.88, 'pos': 0.084, 'compound': 0.9728}"
      ]
     },
     "execution_count": 584,
     "metadata": {},
     "output_type": "execute_result"
    },
    {
     "data": {
      "text/plain": [
       "{'neg': 0.044, 'neu': 0.871, 'pos': 0.085, 'compound': 0.9657}"
      ]
     },
     "execution_count": 584,
     "metadata": {},
     "output_type": "execute_result"
    },
    {
     "data": {
      "text/plain": [
       "{'neg': 0.077, 'neu': 0.813, 'pos': 0.11, 'compound': 0.9786}"
      ]
     },
     "execution_count": 584,
     "metadata": {},
     "output_type": "execute_result"
    },
    {
     "data": {
      "text/plain": [
       "{'neg': 0.047, 'neu': 0.795, 'pos': 0.158, 'compound': 0.9974}"
      ]
     },
     "execution_count": 584,
     "metadata": {},
     "output_type": "execute_result"
    },
    {
     "data": {
      "text/plain": [
       "{'neg': 0.02, 'neu': 0.773, 'pos': 0.207, 'compound': 0.997}"
      ]
     },
     "execution_count": 584,
     "metadata": {},
     "output_type": "execute_result"
    },
    {
     "data": {
      "text/plain": [
       "{'neg': 0.05, 'neu': 0.794, 'pos': 0.156, 'compound': 0.9941}"
      ]
     },
     "execution_count": 584,
     "metadata": {},
     "output_type": "execute_result"
    },
    {
     "data": {
      "text/plain": [
       "{'neg': 0.068, 'neu': 0.836, 'pos': 0.097, 'compound': 0.8658}"
      ]
     },
     "execution_count": 584,
     "metadata": {},
     "output_type": "execute_result"
    },
    {
     "data": {
      "text/plain": [
       "{'neg': 0.02, 'neu': 0.808, 'pos': 0.172, 'compound': 0.9945}"
      ]
     },
     "execution_count": 584,
     "metadata": {},
     "output_type": "execute_result"
    },
    {
     "data": {
      "text/plain": [
       "{'neg': 0.005, 'neu': 0.905, 'pos': 0.09, 'compound': 0.9884}"
      ]
     },
     "execution_count": 584,
     "metadata": {},
     "output_type": "execute_result"
    },
    {
     "data": {
      "text/plain": [
       "{'neg': 0.01, 'neu': 0.822, 'pos': 0.168, 'compound': 0.9971}"
      ]
     },
     "execution_count": 584,
     "metadata": {},
     "output_type": "execute_result"
    },
    {
     "data": {
      "text/plain": [
       "{'neg': 0.005, 'neu': 0.819, 'pos': 0.176, 'compound': 0.9964}"
      ]
     },
     "execution_count": 584,
     "metadata": {},
     "output_type": "execute_result"
    },
    {
     "data": {
      "text/plain": [
       "{'neg': 0.056, 'neu': 0.838, 'pos': 0.105, 'compound': 0.9618}"
      ]
     },
     "execution_count": 584,
     "metadata": {},
     "output_type": "execute_result"
    },
    {
     "data": {
      "text/plain": [
       "{'neg': 0.046, 'neu': 0.851, 'pos': 0.103, 'compound': 0.9817}"
      ]
     },
     "execution_count": 584,
     "metadata": {},
     "output_type": "execute_result"
    },
    {
     "data": {
      "text/plain": [
       "{'neg': 0.007, 'neu': 0.839, 'pos': 0.153, 'compound': 0.9912}"
      ]
     },
     "execution_count": 584,
     "metadata": {},
     "output_type": "execute_result"
    },
    {
     "data": {
      "text/plain": [
       "{'neg': 0.024, 'neu': 0.833, 'pos': 0.142, 'compound': 0.9909}"
      ]
     },
     "execution_count": 584,
     "metadata": {},
     "output_type": "execute_result"
    },
    {
     "data": {
      "text/plain": [
       "{'neg': 0.0, 'neu': 0.827, 'pos': 0.173, 'compound': 0.9864}"
      ]
     },
     "execution_count": 584,
     "metadata": {},
     "output_type": "execute_result"
    },
    {
     "data": {
      "text/plain": [
       "{'neg': 0.013, 'neu': 0.839, 'pos': 0.148, 'compound': 0.9883}"
      ]
     },
     "execution_count": 584,
     "metadata": {},
     "output_type": "execute_result"
    },
    {
     "data": {
      "text/plain": [
       "{'neg': 0.042, 'neu': 0.855, 'pos': 0.103, 'compound': 0.9862}"
      ]
     },
     "execution_count": 584,
     "metadata": {},
     "output_type": "execute_result"
    },
    {
     "data": {
      "text/plain": [
       "{'neg': 0.12, 'neu': 0.719, 'pos': 0.161, 'compound': 0.907}"
      ]
     },
     "execution_count": 584,
     "metadata": {},
     "output_type": "execute_result"
    },
    {
     "data": {
      "text/plain": [
       "{'neg': 0.066, 'neu': 0.761, 'pos': 0.173, 'compound': 0.9927}"
      ]
     },
     "execution_count": 584,
     "metadata": {},
     "output_type": "execute_result"
    },
    {
     "data": {
      "text/plain": [
       "{'neg': 0.037, 'neu': 0.813, 'pos': 0.15, 'compound': 0.9975}"
      ]
     },
     "execution_count": 584,
     "metadata": {},
     "output_type": "execute_result"
    },
    {
     "data": {
      "text/plain": [
       "{'neg': 0.033, 'neu': 0.856, 'pos': 0.111, 'compound': 0.9962}"
      ]
     },
     "execution_count": 584,
     "metadata": {},
     "output_type": "execute_result"
    },
    {
     "data": {
      "text/plain": [
       "{'neg': 0.025, 'neu': 0.88, 'pos': 0.095, 'compound': 0.9944}"
      ]
     },
     "execution_count": 584,
     "metadata": {},
     "output_type": "execute_result"
    },
    {
     "data": {
      "text/plain": [
       "{'neg': 0.116, 'neu': 0.725, 'pos': 0.158, 'compound': 0.705}"
      ]
     },
     "execution_count": 584,
     "metadata": {},
     "output_type": "execute_result"
    },
    {
     "data": {
      "text/plain": [
       "{'neg': 0.019, 'neu': 0.831, 'pos': 0.15, 'compound': 0.9858}"
      ]
     },
     "execution_count": 584,
     "metadata": {},
     "output_type": "execute_result"
    },
    {
     "data": {
      "text/plain": [
       "{'neg': 0.071, 'neu': 0.801, 'pos': 0.128, 'compound': 0.989}"
      ]
     },
     "execution_count": 584,
     "metadata": {},
     "output_type": "execute_result"
    },
    {
     "data": {
      "text/plain": [
       "{'neg': 0.062, 'neu': 0.785, 'pos': 0.153, 'compound': 0.995}"
      ]
     },
     "execution_count": 584,
     "metadata": {},
     "output_type": "execute_result"
    },
    {
     "data": {
      "text/plain": [
       "{'neg': 0.021, 'neu': 0.811, 'pos': 0.169, 'compound': 0.9941}"
      ]
     },
     "execution_count": 584,
     "metadata": {},
     "output_type": "execute_result"
    },
    {
     "data": {
      "text/plain": [
       "{'neg': 0.035, 'neu': 0.872, 'pos': 0.093, 'compound': 0.9559}"
      ]
     },
     "execution_count": 584,
     "metadata": {},
     "output_type": "execute_result"
    },
    {
     "data": {
      "text/plain": [
       "{'neg': 0.097, 'neu': 0.812, 'pos': 0.091, 'compound': -0.9678}"
      ]
     },
     "execution_count": 584,
     "metadata": {},
     "output_type": "execute_result"
    },
    {
     "data": {
      "text/plain": [
       "{'neg': 0.072, 'neu': 0.823, 'pos': 0.105, 'compound': 0.9666}"
      ]
     },
     "execution_count": 584,
     "metadata": {},
     "output_type": "execute_result"
    },
    {
     "data": {
      "text/plain": [
       "{'neg': 0.057, 'neu': 0.789, 'pos': 0.154, 'compound': 0.9935}"
      ]
     },
     "execution_count": 584,
     "metadata": {},
     "output_type": "execute_result"
    },
    {
     "data": {
      "text/plain": [
       "{'neg': 0.006, 'neu': 0.847, 'pos': 0.148, 'compound': 0.9941}"
      ]
     },
     "execution_count": 584,
     "metadata": {},
     "output_type": "execute_result"
    },
    {
     "data": {
      "text/plain": [
       "{'neg': 0.049, 'neu': 0.815, 'pos': 0.136, 'compound': 0.9947}"
      ]
     },
     "execution_count": 584,
     "metadata": {},
     "output_type": "execute_result"
    },
    {
     "data": {
      "text/plain": [
       "{'neg': 0.125, 'neu': 0.692, 'pos': 0.184, 'compound': 0.9874}"
      ]
     },
     "execution_count": 584,
     "metadata": {},
     "output_type": "execute_result"
    },
    {
     "data": {
      "text/plain": [
       "{'neg': 0.058, 'neu': 0.839, 'pos': 0.103, 'compound': 0.9724}"
      ]
     },
     "execution_count": 584,
     "metadata": {},
     "output_type": "execute_result"
    },
    {
     "data": {
      "text/plain": [
       "{'neg': 0.127, 'neu': 0.758, 'pos': 0.116, 'compound': -0.9349}"
      ]
     },
     "execution_count": 584,
     "metadata": {},
     "output_type": "execute_result"
    },
    {
     "data": {
      "text/plain": [
       "{'neg': 0.0, 'neu': 0.874, 'pos': 0.126, 'compound': 0.9806}"
      ]
     },
     "execution_count": 584,
     "metadata": {},
     "output_type": "execute_result"
    },
    {
     "data": {
      "text/plain": [
       "{'neg': 0.025, 'neu': 0.871, 'pos': 0.104, 'compound': 0.9853}"
      ]
     },
     "execution_count": 584,
     "metadata": {},
     "output_type": "execute_result"
    },
    {
     "data": {
      "text/plain": [
       "{'neg': 0.036, 'neu': 0.863, 'pos': 0.101, 'compound': 0.9699}"
      ]
     },
     "execution_count": 584,
     "metadata": {},
     "output_type": "execute_result"
    },
    {
     "data": {
      "text/plain": [
       "{'neg': 0.03, 'neu': 0.9, 'pos': 0.07, 'compound': 0.9118}"
      ]
     },
     "execution_count": 584,
     "metadata": {},
     "output_type": "execute_result"
    },
    {
     "data": {
      "text/plain": [
       "{'neg': 0.006, 'neu': 0.949, 'pos': 0.046, 'compound': 0.9538}"
      ]
     },
     "execution_count": 584,
     "metadata": {},
     "output_type": "execute_result"
    },
    {
     "data": {
      "text/plain": [
       "{'neg': 0.08, 'neu': 0.883, 'pos': 0.037, 'compound': -0.9371}"
      ]
     },
     "execution_count": 584,
     "metadata": {},
     "output_type": "execute_result"
    },
    {
     "data": {
      "text/plain": [
       "{'neg': 0.124, 'neu': 0.788, 'pos': 0.088, 'compound': -0.9635}"
      ]
     },
     "execution_count": 584,
     "metadata": {},
     "output_type": "execute_result"
    },
    {
     "data": {
      "text/plain": [
       "{'neg': 0.089, 'neu': 0.779, 'pos': 0.132, 'compound': 0.8519}"
      ]
     },
     "execution_count": 584,
     "metadata": {},
     "output_type": "execute_result"
    },
    {
     "data": {
      "text/plain": [
       "{'neg': 0.064, 'neu': 0.861, 'pos': 0.075, 'compound': 0.5423}"
      ]
     },
     "execution_count": 584,
     "metadata": {},
     "output_type": "execute_result"
    },
    {
     "data": {
      "text/plain": [
       "{'neg': 0.053, 'neu': 0.852, 'pos': 0.096, 'compound': 0.9643}"
      ]
     },
     "execution_count": 584,
     "metadata": {},
     "output_type": "execute_result"
    },
    {
     "data": {
      "text/plain": [
       "{'neg': 0.027, 'neu': 0.865, 'pos': 0.108, 'compound': 0.9831}"
      ]
     },
     "execution_count": 584,
     "metadata": {},
     "output_type": "execute_result"
    },
    {
     "data": {
      "text/plain": [
       "{'neg': 0.067, 'neu': 0.886, 'pos': 0.046, 'compound': -0.8662}"
      ]
     },
     "execution_count": 584,
     "metadata": {},
     "output_type": "execute_result"
    },
    {
     "data": {
      "text/plain": [
       "{'neg': 0.079, 'neu': 0.865, 'pos': 0.056, 'compound': -0.891}"
      ]
     },
     "execution_count": 584,
     "metadata": {},
     "output_type": "execute_result"
    },
    {
     "data": {
      "text/plain": [
       "{'neg': 0.043, 'neu': 0.824, 'pos': 0.133, 'compound': 0.9842}"
      ]
     },
     "execution_count": 584,
     "metadata": {},
     "output_type": "execute_result"
    },
    {
     "data": {
      "text/plain": [
       "{'neg': 0.058, 'neu': 0.867, 'pos': 0.075, 'compound': -0.15}"
      ]
     },
     "execution_count": 584,
     "metadata": {},
     "output_type": "execute_result"
    },
    {
     "data": {
      "text/plain": [
       "{'neg': 0.052, 'neu': 0.831, 'pos': 0.117, 'compound': 0.9818}"
      ]
     },
     "execution_count": 584,
     "metadata": {},
     "output_type": "execute_result"
    },
    {
     "data": {
      "text/plain": [
       "{'neg': 0.036, 'neu': 0.891, 'pos': 0.073, 'compound': 0.9601}"
      ]
     },
     "execution_count": 584,
     "metadata": {},
     "output_type": "execute_result"
    },
    {
     "data": {
      "text/plain": [
       "{'neg': 0.078, 'neu': 0.842, 'pos': 0.08, 'compound': 0.1779}"
      ]
     },
     "execution_count": 584,
     "metadata": {},
     "output_type": "execute_result"
    },
    {
     "data": {
      "text/plain": [
       "{'neg': 0.05, 'neu': 0.83, 'pos': 0.119, 'compound': 0.9909}"
      ]
     },
     "execution_count": 584,
     "metadata": {},
     "output_type": "execute_result"
    },
    {
     "data": {
      "text/plain": [
       "{'neg': 0.012, 'neu': 0.852, 'pos': 0.136, 'compound': 0.989}"
      ]
     },
     "execution_count": 584,
     "metadata": {},
     "output_type": "execute_result"
    },
    {
     "data": {
      "text/plain": [
       "{'neg': 0.084, 'neu': 0.841, 'pos': 0.075, 'compound': -0.6197}"
      ]
     },
     "execution_count": 584,
     "metadata": {},
     "output_type": "execute_result"
    },
    {
     "data": {
      "text/plain": [
       "{'neg': 0.099, 'neu': 0.822, 'pos': 0.08, 'compound': -0.6124}"
      ]
     },
     "execution_count": 584,
     "metadata": {},
     "output_type": "execute_result"
    },
    {
     "data": {
      "text/plain": [
       "{'neg': 0.083, 'neu': 0.866, 'pos': 0.05, 'compound': -0.9235}"
      ]
     },
     "execution_count": 584,
     "metadata": {},
     "output_type": "execute_result"
    },
    {
     "data": {
      "text/plain": [
       "{'neg': 0.048, 'neu': 0.885, 'pos': 0.067, 'compound': 0.886}"
      ]
     },
     "execution_count": 584,
     "metadata": {},
     "output_type": "execute_result"
    },
    {
     "data": {
      "text/plain": [
       "{'neg': 0.047, 'neu': 0.888, 'pos': 0.065, 'compound': 0.9042}"
      ]
     },
     "execution_count": 584,
     "metadata": {},
     "output_type": "execute_result"
    },
    {
     "data": {
      "text/plain": [
       "{'neg': 0.035, 'neu': 0.831, 'pos': 0.134, 'compound': 0.988}"
      ]
     },
     "execution_count": 584,
     "metadata": {},
     "output_type": "execute_result"
    },
    {
     "data": {
      "text/plain": [
       "{'neg': 0.049, 'neu': 0.912, 'pos': 0.039, 'compound': -0.5106}"
      ]
     },
     "execution_count": 584,
     "metadata": {},
     "output_type": "execute_result"
    },
    {
     "data": {
      "text/plain": [
       "{'neg': 0.057, 'neu': 0.905, 'pos': 0.038, 'compound': -0.8735}"
      ]
     },
     "execution_count": 584,
     "metadata": {},
     "output_type": "execute_result"
    },
    {
     "data": {
      "text/plain": [
       "{'neg': 0.044, 'neu': 0.902, 'pos': 0.055, 'compound': 0.4981}"
      ]
     },
     "execution_count": 584,
     "metadata": {},
     "output_type": "execute_result"
    },
    {
     "data": {
      "text/plain": [
       "{'neg': 0.066, 'neu': 0.875, 'pos': 0.059, 'compound': -0.5423}"
      ]
     },
     "execution_count": 584,
     "metadata": {},
     "output_type": "execute_result"
    },
    {
     "data": {
      "text/plain": [
       "{'neg': 0.053, 'neu': 0.889, 'pos': 0.059, 'compound': 0.1485}"
      ]
     },
     "execution_count": 584,
     "metadata": {},
     "output_type": "execute_result"
    },
    {
     "data": {
      "text/plain": [
       "{'neg': 0.078, 'neu': 0.852, 'pos': 0.07, 'compound': -0.5608}"
      ]
     },
     "execution_count": 584,
     "metadata": {},
     "output_type": "execute_result"
    },
    {
     "data": {
      "text/plain": [
       "{'neg': 0.08, 'neu': 0.869, 'pos': 0.051, 'compound': -0.891}"
      ]
     },
     "execution_count": 584,
     "metadata": {},
     "output_type": "execute_result"
    },
    {
     "data": {
      "text/plain": [
       "{'neg': 0.076, 'neu': 0.843, 'pos': 0.081, 'compound': 0.09}"
      ]
     },
     "execution_count": 584,
     "metadata": {},
     "output_type": "execute_result"
    },
    {
     "data": {
      "text/plain": [
       "{'neg': 0.064, 'neu': 0.878, 'pos': 0.059, 'compound': -0.09}"
      ]
     },
     "execution_count": 584,
     "metadata": {},
     "output_type": "execute_result"
    },
    {
     "data": {
      "text/plain": [
       "{'neg': 0.121, 'neu': 0.79, 'pos': 0.09, 'compound': -0.8652}"
      ]
     },
     "execution_count": 584,
     "metadata": {},
     "output_type": "execute_result"
    },
    {
     "data": {
      "text/plain": [
       "{'neg': 0.014, 'neu': 0.82, 'pos': 0.166, 'compound': 0.9966}"
      ]
     },
     "execution_count": 584,
     "metadata": {},
     "output_type": "execute_result"
    },
    {
     "data": {
      "text/plain": [
       "{'neg': 0.022, 'neu': 0.856, 'pos': 0.122, 'compound': 0.9698}"
      ]
     },
     "execution_count": 584,
     "metadata": {},
     "output_type": "execute_result"
    },
    {
     "data": {
      "text/plain": [
       "{'neg': 0.06, 'neu': 0.857, 'pos': 0.083, 'compound': 0.9784}"
      ]
     },
     "execution_count": 584,
     "metadata": {},
     "output_type": "execute_result"
    },
    {
     "data": {
      "text/plain": [
       "{'neg': 0.054, 'neu': 0.851, 'pos': 0.095, 'compound': 0.9649}"
      ]
     },
     "execution_count": 584,
     "metadata": {},
     "output_type": "execute_result"
    },
    {
     "data": {
      "text/plain": [
       "{'neg': 0.054, 'neu': 0.866, 'pos': 0.079, 'compound': 0.8735}"
      ]
     },
     "execution_count": 584,
     "metadata": {},
     "output_type": "execute_result"
    },
    {
     "data": {
      "text/plain": [
       "{'neg': 0.09, 'neu': 0.832, 'pos': 0.077, 'compound': -0.7248}"
      ]
     },
     "execution_count": 584,
     "metadata": {},
     "output_type": "execute_result"
    },
    {
     "data": {
      "text/plain": [
       "{'neg': 0.09, 'neu': 0.852, 'pos': 0.057, 'compound': -0.9618}"
      ]
     },
     "execution_count": 584,
     "metadata": {},
     "output_type": "execute_result"
    },
    {
     "data": {
      "text/plain": [
       "{'neg': 0.095, 'neu': 0.814, 'pos': 0.091, 'compound': -0.0933}"
      ]
     },
     "execution_count": 584,
     "metadata": {},
     "output_type": "execute_result"
    },
    {
     "data": {
      "text/plain": [
       "{'neg': 0.139, 'neu': 0.826, 'pos': 0.034, 'compound': -0.9963}"
      ]
     },
     "execution_count": 584,
     "metadata": {},
     "output_type": "execute_result"
    },
    {
     "data": {
      "text/plain": [
       "{'neg': 0.086, 'neu': 0.863, 'pos': 0.052, 'compound': -0.9531}"
      ]
     },
     "execution_count": 584,
     "metadata": {},
     "output_type": "execute_result"
    },
    {
     "data": {
      "text/plain": [
       "{'neg': 0.0, 'neu': 0.844, 'pos': 0.156, 'compound': 0.9859}"
      ]
     },
     "execution_count": 584,
     "metadata": {},
     "output_type": "execute_result"
    },
    {
     "data": {
      "text/plain": [
       "{'neg': 0.074, 'neu': 0.918, 'pos': 0.008, 'compound': -0.9794}"
      ]
     },
     "execution_count": 584,
     "metadata": {},
     "output_type": "execute_result"
    },
    {
     "data": {
      "text/plain": [
       "{'neg': 0.051, 'neu': 0.872, 'pos': 0.077, 'compound': 0.9783}"
      ]
     },
     "execution_count": 584,
     "metadata": {},
     "output_type": "execute_result"
    },
    {
     "data": {
      "text/plain": [
       "{'neg': 0.121, 'neu': 0.816, 'pos': 0.062, 'compound': -0.9806}"
      ]
     },
     "execution_count": 584,
     "metadata": {},
     "output_type": "execute_result"
    },
    {
     "data": {
      "text/plain": [
       "{'neg': 0.073, 'neu': 0.884, 'pos': 0.043, 'compound': -0.9417}"
      ]
     },
     "execution_count": 584,
     "metadata": {},
     "output_type": "execute_result"
    },
    {
     "data": {
      "text/plain": [
       "{'neg': 0.172, 'neu': 0.714, 'pos': 0.114, 'compound': -0.9945}"
      ]
     },
     "execution_count": 584,
     "metadata": {},
     "output_type": "execute_result"
    },
    {
     "data": {
      "text/plain": [
       "{'neg': 0.09, 'neu': 0.851, 'pos': 0.059, 'compound': -0.884}"
      ]
     },
     "execution_count": 584,
     "metadata": {},
     "output_type": "execute_result"
    },
    {
     "data": {
      "text/plain": [
       "{'neg': 0.069, 'neu': 0.862, 'pos': 0.069, 'compound': 0.0}"
      ]
     },
     "execution_count": 584,
     "metadata": {},
     "output_type": "execute_result"
    },
    {
     "data": {
      "text/plain": [
       "{'neg': 0.095, 'neu': 0.841, 'pos': 0.064, 'compound': -0.9655}"
      ]
     },
     "execution_count": 584,
     "metadata": {},
     "output_type": "execute_result"
    },
    {
     "data": {
      "text/plain": [
       "{'neg': 0.205, 'neu': 0.708, 'pos': 0.088, 'compound': -0.9955}"
      ]
     },
     "execution_count": 584,
     "metadata": {},
     "output_type": "execute_result"
    },
    {
     "data": {
      "text/plain": [
       "{'neg': 0.058, 'neu': 0.839, 'pos': 0.103, 'compound': 0.9648}"
      ]
     },
     "execution_count": 584,
     "metadata": {},
     "output_type": "execute_result"
    },
    {
     "data": {
      "text/plain": [
       "{'neg': 0.105, 'neu': 0.781, 'pos': 0.115, 'compound': -0.4528}"
      ]
     },
     "execution_count": 584,
     "metadata": {},
     "output_type": "execute_result"
    },
    {
     "data": {
      "text/plain": [
       "{'neg': 0.141, 'neu': 0.768, 'pos': 0.092, 'compound': -0.9446}"
      ]
     },
     "execution_count": 584,
     "metadata": {},
     "output_type": "execute_result"
    },
    {
     "data": {
      "text/plain": [
       "{'neg': 0.109, 'neu': 0.824, 'pos': 0.066, 'compound': -0.8834}"
      ]
     },
     "execution_count": 584,
     "metadata": {},
     "output_type": "execute_result"
    },
    {
     "data": {
      "text/plain": [
       "{'neg': 0.09, 'neu': 0.828, 'pos': 0.081, 'compound': -0.5719}"
      ]
     },
     "execution_count": 584,
     "metadata": {},
     "output_type": "execute_result"
    },
    {
     "data": {
      "text/plain": [
       "{'neg': 0.178, 'neu': 0.752, 'pos': 0.07, 'compound': -0.9988}"
      ]
     },
     "execution_count": 584,
     "metadata": {},
     "output_type": "execute_result"
    },
    {
     "data": {
      "text/plain": [
       "{'neg': 0.158, 'neu': 0.781, 'pos': 0.061, 'compound': -0.984}"
      ]
     },
     "execution_count": 584,
     "metadata": {},
     "output_type": "execute_result"
    },
    {
     "data": {
      "text/plain": [
       "{'neg': 0.171, 'neu': 0.782, 'pos': 0.047, 'compound': -0.9942}"
      ]
     },
     "execution_count": 584,
     "metadata": {},
     "output_type": "execute_result"
    },
    {
     "data": {
      "text/plain": [
       "{'neg': 0.105, 'neu': 0.803, 'pos': 0.092, 'compound': -0.8141}"
      ]
     },
     "execution_count": 584,
     "metadata": {},
     "output_type": "execute_result"
    },
    {
     "data": {
      "text/plain": [
       "{'neg': 0.119, 'neu': 0.809, 'pos': 0.071, 'compound': -0.9776}"
      ]
     },
     "execution_count": 584,
     "metadata": {},
     "output_type": "execute_result"
    },
    {
     "data": {
      "text/plain": [
       "{'neg': 0.155, 'neu': 0.717, 'pos': 0.128, 'compound': -0.9591}"
      ]
     },
     "execution_count": 584,
     "metadata": {},
     "output_type": "execute_result"
    },
    {
     "data": {
      "text/plain": [
       "{'neg': 0.06, 'neu': 0.886, 'pos': 0.054, 'compound': -0.6858}"
      ]
     },
     "execution_count": 584,
     "metadata": {},
     "output_type": "execute_result"
    },
    {
     "data": {
      "text/plain": [
       "{'neg': 0.066, 'neu': 0.849, 'pos': 0.085, 'compound': 0.8689}"
      ]
     },
     "execution_count": 584,
     "metadata": {},
     "output_type": "execute_result"
    },
    {
     "data": {
      "text/plain": [
       "{'neg': 0.165, 'neu': 0.77, 'pos': 0.065, 'compound': -0.9921}"
      ]
     },
     "execution_count": 584,
     "metadata": {},
     "output_type": "execute_result"
    },
    {
     "data": {
      "text/plain": [
       "{'neg': 0.175, 'neu': 0.758, 'pos': 0.067, 'compound': -0.9905}"
      ]
     },
     "execution_count": 584,
     "metadata": {},
     "output_type": "execute_result"
    },
    {
     "data": {
      "text/plain": [
       "{'neg': 0.088, 'neu': 0.879, 'pos': 0.034, 'compound': -0.9726}"
      ]
     },
     "execution_count": 584,
     "metadata": {},
     "output_type": "execute_result"
    },
    {
     "data": {
      "text/plain": [
       "{'neg': 0.151, 'neu': 0.816, 'pos': 0.033, 'compound': -0.9948}"
      ]
     },
     "execution_count": 584,
     "metadata": {},
     "output_type": "execute_result"
    },
    {
     "data": {
      "text/plain": [
       "{'neg': 0.224, 'neu': 0.713, 'pos': 0.063, 'compound': -0.9981}"
      ]
     },
     "execution_count": 584,
     "metadata": {},
     "output_type": "execute_result"
    },
    {
     "data": {
      "text/plain": [
       "{'neg': 0.101, 'neu': 0.892, 'pos': 0.007, 'compound': -0.9565}"
      ]
     },
     "execution_count": 584,
     "metadata": {},
     "output_type": "execute_result"
    },
    {
     "data": {
      "text/plain": [
       "{'neg': 0.207, 'neu': 0.756, 'pos': 0.038, 'compound': -0.9865}"
      ]
     },
     "execution_count": 584,
     "metadata": {},
     "output_type": "execute_result"
    },
    {
     "data": {
      "text/plain": [
       "{'neg': 0.164, 'neu': 0.747, 'pos': 0.089, 'compound': -0.9826}"
      ]
     },
     "execution_count": 584,
     "metadata": {},
     "output_type": "execute_result"
    },
    {
     "data": {
      "text/plain": [
       "{'neg': 0.123, 'neu': 0.812, 'pos': 0.065, 'compound': -0.967}"
      ]
     },
     "execution_count": 584,
     "metadata": {},
     "output_type": "execute_result"
    },
    {
     "data": {
      "text/plain": [
       "{'neg': 0.176, 'neu': 0.749, 'pos': 0.076, 'compound': -0.9885}"
      ]
     },
     "execution_count": 584,
     "metadata": {},
     "output_type": "execute_result"
    },
    {
     "data": {
      "text/plain": [
       "{'neg': 0.17, 'neu': 0.773, 'pos': 0.057, 'compound': -0.9892}"
      ]
     },
     "execution_count": 584,
     "metadata": {},
     "output_type": "execute_result"
    },
    {
     "data": {
      "text/plain": [
       "{'neg': 0.097, 'neu': 0.825, 'pos': 0.078, 'compound': -0.8316}"
      ]
     },
     "execution_count": 584,
     "metadata": {},
     "output_type": "execute_result"
    },
    {
     "data": {
      "text/plain": [
       "{'neg': 0.127, 'neu': 0.824, 'pos': 0.048, 'compound': -0.99}"
      ]
     },
     "execution_count": 584,
     "metadata": {},
     "output_type": "execute_result"
    },
    {
     "data": {
      "text/plain": [
       "{'neg': 0.185, 'neu': 0.707, 'pos': 0.109, 'compound': -0.9769}"
      ]
     },
     "execution_count": 584,
     "metadata": {},
     "output_type": "execute_result"
    },
    {
     "data": {
      "text/plain": [
       "{'neg': 0.147, 'neu': 0.786, 'pos': 0.067, 'compound': -0.9779}"
      ]
     },
     "execution_count": 584,
     "metadata": {},
     "output_type": "execute_result"
    },
    {
     "data": {
      "text/plain": [
       "{'neg': 0.185, 'neu': 0.759, 'pos': 0.056, 'compound': -0.9744}"
      ]
     },
     "execution_count": 584,
     "metadata": {},
     "output_type": "execute_result"
    },
    {
     "data": {
      "text/plain": [
       "{'neg': 0.155, 'neu': 0.782, 'pos': 0.063, 'compound': -0.9929}"
      ]
     },
     "execution_count": 584,
     "metadata": {},
     "output_type": "execute_result"
    },
    {
     "data": {
      "text/plain": [
       "{'neg': 0.14, 'neu': 0.801, 'pos': 0.059, 'compound': -0.9705}"
      ]
     },
     "execution_count": 584,
     "metadata": {},
     "output_type": "execute_result"
    },
    {
     "data": {
      "text/plain": [
       "{'neg': 0.166, 'neu': 0.776, 'pos': 0.058, 'compound': -0.9889}"
      ]
     },
     "execution_count": 584,
     "metadata": {},
     "output_type": "execute_result"
    },
    {
     "data": {
      "text/plain": [
       "{'neg': 0.102, 'neu': 0.806, 'pos': 0.091, 'compound': -0.7096}"
      ]
     },
     "execution_count": 584,
     "metadata": {},
     "output_type": "execute_result"
    },
    {
     "data": {
      "text/plain": [
       "{'neg': 0.176, 'neu': 0.767, 'pos': 0.058, 'compound': -0.9956}"
      ]
     },
     "execution_count": 584,
     "metadata": {},
     "output_type": "execute_result"
    },
    {
     "data": {
      "text/plain": [
       "{'neg': 0.135, 'neu': 0.816, 'pos': 0.05, 'compound': -0.989}"
      ]
     },
     "execution_count": 584,
     "metadata": {},
     "output_type": "execute_result"
    },
    {
     "data": {
      "text/plain": [
       "{'neg': 0.129, 'neu': 0.828, 'pos': 0.043, 'compound': -0.9811}"
      ]
     },
     "execution_count": 584,
     "metadata": {},
     "output_type": "execute_result"
    },
    {
     "data": {
      "text/plain": [
       "{'neg': 0.187, 'neu': 0.739, 'pos': 0.074, 'compound': -0.9902}"
      ]
     },
     "execution_count": 584,
     "metadata": {},
     "output_type": "execute_result"
    },
    {
     "data": {
      "text/plain": [
       "{'neg': 0.188, 'neu': 0.764, 'pos': 0.047, 'compound': -0.9709}"
      ]
     },
     "execution_count": 584,
     "metadata": {},
     "output_type": "execute_result"
    },
    {
     "data": {
      "text/plain": [
       "{'neg': 0.165, 'neu': 0.764, 'pos': 0.071, 'compound': -0.9819}"
      ]
     },
     "execution_count": 584,
     "metadata": {},
     "output_type": "execute_result"
    },
    {
     "data": {
      "text/plain": [
       "{'neg': 0.146, 'neu': 0.775, 'pos': 0.079, 'compound': -0.9941}"
      ]
     },
     "execution_count": 584,
     "metadata": {},
     "output_type": "execute_result"
    },
    {
     "data": {
      "text/plain": [
       "{'neg': 0.203, 'neu': 0.708, 'pos': 0.089, 'compound': -0.9985}"
      ]
     },
     "execution_count": 584,
     "metadata": {},
     "output_type": "execute_result"
    },
    {
     "data": {
      "text/plain": [
       "{'neg': 0.185, 'neu': 0.787, 'pos': 0.027, 'compound': -0.991}"
      ]
     },
     "execution_count": 584,
     "metadata": {},
     "output_type": "execute_result"
    },
    {
     "data": {
      "text/plain": [
       "{'neg': 0.091, 'neu': 0.846, 'pos': 0.063, 'compound': -0.836}"
      ]
     },
     "execution_count": 584,
     "metadata": {},
     "output_type": "execute_result"
    },
    {
     "data": {
      "text/plain": [
       "{'neg': 0.069, 'neu': 0.826, 'pos': 0.104, 'compound': 0.8442}"
      ]
     },
     "execution_count": 584,
     "metadata": {},
     "output_type": "execute_result"
    },
    {
     "data": {
      "text/plain": [
       "{'neg': 0.194, 'neu': 0.72, 'pos': 0.086, 'compound': -0.9892}"
      ]
     },
     "execution_count": 584,
     "metadata": {},
     "output_type": "execute_result"
    },
    {
     "data": {
      "text/plain": [
       "{'neg': 0.146, 'neu': 0.783, 'pos': 0.071, 'compound': -0.9538}"
      ]
     },
     "execution_count": 584,
     "metadata": {},
     "output_type": "execute_result"
    },
    {
     "data": {
      "text/plain": [
       "{'neg': 0.164, 'neu': 0.724, 'pos': 0.112, 'compound': -0.9441}"
      ]
     },
     "execution_count": 584,
     "metadata": {},
     "output_type": "execute_result"
    },
    {
     "data": {
      "text/plain": [
       "{'neg': 0.097, 'neu': 0.813, 'pos': 0.091, 'compound': -0.6597}"
      ]
     },
     "execution_count": 584,
     "metadata": {},
     "output_type": "execute_result"
    },
    {
     "data": {
      "text/plain": [
       "{'neg': 0.093, 'neu': 0.83, 'pos': 0.077, 'compound': -0.5719}"
      ]
     },
     "execution_count": 584,
     "metadata": {},
     "output_type": "execute_result"
    },
    {
     "data": {
      "text/plain": [
       "{'neg': 0.124, 'neu': 0.792, 'pos': 0.084, 'compound': -0.9169}"
      ]
     },
     "execution_count": 584,
     "metadata": {},
     "output_type": "execute_result"
    },
    {
     "data": {
      "text/plain": [
       "{'neg': 0.116, 'neu': 0.781, 'pos': 0.103, 'compound': -0.7506}"
      ]
     },
     "execution_count": 584,
     "metadata": {},
     "output_type": "execute_result"
    },
    {
     "data": {
      "text/plain": [
       "{'neg': 0.11, 'neu': 0.883, 'pos': 0.008, 'compound': -0.9451}"
      ]
     },
     "execution_count": 584,
     "metadata": {},
     "output_type": "execute_result"
    },
    {
     "data": {
      "text/plain": [
       "{'neg': 0.123, 'neu': 0.797, 'pos': 0.08, 'compound': -0.8481}"
      ]
     },
     "execution_count": 584,
     "metadata": {},
     "output_type": "execute_result"
    },
    {
     "data": {
      "text/plain": [
       "{'neg': 0.142, 'neu': 0.758, 'pos': 0.1, 'compound': -0.9155}"
      ]
     },
     "execution_count": 584,
     "metadata": {},
     "output_type": "execute_result"
    },
    {
     "data": {
      "text/plain": [
       "{'neg': 0.112, 'neu': 0.824, 'pos': 0.064, 'compound': -0.9042}"
      ]
     },
     "execution_count": 584,
     "metadata": {},
     "output_type": "execute_result"
    },
    {
     "data": {
      "text/plain": [
       "{'neg': 0.118, 'neu': 0.798, 'pos': 0.084, 'compound': -0.8225}"
      ]
     },
     "execution_count": 584,
     "metadata": {},
     "output_type": "execute_result"
    },
    {
     "data": {
      "text/plain": [
       "{'neg': 0.096, 'neu': 0.817, 'pos': 0.088, 'compound': -0.5569}"
      ]
     },
     "execution_count": 584,
     "metadata": {},
     "output_type": "execute_result"
    },
    {
     "data": {
      "text/plain": [
       "{'neg': 0.088, 'neu': 0.826, 'pos': 0.086, 'compound': -0.1531}"
      ]
     },
     "execution_count": 584,
     "metadata": {},
     "output_type": "execute_result"
    },
    {
     "data": {
      "text/plain": [
       "{'neg': 0.142, 'neu': 0.774, 'pos': 0.084, 'compound': -0.9939}"
      ]
     },
     "execution_count": 584,
     "metadata": {},
     "output_type": "execute_result"
    },
    {
     "data": {
      "text/plain": [
       "{'neg': 0.186, 'neu': 0.739, 'pos': 0.075, 'compound': -0.9836}"
      ]
     },
     "execution_count": 584,
     "metadata": {},
     "output_type": "execute_result"
    },
    {
     "data": {
      "text/plain": [
       "{'neg': 0.097, 'neu': 0.796, 'pos': 0.107, 'compound': -0.1245}"
      ]
     },
     "execution_count": 584,
     "metadata": {},
     "output_type": "execute_result"
    },
    {
     "data": {
      "text/plain": [
       "{'neg': 0.095, 'neu': 0.797, 'pos': 0.108, 'compound': -0.0415}"
      ]
     },
     "execution_count": 584,
     "metadata": {},
     "output_type": "execute_result"
    },
    {
     "data": {
      "text/plain": [
       "{'neg': 0.104, 'neu': 0.825, 'pos': 0.072, 'compound': -0.9287}"
      ]
     },
     "execution_count": 584,
     "metadata": {},
     "output_type": "execute_result"
    },
    {
     "data": {
      "text/plain": [
       "{'neg': 0.098, 'neu': 0.801, 'pos': 0.101, 'compound': -0.5083}"
      ]
     },
     "execution_count": 584,
     "metadata": {},
     "output_type": "execute_result"
    },
    {
     "data": {
      "text/plain": [
       "{'neg': 0.093, 'neu': 0.804, 'pos': 0.103, 'compound': 0.0294}"
      ]
     },
     "execution_count": 584,
     "metadata": {},
     "output_type": "execute_result"
    },
    {
     "data": {
      "text/plain": [
       "{'neg': 0.122, 'neu': 0.797, 'pos': 0.081, 'compound': -0.9565}"
      ]
     },
     "execution_count": 584,
     "metadata": {},
     "output_type": "execute_result"
    },
    {
     "data": {
      "text/plain": [
       "{'neg': 0.215, 'neu': 0.751, 'pos': 0.034, 'compound': -0.9887}"
      ]
     },
     "execution_count": 584,
     "metadata": {},
     "output_type": "execute_result"
    },
    {
     "data": {
      "text/plain": [
       "{'neg': 0.144, 'neu': 0.771, 'pos': 0.084, 'compound': -0.9942}"
      ]
     },
     "execution_count": 584,
     "metadata": {},
     "output_type": "execute_result"
    },
    {
     "data": {
      "text/plain": [
       "{'neg': 0.133, 'neu': 0.788, 'pos': 0.079, 'compound': -0.9819}"
      ]
     },
     "execution_count": 584,
     "metadata": {},
     "output_type": "execute_result"
    },
    {
     "data": {
      "text/plain": [
       "{'neg': 0.132, 'neu': 0.792, 'pos': 0.076, 'compound': -0.9859}"
      ]
     },
     "execution_count": 584,
     "metadata": {},
     "output_type": "execute_result"
    },
    {
     "data": {
      "text/plain": [
       "{'neg': 0.124, 'neu': 0.752, 'pos': 0.124, 'compound': -0.4404}"
      ]
     },
     "execution_count": 584,
     "metadata": {},
     "output_type": "execute_result"
    },
    {
     "data": {
      "text/plain": [
       "{'neg': 0.043, 'neu': 0.783, 'pos': 0.174, 'compound': 0.9945}"
      ]
     },
     "execution_count": 584,
     "metadata": {},
     "output_type": "execute_result"
    },
    {
     "data": {
      "text/plain": [
       "{'neg': 0.208, 'neu': 0.718, 'pos': 0.074, 'compound': -0.9884}"
      ]
     },
     "execution_count": 584,
     "metadata": {},
     "output_type": "execute_result"
    },
    {
     "data": {
      "text/plain": [
       "{'neg': 0.09, 'neu': 0.842, 'pos': 0.068, 'compound': -0.802}"
      ]
     },
     "execution_count": 584,
     "metadata": {},
     "output_type": "execute_result"
    },
    {
     "data": {
      "text/plain": [
       "{'neg': 0.125, 'neu': 0.783, 'pos': 0.091, 'compound': -0.872}"
      ]
     },
     "execution_count": 584,
     "metadata": {},
     "output_type": "execute_result"
    },
    {
     "data": {
      "text/plain": [
       "{'neg': 0.15, 'neu': 0.767, 'pos': 0.083, 'compound': -0.9726}"
      ]
     },
     "execution_count": 584,
     "metadata": {},
     "output_type": "execute_result"
    },
    {
     "data": {
      "text/plain": [
       "{'neg': 0.176, 'neu': 0.711, 'pos': 0.113, 'compound': -0.9846}"
      ]
     },
     "execution_count": 584,
     "metadata": {},
     "output_type": "execute_result"
    },
    {
     "data": {
      "text/plain": [
       "{'neg': 0.142, 'neu': 0.748, 'pos': 0.111, 'compound': -0.8979}"
      ]
     },
     "execution_count": 584,
     "metadata": {},
     "output_type": "execute_result"
    },
    {
     "data": {
      "text/plain": [
       "{'neg': 0.095, 'neu': 0.835, 'pos': 0.07, 'compound': -0.8816}"
      ]
     },
     "execution_count": 584,
     "metadata": {},
     "output_type": "execute_result"
    },
    {
     "data": {
      "text/plain": [
       "{'neg': 0.185, 'neu': 0.751, 'pos': 0.063, 'compound': -0.992}"
      ]
     },
     "execution_count": 584,
     "metadata": {},
     "output_type": "execute_result"
    },
    {
     "data": {
      "text/plain": [
       "{'neg': 0.152, 'neu': 0.782, 'pos': 0.066, 'compound': -0.9727}"
      ]
     },
     "execution_count": 584,
     "metadata": {},
     "output_type": "execute_result"
    },
    {
     "data": {
      "text/plain": [
       "{'neg': 0.196, 'neu': 0.715, 'pos': 0.089, 'compound': -0.9939}"
      ]
     },
     "execution_count": 584,
     "metadata": {},
     "output_type": "execute_result"
    },
    {
     "data": {
      "text/plain": [
       "{'neg': 0.184, 'neu': 0.763, 'pos': 0.054, 'compound': -0.9945}"
      ]
     },
     "execution_count": 584,
     "metadata": {},
     "output_type": "execute_result"
    },
    {
     "data": {
      "text/plain": [
       "{'neg': 0.203, 'neu': 0.724, 'pos': 0.073, 'compound': -0.9929}"
      ]
     },
     "execution_count": 584,
     "metadata": {},
     "output_type": "execute_result"
    },
    {
     "data": {
      "text/plain": [
       "{'neg': 0.042, 'neu': 0.897, 'pos': 0.062, 'compound': 0.886}"
      ]
     },
     "execution_count": 584,
     "metadata": {},
     "output_type": "execute_result"
    },
    {
     "data": {
      "text/plain": [
       "{'neg': 0.161, 'neu': 0.794, 'pos': 0.044, 'compound': -0.9758}"
      ]
     },
     "execution_count": 584,
     "metadata": {},
     "output_type": "execute_result"
    },
    {
     "data": {
      "text/plain": [
       "{'neg': 0.198, 'neu': 0.747, 'pos': 0.056, 'compound': -0.9984}"
      ]
     },
     "execution_count": 584,
     "metadata": {},
     "output_type": "execute_result"
    },
    {
     "data": {
      "text/plain": [
       "{'neg': 0.204, 'neu': 0.741, 'pos': 0.055, 'compound': -0.9989}"
      ]
     },
     "execution_count": 584,
     "metadata": {},
     "output_type": "execute_result"
    },
    {
     "data": {
      "text/plain": [
       "{'neg': 0.156, 'neu': 0.754, 'pos': 0.089, 'compound': -0.9822}"
      ]
     },
     "execution_count": 584,
     "metadata": {},
     "output_type": "execute_result"
    },
    {
     "data": {
      "text/plain": [
       "{'neg': 0.198, 'neu': 0.738, 'pos': 0.064, 'compound': -0.9966}"
      ]
     },
     "execution_count": 584,
     "metadata": {},
     "output_type": "execute_result"
    },
    {
     "data": {
      "text/plain": [
       "{'neg': 0.17, 'neu': 0.757, 'pos': 0.072, 'compound': -0.9881}"
      ]
     },
     "execution_count": 584,
     "metadata": {},
     "output_type": "execute_result"
    },
    {
     "data": {
      "text/plain": [
       "{'neg': 0.18, 'neu': 0.723, 'pos': 0.098, 'compound': -0.9931}"
      ]
     },
     "execution_count": 584,
     "metadata": {},
     "output_type": "execute_result"
    },
    {
     "data": {
      "text/plain": [
       "{'neg': 0.155, 'neu': 0.737, 'pos': 0.108, 'compound': -0.983}"
      ]
     },
     "execution_count": 584,
     "metadata": {},
     "output_type": "execute_result"
    },
    {
     "data": {
      "text/plain": [
       "{'neg': 0.155, 'neu': 0.778, 'pos': 0.066, 'compound': -0.9905}"
      ]
     },
     "execution_count": 584,
     "metadata": {},
     "output_type": "execute_result"
    },
    {
     "data": {
      "text/plain": [
       "{'neg': 0.194, 'neu': 0.717, 'pos': 0.089, 'compound': -0.9934}"
      ]
     },
     "execution_count": 584,
     "metadata": {},
     "output_type": "execute_result"
    },
    {
     "data": {
      "text/plain": [
       "{'neg': 0.174, 'neu': 0.739, 'pos': 0.087, 'compound': -0.9902}"
      ]
     },
     "execution_count": 584,
     "metadata": {},
     "output_type": "execute_result"
    },
    {
     "data": {
      "text/plain": [
       "{'neg': 0.113, 'neu': 0.801, 'pos': 0.086, 'compound': -0.8834}"
      ]
     },
     "execution_count": 584,
     "metadata": {},
     "output_type": "execute_result"
    },
    {
     "data": {
      "text/plain": [
       "{'neg': 0.114, 'neu': 0.837, 'pos': 0.049, 'compound': -0.9595}"
      ]
     },
     "execution_count": 584,
     "metadata": {},
     "output_type": "execute_result"
    },
    {
     "data": {
      "text/plain": [
       "{'neg': 0.135, 'neu': 0.808, 'pos': 0.056, 'compound': -0.9719}"
      ]
     },
     "execution_count": 584,
     "metadata": {},
     "output_type": "execute_result"
    },
    {
     "data": {
      "text/plain": [
       "{'neg': 0.095, 'neu': 0.894, 'pos': 0.01, 'compound': -0.946}"
      ]
     },
     "execution_count": 584,
     "metadata": {},
     "output_type": "execute_result"
    },
    {
     "data": {
      "text/plain": [
       "{'neg': 0.12, 'neu': 0.819, 'pos': 0.061, 'compound': -0.9468}"
      ]
     },
     "execution_count": 584,
     "metadata": {},
     "output_type": "execute_result"
    },
    {
     "data": {
      "text/plain": [
       "{'neg': 0.124, 'neu': 0.817, 'pos': 0.059, 'compound': -0.9607}"
      ]
     },
     "execution_count": 584,
     "metadata": {},
     "output_type": "execute_result"
    },
    {
     "data": {
      "text/plain": [
       "{'neg': 0.09, 'neu': 0.852, 'pos': 0.058, 'compound': -0.7906}"
      ]
     },
     "execution_count": 584,
     "metadata": {},
     "output_type": "execute_result"
    },
    {
     "data": {
      "text/plain": [
       "{'neg': 0.129, 'neu': 0.812, 'pos': 0.059, 'compound': -0.9538}"
      ]
     },
     "execution_count": 584,
     "metadata": {},
     "output_type": "execute_result"
    },
    {
     "data": {
      "text/plain": [
       "{'neg': 0.117, 'neu': 0.809, 'pos': 0.074, 'compound': -0.8658}"
      ]
     },
     "execution_count": 584,
     "metadata": {},
     "output_type": "execute_result"
    },
    {
     "data": {
      "text/plain": [
       "{'neg': 0.11, 'neu': 0.813, 'pos': 0.076, 'compound': -0.8658}"
      ]
     },
     "execution_count": 584,
     "metadata": {},
     "output_type": "execute_result"
    },
    {
     "data": {
      "text/plain": [
       "{'neg': 0.163, 'neu': 0.777, 'pos': 0.06, 'compound': -0.9824}"
      ]
     },
     "execution_count": 584,
     "metadata": {},
     "output_type": "execute_result"
    },
    {
     "data": {
      "text/plain": [
       "{'neg': 0.186, 'neu': 0.769, 'pos': 0.045, 'compound': -0.9957}"
      ]
     },
     "execution_count": 584,
     "metadata": {},
     "output_type": "execute_result"
    },
    {
     "data": {
      "text/plain": [
       "{'neg': 0.149, 'neu': 0.776, 'pos': 0.075, 'compound': -0.9919}"
      ]
     },
     "execution_count": 584,
     "metadata": {},
     "output_type": "execute_result"
    },
    {
     "data": {
      "text/plain": [
       "{'neg': 0.191, 'neu': 0.733, 'pos': 0.075, 'compound': -0.9979}"
      ]
     },
     "execution_count": 584,
     "metadata": {},
     "output_type": "execute_result"
    },
    {
     "data": {
      "text/plain": [
       "{'neg': 0.175, 'neu': 0.734, 'pos': 0.091, 'compound': -0.9973}"
      ]
     },
     "execution_count": 584,
     "metadata": {},
     "output_type": "execute_result"
    },
    {
     "data": {
      "text/plain": [
       "{'neg': 0.216, 'neu': 0.741, 'pos': 0.043, 'compound': -0.9932}"
      ]
     },
     "execution_count": 584,
     "metadata": {},
     "output_type": "execute_result"
    },
    {
     "data": {
      "text/plain": [
       "{'neg': 0.164, 'neu': 0.803, 'pos': 0.034, 'compound': -0.9941}"
      ]
     },
     "execution_count": 584,
     "metadata": {},
     "output_type": "execute_result"
    },
    {
     "data": {
      "text/plain": [
       "{'neg': 0.154, 'neu': 0.759, 'pos': 0.087, 'compound': -0.978}"
      ]
     },
     "execution_count": 584,
     "metadata": {},
     "output_type": "execute_result"
    },
    {
     "data": {
      "text/plain": [
       "{'neg': 0.13, 'neu': 0.797, 'pos': 0.073, 'compound': -0.9432}"
      ]
     },
     "execution_count": 584,
     "metadata": {},
     "output_type": "execute_result"
    },
    {
     "data": {
      "text/plain": [
       "{'neg': 0.185, 'neu': 0.755, 'pos': 0.06, 'compound': -0.9766}"
      ]
     },
     "execution_count": 584,
     "metadata": {},
     "output_type": "execute_result"
    },
    {
     "data": {
      "text/plain": [
       "{'neg': 0.144, 'neu': 0.789, 'pos': 0.067, 'compound': -0.8225}"
      ]
     },
     "execution_count": 584,
     "metadata": {},
     "output_type": "execute_result"
    },
    {
     "data": {
      "text/plain": [
       "{'neg': 0.175, 'neu': 0.754, 'pos': 0.071, 'compound': -0.9834}"
      ]
     },
     "execution_count": 584,
     "metadata": {},
     "output_type": "execute_result"
    },
    {
     "data": {
      "text/plain": [
       "{'neg': 0.078, 'neu': 0.874, 'pos': 0.048, 'compound': -0.8809}"
      ]
     },
     "execution_count": 584,
     "metadata": {},
     "output_type": "execute_result"
    },
    {
     "data": {
      "text/plain": [
       "{'neg': 0.176, 'neu': 0.757, 'pos': 0.068, 'compound': -0.9855}"
      ]
     },
     "execution_count": 584,
     "metadata": {},
     "output_type": "execute_result"
    },
    {
     "data": {
      "text/plain": [
       "{'neg': 0.13, 'neu': 0.784, 'pos': 0.087, 'compound': -0.9832}"
      ]
     },
     "execution_count": 584,
     "metadata": {},
     "output_type": "execute_result"
    },
    {
     "data": {
      "text/plain": [
       "{'neg': 0.109, 'neu': 0.785, 'pos': 0.106, 'compound': -0.3852}"
      ]
     },
     "execution_count": 584,
     "metadata": {},
     "output_type": "execute_result"
    },
    {
     "data": {
      "text/plain": [
       "{'neg': 0.16, 'neu': 0.784, 'pos': 0.056, 'compound': -0.9902}"
      ]
     },
     "execution_count": 584,
     "metadata": {},
     "output_type": "execute_result"
    },
    {
     "data": {
      "text/plain": [
       "{'neg': 0.156, 'neu': 0.734, 'pos': 0.11, 'compound': -0.953}"
      ]
     },
     "execution_count": 584,
     "metadata": {},
     "output_type": "execute_result"
    },
    {
     "data": {
      "text/plain": [
       "{'neg': 0.145, 'neu': 0.782, 'pos': 0.074, 'compound': -0.9973}"
      ]
     },
     "execution_count": 584,
     "metadata": {},
     "output_type": "execute_result"
    },
    {
     "data": {
      "text/plain": [
       "{'neg': 0.114, 'neu': 0.82, 'pos': 0.066, 'compound': -0.9442}"
      ]
     },
     "execution_count": 584,
     "metadata": {},
     "output_type": "execute_result"
    },
    {
     "data": {
      "text/plain": [
       "{'neg': 0.12, 'neu': 0.842, 'pos': 0.037, 'compound': -0.9833}"
      ]
     },
     "execution_count": 584,
     "metadata": {},
     "output_type": "execute_result"
    },
    {
     "data": {
      "text/plain": [
       "{'neg': 0.127, 'neu': 0.8, 'pos': 0.073, 'compound': -0.9354}"
      ]
     },
     "execution_count": 584,
     "metadata": {},
     "output_type": "execute_result"
    },
    {
     "data": {
      "text/plain": [
       "{'neg': 0.091, 'neu': 0.822, 'pos': 0.087, 'compound': -0.1335}"
      ]
     },
     "execution_count": 584,
     "metadata": {},
     "output_type": "execute_result"
    },
    {
     "data": {
      "text/plain": [
       "{'neg': 0.151, 'neu': 0.705, 'pos': 0.144, 'compound': -0.5753}"
      ]
     },
     "execution_count": 584,
     "metadata": {},
     "output_type": "execute_result"
    },
    {
     "data": {
      "text/plain": [
       "{'neg': 0.181, 'neu': 0.76, 'pos': 0.058, 'compound': -0.9905}"
      ]
     },
     "execution_count": 584,
     "metadata": {},
     "output_type": "execute_result"
    },
    {
     "data": {
      "text/plain": [
       "{'neg': 0.142, 'neu': 0.768, 'pos': 0.09, 'compound': -0.9907}"
      ]
     },
     "execution_count": 584,
     "metadata": {},
     "output_type": "execute_result"
    },
    {
     "data": {
      "text/plain": [
       "{'neg': 0.114, 'neu': 0.816, 'pos': 0.07, 'compound': -0.9042}"
      ]
     },
     "execution_count": 584,
     "metadata": {},
     "output_type": "execute_result"
    },
    {
     "data": {
      "text/plain": [
       "{'neg': 0.099, 'neu': 0.834, 'pos': 0.067, 'compound': -0.8519}"
      ]
     },
     "execution_count": 584,
     "metadata": {},
     "output_type": "execute_result"
    },
    {
     "data": {
      "text/plain": [
       "{'neg': 0.159, 'neu': 0.761, 'pos': 0.08, 'compound': -0.9923}"
      ]
     },
     "execution_count": 584,
     "metadata": {},
     "output_type": "execute_result"
    },
    {
     "data": {
      "text/plain": [
       "{'neg': 0.152, 'neu': 0.779, 'pos': 0.069, 'compound': -0.9843}"
      ]
     },
     "execution_count": 584,
     "metadata": {},
     "output_type": "execute_result"
    },
    {
     "data": {
      "text/plain": [
       "{'neg': 0.131, 'neu': 0.79, 'pos': 0.079, 'compound': -0.9231}"
      ]
     },
     "execution_count": 584,
     "metadata": {},
     "output_type": "execute_result"
    },
    {
     "data": {
      "text/plain": [
       "{'neg': 0.105, 'neu': 0.792, 'pos': 0.103, 'compound': -0.3612}"
      ]
     },
     "execution_count": 584,
     "metadata": {},
     "output_type": "execute_result"
    },
    {
     "data": {
      "text/plain": [
       "{'neg': 0.172, 'neu': 0.758, 'pos': 0.07, 'compound': -0.9468}"
      ]
     },
     "execution_count": 584,
     "metadata": {},
     "output_type": "execute_result"
    },
    {
     "data": {
      "text/plain": [
       "{'neg': 0.134, 'neu': 0.824, 'pos': 0.042, 'compound': -0.9876}"
      ]
     },
     "execution_count": 584,
     "metadata": {},
     "output_type": "execute_result"
    },
    {
     "data": {
      "text/plain": [
       "{'neg': 0.154, 'neu': 0.81, 'pos': 0.036, 'compound': -0.9924}"
      ]
     },
     "execution_count": 584,
     "metadata": {},
     "output_type": "execute_result"
    },
    {
     "data": {
      "text/plain": [
       "{'neg': 0.083, 'neu': 0.821, 'pos': 0.096, 'compound': 0.2732}"
      ]
     },
     "execution_count": 584,
     "metadata": {},
     "output_type": "execute_result"
    },
    {
     "data": {
      "text/plain": [
       "{'neg': 0.109, 'neu': 0.798, 'pos': 0.093, 'compound': -0.8555}"
      ]
     },
     "execution_count": 584,
     "metadata": {},
     "output_type": "execute_result"
    },
    {
     "data": {
      "text/plain": [
       "{'neg': 0.124, 'neu': 0.835, 'pos': 0.041, 'compound': -0.9866}"
      ]
     },
     "execution_count": 584,
     "metadata": {},
     "output_type": "execute_result"
    },
    {
     "data": {
      "text/plain": [
       "{'neg': 0.115, 'neu': 0.834, 'pos': 0.051, 'compound': -0.9803}"
      ]
     },
     "execution_count": 584,
     "metadata": {},
     "output_type": "execute_result"
    },
    {
     "data": {
      "text/plain": [
       "{'neg': 0.229, 'neu': 0.737, 'pos': 0.033, 'compound': -0.9924}"
      ]
     },
     "execution_count": 584,
     "metadata": {},
     "output_type": "execute_result"
    },
    {
     "data": {
      "text/plain": [
       "{'neg': 0.195, 'neu': 0.781, 'pos': 0.025, 'compound': -0.9935}"
      ]
     },
     "execution_count": 584,
     "metadata": {},
     "output_type": "execute_result"
    },
    {
     "data": {
      "text/plain": [
       "{'neg': 0.16, 'neu': 0.77, 'pos': 0.07, 'compound': -0.9788}"
      ]
     },
     "execution_count": 584,
     "metadata": {},
     "output_type": "execute_result"
    },
    {
     "data": {
      "text/plain": [
       "{'neg': 0.13, 'neu': 0.817, 'pos': 0.053, 'compound': -0.9883}"
      ]
     },
     "execution_count": 584,
     "metadata": {},
     "output_type": "execute_result"
    },
    {
     "data": {
      "text/plain": [
       "{'neg': 0.0, 'neu': 0.955, 'pos': 0.045, 'compound': 0.8481}"
      ]
     },
     "execution_count": 584,
     "metadata": {},
     "output_type": "execute_result"
    },
    {
     "data": {
      "text/plain": [
       "{'neg': 0.095, 'neu': 0.835, 'pos': 0.07, 'compound': -0.9274}"
      ]
     },
     "execution_count": 584,
     "metadata": {},
     "output_type": "execute_result"
    },
    {
     "data": {
      "text/plain": [
       "{'neg': 0.099, 'neu': 0.826, 'pos': 0.075, 'compound': -0.8957}"
      ]
     },
     "execution_count": 584,
     "metadata": {},
     "output_type": "execute_result"
    },
    {
     "data": {
      "text/plain": [
       "{'neg': 0.106, 'neu': 0.838, 'pos': 0.056, 'compound': -0.9551}"
      ]
     },
     "execution_count": 584,
     "metadata": {},
     "output_type": "execute_result"
    },
    {
     "data": {
      "text/plain": [
       "{'neg': 0.119, 'neu': 0.831, 'pos': 0.05, 'compound': -0.9752}"
      ]
     },
     "execution_count": 584,
     "metadata": {},
     "output_type": "execute_result"
    },
    {
     "data": {
      "text/plain": [
       "{'neg': 0.091, 'neu': 0.847, 'pos': 0.062, 'compound': -0.836}"
      ]
     },
     "execution_count": 584,
     "metadata": {},
     "output_type": "execute_result"
    },
    {
     "data": {
      "text/plain": [
       "{'neg': 0.1, 'neu': 0.829, 'pos': 0.071, 'compound': -0.6908}"
      ]
     },
     "execution_count": 584,
     "metadata": {},
     "output_type": "execute_result"
    },
    {
     "data": {
      "text/plain": [
       "{'neg': 0.194, 'neu': 0.727, 'pos': 0.079, 'compound': -0.9966}"
      ]
     },
     "execution_count": 584,
     "metadata": {},
     "output_type": "execute_result"
    },
    {
     "data": {
      "text/plain": [
       "{'neg': 0.169, 'neu': 0.77, 'pos': 0.061, 'compound': -0.9973}"
      ]
     },
     "execution_count": 584,
     "metadata": {},
     "output_type": "execute_result"
    },
    {
     "data": {
      "text/plain": [
       "{'neg': 0.177, 'neu': 0.77, 'pos': 0.053, 'compound': -0.9888}"
      ]
     },
     "execution_count": 584,
     "metadata": {},
     "output_type": "execute_result"
    },
    {
     "data": {
      "text/plain": [
       "{'neg': 0.156, 'neu': 0.778, 'pos': 0.066, 'compound': -0.9958}"
      ]
     },
     "execution_count": 584,
     "metadata": {},
     "output_type": "execute_result"
    },
    {
     "data": {
      "text/plain": [
       "{'neg': 0.16, 'neu': 0.788, 'pos': 0.053, 'compound': -0.9847}"
      ]
     },
     "execution_count": 584,
     "metadata": {},
     "output_type": "execute_result"
    },
    {
     "data": {
      "text/plain": [
       "{'neg': 0.108, 'neu': 0.786, 'pos': 0.106, 'compound': -0.2425}"
      ]
     },
     "execution_count": 584,
     "metadata": {},
     "output_type": "execute_result"
    },
    {
     "data": {
      "text/plain": [
       "{'neg': 0.252, 'neu': 0.707, 'pos': 0.041, 'compound': -0.9956}"
      ]
     },
     "execution_count": 584,
     "metadata": {},
     "output_type": "execute_result"
    },
    {
     "data": {
      "text/plain": [
       "{'neg': 0.182, 'neu': 0.752, 'pos': 0.065, 'compound': -0.9985}"
      ]
     },
     "execution_count": 584,
     "metadata": {},
     "output_type": "execute_result"
    },
    {
     "data": {
      "text/plain": [
       "{'neg': 0.157, 'neu': 0.769, 'pos': 0.074, 'compound': -0.9979}"
      ]
     },
     "execution_count": 584,
     "metadata": {},
     "output_type": "execute_result"
    },
    {
     "data": {
      "text/plain": [
       "{'neg': 0.261, 'neu': 0.667, 'pos': 0.072, 'compound': -0.996}"
      ]
     },
     "execution_count": 584,
     "metadata": {},
     "output_type": "execute_result"
    },
    {
     "data": {
      "text/plain": [
       "{'neg': 0.268, 'neu': 0.665, 'pos': 0.067, 'compound': -0.9934}"
      ]
     },
     "execution_count": 584,
     "metadata": {},
     "output_type": "execute_result"
    },
    {
     "data": {
      "text/plain": [
       "{'neg': 0.138, 'neu': 0.802, 'pos': 0.059, 'compound': -0.9783}"
      ]
     },
     "execution_count": 584,
     "metadata": {},
     "output_type": "execute_result"
    },
    {
     "data": {
      "text/plain": [
       "{'neg': 0.159, 'neu': 0.732, 'pos': 0.11, 'compound': -0.975}"
      ]
     },
     "execution_count": 584,
     "metadata": {},
     "output_type": "execute_result"
    },
    {
     "data": {
      "text/plain": [
       "{'neg': 0.092, 'neu': 0.838, 'pos': 0.07, 'compound': -0.9468}"
      ]
     },
     "execution_count": 584,
     "metadata": {},
     "output_type": "execute_result"
    },
    {
     "data": {
      "text/plain": [
       "{'neg': 0.092, 'neu': 0.787, 'pos': 0.121, 'compound': 0.8908}"
      ]
     },
     "execution_count": 584,
     "metadata": {},
     "output_type": "execute_result"
    },
    {
     "data": {
      "text/plain": [
       "{'neg': 0.015, 'neu': 0.88, 'pos': 0.105, 'compound': 0.9953}"
      ]
     },
     "execution_count": 584,
     "metadata": {},
     "output_type": "execute_result"
    },
    {
     "data": {
      "text/plain": [
       "{'neg': 0.023, 'neu': 0.872, 'pos': 0.105, 'compound': 0.9905}"
      ]
     },
     "execution_count": 584,
     "metadata": {},
     "output_type": "execute_result"
    },
    {
     "data": {
      "text/plain": [
       "{'neg': 0.057, 'neu': 0.919, 'pos': 0.025, 'compound': -0.7158}"
      ]
     },
     "execution_count": 584,
     "metadata": {},
     "output_type": "execute_result"
    },
    {
     "data": {
      "text/plain": [
       "{'neg': 0.129, 'neu': 0.765, 'pos': 0.106, 'compound': -0.9287}"
      ]
     },
     "execution_count": 584,
     "metadata": {},
     "output_type": "execute_result"
    },
    {
     "data": {
      "text/plain": [
       "{'neg': 0.0, 'neu': 0.901, 'pos': 0.099, 'compound': 0.7717}"
      ]
     },
     "execution_count": 584,
     "metadata": {},
     "output_type": "execute_result"
    },
    {
     "data": {
      "text/plain": [
       "{'neg': 0.0, 'neu': 0.885, 'pos': 0.115, 'compound': 0.8519}"
      ]
     },
     "execution_count": 584,
     "metadata": {},
     "output_type": "execute_result"
    },
    {
     "data": {
      "text/plain": [
       "{'neg': 0.029, 'neu': 0.75, 'pos': 0.221, 'compound': 0.9845}"
      ]
     },
     "execution_count": 584,
     "metadata": {},
     "output_type": "execute_result"
    },
    {
     "data": {
      "text/plain": [
       "{'neg': 0.077, 'neu': 0.857, 'pos': 0.067, 'compound': -0.3612}"
      ]
     },
     "execution_count": 584,
     "metadata": {},
     "output_type": "execute_result"
    },
    {
     "data": {
      "text/plain": [
       "{'neg': 0.0, 'neu': 0.947, 'pos': 0.053, 'compound': 0.7003}"
      ]
     },
     "execution_count": 584,
     "metadata": {},
     "output_type": "execute_result"
    },
    {
     "data": {
      "text/plain": [
       "{'neg': 0.209, 'neu': 0.746, 'pos': 0.044, 'compound': -0.9723}"
      ]
     },
     "execution_count": 584,
     "metadata": {},
     "output_type": "execute_result"
    },
    {
     "data": {
      "text/plain": [
       "{'neg': 0.137, 'neu': 0.778, 'pos': 0.085, 'compound': -0.9641}"
      ]
     },
     "execution_count": 584,
     "metadata": {},
     "output_type": "execute_result"
    },
    {
     "data": {
      "text/plain": [
       "{'neg': 0.146, 'neu': 0.764, 'pos': 0.091, 'compound': -0.9796}"
      ]
     },
     "execution_count": 584,
     "metadata": {},
     "output_type": "execute_result"
    },
    {
     "data": {
      "text/plain": [
       "{'neg': 0.186, 'neu': 0.757, 'pos': 0.056, 'compound': -0.9953}"
      ]
     },
     "execution_count": 584,
     "metadata": {},
     "output_type": "execute_result"
    },
    {
     "data": {
      "text/plain": [
       "{'neg': 0.024, 'neu': 0.852, 'pos': 0.124, 'compound': 0.986}"
      ]
     },
     "execution_count": 584,
     "metadata": {},
     "output_type": "execute_result"
    },
    {
     "data": {
      "text/plain": [
       "{'neg': 0.131, 'neu': 0.808, 'pos': 0.061, 'compound': -0.9782}"
      ]
     },
     "execution_count": 584,
     "metadata": {},
     "output_type": "execute_result"
    },
    {
     "data": {
      "text/plain": [
       "{'neg': 0.124, 'neu': 0.824, 'pos': 0.052, 'compound': -0.9601}"
      ]
     },
     "execution_count": 584,
     "metadata": {},
     "output_type": "execute_result"
    },
    {
     "data": {
      "text/plain": [
       "{'neg': 0.109, 'neu': 0.756, 'pos': 0.135, 'compound': 0.8443}"
      ]
     },
     "execution_count": 584,
     "metadata": {},
     "output_type": "execute_result"
    },
    {
     "data": {
      "text/plain": [
       "{'neg': 0.229, 'neu': 0.701, 'pos': 0.07, 'compound': -0.9976}"
      ]
     },
     "execution_count": 584,
     "metadata": {},
     "output_type": "execute_result"
    },
    {
     "data": {
      "text/plain": [
       "{'neg': 0.132, 'neu': 0.819, 'pos': 0.05, 'compound': -0.9834}"
      ]
     },
     "execution_count": 584,
     "metadata": {},
     "output_type": "execute_result"
    },
    {
     "data": {
      "text/plain": [
       "{'neg': 0.143, 'neu': 0.738, 'pos': 0.119, 'compound': -0.935}"
      ]
     },
     "execution_count": 584,
     "metadata": {},
     "output_type": "execute_result"
    },
    {
     "data": {
      "text/plain": [
       "{'neg': 0.16, 'neu': 0.73, 'pos': 0.11, 'compound': -0.9446}"
      ]
     },
     "execution_count": 584,
     "metadata": {},
     "output_type": "execute_result"
    },
    {
     "data": {
      "text/plain": [
       "{'neg': 0.254, 'neu': 0.687, 'pos': 0.059, 'compound': -0.9989}"
      ]
     },
     "execution_count": 584,
     "metadata": {},
     "output_type": "execute_result"
    },
    {
     "data": {
      "text/plain": [
       "{'neg': 0.23, 'neu': 0.668, 'pos': 0.102, 'compound': -0.9975}"
      ]
     },
     "execution_count": 584,
     "metadata": {},
     "output_type": "execute_result"
    },
    {
     "data": {
      "text/plain": [
       "{'neg': 0.206, 'neu': 0.743, 'pos': 0.051, 'compound': -0.9929}"
      ]
     },
     "execution_count": 584,
     "metadata": {},
     "output_type": "execute_result"
    },
    {
     "data": {
      "text/plain": [
       "{'neg': 0.172, 'neu': 0.765, 'pos': 0.064, 'compound': -0.9967}"
      ]
     },
     "execution_count": 584,
     "metadata": {},
     "output_type": "execute_result"
    },
    {
     "data": {
      "text/plain": [
       "{'neg': 0.131, 'neu': 0.816, 'pos': 0.053, 'compound': -0.9878}"
      ]
     },
     "execution_count": 584,
     "metadata": {},
     "output_type": "execute_result"
    },
    {
     "data": {
      "text/plain": [
       "{'neg': 0.13, 'neu': 0.815, 'pos': 0.055, 'compound': -0.9865}"
      ]
     },
     "execution_count": 584,
     "metadata": {},
     "output_type": "execute_result"
    },
    {
     "data": {
      "text/plain": [
       "{'neg': 0.175, 'neu': 0.745, 'pos': 0.08, 'compound': -0.9833}"
      ]
     },
     "execution_count": 584,
     "metadata": {},
     "output_type": "execute_result"
    },
    {
     "data": {
      "text/plain": [
       "{'neg': 0.178, 'neu': 0.771, 'pos': 0.051, 'compound': -0.996}"
      ]
     },
     "execution_count": 584,
     "metadata": {},
     "output_type": "execute_result"
    },
    {
     "data": {
      "text/plain": [
       "{'neg': 0.188, 'neu': 0.705, 'pos': 0.107, 'compound': -0.9931}"
      ]
     },
     "execution_count": 584,
     "metadata": {},
     "output_type": "execute_result"
    },
    {
     "data": {
      "text/plain": [
       "{'neg': 0.126, 'neu': 0.775, 'pos': 0.099, 'compound': -0.9274}"
      ]
     },
     "execution_count": 584,
     "metadata": {},
     "output_type": "execute_result"
    },
    {
     "data": {
      "text/plain": [
       "{'neg': 0.156, 'neu': 0.808, 'pos': 0.036, 'compound': -0.9839}"
      ]
     },
     "execution_count": 584,
     "metadata": {},
     "output_type": "execute_result"
    },
    {
     "data": {
      "text/plain": [
       "{'neg': 0.214, 'neu': 0.723, 'pos': 0.063, 'compound': -0.9963}"
      ]
     },
     "execution_count": 584,
     "metadata": {},
     "output_type": "execute_result"
    },
    {
     "data": {
      "text/plain": [
       "{'neg': 0.135, 'neu': 0.774, 'pos': 0.091, 'compound': -0.9538}"
      ]
     },
     "execution_count": 584,
     "metadata": {},
     "output_type": "execute_result"
    },
    {
     "data": {
      "text/plain": [
       "{'neg': 0.182, 'neu': 0.761, 'pos': 0.057, 'compound': -0.996}"
      ]
     },
     "execution_count": 584,
     "metadata": {},
     "output_type": "execute_result"
    },
    {
     "data": {
      "text/plain": [
       "{'neg': 0.116, 'neu': 0.823, 'pos': 0.061, 'compound': -0.9451}"
      ]
     },
     "execution_count": 584,
     "metadata": {},
     "output_type": "execute_result"
    },
    {
     "data": {
      "text/plain": [
       "{'neg': 0.174, 'neu': 0.801, 'pos': 0.026, 'compound': -0.9953}"
      ]
     },
     "execution_count": 584,
     "metadata": {},
     "output_type": "execute_result"
    },
    {
     "data": {
      "text/plain": [
       "{'neg': 0.121, 'neu': 0.778, 'pos': 0.101, 'compound': -0.85}"
      ]
     },
     "execution_count": 584,
     "metadata": {},
     "output_type": "execute_result"
    },
    {
     "data": {
      "text/plain": [
       "{'neg': 0.106, 'neu': 0.752, 'pos': 0.142, 'compound': 0.9568}"
      ]
     },
     "execution_count": 584,
     "metadata": {},
     "output_type": "execute_result"
    },
    {
     "data": {
      "text/plain": [
       "{'neg': 0.238, 'neu': 0.72, 'pos': 0.042, 'compound': -0.9983}"
      ]
     },
     "execution_count": 584,
     "metadata": {},
     "output_type": "execute_result"
    },
    {
     "data": {
      "text/plain": [
       "{'neg': 0.168, 'neu': 0.791, 'pos': 0.041, 'compound': -0.9652}"
      ]
     },
     "execution_count": 584,
     "metadata": {},
     "output_type": "execute_result"
    },
    {
     "data": {
      "text/plain": [
       "{'neg': 0.165, 'neu': 0.75, 'pos': 0.085, 'compound': -0.9984}"
      ]
     },
     "execution_count": 584,
     "metadata": {},
     "output_type": "execute_result"
    },
    {
     "data": {
      "text/plain": [
       "{'neg': 0.195, 'neu': 0.743, 'pos': 0.062, 'compound': -0.9993}"
      ]
     },
     "execution_count": 584,
     "metadata": {},
     "output_type": "execute_result"
    },
    {
     "data": {
      "text/plain": [
       "{'neg': 0.158, 'neu': 0.763, 'pos': 0.078, 'compound': -0.9983}"
      ]
     },
     "execution_count": 584,
     "metadata": {},
     "output_type": "execute_result"
    },
    {
     "data": {
      "text/plain": [
       "{'neg': 0.207, 'neu': 0.78, 'pos': 0.014, 'compound': -0.9964}"
      ]
     },
     "execution_count": 584,
     "metadata": {},
     "output_type": "execute_result"
    },
    {
     "data": {
      "text/plain": [
       "{'neg': 0.146, 'neu': 0.781, 'pos': 0.073, 'compound': -0.9382}"
      ]
     },
     "execution_count": 584,
     "metadata": {},
     "output_type": "execute_result"
    },
    {
     "data": {
      "text/plain": [
       "{'neg': 0.146, 'neu': 0.818, 'pos': 0.036, 'compound': -0.9847}"
      ]
     },
     "execution_count": 584,
     "metadata": {},
     "output_type": "execute_result"
    },
    {
     "data": {
      "text/plain": [
       "{'neg': 0.163, 'neu': 0.763, 'pos': 0.075, 'compound': -0.9979}"
      ]
     },
     "execution_count": 584,
     "metadata": {},
     "output_type": "execute_result"
    },
    {
     "data": {
      "text/plain": [
       "{'neg': 0.151, 'neu': 0.742, 'pos': 0.106, 'compound': -0.9472}"
      ]
     },
     "execution_count": 584,
     "metadata": {},
     "output_type": "execute_result"
    },
    {
     "data": {
      "text/plain": [
       "{'neg': 0.125, 'neu': 0.815, 'pos': 0.059, 'compound': -0.9732}"
      ]
     },
     "execution_count": 584,
     "metadata": {},
     "output_type": "execute_result"
    },
    {
     "data": {
      "text/plain": [
       "{'neg': 0.176, 'neu': 0.757, 'pos': 0.067, 'compound': -0.9965}"
      ]
     },
     "execution_count": 584,
     "metadata": {},
     "output_type": "execute_result"
    },
    {
     "data": {
      "text/plain": [
       "{'neg': 0.133, 'neu': 0.837, 'pos': 0.03, 'compound': -0.9955}"
      ]
     },
     "execution_count": 584,
     "metadata": {},
     "output_type": "execute_result"
    },
    {
     "data": {
      "text/plain": [
       "{'neg': 0.165, 'neu': 0.772, 'pos': 0.063, 'compound': -0.9821}"
      ]
     },
     "execution_count": 584,
     "metadata": {},
     "output_type": "execute_result"
    },
    {
     "data": {
      "text/plain": [
       "{'neg': 0.191, 'neu': 0.756, 'pos': 0.053, 'compound': -0.9935}"
      ]
     },
     "execution_count": 584,
     "metadata": {},
     "output_type": "execute_result"
    },
    {
     "data": {
      "text/plain": [
       "{'neg': 0.104, 'neu': 0.858, 'pos': 0.038, 'compound': -0.9042}"
      ]
     },
     "execution_count": 584,
     "metadata": {},
     "output_type": "execute_result"
    },
    {
     "data": {
      "text/plain": [
       "{'neg': 0.143, 'neu': 0.815, 'pos': 0.043, 'compound': -0.9941}"
      ]
     },
     "execution_count": 584,
     "metadata": {},
     "output_type": "execute_result"
    },
    {
     "data": {
      "text/plain": [
       "{'neg': 0.172, 'neu': 0.763, 'pos': 0.065, 'compound': -0.9886}"
      ]
     },
     "execution_count": 584,
     "metadata": {},
     "output_type": "execute_result"
    },
    {
     "data": {
      "text/plain": [
       "{'neg': 0.172, 'neu': 0.749, 'pos': 0.078, 'compound': -0.9858}"
      ]
     },
     "execution_count": 584,
     "metadata": {},
     "output_type": "execute_result"
    },
    {
     "data": {
      "text/plain": [
       "{'neg': 0.197, 'neu': 0.739, 'pos': 0.064, 'compound': -0.9947}"
      ]
     },
     "execution_count": 584,
     "metadata": {},
     "output_type": "execute_result"
    },
    {
     "data": {
      "text/plain": [
       "{'neg': 0.279, 'neu': 0.69, 'pos': 0.031, 'compound': -0.9964}"
      ]
     },
     "execution_count": 584,
     "metadata": {},
     "output_type": "execute_result"
    },
    {
     "data": {
      "text/plain": [
       "{'neg': 0.172, 'neu': 0.786, 'pos': 0.042, 'compound': -0.9652}"
      ]
     },
     "execution_count": 584,
     "metadata": {},
     "output_type": "execute_result"
    },
    {
     "data": {
      "text/plain": [
       "{'neg': 0.125, 'neu': 0.823, 'pos': 0.052, 'compound': -0.9946}"
      ]
     },
     "execution_count": 584,
     "metadata": {},
     "output_type": "execute_result"
    },
    {
     "data": {
      "text/plain": [
       "{'neg': 0.097, 'neu': 0.848, 'pos': 0.055, 'compound': -0.9708}"
      ]
     },
     "execution_count": 584,
     "metadata": {},
     "output_type": "execute_result"
    },
    {
     "data": {
      "text/plain": [
       "{'neg': 0.18, 'neu': 0.752, 'pos': 0.068, 'compound': -0.9904}"
      ]
     },
     "execution_count": 584,
     "metadata": {},
     "output_type": "execute_result"
    },
    {
     "data": {
      "text/plain": [
       "{'neg': 0.255, 'neu': 0.691, 'pos': 0.053, 'compound': -0.999}"
      ]
     },
     "execution_count": 584,
     "metadata": {},
     "output_type": "execute_result"
    },
    {
     "data": {
      "text/plain": [
       "{'neg': 0.142, 'neu': 0.765, 'pos': 0.093, 'compound': -0.9944}"
      ]
     },
     "execution_count": 584,
     "metadata": {},
     "output_type": "execute_result"
    },
    {
     "data": {
      "text/plain": [
       "{'neg': 0.113, 'neu': 0.802, 'pos': 0.084, 'compound': -0.9267}"
      ]
     },
     "execution_count": 584,
     "metadata": {},
     "output_type": "execute_result"
    },
    {
     "data": {
      "text/plain": [
       "{'neg': 0.131, 'neu': 0.787, 'pos': 0.082, 'compound': -0.9719}"
      ]
     },
     "execution_count": 584,
     "metadata": {},
     "output_type": "execute_result"
    },
    {
     "data": {
      "text/plain": [
       "{'neg': 0.22, 'neu': 0.722, 'pos': 0.059, 'compound': -0.999}"
      ]
     },
     "execution_count": 584,
     "metadata": {},
     "output_type": "execute_result"
    },
    {
     "data": {
      "text/plain": [
       "{'neg': 0.167, 'neu': 0.705, 'pos': 0.128, 'compound': -0.9917}"
      ]
     },
     "execution_count": 584,
     "metadata": {},
     "output_type": "execute_result"
    },
    {
     "data": {
      "text/plain": [
       "{'neg': 0.102, 'neu': 0.876, 'pos': 0.022, 'compound': -0.9674}"
      ]
     },
     "execution_count": 584,
     "metadata": {},
     "output_type": "execute_result"
    },
    {
     "data": {
      "text/plain": [
       "{'neg': 0.198, 'neu': 0.762, 'pos': 0.04, 'compound': -0.9933}"
      ]
     },
     "execution_count": 584,
     "metadata": {},
     "output_type": "execute_result"
    },
    {
     "data": {
      "text/plain": [
       "{'neg': 0.199, 'neu': 0.743, 'pos': 0.058, 'compound': -0.9967}"
      ]
     },
     "execution_count": 584,
     "metadata": {},
     "output_type": "execute_result"
    },
    {
     "data": {
      "text/plain": [
       "{'neg': 0.155, 'neu': 0.797, 'pos': 0.048, 'compound': -0.9988}"
      ]
     },
     "execution_count": 584,
     "metadata": {},
     "output_type": "execute_result"
    },
    {
     "data": {
      "text/plain": [
       "{'neg': 0.136, 'neu': 0.824, 'pos': 0.04, 'compound': -0.9963}"
      ]
     },
     "execution_count": 584,
     "metadata": {},
     "output_type": "execute_result"
    },
    {
     "data": {
      "text/plain": [
       "{'neg': 0.188, 'neu': 0.705, 'pos': 0.107, 'compound': -0.9834}"
      ]
     },
     "execution_count": 584,
     "metadata": {},
     "output_type": "execute_result"
    },
    {
     "data": {
      "text/plain": [
       "{'neg': 0.189, 'neu': 0.747, 'pos': 0.064, 'compound': -0.9937}"
      ]
     },
     "execution_count": 584,
     "metadata": {},
     "output_type": "execute_result"
    },
    {
     "data": {
      "text/plain": [
       "{'neg': 0.256, 'neu': 0.697, 'pos': 0.047, 'compound': -0.9967}"
      ]
     },
     "execution_count": 584,
     "metadata": {},
     "output_type": "execute_result"
    },
    {
     "data": {
      "text/plain": [
       "{'neg': 0.243, 'neu': 0.702, 'pos': 0.055, 'compound': -0.99}"
      ]
     },
     "execution_count": 584,
     "metadata": {},
     "output_type": "execute_result"
    },
    {
     "data": {
      "text/plain": [
       "{'neg': 0.201, 'neu': 0.749, 'pos': 0.05, 'compound': -0.9946}"
      ]
     },
     "execution_count": 584,
     "metadata": {},
     "output_type": "execute_result"
    },
    {
     "data": {
      "text/plain": [
       "{'neg': 0.23, 'neu': 0.706, 'pos': 0.064, 'compound': -0.9963}"
      ]
     },
     "execution_count": 584,
     "metadata": {},
     "output_type": "execute_result"
    },
    {
     "data": {
      "text/plain": [
       "{'neg': 0.143, 'neu': 0.743, 'pos': 0.114, 'compound': -0.9533}"
      ]
     },
     "execution_count": 584,
     "metadata": {},
     "output_type": "execute_result"
    },
    {
     "data": {
      "text/plain": [
       "{'neg': 0.261, 'neu': 0.705, 'pos': 0.033, 'compound': -0.9936}"
      ]
     },
     "execution_count": 584,
     "metadata": {},
     "output_type": "execute_result"
    },
    {
     "data": {
      "text/plain": [
       "{'neg': 0.137, 'neu': 0.851, 'pos': 0.012, 'compound': -0.9756}"
      ]
     },
     "execution_count": 584,
     "metadata": {},
     "output_type": "execute_result"
    },
    {
     "data": {
      "text/plain": [
       "{'neg': 0.119, 'neu': 0.779, 'pos': 0.102, 'compound': -0.8442}"
      ]
     },
     "execution_count": 584,
     "metadata": {},
     "output_type": "execute_result"
    },
    {
     "data": {
      "text/plain": [
       "{'neg': 0.126, 'neu': 0.794, 'pos': 0.08, 'compound': -0.969}"
      ]
     },
     "execution_count": 584,
     "metadata": {},
     "output_type": "execute_result"
    },
    {
     "data": {
      "text/plain": [
       "{'neg': 0.137, 'neu': 0.771, 'pos': 0.092, 'compound': -0.9759}"
      ]
     },
     "execution_count": 584,
     "metadata": {},
     "output_type": "execute_result"
    },
    {
     "data": {
      "text/plain": [
       "{'neg': 0.181, 'neu': 0.723, 'pos': 0.096, 'compound': -0.9964}"
      ]
     },
     "execution_count": 584,
     "metadata": {},
     "output_type": "execute_result"
    },
    {
     "data": {
      "text/plain": [
       "{'neg': 0.201, 'neu': 0.735, 'pos': 0.064, 'compound': -0.9964}"
      ]
     },
     "execution_count": 584,
     "metadata": {},
     "output_type": "execute_result"
    },
    {
     "data": {
      "text/plain": [
       "{'neg': 0.175, 'neu': 0.751, 'pos': 0.075, 'compound': -0.9971}"
      ]
     },
     "execution_count": 584,
     "metadata": {},
     "output_type": "execute_result"
    },
    {
     "data": {
      "text/plain": [
       "{'neg': 0.177, 'neu': 0.763, 'pos': 0.061, 'compound': -0.9987}"
      ]
     },
     "execution_count": 584,
     "metadata": {},
     "output_type": "execute_result"
    },
    {
     "data": {
      "text/plain": [
       "{'neg': 0.221, 'neu': 0.713, 'pos': 0.066, 'compound': -0.999}"
      ]
     },
     "execution_count": 584,
     "metadata": {},
     "output_type": "execute_result"
    },
    {
     "data": {
      "text/plain": [
       "{'neg': 0.213, 'neu': 0.724, 'pos': 0.062, 'compound': -0.9991}"
      ]
     },
     "execution_count": 584,
     "metadata": {},
     "output_type": "execute_result"
    },
    {
     "data": {
      "text/plain": [
       "{'neg': 0.209, 'neu': 0.768, 'pos': 0.023, 'compound': -0.9972}"
      ]
     },
     "execution_count": 584,
     "metadata": {},
     "output_type": "execute_result"
    },
    {
     "data": {
      "text/plain": [
       "{'neg': 0.136, 'neu': 0.764, 'pos': 0.099, 'compound': -0.9283}"
      ]
     },
     "execution_count": 584,
     "metadata": {},
     "output_type": "execute_result"
    },
    {
     "data": {
      "text/plain": [
       "{'neg': 0.148, 'neu': 0.778, 'pos': 0.075, 'compound': -0.9755}"
      ]
     },
     "execution_count": 584,
     "metadata": {},
     "output_type": "execute_result"
    },
    {
     "data": {
      "text/plain": [
       "{'neg': 0.194, 'neu': 0.746, 'pos': 0.059, 'compound': -0.9977}"
      ]
     },
     "execution_count": 584,
     "metadata": {},
     "output_type": "execute_result"
    },
    {
     "data": {
      "text/plain": [
       "{'neg': 0.157, 'neu': 0.775, 'pos': 0.068, 'compound': -0.991}"
      ]
     },
     "execution_count": 584,
     "metadata": {},
     "output_type": "execute_result"
    },
    {
     "data": {
      "text/plain": [
       "{'neg': 0.223, 'neu': 0.711, 'pos': 0.066, 'compound': -0.9989}"
      ]
     },
     "execution_count": 584,
     "metadata": {},
     "output_type": "execute_result"
    },
    {
     "data": {
      "text/plain": [
       "{'neg': 0.112, 'neu': 0.83, 'pos': 0.058, 'compound': -0.9716}"
      ]
     },
     "execution_count": 584,
     "metadata": {},
     "output_type": "execute_result"
    },
    {
     "data": {
      "text/plain": [
       "{'neg': 0.196, 'neu': 0.777, 'pos': 0.027, 'compound': -0.9983}"
      ]
     },
     "execution_count": 584,
     "metadata": {},
     "output_type": "execute_result"
    },
    {
     "data": {
      "text/plain": [
       "{'neg': 0.249, 'neu': 0.719, 'pos': 0.032, 'compound': -0.9984}"
      ]
     },
     "execution_count": 584,
     "metadata": {},
     "output_type": "execute_result"
    },
    {
     "data": {
      "text/plain": [
       "{'neg': 0.204, 'neu': 0.764, 'pos': 0.032, 'compound': -0.9972}"
      ]
     },
     "execution_count": 584,
     "metadata": {},
     "output_type": "execute_result"
    },
    {
     "data": {
      "text/plain": [
       "{'neg': 0.195, 'neu': 0.767, 'pos': 0.039, 'compound': -0.9921}"
      ]
     },
     "execution_count": 584,
     "metadata": {},
     "output_type": "execute_result"
    },
    {
     "data": {
      "text/plain": [
       "{'neg': 0.214, 'neu': 0.727, 'pos': 0.059, 'compound': -0.9938}"
      ]
     },
     "execution_count": 584,
     "metadata": {},
     "output_type": "execute_result"
    },
    {
     "data": {
      "text/plain": [
       "{'neg': 0.058, 'neu': 0.876, 'pos': 0.066, 'compound': 0.25}"
      ]
     },
     "execution_count": 584,
     "metadata": {},
     "output_type": "execute_result"
    },
    {
     "data": {
      "text/plain": [
       "{'neg': 0.061, 'neu': 0.811, 'pos': 0.128, 'compound': 0.9587}"
      ]
     },
     "execution_count": 584,
     "metadata": {},
     "output_type": "execute_result"
    },
    {
     "data": {
      "text/plain": [
       "{'neg': 0.048, 'neu': 0.868, 'pos': 0.084, 'compound': 0.9629}"
      ]
     },
     "execution_count": 584,
     "metadata": {},
     "output_type": "execute_result"
    },
    {
     "data": {
      "text/plain": [
       "{'neg': 0.18, 'neu': 0.756, 'pos': 0.064, 'compound': -0.9991}"
      ]
     },
     "execution_count": 584,
     "metadata": {},
     "output_type": "execute_result"
    },
    {
     "data": {
      "text/plain": [
       "{'neg': 0.162, 'neu': 0.773, 'pos': 0.065, 'compound': -0.9812}"
      ]
     },
     "execution_count": 584,
     "metadata": {},
     "output_type": "execute_result"
    },
    {
     "data": {
      "text/plain": [
       "{'neg': 0.017, 'neu': 0.861, 'pos': 0.123, 'compound': 0.9983}"
      ]
     },
     "execution_count": 584,
     "metadata": {},
     "output_type": "execute_result"
    },
    {
     "data": {
      "text/plain": [
       "{'neg': 0.027, 'neu': 0.844, 'pos': 0.129, 'compound': 0.9923}"
      ]
     },
     "execution_count": 584,
     "metadata": {},
     "output_type": "execute_result"
    },
    {
     "data": {
      "text/plain": [
       "{'neg': 0.068, 'neu': 0.845, 'pos': 0.087, 'compound': 0.3182}"
      ]
     },
     "execution_count": 584,
     "metadata": {},
     "output_type": "execute_result"
    },
    {
     "data": {
      "text/plain": [
       "{'neg': 0.077, 'neu': 0.845, 'pos': 0.077, 'compound': -0.6124}"
      ]
     },
     "execution_count": 584,
     "metadata": {},
     "output_type": "execute_result"
    },
    {
     "data": {
      "text/plain": [
       "{'neg': 0.212, 'neu': 0.708, 'pos': 0.079, 'compound': -0.999}"
      ]
     },
     "execution_count": 584,
     "metadata": {},
     "output_type": "execute_result"
    },
    {
     "data": {
      "text/plain": [
       "{'neg': 0.153, 'neu': 0.826, 'pos': 0.021, 'compound': -0.9801}"
      ]
     },
     "execution_count": 584,
     "metadata": {},
     "output_type": "execute_result"
    },
    {
     "data": {
      "text/plain": [
       "{'neg': 0.191, 'neu': 0.757, 'pos': 0.051, 'compound': -0.986}"
      ]
     },
     "execution_count": 584,
     "metadata": {},
     "output_type": "execute_result"
    },
    {
     "data": {
      "text/plain": [
       "{'neg': 0.128, 'neu': 0.837, 'pos': 0.035, 'compound': -0.9846}"
      ]
     },
     "execution_count": 584,
     "metadata": {},
     "output_type": "execute_result"
    },
    {
     "data": {
      "text/plain": [
       "{'neg': 0.17, 'neu': 0.742, 'pos': 0.089, 'compound': -0.9823}"
      ]
     },
     "execution_count": 584,
     "metadata": {},
     "output_type": "execute_result"
    },
    {
     "data": {
      "text/plain": [
       "{'neg': 0.218, 'neu': 0.72, 'pos': 0.062, 'compound': -0.9947}"
      ]
     },
     "execution_count": 584,
     "metadata": {},
     "output_type": "execute_result"
    },
    {
     "data": {
      "text/plain": [
       "{'neg': 0.204, 'neu': 0.737, 'pos': 0.058, 'compound': -0.9947}"
      ]
     },
     "execution_count": 584,
     "metadata": {},
     "output_type": "execute_result"
    },
    {
     "data": {
      "text/plain": [
       "{'neg': 0.146, 'neu': 0.784, 'pos': 0.07, 'compound': -0.9794}"
      ]
     },
     "execution_count": 584,
     "metadata": {},
     "output_type": "execute_result"
    },
    {
     "data": {
      "text/plain": [
       "{'neg': 0.069, 'neu': 0.833, 'pos': 0.098, 'compound': 0.6597}"
      ]
     },
     "execution_count": 584,
     "metadata": {},
     "output_type": "execute_result"
    },
    {
     "data": {
      "text/plain": [
       "{'neg': 0.09, 'neu': 0.859, 'pos': 0.052, 'compound': -0.8807}"
      ]
     },
     "execution_count": 584,
     "metadata": {},
     "output_type": "execute_result"
    },
    {
     "data": {
      "text/plain": [
       "{'neg': 0.105, 'neu': 0.806, 'pos': 0.088, 'compound': -0.7964}"
      ]
     },
     "execution_count": 584,
     "metadata": {},
     "output_type": "execute_result"
    },
    {
     "data": {
      "text/plain": [
       "{'neg': 0.128, 'neu': 0.799, 'pos': 0.073, 'compound': -0.9118}"
      ]
     },
     "execution_count": 584,
     "metadata": {},
     "output_type": "execute_result"
    },
    {
     "data": {
      "text/plain": [
       "{'neg': 0.077, 'neu': 0.829, 'pos': 0.094, 'compound': 0.5106}"
      ]
     },
     "execution_count": 584,
     "metadata": {},
     "output_type": "execute_result"
    },
    {
     "data": {
      "text/plain": [
       "{'neg': 0.069, 'neu': 0.854, 'pos': 0.077, 'compound': 0.7906}"
      ]
     },
     "execution_count": 584,
     "metadata": {},
     "output_type": "execute_result"
    },
    {
     "data": {
      "text/plain": [
       "{'neg': 0.085, 'neu': 0.824, 'pos': 0.091, 'compound': 0.2732}"
      ]
     },
     "execution_count": 584,
     "metadata": {},
     "output_type": "execute_result"
    },
    {
     "data": {
      "text/plain": [
       "{'neg': 0.108, 'neu': 0.809, 'pos': 0.083, 'compound': -0.9339}"
      ]
     },
     "execution_count": 584,
     "metadata": {},
     "output_type": "execute_result"
    },
    {
     "data": {
      "text/plain": [
       "{'neg': 0.102, 'neu': 0.812, 'pos': 0.086, 'compound': -0.5719}"
      ]
     },
     "execution_count": 584,
     "metadata": {},
     "output_type": "execute_result"
    },
    {
     "data": {
      "text/plain": [
       "{'neg': 0.097, 'neu': 0.789, 'pos': 0.114, 'compound': 0.6486}"
      ]
     },
     "execution_count": 584,
     "metadata": {},
     "output_type": "execute_result"
    },
    {
     "data": {
      "text/plain": [
       "{'neg': 0.079, 'neu': 0.86, 'pos': 0.061, 'compound': -0.8391}"
      ]
     },
     "execution_count": 584,
     "metadata": {},
     "output_type": "execute_result"
    },
    {
     "data": {
      "text/plain": [
       "{'neg': 0.053, 'neu': 0.877, 'pos': 0.07, 'compound': 0.5106}"
      ]
     },
     "execution_count": 584,
     "metadata": {},
     "output_type": "execute_result"
    },
    {
     "data": {
      "text/plain": [
       "{'neg': 0.059, 'neu': 0.873, 'pos': 0.067, 'compound': 0.3818}"
      ]
     },
     "execution_count": 584,
     "metadata": {},
     "output_type": "execute_result"
    },
    {
     "data": {
      "text/plain": [
       "{'neg': 0.218, 'neu': 0.712, 'pos': 0.07, 'compound': -0.9933}"
      ]
     },
     "execution_count": 584,
     "metadata": {},
     "output_type": "execute_result"
    },
    {
     "data": {
      "text/plain": [
       "{'neg': 0.223, 'neu': 0.723, 'pos': 0.054, 'compound': -0.9898}"
      ]
     },
     "execution_count": 584,
     "metadata": {},
     "output_type": "execute_result"
    },
    {
     "data": {
      "text/plain": [
       "{'neg': 0.168, 'neu': 0.755, 'pos': 0.077, 'compound': -0.9966}"
      ]
     },
     "execution_count": 584,
     "metadata": {},
     "output_type": "execute_result"
    },
    {
     "data": {
      "text/plain": [
       "{'neg': 0.173, 'neu': 0.782, 'pos': 0.046, 'compound': -0.9941}"
      ]
     },
     "execution_count": 584,
     "metadata": {},
     "output_type": "execute_result"
    },
    {
     "data": {
      "text/plain": [
       "{'neg': 0.159, 'neu': 0.784, 'pos': 0.057, 'compound': -0.9787}"
      ]
     },
     "execution_count": 584,
     "metadata": {},
     "output_type": "execute_result"
    },
    {
     "data": {
      "text/plain": [
       "{'neg': 0.075, 'neu': 0.829, 'pos': 0.096, 'compound': 0.7003}"
      ]
     },
     "execution_count": 584,
     "metadata": {},
     "output_type": "execute_result"
    },
    {
     "data": {
      "text/plain": [
       "{'neg': 0.148, 'neu': 0.76, 'pos': 0.092, 'compound': -0.9538}"
      ]
     },
     "execution_count": 584,
     "metadata": {},
     "output_type": "execute_result"
    },
    {
     "data": {
      "text/plain": [
       "{'neg': 0.132, 'neu': 0.784, 'pos': 0.085, 'compound': -0.9866}"
      ]
     },
     "execution_count": 584,
     "metadata": {},
     "output_type": "execute_result"
    },
    {
     "data": {
      "text/plain": [
       "{'neg': 0.145, 'neu': 0.824, 'pos': 0.031, 'compound': -0.9938}"
      ]
     },
     "execution_count": 584,
     "metadata": {},
     "output_type": "execute_result"
    }
   ],
   "source": [
    "##B\n",
    "##Define a function \n",
    "def function(string):\n",
    "    ## Remove name entities \n",
    "    spacy = nlp(string)\n",
    "    spacy_removed = \" \".join([ent.text for ent in spacy if not ent.ent_type_])\n",
    "\n",
    "    ## Create scorer\n",
    "    sent_obj = SentimentIntensityAnalyzer()\n",
    "    sentiment_example = sent_obj.polarity_scores(spacy_removed)\n",
    "    \n",
    "    return(sentiment_example)\n",
    "    \n",
    "##Execute function\n",
    "for column in doj_subset[\"contents\"]:\n",
    "    function(column)\n"
   ]
  },
  {
   "cell_type": "markdown",
   "metadata": {},
   "source": [
    "C. Add the four sentiment scores to the `doj_subset` dataframe to create a dataframe: `doj_subset_wscore`. Sort from highest neg to lowest neg score and print the top `id`, `contents`, and `neg` columns of the two most neg press releases. "
   ]
  },
  {
   "cell_type": "code",
   "execution_count": 390,
   "metadata": {},
   "outputs": [],
   "source": [
    "##C\n",
    "##Create new dataframe to store 4 sentiment scores\n",
    "df = pd.DataFrame(columns = [\"neg\",\"neu\",\"pos\", \"compound\"])\n",
    "\n",
    "\n",
    "## Apply function to press releases and add scores to empty dataframe\n",
    "for column in doj_subset[\"contents\"]:\n",
    "    scores = function(column)\n",
    "    df = df.append(pd.Series(scores), ignore_index=True)\n",
    "\n",
    "## Get filled dataframe\n",
    "doj_subset_wscore = df.copy()\n"
   ]
  },
  {
   "cell_type": "code",
   "execution_count": 391,
   "metadata": {},
   "outputs": [],
   "source": [
    "## Concatenate sentiment scores dataframe to main dataframe \n",
    "doj_subset_reset = doj_subset.reset_index()\n",
    "doj_subset_wscore = pd.concat([doj_subset_reset,doj_subset_wscore], axis=1)\n"
   ]
  },
  {
   "cell_type": "code",
   "execution_count": 392,
   "metadata": {},
   "outputs": [
    {
     "data": {
      "text/html": [
       "<div>\n",
       "<style scoped>\n",
       "    .dataframe tbody tr th:only-of-type {\n",
       "        vertical-align: middle;\n",
       "    }\n",
       "\n",
       "    .dataframe tbody tr th {\n",
       "        vertical-align: top;\n",
       "    }\n",
       "\n",
       "    .dataframe thead th {\n",
       "        text-align: right;\n",
       "    }\n",
       "</style>\n",
       "<table border=\"1\" class=\"dataframe\">\n",
       "  <thead>\n",
       "    <tr style=\"text-align: right;\">\n",
       "      <th></th>\n",
       "      <th>id</th>\n",
       "      <th>contents</th>\n",
       "      <th>neg</th>\n",
       "    </tr>\n",
       "  </thead>\n",
       "  <tbody>\n",
       "    <tr>\n",
       "      <th>13</th>\n",
       "      <td>14-248</td>\n",
       "      <td>The Department of Justice announced that this morning John W. Ng, 58, of Albuquerque, N.M., made his initial appearance in federal court on a criminal complaint charging him with a hate crime offense.  This charge is related to anti-Semitic threats Ng made against a Jewish woman who owns and operates the Nosh Jewish Delicatessen and Bakery in Albuquerque. Ng was arrested by the FBI on March 7, 2014, based on a criminal complaint alleging that he interfered with the victim’s federally protected rights by threatening her and interfering with her business because of her religion.  According to the criminal complaint, between Jan. 22, 2014, and Feb. 8, 2014, Ng allegedly posted threatening anti-Semitic notes on and in the vicinity of the victim’s business. A criminal complaint merely establishes probable cause, and Ng is presumed innocent unless proven guilty.  If convicted on the offense charged in the criminal complaint, Ng faces a maximum statutory penalty of one year in prison. This matter was investigated by the Albuquerque Division of the FBI and is being prosecuted by Assistant U.S. Attorney Mark T. Baker of the U.S. Attorney’s Office for the District of New Mexico and Trial Attorney AeJean Cha of the U.S. Department of Justice’s Civil Rights Division.</td>\n",
       "      <td>0.316</td>\n",
       "    </tr>\n",
       "    <tr>\n",
       "      <th>34</th>\n",
       "      <td>13-312</td>\n",
       "      <td>John Hall, 27, an Aryan Brotherhood member and inmate at the Federal Correctional Institution (FCI) in Seagoville, Texas, was sentenced today by U.S. District Judge Reed O’Connor after pleading guilty to violating the Matthew Shepard and James Byrd Jr. Hate Crimes Prevention Act stemming from his assault of a fellow inmate, whom he believed to be gay, the Department of Justice announced. Hall assaulted his fellow inmate with a dangerous weapon, causing bodily injury to the victim on Dec. 20, 2011. Hall was sentenced to serve 71 months in prison to be served consecutively with the sentence he is currently serving. The assault occurred on Dec. 20, 2011, inside the FCI Seagoville when Hall targeted and attacked the victim, a fellow inmate, because he believed the victim was gay or involved in a sexual relationship with another male inmate. Hall repeatedly punched, kicked and stomped on the victim’s face with his shod feet, a dangerous weapon, while yelling a homophobic slur. The victim lost consciousness during the assault and suffered multiple lacerations to his face. The victim also sustained a fractured eye socket, lost a tooth, fractured other teeth and was treated at a hospital for the injuries he sustained during Hall’s unprovoked attack. Hall pleaded guilty to violating the Matthew Shepard and James Byrd Jr. Hate Crimes Prevention Act on Nov. 8, 2012. “Brutality and violence based on sexual orientation has no place in a civilized society,” said Thomas E. Perez, Assistant Attorney General for the Civil Rights Division. “The Justice Department is committed to using all the tools in our law enforcement arsenal, including the Matthew Shepard and James Byrd Jr. Hate Crimes Prevention Act, to prosecute acts motivated by hate.” “This prosecution sends a clear message that this office, in partnership with attorneys in the department’s Civil Rights Division, will prioritize and aggressively prosecute hate crimes and others civil rights violations in North Texas,” said U.S. Attorney Sarah R. Saldaña of the Northern District of Texas. This case was investigated by the FBI Dallas Division. The case was prosecuted by Assistant U.S. Attorney Errin Martin and Trial Attorney Adriana Vieco of the Civil Rights Division.</td>\n",
       "      <td>0.299</td>\n",
       "    </tr>\n",
       "  </tbody>\n",
       "</table>\n",
       "</div>"
      ],
      "text/plain": [
       "        id  \\\n",
       "13  14-248   \n",
       "34  13-312   \n",
       "\n",
       "                                                                                                                                                                                                                                                                                                                                                                                                                                                                                                                                                                                                                                                                                                                                                                                                                                                                                                                                                                                                                                                                                                                                                                                                                                                                                                                                                                                                                                                                                                                                                                                                                                                                                                                                                                                                                                                                                                                                                                                                                                                                                                                                                                                                                                                                                                                                 contents  \\\n",
       "13                                                                                                                                                                                                                                                                                                                                                                                                                                                                                                                                                                                                                                                                                                                                                                                                                                                                                                                                                                                                            The Department of Justice announced that this morning John W. Ng, 58, of Albuquerque, N.M., made his initial appearance in federal court on a criminal complaint charging him with a hate crime offense.  This charge is related to anti-Semitic threats Ng made against a Jewish woman who owns and operates the Nosh Jewish Delicatessen and Bakery in Albuquerque. Ng was arrested by the FBI on March 7, 2014, based on a criminal complaint alleging that he interfered with the victim’s federally protected rights by threatening her and interfering with her business because of her religion.  According to the criminal complaint, between Jan. 22, 2014, and Feb. 8, 2014, Ng allegedly posted threatening anti-Semitic notes on and in the vicinity of the victim’s business. A criminal complaint merely establishes probable cause, and Ng is presumed innocent unless proven guilty.  If convicted on the offense charged in the criminal complaint, Ng faces a maximum statutory penalty of one year in prison. This matter was investigated by the Albuquerque Division of the FBI and is being prosecuted by Assistant U.S. Attorney Mark T. Baker of the U.S. Attorney’s Office for the District of New Mexico and Trial Attorney AeJean Cha of the U.S. Department of Justice’s Civil Rights Division.   \n",
       "34  John Hall, 27, an Aryan Brotherhood member and inmate at the Federal Correctional Institution (FCI) in Seagoville, Texas, was sentenced today by U.S. District Judge Reed O’Connor after pleading guilty to violating the Matthew Shepard and James Byrd Jr. Hate Crimes Prevention Act stemming from his assault of a fellow inmate, whom he believed to be gay, the Department of Justice announced. Hall assaulted his fellow inmate with a dangerous weapon, causing bodily injury to the victim on Dec. 20, 2011. Hall was sentenced to serve 71 months in prison to be served consecutively with the sentence he is currently serving. The assault occurred on Dec. 20, 2011, inside the FCI Seagoville when Hall targeted and attacked the victim, a fellow inmate, because he believed the victim was gay or involved in a sexual relationship with another male inmate. Hall repeatedly punched, kicked and stomped on the victim’s face with his shod feet, a dangerous weapon, while yelling a homophobic slur. The victim lost consciousness during the assault and suffered multiple lacerations to his face. The victim also sustained a fractured eye socket, lost a tooth, fractured other teeth and was treated at a hospital for the injuries he sustained during Hall’s unprovoked attack. Hall pleaded guilty to violating the Matthew Shepard and James Byrd Jr. Hate Crimes Prevention Act on Nov. 8, 2012. “Brutality and violence based on sexual orientation has no place in a civilized society,” said Thomas E. Perez, Assistant Attorney General for the Civil Rights Division. “The Justice Department is committed to using all the tools in our law enforcement arsenal, including the Matthew Shepard and James Byrd Jr. Hate Crimes Prevention Act, to prosecute acts motivated by hate.” “This prosecution sends a clear message that this office, in partnership with attorneys in the department’s Civil Rights Division, will prioritize and aggressively prosecute hate crimes and others civil rights violations in North Texas,” said U.S. Attorney Sarah R. Saldaña of the Northern District of Texas. This case was investigated by the FBI Dallas Division. The case was prosecuted by Assistant U.S. Attorney Errin Martin and Trial Attorney Adriana Vieco of the Civil Rights Division.   \n",
       "\n",
       "      neg  \n",
       "13  0.316  \n",
       "34  0.299  "
      ]
     },
     "execution_count": 392,
     "metadata": {},
     "output_type": "execute_result"
    }
   ],
   "source": [
    "## Sort by neg\n",
    "doj_subset_wscore_sort = doj_subset_wscore.sort_values(by=[\"neg\"], ascending=False)\n",
    "doj_subset_wscore_sort[[\"id\", \"contents\", \"neg\"]].head(2)\n"
   ]
  },
  {
   "cell_type": "markdown",
   "metadata": {},
   "source": [
    "D. With the dataframe from part C, find the mean compound sentiment score for each of the three topics in `topics_clean` using group_by and agg.\n",
    "\n",
    "E. Add a 1 sentence interpretation of why we might see the variation in scores (remember that compound is a standardized summary where -1 is most negative; +1 is most positive)\n"
   ]
  },
  {
   "cell_type": "code",
   "execution_count": null,
   "metadata": {},
   "outputs": [],
   "source": [
    "##D\n",
    "##Find mean compound sentiment score for each of the three topics\n",
    "doj_subset_mean = doj_subset_wscore.groupby(\"topics_clean\").agg({\"compound\" : \"mean\"}).reset_index()\n",
    "doj_subset_mean\n"
   ]
  },
  {
   "cell_type": "code",
   "execution_count": 393,
   "metadata": {},
   "outputs": [
    {
     "data": {
      "text/html": [
       "<div>\n",
       "<style scoped>\n",
       "    .dataframe tbody tr th:only-of-type {\n",
       "        vertical-align: middle;\n",
       "    }\n",
       "\n",
       "    .dataframe tbody tr th {\n",
       "        vertical-align: top;\n",
       "    }\n",
       "\n",
       "    .dataframe thead th {\n",
       "        text-align: right;\n",
       "    }\n",
       "</style>\n",
       "<table border=\"1\" class=\"dataframe\">\n",
       "  <thead>\n",
       "    <tr style=\"text-align: right;\">\n",
       "      <th></th>\n",
       "      <th>topics_clean</th>\n",
       "      <th>compound</th>\n",
       "    </tr>\n",
       "  </thead>\n",
       "  <tbody>\n",
       "    <tr>\n",
       "      <th>0</th>\n",
       "      <td>Civil Rights</td>\n",
       "      <td>-0.127280</td>\n",
       "    </tr>\n",
       "    <tr>\n",
       "      <th>1</th>\n",
       "      <td>Hate Crimes</td>\n",
       "      <td>-0.932998</td>\n",
       "    </tr>\n",
       "    <tr>\n",
       "      <th>2</th>\n",
       "      <td>Project Safe Childhood</td>\n",
       "      <td>-0.657389</td>\n",
       "    </tr>\n",
       "  </tbody>\n",
       "</table>\n",
       "</div>"
      ],
      "text/plain": [
       "             topics_clean  compound\n",
       "0            Civil Rights -0.127280\n",
       "1             Hate Crimes -0.932998\n",
       "2  Project Safe Childhood -0.657389"
      ]
     },
     "execution_count": 393,
     "metadata": {},
     "output_type": "execute_result"
    }
   ],
   "source": [
    "##E\n",
    "#We might see variation in scores because the three different topics may have different results \n",
    "#of sentiment analysis scores and it is possible that hate crimes have the most negative compound score because\n",
    "#more negative words appear under this topic."
   ]
  },
  {
   "cell_type": "markdown",
   "metadata": {},
   "source": [
    "# 2. Topic modeling (25 points)\n",
    "\n",
    "For this question, use the `doj_subset_wscores` data that is restricted to civil rights, hate crimes, and project safe childhood and with the sentiment scores added\n"
   ]
  },
  {
   "cell_type": "markdown",
   "metadata": {},
   "source": [
    "## 2.1 Preprocess the data by removing stopwords, punctuation, and non-alpha words (5 points)\n",
    "\n",
    "A. Write a function that:\n",
    "\n",
    "- Takes in a single raw string in the `contents` column from that dataframe\n",
    "- Does the following preprocessing steps:\n",
    "\n",
    "    - Converts the words to lowercase\n",
    "    - Removes stopwords, adding the custom stopwords in your code cell below to the default stopwords list\n",
    "    - Only retains alpha words (so removes digits and punctuation)\n",
    "    - Only retains words 4 characters or longer\n",
    "    - Uses the snowball stemmer from nltk to stem\n",
    "\n",
    "- Returns a joined preprocessed string\n",
    "    \n",
    "B. Use `apply` or list comprehension to execute that function and create a new column in the data called `processed_text`\n",
    "    \n",
    "C. Print the `id`, `contents`, and `processed_text` columns for the following press releases:\n",
    "\n",
    "id = 16-718 (this case: https://www.seattletimes.com/nation-world/doj-miami-police-reach-settlement-in-civil-rights-case/)\n",
    "\n",
    "id = 16-217 (this case: https://www.wlbt.com/story/32275512/three-mississippi-correctional-officers-indicted-for-inmate-assault-and-cover-up/)\n",
    "    \n",
    "**Resources**:\n",
    "\n",
    "- Here's code examples for the snowball stemmer: https://www.geeksforgeeks.org/snowball-stemmer-nlp/\n",
    "- Here's more condensed code with topic modeling steps: https://github.com/rebeccajohnson88/qss20_slides_activities/blob/main/activities/w22_activities/solutions/06_textasdata_partII_topicmodeling_solution.ipynb\n",
    "- Here's longer code with more broken-out topic modeling steps: https://github.com/rebeccajohnson88/qss20_slides_activities/blob/main/activities/w22_activities/06_textasdata_partII_topicmodeling.ipynb "
   ]
  },
  {
   "cell_type": "code",
   "execution_count": 394,
   "metadata": {},
   "outputs": [],
   "source": [
    "custom_doj_stopwords = [\"civil\", \"rights\", \"division\", \"department\", \"justice\",\n",
    "                        \"office\", \"attorney\", \"district\", \"case\", \"investigation\", \"assistant\",\n",
    "                       \"trial\", \"assistance\", \"assist\"]"
   ]
  },
  {
   "cell_type": "code",
   "execution_count": 395,
   "metadata": {},
   "outputs": [],
   "source": [
    "##A\n",
    "##Define a function\n",
    "list_stopwords = stopwords.words(\"english\")\n",
    "list_stopwords_new = list_stopwords + custom_doj_stopwords\n",
    "\n",
    "## Initiliaze stemmer\n",
    "porter = PorterStemmer()\n",
    "\n",
    "def processfunc(string):\n",
    "    ## Convert to lowercase\n",
    "    corpus_lower = string.lower()\n",
    "    \n",
    "    try:\n",
    "        nostop_listing = [word for word in wordpunct_tokenize(corpus_lower)\n",
    "                          if word not in list_stopwords_new]\n",
    "        \n",
    "        clean_listing = [porter.stem(word) for word in nostop_listing\n",
    "                         if word.isalpha() \n",
    "                         and len(word) >= 4]\n",
    "        \n",
    "        clean_listing_str = \" \".join(clean_listing)\n",
    "        \n",
    "        return(clean_listing_str)\n",
    "    \n",
    "    except:\n",
    "        return(\"\")\n"
   ]
  },
  {
   "cell_type": "code",
   "execution_count": 396,
   "metadata": {},
   "outputs": [],
   "source": [
    "##B\n",
    "##Execute function with list comprehension\n",
    "cleaned_listings = [processfunc(one_listing) for one_listing in\n",
    "                   doj_subset_wscore[\"contents\"]]\n"
   ]
  },
  {
   "cell_type": "code",
   "execution_count": 397,
   "metadata": {},
   "outputs": [
    {
     "data": {
      "text/html": [
       "<div>\n",
       "<style scoped>\n",
       "    .dataframe tbody tr th:only-of-type {\n",
       "        vertical-align: middle;\n",
       "    }\n",
       "\n",
       "    .dataframe tbody tr th {\n",
       "        vertical-align: top;\n",
       "    }\n",
       "\n",
       "    .dataframe thead th {\n",
       "        text-align: right;\n",
       "    }\n",
       "</style>\n",
       "<table border=\"1\" class=\"dataframe\">\n",
       "  <thead>\n",
       "    <tr style=\"text-align: right;\">\n",
       "      <th></th>\n",
       "      <th>id</th>\n",
       "      <th>contents</th>\n",
       "      <th>processed_text</th>\n",
       "    </tr>\n",
       "  </thead>\n",
       "  <tbody>\n",
       "    <tr>\n",
       "      <th>313</th>\n",
       "      <td>16-217</td>\n",
       "      <td>The Justice Department has reached a comprehensive settlement agreement with the city of Miami and the Miami Police Department (MPD) resolving the Justice Department’s investigation of officer-involved shootings by MPD officers, announced Principal Deputy Assistant Attorney General Vanita Gupta, head of the Justice Department’s Civil Rights Division and U.S. Attorney Wifredo A. Ferrer of the Southern District of Florida. The settlement, which was approved by Miami’s city commission today and will go into effect when the agreement is signed by all parties, resolves claims stemming from the Justice Department’s investigation into officer-involved shootings by MPD officers, which was conducted under the Violent Crime Control and Law Enforcement Act of 1994.  The investigation’s findings, issued in July 2013, identified a pattern or practice of excessive use of force through officer-involved shootings in violation of the Fourth Amendment of the Constitution.  The city’s compliance with the settlement will be monitored by an independent reviewer, former Tampa, Florida, Police Chief Jane Castor.  Under the settlement agreement, the city will implement comprehensive reforms to ensure constitutional policing and support public trust.  The settlement agreement is designed to minimize officer-involved shootings and to more effectively and quickly investigate officer-involved shootings that do occur, through measures that include: “This settlement represents a renewed commitment by the city of Miami and Chief Rodolfo Llanes to provide constitutional policing for Miami residents and to protect public safety through sustainable reform,” said Principal Deputy Assistant Attorney General Gupta.  “The agreement will help to strengthen the relationship between the MPD and the communities they serve by improving accountability for officers who fire their weapons unlawfully, and provides for community participation in the enforcement of this agreement.”  “Today's agreement is the result of a joint effort between the Department of Justice and the City of Miami to ensure that the Miami Police Department continues its efforts to make our community safe while protecting the sacred Constitutional rights of all of our citizens,” said U.S. Attorney Ferrer.  “Through oversight and communication, the agreement seeks to make permanent the positive changes that former Chief Orosa and Chief Llanes have made, and we applaud the City Commission’s vote.” The settlement agreement builds upon important reforms implemented by the city since the Justice Department issued its findings, including:  The investigation was conducted by attorneys and staff from the Civil Rights Division’s Special Litigation Section and the Civil Division of the U. S. Attorney’s Office of the Southern District of Florida.</td>\n",
       "      <td>reach comprehens settlement agreement citi miami miami polic resolv offic involv shoot offic announc princip deputi gener vanita gupta head wifredo ferrer southern florida settlement approv miami citi commiss today effect agreement sign parti resolv claim stem offic involv shoot offic conduct violent crime control enforc find issu juli identifi pattern practic excess forc offic involv shoot violat fourth amend constitut citi complianc settlement monitor independ review former tampa florida polic chief jane castor settlement agreement citi implement comprehens reform ensur constitut polic support public trust settlement agreement design minim offic involv shoot effect quickli investig offic involv shoot occur measur includ settlement repres renew commit citi miami chief rodolfo llane provid constitut polic miami resid protect public safeti sustain reform said princip deputi gener gupta agreement help strengthen relationship commun serv improv account offic fire weapon unlaw provid commun particip enforc agreement today agreement result joint effort citi miami ensur miami polic continu effort make commun safe protect sacr constitut citizen said ferrer oversight commun agreement seek make perman posit chang former chief orosa chief llane made applaud citi commiss vote settlement agreement build upon import reform implement citi sinc issu find includ conduct attorney staff special litig section southern florida</td>\n",
       "    </tr>\n",
       "    <tr>\n",
       "      <th>632</th>\n",
       "      <td>16-718</td>\n",
       "      <td>In a nine-count indictment unsealed today, two Mississippi correctional officers were charged with beating an inmate and a third was charged with helping to cover it up.  The indictment charged Lawardrick Marsher, 28, and Robert Sturdivant, 47, officers at Mississippi State Penitentiary, in Parchman, Mississippi, with a beating that included kicking, punching and throwing the victim to the ground.  Marsher and Sturdivant were charged with violating the right of K.H., a convicted prisoner, to be free from cruel and unusual punishment.  Sturdivant was also charged with failing to intervene while Marsher was punching and beating K.H.  The indictment alleges that their actions involved the use of a dangerous weapon and resulted in bodily injury to the victim. A third officer, Deonte Pate, 23, was charged along with Marsher and Sturdivant for conspiring to cover up the beating.  The indictment alleges that all three officers submitted false reports and that all three lied to the FBI. If convicted, Marsher and Sturdivant face a maximum sentence of 10 years in prison on the excessive force charges.  Each of the three officers faces up to five years in prison on the conspiracy and false statement charges, and up to 20 years in prison on the false report charges. An indictment is merely an accusation, and the defendants are presumed innocent unless and until proven guilty. This case is being investigated by the FBI’s Jackson Division, with the cooperation of the Mississippi Department of Corrections.  It is being prosecuted by Assistant U.S. Attorney Robert Coleman of the Northern District of Mississippi and Trial Attorney Dana Mulhauser of the Civil Rights Division’s Criminal Section.     Marsher Indictment</td>\n",
       "      <td>nine count indict unseal today mississippi correct offic charg beat inmat third charg help cover indict charg lawardrick marsher robert sturdiv offic mississippi state penitentiari parchman mississippi beat includ kick punch throw victim ground marsher sturdiv charg violat right convict prison free cruel unusu punish sturdiv also charg fail interven marsher punch beat indict alleg action involv danger weapon result bodili injuri victim third offic deont pate charg along marsher sturdiv conspir cover beat indict alleg three offic submit fals report three lie convict marsher sturdiv face maximum sentenc year prison excess forc charg three offic face five year prison conspiraci fals statement charg year prison fals report charg indict mere accus defend presum innoc unless proven guilti investig jackson cooper mississippi correct prosecut robert coleman northern mississippi dana mulhaus crimin section marsher indict</td>\n",
       "    </tr>\n",
       "  </tbody>\n",
       "</table>\n",
       "</div>"
      ],
      "text/plain": [
       "         id  \\\n",
       "313  16-217   \n",
       "632  16-718   \n",
       "\n",
       "                                                                                                                                                                                                                                                                                                                                                                                                                                                                                                                                                                                                                                                                                                                                                                                                                                                                                                                                                                                                                                                                                                                                                                                                                                                                                                                                                                                                                                                                                                                                                                                                                                                                                                                                                                                                                                                                                                                                                                                                                                                                                                                                                                                                                                                                                                                                                                                                                                                                                                                                                                                                                                                                                                                                                                                                                                                                                                                       contents  \\\n",
       "313  The Justice Department has reached a comprehensive settlement agreement with the city of Miami and the Miami Police Department (MPD) resolving the Justice Department’s investigation of officer-involved shootings by MPD officers, announced Principal Deputy Assistant Attorney General Vanita Gupta, head of the Justice Department’s Civil Rights Division and U.S. Attorney Wifredo A. Ferrer of the Southern District of Florida. The settlement, which was approved by Miami’s city commission today and will go into effect when the agreement is signed by all parties, resolves claims stemming from the Justice Department’s investigation into officer-involved shootings by MPD officers, which was conducted under the Violent Crime Control and Law Enforcement Act of 1994.  The investigation’s findings, issued in July 2013, identified a pattern or practice of excessive use of force through officer-involved shootings in violation of the Fourth Amendment of the Constitution.  The city’s compliance with the settlement will be monitored by an independent reviewer, former Tampa, Florida, Police Chief Jane Castor.  Under the settlement agreement, the city will implement comprehensive reforms to ensure constitutional policing and support public trust.  The settlement agreement is designed to minimize officer-involved shootings and to more effectively and quickly investigate officer-involved shootings that do occur, through measures that include: “This settlement represents a renewed commitment by the city of Miami and Chief Rodolfo Llanes to provide constitutional policing for Miami residents and to protect public safety through sustainable reform,” said Principal Deputy Assistant Attorney General Gupta.  “The agreement will help to strengthen the relationship between the MPD and the communities they serve by improving accountability for officers who fire their weapons unlawfully, and provides for community participation in the enforcement of this agreement.”  “Today's agreement is the result of a joint effort between the Department of Justice and the City of Miami to ensure that the Miami Police Department continues its efforts to make our community safe while protecting the sacred Constitutional rights of all of our citizens,” said U.S. Attorney Ferrer.  “Through oversight and communication, the agreement seeks to make permanent the positive changes that former Chief Orosa and Chief Llanes have made, and we applaud the City Commission’s vote.” The settlement agreement builds upon important reforms implemented by the city since the Justice Department issued its findings, including:  The investigation was conducted by attorneys and staff from the Civil Rights Division’s Special Litigation Section and the Civil Division of the U. S. Attorney’s Office of the Southern District of Florida.   \n",
       "632                                                                                                                                                                                                                                                                                                                                                                                                                                                                                                                                                                                                                                                                                                                                                                                                                                                                                                                                                                                                                                                                                                                            In a nine-count indictment unsealed today, two Mississippi correctional officers were charged with beating an inmate and a third was charged with helping to cover it up.  The indictment charged Lawardrick Marsher, 28, and Robert Sturdivant, 47, officers at Mississippi State Penitentiary, in Parchman, Mississippi, with a beating that included kicking, punching and throwing the victim to the ground.  Marsher and Sturdivant were charged with violating the right of K.H., a convicted prisoner, to be free from cruel and unusual punishment.  Sturdivant was also charged with failing to intervene while Marsher was punching and beating K.H.  The indictment alleges that their actions involved the use of a dangerous weapon and resulted in bodily injury to the victim. A third officer, Deonte Pate, 23, was charged along with Marsher and Sturdivant for conspiring to cover up the beating.  The indictment alleges that all three officers submitted false reports and that all three lied to the FBI. If convicted, Marsher and Sturdivant face a maximum sentence of 10 years in prison on the excessive force charges.  Each of the three officers faces up to five years in prison on the conspiracy and false statement charges, and up to 20 years in prison on the false report charges. An indictment is merely an accusation, and the defendants are presumed innocent unless and until proven guilty. This case is being investigated by the FBI’s Jackson Division, with the cooperation of the Mississippi Department of Corrections.  It is being prosecuted by Assistant U.S. Attorney Robert Coleman of the Northern District of Mississippi and Trial Attorney Dana Mulhauser of the Civil Rights Division’s Criminal Section.     Marsher Indictment   \n",
       "\n",
       "                                                                                                                                                                                                                                                                                                                                                                                                                                                                                                                                                                                                                                                                                                                                                                                                                                                                                                                                                                                                                                                                                                                                                                                                                                                                                                                                                                                                                                                                             processed_text  \n",
       "313  reach comprehens settlement agreement citi miami miami polic resolv offic involv shoot offic announc princip deputi gener vanita gupta head wifredo ferrer southern florida settlement approv miami citi commiss today effect agreement sign parti resolv claim stem offic involv shoot offic conduct violent crime control enforc find issu juli identifi pattern practic excess forc offic involv shoot violat fourth amend constitut citi complianc settlement monitor independ review former tampa florida polic chief jane castor settlement agreement citi implement comprehens reform ensur constitut polic support public trust settlement agreement design minim offic involv shoot effect quickli investig offic involv shoot occur measur includ settlement repres renew commit citi miami chief rodolfo llane provid constitut polic miami resid protect public safeti sustain reform said princip deputi gener gupta agreement help strengthen relationship commun serv improv account offic fire weapon unlaw provid commun particip enforc agreement today agreement result joint effort citi miami ensur miami polic continu effort make commun safe protect sacr constitut citizen said ferrer oversight commun agreement seek make perman posit chang former chief orosa chief llane made applaud citi commiss vote settlement agreement build upon import reform implement citi sinc issu find includ conduct attorney staff special litig section southern florida  \n",
       "632                                                                                                                                                                                                                                                                                                                                                                                                                                                                                                                           nine count indict unseal today mississippi correct offic charg beat inmat third charg help cover indict charg lawardrick marsher robert sturdiv offic mississippi state penitentiari parchman mississippi beat includ kick punch throw victim ground marsher sturdiv charg violat right convict prison free cruel unusu punish sturdiv also charg fail interven marsher punch beat indict alleg action involv danger weapon result bodili injuri victim third offic deont pate charg along marsher sturdiv conspir cover beat indict alleg three offic submit fals report three lie convict marsher sturdiv face maximum sentenc year prison excess forc charg three offic face five year prison conspiraci fals statement charg year prison fals report charg indict mere accus defend presum innoc unless proven guilti investig jackson cooper mississippi correct prosecut robert coleman northern mississippi dana mulhaus crimin section marsher indict  "
      ]
     },
     "execution_count": 397,
     "metadata": {},
     "output_type": "execute_result"
    }
   ],
   "source": [
    "##C\n",
    "##Store values as new column in dataframe\n",
    "doj_subset_wscore[\"processed_text\"] = cleaned_listings\n",
    "\n",
    "## Print id, contents, and processed text for two specific cases\n",
    "doj_subset_ids = doj_subset_wscore[(doj_subset_wscore[\"id\"] == \"16-718\") | (doj_subset_wscore[\"id\"] == \"16-217\")]\n",
    "doj_subset_ids[[\"id\", \"contents\", \"processed_text\"]]\n"
   ]
  },
  {
   "cell_type": "markdown",
   "metadata": {},
   "source": [
    "## 2.2 Create a document-term matrix from the preprocessed press releases and to explore top words (5 points)\n",
    "\n",
    "A. Use the `create_dtm` function I provide (alternately, feel free to write your own!) and create a document-term matrix using the preprocessed press releases; make sure metadata contains the following columns: `id`, `compound` sentiment column you added, and the `topics_clean` column\n",
    "\n",
    "B. Print the top 10 words for press releases with compound sentiment in the top 5% (so the most positive sentiment)\n",
    "\n",
    "C. Print the top 10 words for press releases with compound sentiment in the bottom 5% (so the most negative sentiment)\n",
    "\n",
    "**Hint**: for these, remember the pandas quantile function from pset one.  \n",
    "\n",
    "D. Print the top 10 words for press releases in each of the three `topics_clean`\n",
    "\n",
    "For steps B - D, to receive full credit, write a function `get_topwords` that helps you avoid duplicated code when you find top words for the different subsets of the data. There are different ways to structure it but one way is to feed it subsetted data (so data subsetted to one topic etc.) and for it to get the top words for that subset.\n",
    "\n",
    "**Resources**:\n",
    "\n",
    "- Here contains an example of applying the create_dtm function: https://github.com/rebeccajohnson88/qss20_slides_activities/blob/main/activities/w22_activities/solutions/06_textasdata_partII_topicmodeling_solution.ipynb\n"
   ]
  },
  {
   "cell_type": "code",
   "execution_count": 398,
   "metadata": {},
   "outputs": [],
   "source": [
    "def create_dtm(list_of_strings, metadata):\n",
    "    vectorizer = CountVectorizer(lowercase = True)\n",
    "    dtm_sparse = vectorizer.fit_transform(list_of_strings)\n",
    "    dtm_dense_named = pd.DataFrame(dtm_sparse.todense(), \n",
    "        columns=vectorizer.get_feature_names())\n",
    "    metadata.columns = [\"metadata_\" + col for col in metadata.columns]\n",
    "    dtm_dense_named_withid = pd.concat([metadata.reset_index(), dtm_dense_named], axis = 1)\n",
    "    return(dtm_dense_named_withid)\n"
   ]
  },
  {
   "cell_type": "code",
   "execution_count": 429,
   "metadata": {},
   "outputs": [
    {
     "data": {
      "text/html": [
       "<div>\n",
       "<style scoped>\n",
       "    .dataframe tbody tr th:only-of-type {\n",
       "        vertical-align: middle;\n",
       "    }\n",
       "\n",
       "    .dataframe tbody tr th {\n",
       "        vertical-align: top;\n",
       "    }\n",
       "\n",
       "    .dataframe thead th {\n",
       "        text-align: right;\n",
       "    }\n",
       "</style>\n",
       "<table border=\"1\" class=\"dataframe\">\n",
       "  <thead>\n",
       "    <tr style=\"text-align: right;\">\n",
       "      <th></th>\n",
       "      <th>index</th>\n",
       "      <th>metadata_id</th>\n",
       "      <th>metadata_compound</th>\n",
       "      <th>metadata_topics_clean</th>\n",
       "      <th>aaron</th>\n",
       "      <th>abandon</th>\n",
       "      <th>abbat</th>\n",
       "      <th>abbi</th>\n",
       "      <th>abbott</th>\n",
       "      <th>abdomen</th>\n",
       "      <th>...</th>\n",
       "      <th>zane</th>\n",
       "      <th>zealand</th>\n",
       "      <th>zealou</th>\n",
       "      <th>zeeman</th>\n",
       "      <th>zero</th>\n",
       "      <th>zionism</th>\n",
       "      <th>zobel</th>\n",
       "      <th>zone</th>\n",
       "      <th>zunggeemog</th>\n",
       "      <th>zwengel</th>\n",
       "    </tr>\n",
       "  </thead>\n",
       "  <tbody>\n",
       "    <tr>\n",
       "      <th>0</th>\n",
       "      <td>0</td>\n",
       "      <td>17-1235</td>\n",
       "      <td>-0.9920</td>\n",
       "      <td>Civil Rights</td>\n",
       "      <td>0</td>\n",
       "      <td>0</td>\n",
       "      <td>0</td>\n",
       "      <td>0</td>\n",
       "      <td>0</td>\n",
       "      <td>0</td>\n",
       "      <td>...</td>\n",
       "      <td>0</td>\n",
       "      <td>0</td>\n",
       "      <td>0</td>\n",
       "      <td>0</td>\n",
       "      <td>0</td>\n",
       "      <td>0</td>\n",
       "      <td>0</td>\n",
       "      <td>0</td>\n",
       "      <td>0</td>\n",
       "      <td>0</td>\n",
       "    </tr>\n",
       "    <tr>\n",
       "      <th>1</th>\n",
       "      <td>1</td>\n",
       "      <td>15-1522</td>\n",
       "      <td>-0.8910</td>\n",
       "      <td>Project Safe Childhood</td>\n",
       "      <td>0</td>\n",
       "      <td>0</td>\n",
       "      <td>0</td>\n",
       "      <td>0</td>\n",
       "      <td>0</td>\n",
       "      <td>0</td>\n",
       "      <td>...</td>\n",
       "      <td>0</td>\n",
       "      <td>0</td>\n",
       "      <td>0</td>\n",
       "      <td>0</td>\n",
       "      <td>0</td>\n",
       "      <td>0</td>\n",
       "      <td>0</td>\n",
       "      <td>0</td>\n",
       "      <td>0</td>\n",
       "      <td>0</td>\n",
       "    </tr>\n",
       "    <tr>\n",
       "      <th>2</th>\n",
       "      <td>2</td>\n",
       "      <td>16-213</td>\n",
       "      <td>-0.8316</td>\n",
       "      <td>Project Safe Childhood</td>\n",
       "      <td>0</td>\n",
       "      <td>0</td>\n",
       "      <td>0</td>\n",
       "      <td>0</td>\n",
       "      <td>0</td>\n",
       "      <td>0</td>\n",
       "      <td>...</td>\n",
       "      <td>0</td>\n",
       "      <td>0</td>\n",
       "      <td>0</td>\n",
       "      <td>0</td>\n",
       "      <td>0</td>\n",
       "      <td>0</td>\n",
       "      <td>0</td>\n",
       "      <td>0</td>\n",
       "      <td>0</td>\n",
       "      <td>0</td>\n",
       "    </tr>\n",
       "    <tr>\n",
       "      <th>3</th>\n",
       "      <td>3</td>\n",
       "      <td>16-381</td>\n",
       "      <td>-0.9037</td>\n",
       "      <td>Project Safe Childhood</td>\n",
       "      <td>0</td>\n",
       "      <td>0</td>\n",
       "      <td>0</td>\n",
       "      <td>0</td>\n",
       "      <td>0</td>\n",
       "      <td>0</td>\n",
       "      <td>...</td>\n",
       "      <td>0</td>\n",
       "      <td>0</td>\n",
       "      <td>0</td>\n",
       "      <td>0</td>\n",
       "      <td>0</td>\n",
       "      <td>0</td>\n",
       "      <td>0</td>\n",
       "      <td>0</td>\n",
       "      <td>0</td>\n",
       "      <td>0</td>\n",
       "    </tr>\n",
       "    <tr>\n",
       "      <th>4</th>\n",
       "      <td>4</td>\n",
       "      <td>14-464</td>\n",
       "      <td>-0.9839</td>\n",
       "      <td>Hate Crimes</td>\n",
       "      <td>0</td>\n",
       "      <td>0</td>\n",
       "      <td>0</td>\n",
       "      <td>0</td>\n",
       "      <td>0</td>\n",
       "      <td>0</td>\n",
       "      <td>...</td>\n",
       "      <td>0</td>\n",
       "      <td>0</td>\n",
       "      <td>0</td>\n",
       "      <td>0</td>\n",
       "      <td>0</td>\n",
       "      <td>0</td>\n",
       "      <td>0</td>\n",
       "      <td>0</td>\n",
       "      <td>0</td>\n",
       "      <td>0</td>\n",
       "    </tr>\n",
       "    <tr>\n",
       "      <th>...</th>\n",
       "      <td>...</td>\n",
       "      <td>...</td>\n",
       "      <td>...</td>\n",
       "      <td>...</td>\n",
       "      <td>...</td>\n",
       "      <td>...</td>\n",
       "      <td>...</td>\n",
       "      <td>...</td>\n",
       "      <td>...</td>\n",
       "      <td>...</td>\n",
       "      <td>...</td>\n",
       "      <td>...</td>\n",
       "      <td>...</td>\n",
       "      <td>...</td>\n",
       "      <td>...</td>\n",
       "      <td>...</td>\n",
       "      <td>...</td>\n",
       "      <td>...</td>\n",
       "      <td>...</td>\n",
       "      <td>...</td>\n",
       "      <td>...</td>\n",
       "    </tr>\n",
       "    <tr>\n",
       "      <th>712</th>\n",
       "      <td>712</td>\n",
       "      <td>09-368</td>\n",
       "      <td>-0.9787</td>\n",
       "      <td>Hate Crimes</td>\n",
       "      <td>0</td>\n",
       "      <td>0</td>\n",
       "      <td>0</td>\n",
       "      <td>0</td>\n",
       "      <td>0</td>\n",
       "      <td>0</td>\n",
       "      <td>...</td>\n",
       "      <td>0</td>\n",
       "      <td>0</td>\n",
       "      <td>0</td>\n",
       "      <td>0</td>\n",
       "      <td>0</td>\n",
       "      <td>0</td>\n",
       "      <td>0</td>\n",
       "      <td>0</td>\n",
       "      <td>0</td>\n",
       "      <td>0</td>\n",
       "    </tr>\n",
       "    <tr>\n",
       "      <th>713</th>\n",
       "      <td>713</td>\n",
       "      <td>18-775</td>\n",
       "      <td>0.7003</td>\n",
       "      <td>Project Safe Childhood</td>\n",
       "      <td>0</td>\n",
       "      <td>0</td>\n",
       "      <td>0</td>\n",
       "      <td>0</td>\n",
       "      <td>0</td>\n",
       "      <td>0</td>\n",
       "      <td>...</td>\n",
       "      <td>0</td>\n",
       "      <td>0</td>\n",
       "      <td>0</td>\n",
       "      <td>0</td>\n",
       "      <td>0</td>\n",
       "      <td>0</td>\n",
       "      <td>0</td>\n",
       "      <td>0</td>\n",
       "      <td>0</td>\n",
       "      <td>0</td>\n",
       "    </tr>\n",
       "    <tr>\n",
       "      <th>714</th>\n",
       "      <td>714</td>\n",
       "      <td>12-596</td>\n",
       "      <td>-0.9538</td>\n",
       "      <td>Project Safe Childhood</td>\n",
       "      <td>0</td>\n",
       "      <td>0</td>\n",
       "      <td>0</td>\n",
       "      <td>0</td>\n",
       "      <td>0</td>\n",
       "      <td>0</td>\n",
       "      <td>...</td>\n",
       "      <td>0</td>\n",
       "      <td>0</td>\n",
       "      <td>0</td>\n",
       "      <td>0</td>\n",
       "      <td>0</td>\n",
       "      <td>0</td>\n",
       "      <td>0</td>\n",
       "      <td>0</td>\n",
       "      <td>0</td>\n",
       "      <td>0</td>\n",
       "    </tr>\n",
       "    <tr>\n",
       "      <th>715</th>\n",
       "      <td>715</td>\n",
       "      <td>18-359</td>\n",
       "      <td>-0.9866</td>\n",
       "      <td>Civil Rights</td>\n",
       "      <td>0</td>\n",
       "      <td>0</td>\n",
       "      <td>0</td>\n",
       "      <td>0</td>\n",
       "      <td>0</td>\n",
       "      <td>0</td>\n",
       "      <td>...</td>\n",
       "      <td>0</td>\n",
       "      <td>0</td>\n",
       "      <td>0</td>\n",
       "      <td>0</td>\n",
       "      <td>0</td>\n",
       "      <td>0</td>\n",
       "      <td>0</td>\n",
       "      <td>0</td>\n",
       "      <td>0</td>\n",
       "      <td>0</td>\n",
       "    </tr>\n",
       "    <tr>\n",
       "      <th>716</th>\n",
       "      <td>716</td>\n",
       "      <td>14-1377</td>\n",
       "      <td>-0.9938</td>\n",
       "      <td>Hate Crimes</td>\n",
       "      <td>0</td>\n",
       "      <td>0</td>\n",
       "      <td>0</td>\n",
       "      <td>0</td>\n",
       "      <td>0</td>\n",
       "      <td>1</td>\n",
       "      <td>...</td>\n",
       "      <td>0</td>\n",
       "      <td>0</td>\n",
       "      <td>0</td>\n",
       "      <td>0</td>\n",
       "      <td>0</td>\n",
       "      <td>0</td>\n",
       "      <td>0</td>\n",
       "      <td>0</td>\n",
       "      <td>0</td>\n",
       "      <td>0</td>\n",
       "    </tr>\n",
       "  </tbody>\n",
       "</table>\n",
       "<p>717 rows × 6932 columns</p>\n",
       "</div>"
      ],
      "text/plain": [
       "     index metadata_id  metadata_compound   metadata_topics_clean  aaron  \\\n",
       "0        0     17-1235            -0.9920            Civil Rights      0   \n",
       "1        1     15-1522            -0.8910  Project Safe Childhood      0   \n",
       "2        2      16-213            -0.8316  Project Safe Childhood      0   \n",
       "3        3      16-381            -0.9037  Project Safe Childhood      0   \n",
       "4        4      14-464            -0.9839             Hate Crimes      0   \n",
       "..     ...         ...                ...                     ...    ...   \n",
       "712    712      09-368            -0.9787             Hate Crimes      0   \n",
       "713    713      18-775             0.7003  Project Safe Childhood      0   \n",
       "714    714      12-596            -0.9538  Project Safe Childhood      0   \n",
       "715    715      18-359            -0.9866            Civil Rights      0   \n",
       "716    716     14-1377            -0.9938             Hate Crimes      0   \n",
       "\n",
       "     abandon  abbat  abbi  abbott  abdomen  ...  zane  zealand  zealou  \\\n",
       "0          0      0     0       0        0  ...     0        0       0   \n",
       "1          0      0     0       0        0  ...     0        0       0   \n",
       "2          0      0     0       0        0  ...     0        0       0   \n",
       "3          0      0     0       0        0  ...     0        0       0   \n",
       "4          0      0     0       0        0  ...     0        0       0   \n",
       "..       ...    ...   ...     ...      ...  ...   ...      ...     ...   \n",
       "712        0      0     0       0        0  ...     0        0       0   \n",
       "713        0      0     0       0        0  ...     0        0       0   \n",
       "714        0      0     0       0        0  ...     0        0       0   \n",
       "715        0      0     0       0        0  ...     0        0       0   \n",
       "716        0      0     0       0        1  ...     0        0       0   \n",
       "\n",
       "     zeeman  zero  zionism  zobel  zone  zunggeemog  zwengel  \n",
       "0         0     0        0      0     0           0        0  \n",
       "1         0     0        0      0     0           0        0  \n",
       "2         0     0        0      0     0           0        0  \n",
       "3         0     0        0      0     0           0        0  \n",
       "4         0     0        0      0     0           0        0  \n",
       "..      ...   ...      ...    ...   ...         ...      ...  \n",
       "712       0     0        0      0     0           0        0  \n",
       "713       0     0        0      0     0           0        0  \n",
       "714       0     0        0      0     0           0        0  \n",
       "715       0     0        0      0     0           0        0  \n",
       "716       0     0        0      0     0           0        0  \n",
       "\n",
       "[717 rows x 6932 columns]"
      ]
     },
     "execution_count": 429,
     "metadata": {},
     "output_type": "execute_result"
    }
   ],
   "source": [
    "##A\n",
    "## Create a document-term matrix using the preprocessed press releases\n",
    "doj_subset_wscore[\"contents_lower\"] = doj_subset_wscore[\"processed_text\"].str.lower()\n",
    "\n",
    "dtm_pre = create_dtm(list_of_strings= doj_subset_wscore.contents_lower,\n",
    "                     metadata = doj_subset_wscore[[\"id\", \"compound\",\"topics_clean\"]])\n",
    "\n",
    "dtm_pre\n"
   ]
  },
  {
   "cell_type": "code",
   "execution_count": 433,
   "metadata": {},
   "outputs": [],
   "source": [
    "## Function get top words \n",
    "def get_topwords(subset):\n",
    "\n",
    "    dtm_pre_termsonly = subset[[col for col in subset.columns if\n",
    "                                \"metadata\" not in col and col != \"index\"]].sum(axis=0)\n",
    "    \n",
    "    dtm_sorted = dtm_pre_termsonly.sort_values(ascending = False)\n",
    "    \n",
    "    return dtm_sorted.head(10)\n"
   ]
  },
  {
   "cell_type": "code",
   "execution_count": 437,
   "metadata": {},
   "outputs": [
    {
     "name": "stdout",
     "output_type": "stream",
     "text": [
      "Top 5% compound scores\n"
     ]
    },
    {
     "data": {
      "text/plain": [
       "agreement     188\n",
       "enforc        121\n",
       "commun        113\n",
       "disabl        113\n",
       "ensur         109\n",
       "state         106\n",
       "settlement     92\n",
       "student        91\n",
       "polic          88\n",
       "servic         83\n",
       "dtype: int64"
      ]
     },
     "execution_count": 437,
     "metadata": {},
     "output_type": "execute_result"
    }
   ],
   "source": [
    "##B\n",
    "## Dataset with highest 5% of compound scores  (most positive)\n",
    "value_h5 = dtm_pre[\"metadata_compound\"].quantile(0.95)\n",
    "doj_subset_hcompound = dtm_pre[dtm_pre[\"metadata_compound\"] >= value_h5]\n",
    "\n",
    "# Get top words\n",
    "print(\"Top 5% compound scores\")\n",
    "get_topwords(doj_subset_hcompound)\n"
   ]
  },
  {
   "cell_type": "code",
   "execution_count": 438,
   "metadata": {},
   "outputs": [
    {
     "name": "stdout",
     "output_type": "stream",
     "text": [
      "Lowest 5% compound scores\n"
     ]
    },
    {
     "data": {
      "text/plain": [
       "assault     201\n",
       "crime       176\n",
       "victim      176\n",
       "defend      140\n",
       "hate        139\n",
       "offic       120\n",
       "conspir     115\n",
       "american    114\n",
       "sentenc     111\n",
       "charg       108\n",
       "dtype: int64"
      ]
     },
     "execution_count": 438,
     "metadata": {},
     "output_type": "execute_result"
    }
   ],
   "source": [
    "##C\n",
    "## Dataset with lowest 5% of compound scores  (most negative)\n",
    "value_l5 = dtm_pre[\"metadata_compound\"].quantile(0.05)\n",
    "doj_subset_lcompound = dtm_pre[dtm_pre[\"metadata_compound\"] <= value_l5]\n",
    "\n",
    "#Get top words\n",
    "print(\"Lowest 5% compound scores\")\n",
    "get_topwords(doj_subset_lcompound)\n"
   ]
  },
  {
   "cell_type": "code",
   "execution_count": 440,
   "metadata": {},
   "outputs": [
    {
     "name": "stdout",
     "output_type": "stream",
     "text": [
      "Top 10 words: Civil Rights\n"
     ]
    },
    {
     "data": {
      "text/plain": [
       "offic        637\n",
       "hous         633\n",
       "discrimin    616\n",
       "enforc       544\n",
       "disabl       532\n",
       "said         497\n",
       "feder        479\n",
       "violat       477\n",
       "state        452\n",
       "court        414\n",
       "dtype: int64"
      ]
     },
     "execution_count": 440,
     "metadata": {},
     "output_type": "execute_result"
    },
    {
     "name": "stdout",
     "output_type": "stream",
     "text": [
      "Top 10 words: Project Safe Childhood\n"
     ]
    },
    {
     "data": {
      "text/plain": [
       "child          1022\n",
       "exploit         701\n",
       "sexual          572\n",
       "safe            479\n",
       "childhood       474\n",
       "project         472\n",
       "pornographi     452\n",
       "children        423\n",
       "crimin          405\n",
       "prosecut        374\n",
       "dtype: int64"
      ]
     },
     "execution_count": 440,
     "metadata": {},
     "output_type": "execute_result"
    },
    {
     "name": "stdout",
     "output_type": "stream",
     "text": [
      "Top 10 words: Hate Crimes\n"
     ]
    },
    {
     "data": {
      "text/plain": [
       "victim      591\n",
       "crime       557\n",
       "hate        524\n",
       "defend      484\n",
       "prosecut    478\n",
       "charg       463\n",
       "sentenc     455\n",
       "american    451\n",
       "feder       432\n",
       "guilti      430\n",
       "dtype: int64"
      ]
     },
     "execution_count": 440,
     "metadata": {},
     "output_type": "execute_result"
    }
   ],
   "source": [
    "##D\n",
    "## Dataset subset to Civil Rights\n",
    "doj_subset_rights = dtm_pre[dtm_pre[\"metadata_topics_clean\"] == \"Civil Rights\"]\n",
    "print(\"Top 10 words: Civil Rights\")\n",
    "get_topwords(doj_subset_rights)\n",
    "\n",
    "## Dataset subset to Project Safe Childhood\n",
    "doj_subset_child = dtm_pre[dtm_pre[\"metadata_topics_clean\"] == \"Project Safe Childhood\"]\n",
    "print(\"Top 10 words: Project Safe Childhood\")\n",
    "get_topwords(doj_subset_child)\n",
    "\n",
    "## Dataset subset to Hate Crimes\n",
    "doj_subset_crimes = dtm_pre[dtm_pre[\"metadata_topics_clean\"] == \"Hate Crimes\"]\n",
    "print(\"Top 10 words: Hate Crimes\")\n",
    "get_topwords(doj_subset_crimes)\n"
   ]
  },
  {
   "cell_type": "markdown",
   "metadata": {},
   "source": [
    "## 2.3 Estimate a topic model using those preprocessed words (5 points)\n",
    "\n",
    "A. Going back to the preprocessed words from part 2.3.1, estimate a topic model with 3 topics, since you want to see if the unsupervised topic models recover different themes for each of the three manually-labeled areas (civil rights; hate crimes; project safe childhood). You have free rein over the other topic model parameters beyond the number of topics.\n",
    "\n",
    "B. After estimating the topic model, print the top 15 words in each topic.\n",
    "\n",
    "**Hints and Resources**:\n",
    "\n",
    "- Same topic modeling resources linked to above\n",
    "- Make sure to use the `random_state` argument within the model so that the numbering of topics does not move around between runs of your code"
   ]
  },
  {
   "cell_type": "code",
   "execution_count": 455,
   "metadata": {},
   "outputs": [],
   "source": [
    "##A\n",
    "##Estimate topic model\n",
    "tokenized_text = [wordpunct_tokenize(one_text) for one_text in cleaned_listings]\n",
    "\n",
    "#Create dictionary \n",
    "text_proc_dict = corpora.Dictionary(tokenized_text)\n",
    "\n",
    "#Create corpus from dictionary\n",
    "corpus_fromdict_proc = [text_proc_dict.doc2bow(one_text)\n",
    "                        for one_text in tokenized_text]\n",
    "\n",
    "#Estimate model\n",
    "ldamod_proc = gensim.models.ldamodel.LdaModel(corpus_fromdict_proc,\n",
    "                                              num_topics = 3, id2word=text_proc_dict,\n",
    "                                              passes=6, alpha = 'auto',\n",
    "                                              per_word_topics = True, random_state = 91988)\n"
   ]
  },
  {
   "cell_type": "code",
   "execution_count": 456,
   "metadata": {},
   "outputs": [
    {
     "name": "stdout",
     "output_type": "stream",
     "text": [
      "(0, '0.022*\"child\" + 0.015*\"exploit\" + 0.013*\"sexual\" + 0.010*\"safe\" + 0.010*\"childhood\" + 0.010*\"project\" + 0.010*\"prosecut\" + 0.010*\"pornographi\" + 0.010*\"crimin\" + 0.009*\"children\" + 0.009*\"sentenc\" + 0.008*\"victim\" + 0.008*\"year\" + 0.008*\"feder\" + 0.007*\"investig\"')\n",
      "(1, '0.008*\"feder\" + 0.007*\"said\" + 0.007*\"victim\" + 0.006*\"crime\" + 0.006*\"american\" + 0.006*\"prosecut\" + 0.006*\"offic\" + 0.006*\"sentenc\" + 0.006*\"charg\" + 0.006*\"hate\" + 0.006*\"guilti\" + 0.005*\"today\" + 0.005*\"violat\" + 0.005*\"enforc\" + 0.005*\"court\"')\n",
      "(2, '0.012*\"hous\" + 0.010*\"disabl\" + 0.008*\"said\" + 0.007*\"discrimin\" + 0.007*\"defend\" + 0.006*\"alleg\" + 0.006*\"victim\" + 0.006*\"today\" + 0.006*\"state\" + 0.006*\"feder\" + 0.005*\"violat\" + 0.005*\"enforc\" + 0.005*\"gener\" + 0.005*\"fair\" + 0.005*\"agreement\"')\n"
     ]
    }
   ],
   "source": [
    "##B\n",
    "##Print top 15 words \n",
    "topics = ldamod_proc.print_topics(num_words = 15)\n",
    "for topic in topics:\n",
    "    print(topic)\n",
    "    "
   ]
  },
  {
   "cell_type": "markdown",
   "metadata": {},
   "source": [
    "## 2.4 Add topics back to main data and explore correlation between manual labels and our estimated topics (10 points)\n",
    "\n",
    "A. Extract the document-level topic probabilities. Within `get_document_topics`, use the argument `minimum_probability` = 0 to make sure all 3 topic probabilities are returned. Write an assert statement to make sure the length of the list is equal to the number of rows in the `doj_subset_wscores` dataframe\n",
    "\n",
    "B. Add the topic probabilities to the `doj_subset_wscores` dataframe as columns and create a column, `top_topic`, that reflects each document to its highest-probability topic (eg topic 1, 2, or 3)\n",
    "\n",
    "C. For each of the manual labels in `topics_clean` (Hate Crime, Civil Rights, Project Safe Childhood), print the breakdown of the % of documents with each top topic (so, for instance, Hate Crime has 246 documents-- if 123 of those documents are coded to topic_1, that would be 50%; and so on). **Hint**: pd.crosstab and normalize may be helpful: https://pandas.pydata.org/pandas-docs/version/0.23/generated/pandas.crosstab.html\n",
    "\n",
    "D. Using a couple press releases as examples, write a 1-2 sentence interpretation of why some of the manual topics map on more cleanly to an estimated topic than other manual topic(s)\n",
    "\n",
    "**Resources**:\n",
    "\n",
    "- End of this code (`Additional summaries of topics and documents`) contains example of how to use `get_document_topics` and other steps to add topic probabilities back to data: https://github.com/rebeccajohnson88/qss20_slides_activities/blob/main/activities/w22_activities/solutions/06_textasdata_partII_topicmodeling_solution.ipynb\n",
    "- If you're getting errors, use shape, len, and other commands to check the dimensionality of things at different steps "
   ]
  },
  {
   "cell_type": "code",
   "execution_count": 463,
   "metadata": {},
   "outputs": [
    {
     "name": "stdout",
     "output_type": "stream",
     "text": [
      "717\n"
     ]
    }
   ],
   "source": [
    "##A\n",
    "##Get doc-level topic probabilities\n",
    "topic_probs_bydoc =[ldamod_proc.get_document_topics(item, minimum_probability = 0) for item in corpus_fromdict_proc]\n",
    "print(len(topic_probs_bydoc))\n",
    "\n",
    "##Assert statment to check\n",
    "assert len(topic_probs_bydoc) == len(doj_subset_wscore), \"Number of rows are different\"\n"
   ]
  },
  {
   "cell_type": "code",
   "execution_count": 473,
   "metadata": {},
   "outputs": [
    {
     "data": {
      "text/html": [
       "<div>\n",
       "<style scoped>\n",
       "    .dataframe tbody tr th:only-of-type {\n",
       "        vertical-align: middle;\n",
       "    }\n",
       "\n",
       "    .dataframe tbody tr th {\n",
       "        vertical-align: top;\n",
       "    }\n",
       "\n",
       "    .dataframe thead th {\n",
       "        text-align: right;\n",
       "    }\n",
       "</style>\n",
       "<table border=\"1\" class=\"dataframe\">\n",
       "  <thead>\n",
       "    <tr style=\"text-align: right;\">\n",
       "      <th></th>\n",
       "      <th>doc_id</th>\n",
       "      <th>topic_0</th>\n",
       "      <th>topic_1</th>\n",
       "      <th>topic_2</th>\n",
       "      <th>index</th>\n",
       "      <th>id</th>\n",
       "      <th>title</th>\n",
       "      <th>contents</th>\n",
       "      <th>date</th>\n",
       "      <th>topics_clean</th>\n",
       "      <th>components_clean</th>\n",
       "      <th>neg</th>\n",
       "      <th>neu</th>\n",
       "      <th>pos</th>\n",
       "      <th>compound</th>\n",
       "      <th>processed_text</th>\n",
       "      <th>contents_lower</th>\n",
       "      <th>toptopic</th>\n",
       "    </tr>\n",
       "  </thead>\n",
       "  <tbody>\n",
       "    <tr>\n",
       "      <th>259</th>\n",
       "      <td>15-1263</td>\n",
       "      <td>0.540345</td>\n",
       "      <td>0.459379</td>\n",
       "      <td>0.000276</td>\n",
       "      <td>4215</td>\n",
       "      <td>15-1263</td>\n",
       "      <td>Former Mamou, Louisiana, Police Chief Sentenced, Second Former Police Chief Pleads Guilty to Firing Taser at Non-Combative Prisoners</td>\n",
       "      <td>The Justice Department announced today that the former Mamou, Louisiana, Police Chief Gregory W. Dupuis was sentenced to one year and one day in prison, and former Mamou Police Officer and Chief Robert McGee pleaded guilty to one count of the deprivation of rights under color of law, both for their roles in a series of incidents in which they deployed TASERs on non-resistant inmates at the Mamou Jail.  Dupuis’s and McGee’s guilty pleas are the result of a federal investigation into the illegal use of excessive force upon inmates at the Mamou jail. Dupuis, 57, of Mamou, pleaded guilty to one count of violation of an individual’s civil rights on Apr. 13, 2015, and was sentenced today by U.S. District Judge Richard T. Haik of the Western District of Louisiana. According to evidence presented at Dupuis’s plea hearing, Dupuis served as police chief from 1994 to 1997 and from 2004 to 2014.  During his tenure as chief, officers, including McGee, repeatedly administered TASER shocks as a form of punishment on inmates who were being disruptive, even if the inmates’ disruption was purely verbal, and on inmates who were calm and compliant when the officer deployed the TASER.  On Apr. 25, 2010, Dupuis went to the department’s jail to deal with a verbally disruptive detainee.  Dupuis ordered the detainee to get down from his bunk and put his hands on the far wall.  The detainee complied.  Dupuis then entered the cell and deployed the TASER on the detainee’s back, causing the detainee to fall to the ground, suffer pain and injure his knee.  At his plea hearing, Dupuis admitted that he knew at the time that his actions were unlawful. McGee, 44, of Mamou, pleaded guilty today to one count of violation of an individual’s civil rights committed as an officer in 2010, prior to his 2014 election as chief of the Mamou Police Department.  According to McGee’s guilty plea, McGee was called to the Mamou Police Department on multiple occasions in 2010 and 2011 to deal with disruptive inmates.  On Aug. 6, 2010, McGee and an inmate were engaged in a conversation.  Although the inmate posed no threat to himself or the officers, McGee fired the TASER at the inmate, causing the inmate to fall and experience pain.  McGee, who was elected Mamou police chief after this incident, resigned his position as chief on Oct. 8, 2015, as a result of the federal investigation. McGee faces up to 10 years in prison, three years supervised release and a $250,000 fine. A sentencing date was not set. “The defendants abused the trust given to them as law enforcement officers when they engaged in a pattern of repeatedly tasing compliant detainees,” said Principal Deputy Assistant Attorney General Vanita Gupta, head of the the Civil Rights Division.  “The Justice Department will vigorously prosecute those who violate the civil rights laws to ensure that the rights of all individuals, including those in custody, are protected.” “Law enforcement officers have a duty to ensure that detainees are treated fairly and humanely when taken into custody,” said U.S. Attorney Stephanie A. Finley of the Western District of Louisiana.  “Mr. Dupuis and Mr. McGee breached that trust and violated their oaths by using excessive force on incarcerated individuals.” The FBI and the Louisiana State Police conducted the investigation.  Trial Attorneys Stephen Curran and Sanjay Patel of the Civil Rights Division, and Assistant U.S. Attorneys Myers P. Namie and Robert Abendroth of the Western District of Louisiana are prosecuting the case.</td>\n",
       "      <td>2015-10-13T00:00:00-04:00</td>\n",
       "      <td>Civil Rights</td>\n",
       "      <td>Civil Rights Division; Civil Rights - Criminal Section; USAO - Louisiana, Western</td>\n",
       "      <td>0.133</td>\n",
       "      <td>0.815</td>\n",
       "      <td>0.053</td>\n",
       "      <td>-0.9931</td>\n",
       "      <td>announc today former mamou louisiana polic chief gregori dupui sentenc year prison former mamou polic offic chief robert mcgee plead guilti count depriv color role seri incid deploy taser resist inmat mamou jail dupui mcgee guilti plea result feder illeg excess forc upon inmat mamou jail dupui mamou plead guilti count violat individu sentenc today judg richard haik western louisiana accord evid present dupui plea hear dupui serv polic chief tenur chief offic includ mcgee repeatedli administ taser shock form punish inmat disrupt even inmat disrupt pure verbal inmat calm compliant offic deploy taser dupui went jail deal verbal disrupt detaine dupui order detaine bunk hand wall detaine compli dupui enter cell deploy taser detaine back caus detaine fall ground suffer pain injur knee plea hear dupui admit knew time action unlaw mcgee mamou plead guilti today count violat individu commit offic prior elect chief mamou polic accord mcgee guilti plea mcgee call mamou polic multipl occas deal disrupt inmat mcgee inmat engag convers although inmat pose threat offic mcgee fire taser inmat caus inmat fall experi pain mcgee elect mamou polic chief incid resign posit chief result feder mcgee face year prison three year supervis releas fine sentenc date defend abus trust given enforc offic engag pattern repeatedli tase compliant detaine said princip deputi gener vanita gupta head vigor prosecut violat law ensur individu includ custodi protect enforc offic duti ensur detaine treat fairli human taken custodi said stephani finley western louisiana dupui mcgee breach trust violat oath use excess forc incarcer individu louisiana state polic conduct attorney stephen curran sanjay patel attorney myer nami robert abendroth western louisiana prosecut</td>\n",
       "      <td>announc today former mamou louisiana polic chief gregori dupui sentenc year prison former mamou polic offic chief robert mcgee plead guilti count depriv color role seri incid deploy taser resist inmat mamou jail dupui mcgee guilti plea result feder illeg excess forc upon inmat mamou jail dupui mamou plead guilti count violat individu sentenc today judg richard haik western louisiana accord evid present dupui plea hear dupui serv polic chief tenur chief offic includ mcgee repeatedli administ taser shock form punish inmat disrupt even inmat disrupt pure verbal inmat calm compliant offic deploy taser dupui went jail deal verbal disrupt detaine dupui order detaine bunk hand wall detaine compli dupui enter cell deploy taser detaine back caus detaine fall ground suffer pain injur knee plea hear dupui admit knew time action unlaw mcgee mamou plead guilti today count violat individu commit offic prior elect chief mamou polic accord mcgee guilti plea mcgee call mamou polic multipl occas deal disrupt inmat mcgee inmat engag convers although inmat pose threat offic mcgee fire taser inmat caus inmat fall experi pain mcgee elect mamou polic chief incid resign posit chief result feder mcgee face year prison three year supervis releas fine sentenc date defend abus trust given enforc offic engag pattern repeatedli tase compliant detaine said princip deputi gener vanita gupta head vigor prosecut violat law ensur individu includ custodi protect enforc offic duti ensur detaine treat fairli human taken custodi said stephani finley western louisiana dupui mcgee breach trust violat oath use excess forc incarcer individu louisiana state polic conduct attorney stephen curran sanjay patel attorney myer nami robert abendroth western louisiana prosecut</td>\n",
       "      <td>topic_0</td>\n",
       "    </tr>\n",
       "    <tr>\n",
       "      <th>429</th>\n",
       "      <td>16-252</td>\n",
       "      <td>0.000466</td>\n",
       "      <td>0.999019</td>\n",
       "      <td>0.000515</td>\n",
       "      <td>3581</td>\n",
       "      <td>16-252</td>\n",
       "      <td>Former Alcorn State University Police Officer Pleads Guilty to Assaulting Former Student</td>\n",
       "      <td>The Justice Department announced that Berthurm Allen, 42, a former police officer with the Alcorn State University (ASU) Police Department in Lorman, Mississippi, pleaded guilty today in federal court to violating the civil rights of an arrestee. During his guilty plea before Senior U.S. District Judge David Bramlette III of the Southern District of Mississippi, Allen admitted that while acting under his authority as an ASU police officer, he elbowed the victim in the face and threw the victim to the ground without legal justification.  He also admitted that he misrepresented the circumstances surrounding the incident in his official police report to minimize his exposure to allegations of misconduct.  Allen’s actions caused injuries to the victim’s nose and face.  According to information presented in court, the incident occurred at the Claiborne County Jail in Port Gibson, Mississippi, and was recorded by the jail’s surveillance cameras. “When police officers violate the laws they swear to uphold, it threatens the credibility of our criminal justice system,” said Principal Deputy Assistant Attorney General Vanita Gupta, head of the Justice Department’s Civil Rights Division.  “The Justice Department will continue to vigorously prosecute and hold accountable those officers who violate the constitutional rights of people in their custody.” “The use of excessive force by law enforcement officers is a violation of the officer’s oath to protect the constitutional rights of all persons, even those in custody,” said U. S. Attorney Gregory K. Davis of the Southern District of Mississippi.  “Ensuring that law enforcement officers do not victimize the citizens they are sworn to serve and protect is a top priority of this office.”  This case was investigated by the FBI’s Jackson Division, and is being prosecuted by Trial Attorneys Julia Gegenheimer and Sheldon L. Beer of the Civil Rights Division’s Criminal Section and Assistant U.S. Attorney Christopher Wansley of the Southern District of Mississippi.</td>\n",
       "      <td>2016-03-03T00:00:00-05:00</td>\n",
       "      <td>Civil Rights</td>\n",
       "      <td>Civil Rights Division; Civil Rights - Criminal Section; USAO - Mississippi, Southern</td>\n",
       "      <td>0.125</td>\n",
       "      <td>0.808</td>\n",
       "      <td>0.067</td>\n",
       "      <td>-0.9579</td>\n",
       "      <td>announc berthurm allen former polic offic alcorn state univers polic lorman mississippi plead guilti today feder court violat arreste guilti plea senior judg david bramlett southern mississippi allen admit act author polic offic elbow victim face threw victim ground without legal justif also admit misrepres circumst surround incid offici polic report minim exposur alleg misconduct allen action caus injuri victim nose face accord inform present court incid occur claiborn counti jail port gibson mississippi record jail surveil camera polic offic violat law swear uphold threaten credibl crimin system said princip deputi gener vanita gupta head continu vigor prosecut hold account offic violat constitut peopl custodi excess forc enforc offic violat offic oath protect constitut person even custodi said gregori davi southern mississippi ensur enforc offic victim citizen sworn serv protect prioriti investig jackson prosecut attorney julia gegenheim sheldon beer crimin section christoph wansley southern mississippi</td>\n",
       "      <td>announc berthurm allen former polic offic alcorn state univers polic lorman mississippi plead guilti today feder court violat arreste guilti plea senior judg david bramlett southern mississippi allen admit act author polic offic elbow victim face threw victim ground without legal justif also admit misrepres circumst surround incid offici polic report minim exposur alleg misconduct allen action caus injuri victim nose face accord inform present court incid occur claiborn counti jail port gibson mississippi record jail surveil camera polic offic violat law swear uphold threaten credibl crimin system said princip deputi gener vanita gupta head continu vigor prosecut hold account offic violat constitut peopl custodi excess forc enforc offic violat offic oath protect constitut person even custodi said gregori davi southern mississippi ensur enforc offic victim citizen sworn serv protect prioriti investig jackson prosecut attorney julia gegenheim sheldon beer crimin section christoph wansley southern mississippi</td>\n",
       "      <td>topic_1</td>\n",
       "    </tr>\n",
       "    <tr>\n",
       "      <th>374</th>\n",
       "      <td>16-1229</td>\n",
       "      <td>0.000205</td>\n",
       "      <td>0.745421</td>\n",
       "      <td>0.254374</td>\n",
       "      <td>7125</td>\n",
       "      <td>16-1229</td>\n",
       "      <td>Justice Department Seeks to Intervene in Lawsuit Alleging Race Discrimination and Retaliation by Pocomoke City, Maryland, the Worcester County Sheriff and the State of Maryland</td>\n",
       "      <td>The Justice Department announced today that it has moved to intervene in Savage et al. v. Pocomoke City et al., a private lawsuit alleging race discrimination and retaliation under Title VII of the Civil Rights Act of 1964 by Pocomoke City, Maryland, the Worcester County Sheriff and the state of Maryland.  Title VII is a federal statute that prohibits employment discrimination on the basis of the basis of sex, race, color, national origin and religion.  The United States’ complaint in intervention alleges that the Worcester County Sheriff and the state of Maryland subjected former Pocomoke City Police Officer Franklin Savage to a racially-hostile work environment while he was assigned to a joint task force operated by the sheriff’s office.  Specifically, Officer Savage was repeatedly subjected to racial epithets as well as other racially-charged acts of harassment, humiliation and intimidation by his co-workers and supervisors.  Officer Savage’s complaints about racial harassment allegedly resulted in a series of retaliatory actions against him by the Worcester County Sheriff’s Office and Pocomoke City, concluding with the termination of his employment.  The complaint further alleges that Pocomoke City similarly retaliated against two other officers – former Pocomoke City Police Chief Kelvin Sewell and former Pocomoke City Police Lieutenant Lynell Green – for supporting Officer Savage in the course of his complaints.  Chief Sewell was eventually terminated as well. The complaint seeks a court order that requires the defendants to implement policies and procedures that will ensure a workplace environment free of discrimination and retaliatory conduct.  The United States also seeks relief, including monetary relief for the three charging parties as compensation for damages caused by the alleged discrimination. “Federal law protects against discrimination and retaliation in the workplace,” said Principal Deputy Assistant Attorney General Vanita Gupta, head of the Justice Department’s Civil Rights Division.  “In police departments, that protection is vital not only for individual officials, but also for the communities they serve.  The Justice Department is firmly committed to ensuring that our nation’s state and local law enforcement agencies comply with Title VII’s promise of a workplace free from racial discrimination and retaliation.” Officer Savage, Chief Sewell and Lieutenant Green each filed charges of discrimination with the Equal Employment Opportunity Commission (EEOC).  The EEOC’s Baltimore Office investigated the charges and made reasonable cause findings.  After unsuccessful conciliation efforts, the EEOC referred the charges to the Justice Department. “No one should have to face harassment and retaliation while at work,” said EEOC Chair Jenny R. Yang.  “When public employees face discrimination, it undermines the trust and credibility in our public institutions.  This case represents the latest partnership between EEOC and the Department of Justice to advance our shared Title VII enforcement responsibilities.” This lawsuit was brought as a result of a joint collaborative effort by the EEOC and the Civil Rights Division to vigorously enforce Title VII. “EEOC is committed to ensuring the employees who serve the public in critical law enforcement positions are protected by the laws forbidding unlawful harassment and retaliation in the workplace,” said Director Spencer H. Lewis Jr. of EEOC’s Philadelphia District Office, which includes the Baltimore Field Office.  “I am pleased that EEOC and the Department of Justice have established a collaborative relationship that will impact public employers and work together to redress violations of the law when they occur.” Enforcement of federal employment discrimination laws remains a top priority of the Justice Department.  More information about Title VII and other federal employment laws is available on the Civil Rights Division’s website at www.justice.gov/crt.  The EEOC enforces federal laws prohibiting employment discrimination.  Further information about the EEOC is available on its website at www.eeoc.gov. Pocomoke City Motion to Intervene</td>\n",
       "      <td>2016-10-19T00:00:00-04:00</td>\n",
       "      <td>Civil Rights</td>\n",
       "      <td>Civil Rights Division; Civil Rights - Employment Litigation Section</td>\n",
       "      <td>0.124</td>\n",
       "      <td>0.788</td>\n",
       "      <td>0.088</td>\n",
       "      <td>-0.9635</td>\n",
       "      <td>announc today move interven savag pocomok citi privat lawsuit alleg race discrimin retali titl pocomok citi maryland worcest counti sheriff state maryland titl feder statut prohibit employ discrimin basi basi race color nation origin religion unit state complaint intervent alleg worcest counti sheriff state maryland subject former pocomok citi polic offic franklin savag racial hostil work environ assign joint task forc oper sheriff specif offic savag repeatedli subject racial epithet well racial charg act harass humili intimid worker supervisor offic savag complaint racial harass allegedli result seri retaliatori action worcest counti sheriff pocomok citi conclud termin employ complaint alleg pocomok citi similarli retali offic former pocomok citi polic chief kelvin sewel former pocomok citi polic lieuten lynel green support offic savag cours complaint chief sewel eventu termin well complaint seek court order requir defend implement polici procedur ensur workplac environ free discrimin retaliatori conduct unit state also seek relief includ monetari relief three charg parti compens damag caus alleg discrimin feder protect discrimin retali workplac said princip deputi gener vanita gupta head polic depart protect vital individu offici also commun serv firmli commit ensur nation state local enforc agenc compli titl promis workplac free racial discrimin retali offic savag chief sewel lieuten green file charg discrimin equal employ opportun commiss eeoc eeoc baltimor investig charg made reason caus find unsuccess concili effort eeoc refer charg face harass retali work said eeoc chair jenni yang public employe face discrimin undermin trust credibl public institut repres latest partnership eeoc advanc share titl enforc respons lawsuit brought result joint collabor effort eeoc vigor enforc titl eeoc commit ensur employe serv public critic enforc posit protect law forbid unlaw harass retali workplac said director spencer lewi eeoc philadelphia includ baltimor field pleas eeoc establish collabor relationship impact public employ work togeth redress violat occur enforc feder employ discrimin law remain prioriti inform titl feder employ law avail websit eeoc enforc feder law prohibit employ discrimin inform eeoc avail websit eeoc pocomok citi motion interven</td>\n",
       "      <td>announc today move interven savag pocomok citi privat lawsuit alleg race discrimin retali titl pocomok citi maryland worcest counti sheriff state maryland titl feder statut prohibit employ discrimin basi basi race color nation origin religion unit state complaint intervent alleg worcest counti sheriff state maryland subject former pocomok citi polic offic franklin savag racial hostil work environ assign joint task forc oper sheriff specif offic savag repeatedli subject racial epithet well racial charg act harass humili intimid worker supervisor offic savag complaint racial harass allegedli result seri retaliatori action worcest counti sheriff pocomok citi conclud termin employ complaint alleg pocomok citi similarli retali offic former pocomok citi polic chief kelvin sewel former pocomok citi polic lieuten lynel green support offic savag cours complaint chief sewel eventu termin well complaint seek court order requir defend implement polici procedur ensur workplac environ free discrimin retaliatori conduct unit state also seek relief includ monetari relief three charg parti compens damag caus alleg discrimin feder protect discrimin retali workplac said princip deputi gener vanita gupta head polic depart protect vital individu offici also commun serv firmli commit ensur nation state local enforc agenc compli titl promis workplac free racial discrimin retali offic savag chief sewel lieuten green file charg discrimin equal employ opportun commiss eeoc eeoc baltimor investig charg made reason caus find unsuccess concili effort eeoc refer charg face harass retali work said eeoc chair jenni yang public employe face discrimin undermin trust credibl public institut repres latest partnership eeoc advanc share titl enforc respons lawsuit brought result joint collabor effort eeoc vigor enforc titl eeoc commit ensur employe serv public critic enforc posit protect law forbid unlaw harass retali workplac said director spencer lewi eeoc philadelphia includ baltimor field pleas eeoc establish collabor relationship impact public employ work togeth redress violat occur enforc feder employ discrimin law remain prioriti inform titl feder employ law avail websit eeoc enforc feder law prohibit employ discrimin inform eeoc avail websit eeoc pocomok citi motion interven</td>\n",
       "      <td>topic_1</td>\n",
       "    </tr>\n",
       "    <tr>\n",
       "      <th>82</th>\n",
       "      <td>11-1328</td>\n",
       "      <td>0.000662</td>\n",
       "      <td>0.998606</td>\n",
       "      <td>0.000732</td>\n",
       "      <td>8491</td>\n",
       "      <td>11-1328</td>\n",
       "      <td>Member of United Aryan Brotherhood Pleads Guilty to a Hate Motivated Assault of Jewish Inmate in Texas</td>\n",
       "      <td>WASHINGTON – The Justice Department announced today that Timothy Lee York, a 35 year-old, self-proclaimed member of the United Aryan Brotherhood, pleaded guilty to violently assaulting a Jewish inmate at a federal correctional facility in Texas. York, of Fountain Valley, Calif., pleaded guilty to assault with a dangerous weapon before U.S. Magistrate Judge Irma C. Ramirez in federal court in Dallas, Texas. York admitted in court that on Dec. 28, 2007, he attacked Stuart Rosoff, his Jewish cellmate, while Rosoff was sleeping. York admitted that he used a dangerous weapon, a ligature that he placed around Rosoff’s neck, to forcibly pull Rosoff to the floor where he lost consciousness. Once Rosoff was on the floor, York repeatedly kicked Rosoff in the head and punched him in the head and body. York acknowledged that he attacked Rosoff because he was Jewish. “The Department of Justice will not hesitate to prosecute those who assault others because of their race or religion,” said Thomas E. Perez, Assistant Attorney General for Civil Rights Division. Sentencing is scheduled for Feb. 6, 2012, before Judge Sam A. Lindsay.  The case was investigated by the Dallas Division of the FBI, and is being prosecuted by Trial Attorneys Jared Fishman and Ryan Murguía of the Department of Justice’s Civil Rights Division.</td>\n",
       "      <td>2011-10-06T00:00:00-04:00</td>\n",
       "      <td>Hate Crimes</td>\n",
       "      <td>Civil Rights Division; Civil Rights - Criminal Section</td>\n",
       "      <td>0.215</td>\n",
       "      <td>0.751</td>\n",
       "      <td>0.034</td>\n",
       "      <td>-0.9887</td>\n",
       "      <td>washington announc today timothi york year self proclaim member unit aryan brotherhood plead guilti violent assault jewish inmat feder correct facil texa york fountain valley calif plead guilti assault danger weapon magistr judg irma ramirez feder court dalla texa york admit court attack stuart rosoff jewish cellmat rosoff sleep york admit use danger weapon ligatur place around rosoff neck forcibl pull rosoff floor lost conscious rosoff floor york repeatedli kick rosoff head punch head bodi york acknowledg attack rosoff jewish hesit prosecut assault other race religion said thoma perez gener sentenc schedul judg lindsay investig dalla prosecut attorney jare fishman ryan murguía</td>\n",
       "      <td>washington announc today timothi york year self proclaim member unit aryan brotherhood plead guilti violent assault jewish inmat feder correct facil texa york fountain valley calif plead guilti assault danger weapon magistr judg irma ramirez feder court dalla texa york admit court attack stuart rosoff jewish cellmat rosoff sleep york admit use danger weapon ligatur place around rosoff neck forcibl pull rosoff floor lost conscious rosoff floor york repeatedli kick rosoff head punch head bodi york acknowledg attack rosoff jewish hesit prosecut assault other race religion said thoma perez gener sentenc schedul judg lindsay investig dalla prosecut attorney jare fishman ryan murguía</td>\n",
       "      <td>topic_1</td>\n",
       "    </tr>\n",
       "    <tr>\n",
       "      <th>239</th>\n",
       "      <td>15-015</td>\n",
       "      <td>0.000099</td>\n",
       "      <td>0.999792</td>\n",
       "      <td>0.000109</td>\n",
       "      <td>11763</td>\n",
       "      <td>15-015</td>\n",
       "      <td>Two Brandon, Mississippi, Men Plead Guilty for Committing Hate Crimes Against African Americans in Jackson, Mississippi</td>\n",
       "      <td>Acting Assistant Attorney General Vanita Gupta for the Justice Department’s Civil Rights Division and U.S. Attorney Gregory K. Davis for the Southern District of Mississippi announced that John Louis Blalack, 20, and Robert Henry Rice, 24, both from Brandon, Mississippi, pleaded guilty today in U.S. District Court in Jackson to federal hate crime charges in connection with their roles in a series of assaults on African Americans in Jackson, Mississippi.  Blalack and Rice are the ninth and 10th individuals associated with a group of people who conspired to target and assault African Americans based on their race in the spring of 2011. “Justice has been served,” said Attorney General Eric Holder.  “The hate crimes to which these defendants have pleaded guilty were as shocking as they were reprehensible—targeting innocent people for racially-motivated acts of violence that inflicted grievous harm and even claimed a life.  The Justice Department will never rest in our pursuit of those who victimize their fellow citizens.  This landmark case should send a clear message: that anyone who commits an act of bias-motivated violence, or who violates the civil rights to which all Americans are entitled, will be held accountable to the fullest extent of the law.” Prior to today's guilty pleas, Deryl Paul Dedmon, 22; John Aaron Rice, 21; Dylan Wade Butler, 23; Jonathan Kyle Gaskamp, 22; and Joseph Paul Dominick, 23, all from Brandon, Mississippi, and William Kirk Montgomery, 25, from Puckett, Mississippi, Shelbie Brooke Richards, 21, from Pearl, Mississippi, and Sarah Adelia Graves, 21, from Crystal Springs, Mississippi, pleaded guilty in connection with their roles in these offenses.  The conspiracy culminated in the death of James Craig Anderson, who was assaulted and killed on June 26, 2011.    Blalack pleaded guilty to two counts of violating the Matthew Shepard – James Byrd Jr. Hate Crimes Prevention Act.  Rice pleaded guilty to one count of violating the same act.  The statutory maximum sentence for these violations is 10 years in prison and a $250,000 fine.  Sentencing for Blalack is set for April 23, 2015, and sentencing for Rice is set for April 30, 2015. The federal investigation revealed that beginning in the spring of 2011, Blalack, Robert Rice and others conspired with one another to harass and assault African-American people in and around Jackson.  On numerous occasions the co-conspirators used dangerous weapons, including beer bottles, sling shots and motor vehicles, to cause, and attempt to cause, bodily injury to African-American people.  They would specifically target African Americans they believed to be homeless or under the influence of alcohol because they believed that such individuals would be less likely to report an assault.  The co-conspirators would often boast about these racially motivated assaults.    On June 25, 2011, Blalack and others attended a birthday party/bonfire for a mutual friend in Puckett, Mississippi.  During the party, Blalack and others talked about going to Jackson to harass and assault African-American people.  By the early morning hours of June 26, 2011, Blalack, Montgomery, Dedmon, John Aaron Rice, Butler, Richards and Graves agreed to carry out their plan to find, harass and assault African-American people.  Robert Rice did not go to Jackson on June 26, 2011.  At around 4:15 a.m., Blalack, Montgomery, John Aaron Rice, and Butler drove to Jackson in Montgomery’s white Jeep with the understanding that Dedmon, Richards and Graves would join them a short time later.  Blalack and the other three occupants of the Jeep then drove around Jackson and threw beer bottles from the moving vehicle at African-American pedestrians they encountered.  At approximately 5:00 a.m., Blalack and the other three occupants of the Jeep spotted Anderson in a motel parking lot off of Ellis Avenue.  The occupants of the Jeep decided that Anderson would be a good target for an assault because he was African-American and appeared to be visibly intoxicated.  Blalack and John Aaron Rice decided to get out of the Jeep to distract Anderson while they waited for Dedmon, Richards and Graves to arrive.  After Dedmon Richards, and Graves arrived in Dedmon’s Ford F250 truck, Dedmon and John Aaron Rice physically assaulted Anderson.  Rice first punched Anderson in the face with sufficient force to knock Anderson to the ground, and then Dedmon punched Anderson in the face multiple times while he was on the ground.  After the assault, Blalack, Montgomery, Rice and Butler left the motel parking lot in the Jeep.  As they left, one of the occupants of the Jeep yelled, “White Power!”  Prior to getting back into his truck, Dedmon responded by also yelling “White Power!” Once back in his Ford F250 truck, Dedmon deliberately used his vehicle to run over Anderson, causing injuries which resulted in his death.  Blalack’s guilty plea includes his role in this offense. On a previous occasion, Blalack, Montgomery, Butler and Dominick drove around west Jackson to find and assault African Americans.  Blalack and the other occupants of the vehicle purchased bottles of beer to drink and then threw the beer bottles at African Americans.  The occupants of the vehicle also purchased a sling-shot.  Some of the occupants of the vehicle, including Blalack, threw beer bottles and shot metal ball bearings out of the moving vehicle at African American pedestrians.  Blalack pleaded guilty for his role in this offense. Another previous occasion involved a racially motivated assault at or near a golf course in Jackson.  On this particular evening, Robert Rice, Blalack, Montgomery, Gaskamp, Dedmon and John Aaron Rice were in a vehicle, searching for, and eventually finding,  a vulnerable African-American man to assault.  The vehicle was stopped so Dedmon, John Aaron Rice and Gaskamp could chase the victim down.  The three men beat the man to the point that he begged for his life.  Robert Rice’s guilty plea includes his role in this offense. “Today’s guilty pleas are the culmination of an extensive federal investigation into this violent hate crime conspiracy,” said Acting Assistant Attorney General Gupta.  “Ten defendants have now pleaded guilty to crimes associated with this conspiracy.  We hope that today’s guilty pleas provide closure to the victim’s family and to the community that has mourned Mr. Anderson’s tragic death and been shocked by the scope of the conspiracy to commit racially motivated assaults in Jackson by a group of ten co-conspirators.” “There can be no tolerance for acts of gratuitous violence targeting innocent persons simply because of their race,” said U.S. Attorney Davis.  “This case is a testament to the United States Attorney’s Office’s dedication to vigorously investigate and prosecute violations of federal hate crime laws.  I commend not only Mr. Anderson’s family for their continued cooperation throughout this investigation, but our law enforcement partners, including the FBI and Jackson Police Department, who worked tirelessly in this case to ensure our hate crime laws are strictly enforced.” “With today's guilty pleas, the FBI and its law enforcement partners have identified and brought to justice all those individuals who conspired to deprive Mr. Anderson and other citizens of their civil rights simply because of the color of their skin,” said Special Agent in Charge Donald Alway for the FBI in Mississippi.  “The FBI remains dedicated to protecting the cherished freedoms of all Americans, including aggressively investigating allegations of hate crimes and working to prevent them.” These guilty pleas were the result of a cooperative effort between the Civil Rights Division, the U.S. Attorney’s Office for the Southern District of Mississippi and the Hinds County District Attorney’s office.  This case was investigated by the FBI’s Jackson Division and the Jackson Police Department.  It is being prosecuted by Trial Attorney Sheldon L. Beer and Deputy Chief Paige M. Fitzgerald of the Civil Rights Division, and Assistant U.S. Attorney Glenda R. Haynes of the U.S. Attorney’s Office for the Southern District of Mississippi.</td>\n",
       "      <td>2015-01-07T00:00:00-05:00</td>\n",
       "      <td>Hate Crimes</td>\n",
       "      <td>Civil Rights Division; Civil Rights - Criminal Section; Civil Rights - Housing and Civil Enforcement Section</td>\n",
       "      <td>0.155</td>\n",
       "      <td>0.797</td>\n",
       "      <td>0.048</td>\n",
       "      <td>-0.9988</td>\n",
       "      <td>act gener vanita gupta gregori davi southern mississippi announc john loui blalack robert henri rice brandon mississippi plead guilti today court jackson feder hate crime charg connect role seri assault african american jackson mississippi blalack rice ninth individu associ group peopl conspir target assault african american base race spring serv said gener eric holder hate crime defend plead guilti shock reprehens target innoc peopl racial motiv act violenc inflict grievou harm even claim life never rest pursuit victim fellow citizen landmark send clear messag anyon commit bia motiv violenc violat american entitl held account fullest extent prior today guilti plea deryl paul dedmon john aaron rice dylan wade butler jonathan kyle gaskamp joseph paul dominick brandon mississippi william kirk montgomeri puckett mississippi shelbi brook richard pearl mississippi sarah adelia grave crystal spring mississippi plead guilti connect role offens conspiraci culmin death jame craig anderson assault kill june blalack plead guilti count violat matthew shepard jame byrd hate crime prevent rice plead guilti count violat statutori maximum sentenc violat year prison fine sentenc blalack april sentenc rice april feder reveal begin spring blalack robert rice other conspir anoth harass assault african american peopl around jackson numer occas conspir use danger weapon includ beer bottl sling shot motor vehicl caus attempt caus bodili injuri african american peopl would specif target african american believ homeless influenc alcohol believ individu would less like report assault conspir would often boast racial motiv assault june blalack other attend birthday parti bonfir mutual friend puckett mississippi parti blalack other talk go jackson harass assault african american peopl earli morn hour june blalack montgomeri dedmon john aaron rice butler richard grave agre carri plan find harass assault african american peopl robert rice jackson june around blalack montgomeri john aaron rice butler drove jackson montgomeri white jeep understand dedmon richard grave would join short time later blalack three occup jeep drove around jackson threw beer bottl move vehicl african american pedestrian encount approxim blalack three occup jeep spot anderson motel park elli avenu occup jeep decid anderson would good target assault african american appear visibl intox blalack john aaron rice decid jeep distract anderson wait dedmon richard grave arriv dedmon richard grave arriv dedmon ford truck dedmon john aaron rice physic assault anderson rice first punch anderson face suffici forc knock anderson ground dedmon punch anderson face multipl time ground assault blalack montgomeri rice butler left motel park jeep left occup jeep yell white power prior get back truck dedmon respond also yell white power back ford truck dedmon deliber use vehicl anderson caus injuri result death blalack guilti plea includ role offens previou occas blalack montgomeri butler dominick drove around west jackson find assault african american blalack occup vehicl purchas bottl beer drink threw beer bottl african american occup vehicl also purchas sling shot occup vehicl includ blalack threw beer bottl shot metal ball bear move vehicl african american pedestrian blalack plead guilti role offens anoth previou occas involv racial motiv assault near golf cours jackson particular even robert rice blalack montgomeri gaskamp dedmon john aaron rice vehicl search eventu find vulner african american assault vehicl stop dedmon john aaron rice gaskamp could chase victim three beat point beg life robert rice guilti plea includ role offens today guilti plea culmin extens feder violent hate crime conspiraci said act gener gupta defend plead guilti crime associ conspiraci hope today guilti plea provid closur victim famili commun mourn anderson tragic death shock scope conspiraci commit racial motiv assault jackson group conspir toler act gratuit violenc target innoc person simpli race said davi testament unit state dedic vigor investig prosecut violat feder hate crime law commend anderson famili continu cooper throughout enforc partner includ jackson polic work tirelessli ensur hate crime law strictli enforc today guilti plea enforc partner identifi brought individu conspir depriv anderson citizen simpli color skin said special agent charg donald alway mississippi remain dedic protect cherish freedom american includ aggress investig alleg hate crime work prevent guilti plea result cooper effort southern mississippi hind counti investig jackson jackson polic prosecut sheldon beer deputi chief paig fitzgerald glenda hayn southern mississippi</td>\n",
       "      <td>act gener vanita gupta gregori davi southern mississippi announc john loui blalack robert henri rice brandon mississippi plead guilti today court jackson feder hate crime charg connect role seri assault african american jackson mississippi blalack rice ninth individu associ group peopl conspir target assault african american base race spring serv said gener eric holder hate crime defend plead guilti shock reprehens target innoc peopl racial motiv act violenc inflict grievou harm even claim life never rest pursuit victim fellow citizen landmark send clear messag anyon commit bia motiv violenc violat american entitl held account fullest extent prior today guilti plea deryl paul dedmon john aaron rice dylan wade butler jonathan kyle gaskamp joseph paul dominick brandon mississippi william kirk montgomeri puckett mississippi shelbi brook richard pearl mississippi sarah adelia grave crystal spring mississippi plead guilti connect role offens conspiraci culmin death jame craig anderson assault kill june blalack plead guilti count violat matthew shepard jame byrd hate crime prevent rice plead guilti count violat statutori maximum sentenc violat year prison fine sentenc blalack april sentenc rice april feder reveal begin spring blalack robert rice other conspir anoth harass assault african american peopl around jackson numer occas conspir use danger weapon includ beer bottl sling shot motor vehicl caus attempt caus bodili injuri african american peopl would specif target african american believ homeless influenc alcohol believ individu would less like report assault conspir would often boast racial motiv assault june blalack other attend birthday parti bonfir mutual friend puckett mississippi parti blalack other talk go jackson harass assault african american peopl earli morn hour june blalack montgomeri dedmon john aaron rice butler richard grave agre carri plan find harass assault african american peopl robert rice jackson june around blalack montgomeri john aaron rice butler drove jackson montgomeri white jeep understand dedmon richard grave would join short time later blalack three occup jeep drove around jackson threw beer bottl move vehicl african american pedestrian encount approxim blalack three occup jeep spot anderson motel park elli avenu occup jeep decid anderson would good target assault african american appear visibl intox blalack john aaron rice decid jeep distract anderson wait dedmon richard grave arriv dedmon richard grave arriv dedmon ford truck dedmon john aaron rice physic assault anderson rice first punch anderson face suffici forc knock anderson ground dedmon punch anderson face multipl time ground assault blalack montgomeri rice butler left motel park jeep left occup jeep yell white power prior get back truck dedmon respond also yell white power back ford truck dedmon deliber use vehicl anderson caus injuri result death blalack guilti plea includ role offens previou occas blalack montgomeri butler dominick drove around west jackson find assault african american blalack occup vehicl purchas bottl beer drink threw beer bottl african american occup vehicl also purchas sling shot occup vehicl includ blalack threw beer bottl shot metal ball bear move vehicl african american pedestrian blalack plead guilti role offens anoth previou occas involv racial motiv assault near golf cours jackson particular even robert rice blalack montgomeri gaskamp dedmon john aaron rice vehicl search eventu find vulner african american assault vehicl stop dedmon john aaron rice gaskamp could chase victim three beat point beg life robert rice guilti plea includ role offens today guilti plea culmin extens feder violent hate crime conspiraci said act gener gupta defend plead guilti crime associ conspiraci hope today guilti plea provid closur victim famili commun mourn anderson tragic death shock scope conspiraci commit racial motiv assault jackson group conspir toler act gratuit violenc target innoc person simpli race said davi testament unit state dedic vigor investig prosecut violat feder hate crime law commend anderson famili continu cooper throughout enforc partner includ jackson polic work tirelessli ensur hate crime law strictli enforc today guilti plea enforc partner identifi brought individu conspir depriv anderson citizen simpli color skin said special agent charg donald alway mississippi remain dedic protect cherish freedom american includ aggress investig alleg hate crime work prevent guilti plea result cooper effort southern mississippi hind counti investig jackson jackson polic prosecut sheldon beer deputi chief paig fitzgerald glenda hayn southern mississippi</td>\n",
       "      <td>topic_1</td>\n",
       "    </tr>\n",
       "  </tbody>\n",
       "</table>\n",
       "</div>"
      ],
      "text/plain": [
       "      doc_id   topic_0   topic_1   topic_2  index       id  \\\n",
       "259  15-1263  0.540345  0.459379  0.000276   4215  15-1263   \n",
       "429   16-252  0.000466  0.999019  0.000515   3581   16-252   \n",
       "374  16-1229  0.000205  0.745421  0.254374   7125  16-1229   \n",
       "82   11-1328  0.000662  0.998606  0.000732   8491  11-1328   \n",
       "239   15-015  0.000099  0.999792  0.000109  11763   15-015   \n",
       "\n",
       "                                                                                                                                                                                title  \\\n",
       "259                                              Former Mamou, Louisiana, Police Chief Sentenced, Second Former Police Chief Pleads Guilty to Firing Taser at Non-Combative Prisoners   \n",
       "429                                                                                          Former Alcorn State University Police Officer Pleads Guilty to Assaulting Former Student   \n",
       "374  Justice Department Seeks to Intervene in Lawsuit Alleging Race Discrimination and Retaliation by Pocomoke City, Maryland, the Worcester County Sheriff and the State of Maryland   \n",
       "82                                                                             Member of United Aryan Brotherhood Pleads Guilty to a Hate Motivated Assault of Jewish Inmate in Texas   \n",
       "239                                                           Two Brandon, Mississippi, Men Plead Guilty for Committing Hate Crimes Against African Americans in Jackson, Mississippi   \n",
       "\n",
       "                                                                                                                                                                                                                                                                                                                                                                                                                                                                                                                                                                                                                                                                                                                                                                                                                                                                                                                                                                                                                                                                                                                                                                                                                                                                                                                                                                                                                                                                                                                                                                                                                                                                                                                                                                                                                                                                                                                                                                                                                                                                                                                                                                                                                                                                                                                                                                                                                                                                                                                                                                                                                                                                                                                                                                                                                                                                                                                                                                                                                                                                                                                                                                                                                                                                                                                                                                                                                                                                                                                                                                                                                                                                                                                                                                                                                                                                                                                                                                                                                                                                                                                                                                                                                                                                                                                                                                                                                                                                                                                                                                                                                                                                                                                                                                                                                                                                                                                                                                                                                                                                                                                                                                                                                                                                                                                                                                                                                                                                                                                                                                                                                                                                                                                                                                                                                                                                                                                                                                                                                                                                                                                                                                                                                                                                                                                                                                                                                                                                                                                                                                                                                                                                                                                                                                                                                                                                                                                                                                                                                                                                                                                                                                                                                                                                                                                                                                                                                                                                                                                                                                                                                                                                                                                                                                                                                                                                                                                                                                                                                                                                                                                                                                                                                                                                                                                                                                                                                                                                                                       contents  \\\n",
       "259                                                                                                                                                                                                                                                                                                                                                                                                                                                                                                                                                                                                                                                                                                                                                                                                                                                                                                                                                                                                                                                                                                                                                                                                                                                                                                                                                                                                                                                                                                                                                                                                                                                                                                                                                                                                                                                                                                                                                                                                                                                                                                                                                                                                                                                                                                                                                                                                                                                                                                                                                                                                                                                                                                                                                                                                                                                                                                                                                                                                                                                                                                                                                                                                                                                                                                                                                                                                                                                                                                                                                                                                                                                                                                                                                                                                                                                                                                                                                                                                                                                                                                                                                                                                                                                                                                                                                                                                                                                                                                                                                                                                                                                                                                                                                                                                                                   The Justice Department announced today that the former Mamou, Louisiana, Police Chief Gregory W. Dupuis was sentenced to one year and one day in prison, and former Mamou Police Officer and Chief Robert McGee pleaded guilty to one count of the deprivation of rights under color of law, both for their roles in a series of incidents in which they deployed TASERs on non-resistant inmates at the Mamou Jail.  Dupuis’s and McGee’s guilty pleas are the result of a federal investigation into the illegal use of excessive force upon inmates at the Mamou jail. Dupuis, 57, of Mamou, pleaded guilty to one count of violation of an individual’s civil rights on Apr. 13, 2015, and was sentenced today by U.S. District Judge Richard T. Haik of the Western District of Louisiana. According to evidence presented at Dupuis’s plea hearing, Dupuis served as police chief from 1994 to 1997 and from 2004 to 2014.  During his tenure as chief, officers, including McGee, repeatedly administered TASER shocks as a form of punishment on inmates who were being disruptive, even if the inmates’ disruption was purely verbal, and on inmates who were calm and compliant when the officer deployed the TASER.  On Apr. 25, 2010, Dupuis went to the department’s jail to deal with a verbally disruptive detainee.  Dupuis ordered the detainee to get down from his bunk and put his hands on the far wall.  The detainee complied.  Dupuis then entered the cell and deployed the TASER on the detainee’s back, causing the detainee to fall to the ground, suffer pain and injure his knee.  At his plea hearing, Dupuis admitted that he knew at the time that his actions were unlawful. McGee, 44, of Mamou, pleaded guilty today to one count of violation of an individual’s civil rights committed as an officer in 2010, prior to his 2014 election as chief of the Mamou Police Department.  According to McGee’s guilty plea, McGee was called to the Mamou Police Department on multiple occasions in 2010 and 2011 to deal with disruptive inmates.  On Aug. 6, 2010, McGee and an inmate were engaged in a conversation.  Although the inmate posed no threat to himself or the officers, McGee fired the TASER at the inmate, causing the inmate to fall and experience pain.  McGee, who was elected Mamou police chief after this incident, resigned his position as chief on Oct. 8, 2015, as a result of the federal investigation. McGee faces up to 10 years in prison, three years supervised release and a $250,000 fine. A sentencing date was not set. “The defendants abused the trust given to them as law enforcement officers when they engaged in a pattern of repeatedly tasing compliant detainees,” said Principal Deputy Assistant Attorney General Vanita Gupta, head of the the Civil Rights Division.  “The Justice Department will vigorously prosecute those who violate the civil rights laws to ensure that the rights of all individuals, including those in custody, are protected.” “Law enforcement officers have a duty to ensure that detainees are treated fairly and humanely when taken into custody,” said U.S. Attorney Stephanie A. Finley of the Western District of Louisiana.  “Mr. Dupuis and Mr. McGee breached that trust and violated their oaths by using excessive force on incarcerated individuals.” The FBI and the Louisiana State Police conducted the investigation.  Trial Attorneys Stephen Curran and Sanjay Patel of the Civil Rights Division, and Assistant U.S. Attorneys Myers P. Namie and Robert Abendroth of the Western District of Louisiana are prosecuting the case.   \n",
       "429                                                                                                                                                                                                                                                                                                                                                                                                                                                                                                                                                                                                                                                                                                                                                                                                                                                                                                                                                                                                                                                                                                                                                                                                                                                                                                                                                                                                                                                                                                                                                                                                                                                                                                                                                                                                                                                                                                                                                                                                                                                                                                                                                                                                                                                                                                                                                                                                                                                                                                                                                                                                                                                                                                                                                                                                                                                                                                                                                                                                                                                                                                                                                                                                                                                                                                                                                                                                                                                                                                                                                                                                                                                                                                                                                                                                                                                                                                                                                                                                                                                                                                                                                                                                                                                                                                                                                                                                                                                                                                                                                                                                                                                                                                                                                                                                                                                                                                                                                                                                                                                                                                                                                                                                                                                                                                                                                                                                                                                                                                                                                                                                                                                                                                                                                                                                                                                                                                                                                                                                                                                                                                                                                                                                                                                                                                                                                                                                The Justice Department announced that Berthurm Allen, 42, a former police officer with the Alcorn State University (ASU) Police Department in Lorman, Mississippi, pleaded guilty today in federal court to violating the civil rights of an arrestee. During his guilty plea before Senior U.S. District Judge David Bramlette III of the Southern District of Mississippi, Allen admitted that while acting under his authority as an ASU police officer, he elbowed the victim in the face and threw the victim to the ground without legal justification.  He also admitted that he misrepresented the circumstances surrounding the incident in his official police report to minimize his exposure to allegations of misconduct.  Allen’s actions caused injuries to the victim’s nose and face.  According to information presented in court, the incident occurred at the Claiborne County Jail in Port Gibson, Mississippi, and was recorded by the jail’s surveillance cameras. “When police officers violate the laws they swear to uphold, it threatens the credibility of our criminal justice system,” said Principal Deputy Assistant Attorney General Vanita Gupta, head of the Justice Department’s Civil Rights Division.  “The Justice Department will continue to vigorously prosecute and hold accountable those officers who violate the constitutional rights of people in their custody.” “The use of excessive force by law enforcement officers is a violation of the officer’s oath to protect the constitutional rights of all persons, even those in custody,” said U. S. Attorney Gregory K. Davis of the Southern District of Mississippi.  “Ensuring that law enforcement officers do not victimize the citizens they are sworn to serve and protect is a top priority of this office.”  This case was investigated by the FBI’s Jackson Division, and is being prosecuted by Trial Attorneys Julia Gegenheimer and Sheldon L. Beer of the Civil Rights Division’s Criminal Section and Assistant U.S. Attorney Christopher Wansley of the Southern District of Mississippi.   \n",
       "374                                                                                                                                                                                                                                                                                                                                                                                                                                                                                                                                                                                                                                                                                                                                                                                                                                                                                                                                                                                                                                                                                                                                                                                                                                                                                                                                                                                                                                                                                                                                                                                                                                                                                                                                                                                                                                                                                                                                                                                                                                                                                                                                                                                                                                                                                                                                                                                                                                                                                                                                                                                                                                                                                                                                                                                                                                                                                                                                                                                                                                                                                                                                                                                                                                                                                                                                                                                                                                                                                                                                                                                                                                                                                                                                                                                                                                                                                                                                                                                                                                                                                                                                                                 The Justice Department announced today that it has moved to intervene in Savage et al. v. Pocomoke City et al., a private lawsuit alleging race discrimination and retaliation under Title VII of the Civil Rights Act of 1964 by Pocomoke City, Maryland, the Worcester County Sheriff and the state of Maryland.  Title VII is a federal statute that prohibits employment discrimination on the basis of the basis of sex, race, color, national origin and religion.  The United States’ complaint in intervention alleges that the Worcester County Sheriff and the state of Maryland subjected former Pocomoke City Police Officer Franklin Savage to a racially-hostile work environment while he was assigned to a joint task force operated by the sheriff’s office.  Specifically, Officer Savage was repeatedly subjected to racial epithets as well as other racially-charged acts of harassment, humiliation and intimidation by his co-workers and supervisors.  Officer Savage’s complaints about racial harassment allegedly resulted in a series of retaliatory actions against him by the Worcester County Sheriff’s Office and Pocomoke City, concluding with the termination of his employment.  The complaint further alleges that Pocomoke City similarly retaliated against two other officers – former Pocomoke City Police Chief Kelvin Sewell and former Pocomoke City Police Lieutenant Lynell Green – for supporting Officer Savage in the course of his complaints.  Chief Sewell was eventually terminated as well. The complaint seeks a court order that requires the defendants to implement policies and procedures that will ensure a workplace environment free of discrimination and retaliatory conduct.  The United States also seeks relief, including monetary relief for the three charging parties as compensation for damages caused by the alleged discrimination. “Federal law protects against discrimination and retaliation in the workplace,” said Principal Deputy Assistant Attorney General Vanita Gupta, head of the Justice Department’s Civil Rights Division.  “In police departments, that protection is vital not only for individual officials, but also for the communities they serve.  The Justice Department is firmly committed to ensuring that our nation’s state and local law enforcement agencies comply with Title VII’s promise of a workplace free from racial discrimination and retaliation.” Officer Savage, Chief Sewell and Lieutenant Green each filed charges of discrimination with the Equal Employment Opportunity Commission (EEOC).  The EEOC’s Baltimore Office investigated the charges and made reasonable cause findings.  After unsuccessful conciliation efforts, the EEOC referred the charges to the Justice Department. “No one should have to face harassment and retaliation while at work,” said EEOC Chair Jenny R. Yang.  “When public employees face discrimination, it undermines the trust and credibility in our public institutions.  This case represents the latest partnership between EEOC and the Department of Justice to advance our shared Title VII enforcement responsibilities.” This lawsuit was brought as a result of a joint collaborative effort by the EEOC and the Civil Rights Division to vigorously enforce Title VII. “EEOC is committed to ensuring the employees who serve the public in critical law enforcement positions are protected by the laws forbidding unlawful harassment and retaliation in the workplace,” said Director Spencer H. Lewis Jr. of EEOC’s Philadelphia District Office, which includes the Baltimore Field Office.  “I am pleased that EEOC and the Department of Justice have established a collaborative relationship that will impact public employers and work together to redress violations of the law when they occur.” Enforcement of federal employment discrimination laws remains a top priority of the Justice Department.  More information about Title VII and other federal employment laws is available on the Civil Rights Division’s website at www.justice.gov/crt.  The EEOC enforces federal laws prohibiting employment discrimination.  Further information about the EEOC is available on its website at www.eeoc.gov. Pocomoke City Motion to Intervene   \n",
       "82                                                                                                                                                                                                                                                                                                                                                                                                                                                                                                                                                                                                                                                                                                                                                                                                                                                                                                                                                                                                                                                                                                                                                                                                                                                                                                                                                                                                                                                                                                                                                                                                                                                                                                                                                                                                                                                                                                                                                                                                                                                                                                                                                                                                                                                                                                                                                                                                                                                                                                                                                                                                                                                                                                                                                                                                                                                                                                                                                                                                                                                                                                                                                                                                                                                                                                                                                                                                                                                                                                                                                                                                                                                                                                                                                                                                                                                                                                                                                                                                                                                                                                                                                                                                                                                                                                                                                                                                                                                                                                                                                                                                                                                                                                                                                                                                                                                                                                                                                                                                                                                                                                                                                                                                                                                                                                                                                                                                                                                                                                                                                                                                                                                                                                                                                                                                                                                                                                                                                                                                                                                                                                                                                                                                                                                                                                                                                                                                                                                                                                                                                                                                                                                                                                                                                                                                                                                                                                                                                                                                                                                                                                                                   WASHINGTON – The Justice Department announced today that Timothy Lee York, a 35 year-old, self-proclaimed member of the United Aryan Brotherhood, pleaded guilty to violently assaulting a Jewish inmate at a federal correctional facility in Texas. York, of Fountain Valley, Calif., pleaded guilty to assault with a dangerous weapon before U.S. Magistrate Judge Irma C. Ramirez in federal court in Dallas, Texas. York admitted in court that on Dec. 28, 2007, he attacked Stuart Rosoff, his Jewish cellmate, while Rosoff was sleeping. York admitted that he used a dangerous weapon, a ligature that he placed around Rosoff’s neck, to forcibly pull Rosoff to the floor where he lost consciousness. Once Rosoff was on the floor, York repeatedly kicked Rosoff in the head and punched him in the head and body. York acknowledged that he attacked Rosoff because he was Jewish. “The Department of Justice will not hesitate to prosecute those who assault others because of their race or religion,” said Thomas E. Perez, Assistant Attorney General for Civil Rights Division. Sentencing is scheduled for Feb. 6, 2012, before Judge Sam A. Lindsay.  The case was investigated by the Dallas Division of the FBI, and is being prosecuted by Trial Attorneys Jared Fishman and Ryan Murguía of the Department of Justice’s Civil Rights Division.   \n",
       "239  Acting Assistant Attorney General Vanita Gupta for the Justice Department’s Civil Rights Division and U.S. Attorney Gregory K. Davis for the Southern District of Mississippi announced that John Louis Blalack, 20, and Robert Henry Rice, 24, both from Brandon, Mississippi, pleaded guilty today in U.S. District Court in Jackson to federal hate crime charges in connection with their roles in a series of assaults on African Americans in Jackson, Mississippi.  Blalack and Rice are the ninth and 10th individuals associated with a group of people who conspired to target and assault African Americans based on their race in the spring of 2011. “Justice has been served,” said Attorney General Eric Holder.  “The hate crimes to which these defendants have pleaded guilty were as shocking as they were reprehensible—targeting innocent people for racially-motivated acts of violence that inflicted grievous harm and even claimed a life.  The Justice Department will never rest in our pursuit of those who victimize their fellow citizens.  This landmark case should send a clear message: that anyone who commits an act of bias-motivated violence, or who violates the civil rights to which all Americans are entitled, will be held accountable to the fullest extent of the law.” Prior to today's guilty pleas, Deryl Paul Dedmon, 22; John Aaron Rice, 21; Dylan Wade Butler, 23; Jonathan Kyle Gaskamp, 22; and Joseph Paul Dominick, 23, all from Brandon, Mississippi, and William Kirk Montgomery, 25, from Puckett, Mississippi, Shelbie Brooke Richards, 21, from Pearl, Mississippi, and Sarah Adelia Graves, 21, from Crystal Springs, Mississippi, pleaded guilty in connection with their roles in these offenses.  The conspiracy culminated in the death of James Craig Anderson, who was assaulted and killed on June 26, 2011.    Blalack pleaded guilty to two counts of violating the Matthew Shepard – James Byrd Jr. Hate Crimes Prevention Act.  Rice pleaded guilty to one count of violating the same act.  The statutory maximum sentence for these violations is 10 years in prison and a $250,000 fine.  Sentencing for Blalack is set for April 23, 2015, and sentencing for Rice is set for April 30, 2015. The federal investigation revealed that beginning in the spring of 2011, Blalack, Robert Rice and others conspired with one another to harass and assault African-American people in and around Jackson.  On numerous occasions the co-conspirators used dangerous weapons, including beer bottles, sling shots and motor vehicles, to cause, and attempt to cause, bodily injury to African-American people.  They would specifically target African Americans they believed to be homeless or under the influence of alcohol because they believed that such individuals would be less likely to report an assault.  The co-conspirators would often boast about these racially motivated assaults.    On June 25, 2011, Blalack and others attended a birthday party/bonfire for a mutual friend in Puckett, Mississippi.  During the party, Blalack and others talked about going to Jackson to harass and assault African-American people.  By the early morning hours of June 26, 2011, Blalack, Montgomery, Dedmon, John Aaron Rice, Butler, Richards and Graves agreed to carry out their plan to find, harass and assault African-American people.  Robert Rice did not go to Jackson on June 26, 2011.  At around 4:15 a.m., Blalack, Montgomery, John Aaron Rice, and Butler drove to Jackson in Montgomery’s white Jeep with the understanding that Dedmon, Richards and Graves would join them a short time later.  Blalack and the other three occupants of the Jeep then drove around Jackson and threw beer bottles from the moving vehicle at African-American pedestrians they encountered.  At approximately 5:00 a.m., Blalack and the other three occupants of the Jeep spotted Anderson in a motel parking lot off of Ellis Avenue.  The occupants of the Jeep decided that Anderson would be a good target for an assault because he was African-American and appeared to be visibly intoxicated.  Blalack and John Aaron Rice decided to get out of the Jeep to distract Anderson while they waited for Dedmon, Richards and Graves to arrive.  After Dedmon Richards, and Graves arrived in Dedmon’s Ford F250 truck, Dedmon and John Aaron Rice physically assaulted Anderson.  Rice first punched Anderson in the face with sufficient force to knock Anderson to the ground, and then Dedmon punched Anderson in the face multiple times while he was on the ground.  After the assault, Blalack, Montgomery, Rice and Butler left the motel parking lot in the Jeep.  As they left, one of the occupants of the Jeep yelled, “White Power!”  Prior to getting back into his truck, Dedmon responded by also yelling “White Power!” Once back in his Ford F250 truck, Dedmon deliberately used his vehicle to run over Anderson, causing injuries which resulted in his death.  Blalack’s guilty plea includes his role in this offense. On a previous occasion, Blalack, Montgomery, Butler and Dominick drove around west Jackson to find and assault African Americans.  Blalack and the other occupants of the vehicle purchased bottles of beer to drink and then threw the beer bottles at African Americans.  The occupants of the vehicle also purchased a sling-shot.  Some of the occupants of the vehicle, including Blalack, threw beer bottles and shot metal ball bearings out of the moving vehicle at African American pedestrians.  Blalack pleaded guilty for his role in this offense. Another previous occasion involved a racially motivated assault at or near a golf course in Jackson.  On this particular evening, Robert Rice, Blalack, Montgomery, Gaskamp, Dedmon and John Aaron Rice were in a vehicle, searching for, and eventually finding,  a vulnerable African-American man to assault.  The vehicle was stopped so Dedmon, John Aaron Rice and Gaskamp could chase the victim down.  The three men beat the man to the point that he begged for his life.  Robert Rice’s guilty plea includes his role in this offense. “Today’s guilty pleas are the culmination of an extensive federal investigation into this violent hate crime conspiracy,” said Acting Assistant Attorney General Gupta.  “Ten defendants have now pleaded guilty to crimes associated with this conspiracy.  We hope that today’s guilty pleas provide closure to the victim’s family and to the community that has mourned Mr. Anderson’s tragic death and been shocked by the scope of the conspiracy to commit racially motivated assaults in Jackson by a group of ten co-conspirators.” “There can be no tolerance for acts of gratuitous violence targeting innocent persons simply because of their race,” said U.S. Attorney Davis.  “This case is a testament to the United States Attorney’s Office’s dedication to vigorously investigate and prosecute violations of federal hate crime laws.  I commend not only Mr. Anderson’s family for their continued cooperation throughout this investigation, but our law enforcement partners, including the FBI and Jackson Police Department, who worked tirelessly in this case to ensure our hate crime laws are strictly enforced.” “With today's guilty pleas, the FBI and its law enforcement partners have identified and brought to justice all those individuals who conspired to deprive Mr. Anderson and other citizens of their civil rights simply because of the color of their skin,” said Special Agent in Charge Donald Alway for the FBI in Mississippi.  “The FBI remains dedicated to protecting the cherished freedoms of all Americans, including aggressively investigating allegations of hate crimes and working to prevent them.” These guilty pleas were the result of a cooperative effort between the Civil Rights Division, the U.S. Attorney’s Office for the Southern District of Mississippi and the Hinds County District Attorney’s office.  This case was investigated by the FBI’s Jackson Division and the Jackson Police Department.  It is being prosecuted by Trial Attorney Sheldon L. Beer and Deputy Chief Paige M. Fitzgerald of the Civil Rights Division, and Assistant U.S. Attorney Glenda R. Haynes of the U.S. Attorney’s Office for the Southern District of Mississippi.    \n",
       "\n",
       "                          date  topics_clean  \\\n",
       "259  2015-10-13T00:00:00-04:00  Civil Rights   \n",
       "429  2016-03-03T00:00:00-05:00  Civil Rights   \n",
       "374  2016-10-19T00:00:00-04:00  Civil Rights   \n",
       "82   2011-10-06T00:00:00-04:00   Hate Crimes   \n",
       "239  2015-01-07T00:00:00-05:00   Hate Crimes   \n",
       "\n",
       "                                                                                                 components_clean  \\\n",
       "259                             Civil Rights Division; Civil Rights - Criminal Section; USAO - Louisiana, Western   \n",
       "429                          Civil Rights Division; Civil Rights - Criminal Section; USAO - Mississippi, Southern   \n",
       "374                                           Civil Rights Division; Civil Rights - Employment Litigation Section   \n",
       "82                                                         Civil Rights Division; Civil Rights - Criminal Section   \n",
       "239  Civil Rights Division; Civil Rights - Criminal Section; Civil Rights - Housing and Civil Enforcement Section   \n",
       "\n",
       "       neg    neu    pos  compound  \\\n",
       "259  0.133  0.815  0.053   -0.9931   \n",
       "429  0.125  0.808  0.067   -0.9579   \n",
       "374  0.124  0.788  0.088   -0.9635   \n",
       "82   0.215  0.751  0.034   -0.9887   \n",
       "239  0.155  0.797  0.048   -0.9988   \n",
       "\n",
       "                                                                                                                                                                                                                                                                                                                                                                                                                                                                                                                                                                                                                                                                                                                                                                                                                                                                                                                                                                                                                                                                                                                                                                                                                                                                                                                                                                                                                                                                                                                                                                                                                                                                                                                                                                                                                                                                                                                                                                                                                                                                                                                                                                                                                                                                                                                                                                                                                                                                                                                                                                                                                                                                                                                                                                                                                                                                                                                                                                                                                                                                                                                                                                                                                                                                                                                                                                                                                                                                                                                                                                                                                                                                                                                                                                                                                                                                                                                                                                                                                                                                                                                                                                                                                                                                                                                                                                                                                                                                                                                                                                                                                                                                                                                                                                                                                           processed_text  \\\n",
       "259                                                                                                                                                                                                                                                                                                                                                                                                                                                                                                                                                                                                                                                                                                                                                                                                                                                                                                                                                                                                                                                                                                                                                                                                                                                                                                                                                                                                                                                                                                                                                                                                                                                                                                                                                                                                                                                                                                                                                                                                                                                                                                                                                                                                                                                                                                                                                                                                                                                                                                                                                                                                                                                                                                                                                                                                                                                                                                                                                                                                           announc today former mamou louisiana polic chief gregori dupui sentenc year prison former mamou polic offic chief robert mcgee plead guilti count depriv color role seri incid deploy taser resist inmat mamou jail dupui mcgee guilti plea result feder illeg excess forc upon inmat mamou jail dupui mamou plead guilti count violat individu sentenc today judg richard haik western louisiana accord evid present dupui plea hear dupui serv polic chief tenur chief offic includ mcgee repeatedli administ taser shock form punish inmat disrupt even inmat disrupt pure verbal inmat calm compliant offic deploy taser dupui went jail deal verbal disrupt detaine dupui order detaine bunk hand wall detaine compli dupui enter cell deploy taser detaine back caus detaine fall ground suffer pain injur knee plea hear dupui admit knew time action unlaw mcgee mamou plead guilti today count violat individu commit offic prior elect chief mamou polic accord mcgee guilti plea mcgee call mamou polic multipl occas deal disrupt inmat mcgee inmat engag convers although inmat pose threat offic mcgee fire taser inmat caus inmat fall experi pain mcgee elect mamou polic chief incid resign posit chief result feder mcgee face year prison three year supervis releas fine sentenc date defend abus trust given enforc offic engag pattern repeatedli tase compliant detaine said princip deputi gener vanita gupta head vigor prosecut violat law ensur individu includ custodi protect enforc offic duti ensur detaine treat fairli human taken custodi said stephani finley western louisiana dupui mcgee breach trust violat oath use excess forc incarcer individu louisiana state polic conduct attorney stephen curran sanjay patel attorney myer nami robert abendroth western louisiana prosecut   \n",
       "429                                                                                                                                                                                                                                                                                                                                                                                                                                                                                                                                                                                                                                                                                                                                                                                                                                                                                                                                                                                                                                                                                                                                                                                                                                                                                                                                                                                                                                                                                                                                                                                                                                                                                                                                                                                                                                                                                                                                                                                                                                                                                                                                                                                                                                                                                                                                                                                                                                                                                                                                                                                                                                                                                                                                                                                                                                                                                                                                                                                                                                                                                                                                                                                                                                                                                                                                                                                                                                                                                                                                                                                                                                                                                                                                                                         announc berthurm allen former polic offic alcorn state univers polic lorman mississippi plead guilti today feder court violat arreste guilti plea senior judg david bramlett southern mississippi allen admit act author polic offic elbow victim face threw victim ground without legal justif also admit misrepres circumst surround incid offici polic report minim exposur alleg misconduct allen action caus injuri victim nose face accord inform present court incid occur claiborn counti jail port gibson mississippi record jail surveil camera polic offic violat law swear uphold threaten credibl crimin system said princip deputi gener vanita gupta head continu vigor prosecut hold account offic violat constitut peopl custodi excess forc enforc offic violat offic oath protect constitut person even custodi said gregori davi southern mississippi ensur enforc offic victim citizen sworn serv protect prioriti investig jackson prosecut attorney julia gegenheim sheldon beer crimin section christoph wansley southern mississippi   \n",
       "374                                                                                                                                                                                                                                                                                                                                                                                                                                                                                                                                                                                                                                                                                                                                                                                                                                                                                                                                                                                                                                                                                                                                                                                                                                                                                                                                                                                                                                                                                                                                                                                                                                                                                                                                                                                                                                                                                                                                                                                                                                                                                                                                                                                                                                                                                                                                                                                                                                                         announc today move interven savag pocomok citi privat lawsuit alleg race discrimin retali titl pocomok citi maryland worcest counti sheriff state maryland titl feder statut prohibit employ discrimin basi basi race color nation origin religion unit state complaint intervent alleg worcest counti sheriff state maryland subject former pocomok citi polic offic franklin savag racial hostil work environ assign joint task forc oper sheriff specif offic savag repeatedli subject racial epithet well racial charg act harass humili intimid worker supervisor offic savag complaint racial harass allegedli result seri retaliatori action worcest counti sheriff pocomok citi conclud termin employ complaint alleg pocomok citi similarli retali offic former pocomok citi polic chief kelvin sewel former pocomok citi polic lieuten lynel green support offic savag cours complaint chief sewel eventu termin well complaint seek court order requir defend implement polici procedur ensur workplac environ free discrimin retaliatori conduct unit state also seek relief includ monetari relief three charg parti compens damag caus alleg discrimin feder protect discrimin retali workplac said princip deputi gener vanita gupta head polic depart protect vital individu offici also commun serv firmli commit ensur nation state local enforc agenc compli titl promis workplac free racial discrimin retali offic savag chief sewel lieuten green file charg discrimin equal employ opportun commiss eeoc eeoc baltimor investig charg made reason caus find unsuccess concili effort eeoc refer charg face harass retali work said eeoc chair jenni yang public employe face discrimin undermin trust credibl public institut repres latest partnership eeoc advanc share titl enforc respons lawsuit brought result joint collabor effort eeoc vigor enforc titl eeoc commit ensur employe serv public critic enforc posit protect law forbid unlaw harass retali workplac said director spencer lewi eeoc philadelphia includ baltimor field pleas eeoc establish collabor relationship impact public employ work togeth redress violat occur enforc feder employ discrimin law remain prioriti inform titl feder employ law avail websit eeoc enforc feder law prohibit employ discrimin inform eeoc avail websit eeoc pocomok citi motion interven   \n",
       "82                                                                                                                                                                                                                                                                                                                                                                                                                                                                                                                                                                                                                                                                                                                                                                                                                                                                                                                                                                                                                                                                                                                                                                                                                                                                                                                                                                                                                                                                                                                                                                                                                                                                                                                                                                                                                                                                                                                                                                                                                                                                                                                                                                                                                                                                                                                                                                                                                                                                                                                                                                                                                                                                                                                                                                                                                                                                                                                                                                                                                                                                                                                                                                                                                                                                                                                                                                                                                                                                                                                                                                                                                                                                                                                                                                                                                                                                                                                                                                                                                                                                                                                         washington announc today timothi york year self proclaim member unit aryan brotherhood plead guilti violent assault jewish inmat feder correct facil texa york fountain valley calif plead guilti assault danger weapon magistr judg irma ramirez feder court dalla texa york admit court attack stuart rosoff jewish cellmat rosoff sleep york admit use danger weapon ligatur place around rosoff neck forcibl pull rosoff floor lost conscious rosoff floor york repeatedli kick rosoff head punch head bodi york acknowledg attack rosoff jewish hesit prosecut assault other race religion said thoma perez gener sentenc schedul judg lindsay investig dalla prosecut attorney jare fishman ryan murguía   \n",
       "239  act gener vanita gupta gregori davi southern mississippi announc john loui blalack robert henri rice brandon mississippi plead guilti today court jackson feder hate crime charg connect role seri assault african american jackson mississippi blalack rice ninth individu associ group peopl conspir target assault african american base race spring serv said gener eric holder hate crime defend plead guilti shock reprehens target innoc peopl racial motiv act violenc inflict grievou harm even claim life never rest pursuit victim fellow citizen landmark send clear messag anyon commit bia motiv violenc violat american entitl held account fullest extent prior today guilti plea deryl paul dedmon john aaron rice dylan wade butler jonathan kyle gaskamp joseph paul dominick brandon mississippi william kirk montgomeri puckett mississippi shelbi brook richard pearl mississippi sarah adelia grave crystal spring mississippi plead guilti connect role offens conspiraci culmin death jame craig anderson assault kill june blalack plead guilti count violat matthew shepard jame byrd hate crime prevent rice plead guilti count violat statutori maximum sentenc violat year prison fine sentenc blalack april sentenc rice april feder reveal begin spring blalack robert rice other conspir anoth harass assault african american peopl around jackson numer occas conspir use danger weapon includ beer bottl sling shot motor vehicl caus attempt caus bodili injuri african american peopl would specif target african american believ homeless influenc alcohol believ individu would less like report assault conspir would often boast racial motiv assault june blalack other attend birthday parti bonfir mutual friend puckett mississippi parti blalack other talk go jackson harass assault african american peopl earli morn hour june blalack montgomeri dedmon john aaron rice butler richard grave agre carri plan find harass assault african american peopl robert rice jackson june around blalack montgomeri john aaron rice butler drove jackson montgomeri white jeep understand dedmon richard grave would join short time later blalack three occup jeep drove around jackson threw beer bottl move vehicl african american pedestrian encount approxim blalack three occup jeep spot anderson motel park elli avenu occup jeep decid anderson would good target assault african american appear visibl intox blalack john aaron rice decid jeep distract anderson wait dedmon richard grave arriv dedmon richard grave arriv dedmon ford truck dedmon john aaron rice physic assault anderson rice first punch anderson face suffici forc knock anderson ground dedmon punch anderson face multipl time ground assault blalack montgomeri rice butler left motel park jeep left occup jeep yell white power prior get back truck dedmon respond also yell white power back ford truck dedmon deliber use vehicl anderson caus injuri result death blalack guilti plea includ role offens previou occas blalack montgomeri butler dominick drove around west jackson find assault african american blalack occup vehicl purchas bottl beer drink threw beer bottl african american occup vehicl also purchas sling shot occup vehicl includ blalack threw beer bottl shot metal ball bear move vehicl african american pedestrian blalack plead guilti role offens anoth previou occas involv racial motiv assault near golf cours jackson particular even robert rice blalack montgomeri gaskamp dedmon john aaron rice vehicl search eventu find vulner african american assault vehicl stop dedmon john aaron rice gaskamp could chase victim three beat point beg life robert rice guilti plea includ role offens today guilti plea culmin extens feder violent hate crime conspiraci said act gener gupta defend plead guilti crime associ conspiraci hope today guilti plea provid closur victim famili commun mourn anderson tragic death shock scope conspiraci commit racial motiv assault jackson group conspir toler act gratuit violenc target innoc person simpli race said davi testament unit state dedic vigor investig prosecut violat feder hate crime law commend anderson famili continu cooper throughout enforc partner includ jackson polic work tirelessli ensur hate crime law strictli enforc today guilti plea enforc partner identifi brought individu conspir depriv anderson citizen simpli color skin said special agent charg donald alway mississippi remain dedic protect cherish freedom american includ aggress investig alleg hate crime work prevent guilti plea result cooper effort southern mississippi hind counti investig jackson jackson polic prosecut sheldon beer deputi chief paig fitzgerald glenda hayn southern mississippi   \n",
       "\n",
       "                                                                                                                                                                                                                                                                                                                                                                                                                                                                                                                                                                                                                                                                                                                                                                                                                                                                                                                                                                                                                                                                                                                                                                                                                                                                                                                                                                                                                                                                                                                                                                                                                                                                                                                                                                                                                                                                                                                                                                                                                                                                                                                                                                                                                                                                                                                                                                                                                                                                                                                                                                                                                                                                                                                                                                                                                                                                                                                                                                                                                                                                                                                                                                                                                                                                                                                                                                                                                                                                                                                                                                                                                                                                                                                                                                                                                                                                                                                                                                                                                                                                                                                                                                                                                                                                                                                                                                                                                                                                                                                                                                                                                                                                                                                                                                                                                           contents_lower  \\\n",
       "259                                                                                                                                                                                                                                                                                                                                                                                                                                                                                                                                                                                                                                                                                                                                                                                                                                                                                                                                                                                                                                                                                                                                                                                                                                                                                                                                                                                                                                                                                                                                                                                                                                                                                                                                                                                                                                                                                                                                                                                                                                                                                                                                                                                                                                                                                                                                                                                                                                                                                                                                                                                                                                                                                                                                                                                                                                                                                                                                                                                                           announc today former mamou louisiana polic chief gregori dupui sentenc year prison former mamou polic offic chief robert mcgee plead guilti count depriv color role seri incid deploy taser resist inmat mamou jail dupui mcgee guilti plea result feder illeg excess forc upon inmat mamou jail dupui mamou plead guilti count violat individu sentenc today judg richard haik western louisiana accord evid present dupui plea hear dupui serv polic chief tenur chief offic includ mcgee repeatedli administ taser shock form punish inmat disrupt even inmat disrupt pure verbal inmat calm compliant offic deploy taser dupui went jail deal verbal disrupt detaine dupui order detaine bunk hand wall detaine compli dupui enter cell deploy taser detaine back caus detaine fall ground suffer pain injur knee plea hear dupui admit knew time action unlaw mcgee mamou plead guilti today count violat individu commit offic prior elect chief mamou polic accord mcgee guilti plea mcgee call mamou polic multipl occas deal disrupt inmat mcgee inmat engag convers although inmat pose threat offic mcgee fire taser inmat caus inmat fall experi pain mcgee elect mamou polic chief incid resign posit chief result feder mcgee face year prison three year supervis releas fine sentenc date defend abus trust given enforc offic engag pattern repeatedli tase compliant detaine said princip deputi gener vanita gupta head vigor prosecut violat law ensur individu includ custodi protect enforc offic duti ensur detaine treat fairli human taken custodi said stephani finley western louisiana dupui mcgee breach trust violat oath use excess forc incarcer individu louisiana state polic conduct attorney stephen curran sanjay patel attorney myer nami robert abendroth western louisiana prosecut   \n",
       "429                                                                                                                                                                                                                                                                                                                                                                                                                                                                                                                                                                                                                                                                                                                                                                                                                                                                                                                                                                                                                                                                                                                                                                                                                                                                                                                                                                                                                                                                                                                                                                                                                                                                                                                                                                                                                                                                                                                                                                                                                                                                                                                                                                                                                                                                                                                                                                                                                                                                                                                                                                                                                                                                                                                                                                                                                                                                                                                                                                                                                                                                                                                                                                                                                                                                                                                                                                                                                                                                                                                                                                                                                                                                                                                                                                         announc berthurm allen former polic offic alcorn state univers polic lorman mississippi plead guilti today feder court violat arreste guilti plea senior judg david bramlett southern mississippi allen admit act author polic offic elbow victim face threw victim ground without legal justif also admit misrepres circumst surround incid offici polic report minim exposur alleg misconduct allen action caus injuri victim nose face accord inform present court incid occur claiborn counti jail port gibson mississippi record jail surveil camera polic offic violat law swear uphold threaten credibl crimin system said princip deputi gener vanita gupta head continu vigor prosecut hold account offic violat constitut peopl custodi excess forc enforc offic violat offic oath protect constitut person even custodi said gregori davi southern mississippi ensur enforc offic victim citizen sworn serv protect prioriti investig jackson prosecut attorney julia gegenheim sheldon beer crimin section christoph wansley southern mississippi   \n",
       "374                                                                                                                                                                                                                                                                                                                                                                                                                                                                                                                                                                                                                                                                                                                                                                                                                                                                                                                                                                                                                                                                                                                                                                                                                                                                                                                                                                                                                                                                                                                                                                                                                                                                                                                                                                                                                                                                                                                                                                                                                                                                                                                                                                                                                                                                                                                                                                                                                                                         announc today move interven savag pocomok citi privat lawsuit alleg race discrimin retali titl pocomok citi maryland worcest counti sheriff state maryland titl feder statut prohibit employ discrimin basi basi race color nation origin religion unit state complaint intervent alleg worcest counti sheriff state maryland subject former pocomok citi polic offic franklin savag racial hostil work environ assign joint task forc oper sheriff specif offic savag repeatedli subject racial epithet well racial charg act harass humili intimid worker supervisor offic savag complaint racial harass allegedli result seri retaliatori action worcest counti sheriff pocomok citi conclud termin employ complaint alleg pocomok citi similarli retali offic former pocomok citi polic chief kelvin sewel former pocomok citi polic lieuten lynel green support offic savag cours complaint chief sewel eventu termin well complaint seek court order requir defend implement polici procedur ensur workplac environ free discrimin retaliatori conduct unit state also seek relief includ monetari relief three charg parti compens damag caus alleg discrimin feder protect discrimin retali workplac said princip deputi gener vanita gupta head polic depart protect vital individu offici also commun serv firmli commit ensur nation state local enforc agenc compli titl promis workplac free racial discrimin retali offic savag chief sewel lieuten green file charg discrimin equal employ opportun commiss eeoc eeoc baltimor investig charg made reason caus find unsuccess concili effort eeoc refer charg face harass retali work said eeoc chair jenni yang public employe face discrimin undermin trust credibl public institut repres latest partnership eeoc advanc share titl enforc respons lawsuit brought result joint collabor effort eeoc vigor enforc titl eeoc commit ensur employe serv public critic enforc posit protect law forbid unlaw harass retali workplac said director spencer lewi eeoc philadelphia includ baltimor field pleas eeoc establish collabor relationship impact public employ work togeth redress violat occur enforc feder employ discrimin law remain prioriti inform titl feder employ law avail websit eeoc enforc feder law prohibit employ discrimin inform eeoc avail websit eeoc pocomok citi motion interven   \n",
       "82                                                                                                                                                                                                                                                                                                                                                                                                                                                                                                                                                                                                                                                                                                                                                                                                                                                                                                                                                                                                                                                                                                                                                                                                                                                                                                                                                                                                                                                                                                                                                                                                                                                                                                                                                                                                                                                                                                                                                                                                                                                                                                                                                                                                                                                                                                                                                                                                                                                                                                                                                                                                                                                                                                                                                                                                                                                                                                                                                                                                                                                                                                                                                                                                                                                                                                                                                                                                                                                                                                                                                                                                                                                                                                                                                                                                                                                                                                                                                                                                                                                                                                                         washington announc today timothi york year self proclaim member unit aryan brotherhood plead guilti violent assault jewish inmat feder correct facil texa york fountain valley calif plead guilti assault danger weapon magistr judg irma ramirez feder court dalla texa york admit court attack stuart rosoff jewish cellmat rosoff sleep york admit use danger weapon ligatur place around rosoff neck forcibl pull rosoff floor lost conscious rosoff floor york repeatedli kick rosoff head punch head bodi york acknowledg attack rosoff jewish hesit prosecut assault other race religion said thoma perez gener sentenc schedul judg lindsay investig dalla prosecut attorney jare fishman ryan murguía   \n",
       "239  act gener vanita gupta gregori davi southern mississippi announc john loui blalack robert henri rice brandon mississippi plead guilti today court jackson feder hate crime charg connect role seri assault african american jackson mississippi blalack rice ninth individu associ group peopl conspir target assault african american base race spring serv said gener eric holder hate crime defend plead guilti shock reprehens target innoc peopl racial motiv act violenc inflict grievou harm even claim life never rest pursuit victim fellow citizen landmark send clear messag anyon commit bia motiv violenc violat american entitl held account fullest extent prior today guilti plea deryl paul dedmon john aaron rice dylan wade butler jonathan kyle gaskamp joseph paul dominick brandon mississippi william kirk montgomeri puckett mississippi shelbi brook richard pearl mississippi sarah adelia grave crystal spring mississippi plead guilti connect role offens conspiraci culmin death jame craig anderson assault kill june blalack plead guilti count violat matthew shepard jame byrd hate crime prevent rice plead guilti count violat statutori maximum sentenc violat year prison fine sentenc blalack april sentenc rice april feder reveal begin spring blalack robert rice other conspir anoth harass assault african american peopl around jackson numer occas conspir use danger weapon includ beer bottl sling shot motor vehicl caus attempt caus bodili injuri african american peopl would specif target african american believ homeless influenc alcohol believ individu would less like report assault conspir would often boast racial motiv assault june blalack other attend birthday parti bonfir mutual friend puckett mississippi parti blalack other talk go jackson harass assault african american peopl earli morn hour june blalack montgomeri dedmon john aaron rice butler richard grave agre carri plan find harass assault african american peopl robert rice jackson june around blalack montgomeri john aaron rice butler drove jackson montgomeri white jeep understand dedmon richard grave would join short time later blalack three occup jeep drove around jackson threw beer bottl move vehicl african american pedestrian encount approxim blalack three occup jeep spot anderson motel park elli avenu occup jeep decid anderson would good target assault african american appear visibl intox blalack john aaron rice decid jeep distract anderson wait dedmon richard grave arriv dedmon richard grave arriv dedmon ford truck dedmon john aaron rice physic assault anderson rice first punch anderson face suffici forc knock anderson ground dedmon punch anderson face multipl time ground assault blalack montgomeri rice butler left motel park jeep left occup jeep yell white power prior get back truck dedmon respond also yell white power back ford truck dedmon deliber use vehicl anderson caus injuri result death blalack guilti plea includ role offens previou occas blalack montgomeri butler dominick drove around west jackson find assault african american blalack occup vehicl purchas bottl beer drink threw beer bottl african american occup vehicl also purchas sling shot occup vehicl includ blalack threw beer bottl shot metal ball bear move vehicl african american pedestrian blalack plead guilti role offens anoth previou occas involv racial motiv assault near golf cours jackson particular even robert rice blalack montgomeri gaskamp dedmon john aaron rice vehicl search eventu find vulner african american assault vehicl stop dedmon john aaron rice gaskamp could chase victim three beat point beg life robert rice guilti plea includ role offens today guilti plea culmin extens feder violent hate crime conspiraci said act gener gupta defend plead guilti crime associ conspiraci hope today guilti plea provid closur victim famili commun mourn anderson tragic death shock scope conspiraci commit racial motiv assault jackson group conspir toler act gratuit violenc target innoc person simpli race said davi testament unit state dedic vigor investig prosecut violat feder hate crime law commend anderson famili continu cooper throughout enforc partner includ jackson polic work tirelessli ensur hate crime law strictli enforc today guilti plea enforc partner identifi brought individu conspir depriv anderson citizen simpli color skin said special agent charg donald alway mississippi remain dedic protect cherish freedom american includ aggress investig alleg hate crime work prevent guilti plea result cooper effort southern mississippi hind counti investig jackson jackson polic prosecut sheldon beer deputi chief paig fitzgerald glenda hayn southern mississippi   \n",
       "\n",
       "    toptopic  \n",
       "259  topic_0  \n",
       "429  topic_1  \n",
       "374  topic_1  \n",
       "82   topic_1  \n",
       "239  topic_1  "
      ]
     },
     "execution_count": 473,
     "metadata": {},
     "output_type": "execute_result"
    }
   ],
   "source": [
    "##B\n",
    "##Add topic probabilities to dataframe as columns \n",
    "one_list_tup = topic_probs_bydoc[0]\n",
    "\n",
    "## Create a long type dataframe \n",
    "topic_probs_bydoc_long = pd.DataFrame([t for lst in topic_probs_bydoc for t in lst],\n",
    "                                      columns = ['topic', 'probability'])\n",
    "\n",
    "## add id var- for the number of topics\n",
    "topic_probs_bydoc_long['doc_id'] = list(np.concatenate([[one_id] * \n",
    "                                                        3 for one_id in doj_subset_wscore.id]).flat)\n",
    "\n",
    "## Pivot to wide format\n",
    "topic_probs_bydoc_wide = pd.pivot_table(topic_probs_bydoc_long, index = ['doc_id'],\n",
    "                        columns = ['topic']).reset_index().reset_index(drop = True)\n",
    "\n",
    "topic_probs_bydoc_wide.columns = ['doc_id'] + [\"topic_\" + str(i) for i in np.arange(0, 3)]\n",
    "\n",
    "\n",
    "## Merge with original data \n",
    "topic_wmeta = pd.merge(topic_probs_bydoc_wide,\n",
    "                       doj_subset_wscore,\n",
    "                       left_on = 'doc_id',\n",
    "                       right_on = 'id')\n",
    " \n",
    "\n",
    "##Create a column, top_topic, that reflects each document to its highest-probability topic \n",
    "topic_wmeta['toptopic'] = topic_wmeta[[col for col in topic_wmeta.columns if \n",
    "                                       \"topic_\" in col]].idxmax(axis=1)\n",
    "\n",
    "topic_wmeta.sample(n = 5, random_state = 555)\n"
   ]
  },
  {
   "cell_type": "code",
   "execution_count": 486,
   "metadata": {},
   "outputs": [
    {
     "data": {
      "text/html": [
       "<div>\n",
       "<style scoped>\n",
       "    .dataframe tbody tr th:only-of-type {\n",
       "        vertical-align: middle;\n",
       "    }\n",
       "\n",
       "    .dataframe tbody tr th {\n",
       "        vertical-align: top;\n",
       "    }\n",
       "\n",
       "    .dataframe thead th {\n",
       "        text-align: right;\n",
       "    }\n",
       "</style>\n",
       "<table border=\"1\" class=\"dataframe\">\n",
       "  <thead>\n",
       "    <tr style=\"text-align: right;\">\n",
       "      <th>toptopic</th>\n",
       "      <th>topic_0</th>\n",
       "      <th>topic_1</th>\n",
       "      <th>topic_2</th>\n",
       "    </tr>\n",
       "    <tr>\n",
       "      <th>topics_clean</th>\n",
       "      <th></th>\n",
       "      <th></th>\n",
       "      <th></th>\n",
       "    </tr>\n",
       "  </thead>\n",
       "  <tbody>\n",
       "    <tr>\n",
       "      <th>Civil Rights</th>\n",
       "      <td>0.059801</td>\n",
       "      <td>0.438538</td>\n",
       "      <td>0.501661</td>\n",
       "    </tr>\n",
       "    <tr>\n",
       "      <th>Hate Crimes</th>\n",
       "      <td>0.000000</td>\n",
       "      <td>0.735772</td>\n",
       "      <td>0.264228</td>\n",
       "    </tr>\n",
       "    <tr>\n",
       "      <th>Project Safe Childhood</th>\n",
       "      <td>0.993750</td>\n",
       "      <td>0.006250</td>\n",
       "      <td>0.000000</td>\n",
       "    </tr>\n",
       "  </tbody>\n",
       "</table>\n",
       "</div>"
      ],
      "text/plain": [
       "toptopic                 topic_0   topic_1   topic_2\n",
       "topics_clean                                        \n",
       "Civil Rights            0.059801  0.438538  0.501661\n",
       "Hate Crimes             0.000000  0.735772  0.264228\n",
       "Project Safe Childhood  0.993750  0.006250  0.000000"
      ]
     },
     "execution_count": 486,
     "metadata": {},
     "output_type": "execute_result"
    }
   ],
   "source": [
    "##C\n",
    "##Summarize the topic proportions for each of the topics_clean \n",
    "pd.crosstab(topic_wmeta[\"topics_clean\"], topic_wmeta[\"toptopic\"], normalize = \"index\")\n"
   ]
  },
  {
   "cell_type": "code",
   "execution_count": null,
   "metadata": {},
   "outputs": [],
   "source": [
    "##D\n",
    "#Some might map on more cleanly to a topic than others based on the words and phrases that are highlighted and \n",
    "#the corresponding topic proportions. For example, id 15-1263 is mapped to topic 0, Civil Rights, although the \n",
    "#topic proportion for Hate Crimes is a close second because the action committed was not very violent or extreme; \n",
    "#on the other hand, case 16-252 is clearly mapped to topic 1, Hate Crime, because words such as \"elbowed\" and \"threw\"\n",
    "#indicate the more violent and physical nature of the action. \n"
   ]
  },
  {
   "cell_type": "markdown",
   "metadata": {},
   "source": [
    "# 3. Extend the analysis from unigrams to bigrams (10 points)\n",
    "\n",
    "In the previous question, you found top words via a unigram representation of the text. Now, we want to see how those top words change with bigrams (pairs of words)\n",
    "\n",
    "A. Using the `doj_subset_wscore` data and the `processed_text` column (so the words after stemming/other preprocessing), create a column in the data called `processed_text_bigrams` that combines each consecutive pairs of word into a bigram separated by an underscore. Eg:\n",
    "\n",
    "\"depart reach settlem\" would become \"depart_reach reach_settlem\"\n",
    "\n",
    "Do this by writing a function `create_bigram_onedoc` that takes in a single `processed_text` string and returns a string with its bigrams structured similarly to above example\n",
    " \n",
    "**Hint**: there are many ways to solve but `zip` may be helpful: https://stackoverflow.com/questions/21303224/iterate-over-all-pairs-of-consecutive-items-in-a-list\n",
    "\n",
    "B. Print the `id`, `processed_text`, and `processed_text_bigram` columns for press release with id = 16-217"
   ]
  },
  {
   "cell_type": "code",
   "execution_count": 578,
   "metadata": {},
   "outputs": [],
   "source": [
    "##A \n",
    "## Function to return string of bigrams\n",
    "def create_bigram_onedoc(string):\n",
    "    Bigrams = []\n",
    "    split = string.split()\n",
    "    bg = list(nltk.bigrams(split))\n",
    "    for bigram in bg:\n",
    "        Bigrams.append((\"_\".join([w +\"\" for w in bigram])).strip())\n",
    "    str1 = \" \".join(Bigrams)\n",
    "    return str1\n",
    "    \n",
    "## Create new column to store bigrams\n",
    "processed_text_bigrams = [create_bigram_onedoc(one_listing) for one_listing in\n",
    "                          doj_subset_wscore[\"processed_text\"]]\n",
    "\n",
    "\n",
    "doj_subset_wscore[\"processed_text_bigrams\"] = processed_text_bigrams\n"
   ]
  },
  {
   "cell_type": "code",
   "execution_count": 579,
   "metadata": {},
   "outputs": [
    {
     "data": {
      "text/html": [
       "<div>\n",
       "<style scoped>\n",
       "    .dataframe tbody tr th:only-of-type {\n",
       "        vertical-align: middle;\n",
       "    }\n",
       "\n",
       "    .dataframe tbody tr th {\n",
       "        vertical-align: top;\n",
       "    }\n",
       "\n",
       "    .dataframe thead th {\n",
       "        text-align: right;\n",
       "    }\n",
       "</style>\n",
       "<table border=\"1\" class=\"dataframe\">\n",
       "  <thead>\n",
       "    <tr style=\"text-align: right;\">\n",
       "      <th></th>\n",
       "      <th>id</th>\n",
       "      <th>processed_text</th>\n",
       "      <th>processed_text_bigrams</th>\n",
       "    </tr>\n",
       "  </thead>\n",
       "  <tbody>\n",
       "    <tr>\n",
       "      <th>313</th>\n",
       "      <td>16-217</td>\n",
       "      <td>reach comprehens settlement agreement citi miami miami polic resolv offic involv shoot offic announc princip deputi gener vanita gupta head wifredo ferrer southern florida settlement approv miami citi commiss today effect agreement sign parti resolv claim stem offic involv shoot offic conduct violent crime control enforc find issu juli identifi pattern practic excess forc offic involv shoot violat fourth amend constitut citi complianc settlement monitor independ review former tampa florida polic chief jane castor settlement agreement citi implement comprehens reform ensur constitut polic support public trust settlement agreement design minim offic involv shoot effect quickli investig offic involv shoot occur measur includ settlement repres renew commit citi miami chief rodolfo llane provid constitut polic miami resid protect public safeti sustain reform said princip deputi gener gupta agreement help strengthen relationship commun serv improv account offic fire weapon unlaw provid commun particip enforc agreement today agreement result joint effort citi miami ensur miami polic continu effort make commun safe protect sacr constitut citizen said ferrer oversight commun agreement seek make perman posit chang former chief orosa chief llane made applaud citi commiss vote settlement agreement build upon import reform implement citi sinc issu find includ conduct attorney staff special litig section southern florida</td>\n",
       "      <td>reach_comprehens comprehens_settlement settlement_agreement agreement_citi citi_miami miami_miami miami_polic polic_resolv resolv_offic offic_involv involv_shoot shoot_offic offic_announc announc_princip princip_deputi deputi_gener gener_vanita vanita_gupta gupta_head head_wifredo wifredo_ferrer ferrer_southern southern_florida florida_settlement settlement_approv approv_miami miami_citi citi_commiss commiss_today today_effect effect_agreement agreement_sign sign_parti parti_resolv resolv_claim claim_stem stem_offic offic_involv involv_shoot shoot_offic offic_conduct conduct_violent violent_crime crime_control control_enforc enforc_find find_issu issu_juli juli_identifi identifi_pattern pattern_practic practic_excess excess_forc forc_offic offic_involv involv_shoot shoot_violat violat_fourth fourth_amend amend_constitut constitut_citi citi_complianc complianc_settlement settlement_monitor monitor_independ independ_review review_former former_tampa tampa_florida florida_polic polic_chief chief_jane jane_castor castor_settlement settlement_agreement agreement_citi citi_implement implement_comprehens comprehens_reform reform_ensur ensur_constitut constitut_polic polic_support support_public public_trust trust_settlement settlement_agreement agreement_design design_minim minim_offic offic_involv involv_shoot shoot_effect effect_quickli quickli_investig investig_offic offic_involv involv_shoot shoot_occur occur_measur measur_includ includ_settlement settlement_repres repres_renew renew_commit commit_citi citi_miami miami_chief chief_rodolfo rodolfo_llane llane_provid provid_constitut constitut_polic polic_miami miami_resid resid_protect protect_public public_safeti safeti_sustain sustain_reform reform_said said_princip princip_deputi deputi_gener gener_gupta gupta_agreement agreement_help help_strengthen strengthen_relationship relationship_commun commun_serv serv_improv improv_account account_offic offic_fire fire_weapon weapon_unlaw unlaw_provid provid_commun commun_particip particip_enforc enforc_agreement agreement_today today_agreement agreement_result result_joint joint_effort effort_citi citi_miami miami_ensur ensur_miami miami_polic polic_continu continu_effort effort_make make_commun commun_safe safe_protect protect_sacr sacr_constitut constitut_citizen citizen_said said_ferrer ferrer_oversight oversight_commun commun_agreement agreement_seek seek_make make_perman perman_posit posit_chang chang_former former_chief chief_orosa orosa_chief chief_llane llane_made made_applaud applaud_citi citi_commiss commiss_vote vote_settlement settlement_agreement agreement_build build_upon upon_import import_reform reform_implement implement_citi citi_sinc sinc_issu issu_find find_includ includ_conduct conduct_attorney attorney_staff staff_special special_litig litig_section section_southern southern_florida</td>\n",
       "    </tr>\n",
       "  </tbody>\n",
       "</table>\n",
       "</div>"
      ],
      "text/plain": [
       "         id  \\\n",
       "313  16-217   \n",
       "\n",
       "                                                                                                                                                                                                                                                                                                                                                                                                                                                                                                                                                                                                                                                                                                                                                                                                                                                                                                                                                                                                                                                                                                                                                                                                                                                                                                                                                                                                                                                                             processed_text  \\\n",
       "313  reach comprehens settlement agreement citi miami miami polic resolv offic involv shoot offic announc princip deputi gener vanita gupta head wifredo ferrer southern florida settlement approv miami citi commiss today effect agreement sign parti resolv claim stem offic involv shoot offic conduct violent crime control enforc find issu juli identifi pattern practic excess forc offic involv shoot violat fourth amend constitut citi complianc settlement monitor independ review former tampa florida polic chief jane castor settlement agreement citi implement comprehens reform ensur constitut polic support public trust settlement agreement design minim offic involv shoot effect quickli investig offic involv shoot occur measur includ settlement repres renew commit citi miami chief rodolfo llane provid constitut polic miami resid protect public safeti sustain reform said princip deputi gener gupta agreement help strengthen relationship commun serv improv account offic fire weapon unlaw provid commun particip enforc agreement today agreement result joint effort citi miami ensur miami polic continu effort make commun safe protect sacr constitut citizen said ferrer oversight commun agreement seek make perman posit chang former chief orosa chief llane made applaud citi commiss vote settlement agreement build upon import reform implement citi sinc issu find includ conduct attorney staff special litig section southern florida   \n",
       "\n",
       "                                                                                                                                                                                                                                                                                                                                                                                                                                                                                                                                                                                                                                                                                                                                                                                                                                                                                                                                                                                                                                                                                                                                                                                                                                                                                                                                                                                                                                                                                                                                                                                                                                                                                                                                                                                                                                                                                                                                                                                                                                                                                                                                                                                                                                                                                                                                                                                                                                                                                                                                                                                                                                                                                                                                                                                                                                                                                                                                              processed_text_bigrams  \n",
       "313  reach_comprehens comprehens_settlement settlement_agreement agreement_citi citi_miami miami_miami miami_polic polic_resolv resolv_offic offic_involv involv_shoot shoot_offic offic_announc announc_princip princip_deputi deputi_gener gener_vanita vanita_gupta gupta_head head_wifredo wifredo_ferrer ferrer_southern southern_florida florida_settlement settlement_approv approv_miami miami_citi citi_commiss commiss_today today_effect effect_agreement agreement_sign sign_parti parti_resolv resolv_claim claim_stem stem_offic offic_involv involv_shoot shoot_offic offic_conduct conduct_violent violent_crime crime_control control_enforc enforc_find find_issu issu_juli juli_identifi identifi_pattern pattern_practic practic_excess excess_forc forc_offic offic_involv involv_shoot shoot_violat violat_fourth fourth_amend amend_constitut constitut_citi citi_complianc complianc_settlement settlement_monitor monitor_independ independ_review review_former former_tampa tampa_florida florida_polic polic_chief chief_jane jane_castor castor_settlement settlement_agreement agreement_citi citi_implement implement_comprehens comprehens_reform reform_ensur ensur_constitut constitut_polic polic_support support_public public_trust trust_settlement settlement_agreement agreement_design design_minim minim_offic offic_involv involv_shoot shoot_effect effect_quickli quickli_investig investig_offic offic_involv involv_shoot shoot_occur occur_measur measur_includ includ_settlement settlement_repres repres_renew renew_commit commit_citi citi_miami miami_chief chief_rodolfo rodolfo_llane llane_provid provid_constitut constitut_polic polic_miami miami_resid resid_protect protect_public public_safeti safeti_sustain sustain_reform reform_said said_princip princip_deputi deputi_gener gener_gupta gupta_agreement agreement_help help_strengthen strengthen_relationship relationship_commun commun_serv serv_improv improv_account account_offic offic_fire fire_weapon weapon_unlaw unlaw_provid provid_commun commun_particip particip_enforc enforc_agreement agreement_today today_agreement agreement_result result_joint joint_effort effort_citi citi_miami miami_ensur ensur_miami miami_polic polic_continu continu_effort effort_make make_commun commun_safe safe_protect protect_sacr sacr_constitut constitut_citizen citizen_said said_ferrer ferrer_oversight oversight_commun commun_agreement agreement_seek seek_make make_perman perman_posit posit_chang chang_former former_chief chief_orosa orosa_chief chief_llane llane_made made_applaud applaud_citi citi_commiss commiss_vote vote_settlement settlement_agreement agreement_build build_upon upon_import import_reform reform_implement implement_citi citi_sinc sinc_issu issu_find find_includ includ_conduct conduct_attorney attorney_staff staff_special special_litig litig_section section_southern southern_florida  "
      ]
     },
     "execution_count": 579,
     "metadata": {},
     "output_type": "execute_result"
    }
   ],
   "source": [
    "##B\n",
    "##Print the id, processed_text, and processed_text_bigram columns for press release with id = 16-217\n",
    "example = doj_subset_wscore[doj_subset_wscore[\"id\"] == \"16-217\"]\n",
    "example[[\"id\", \"processed_text\", \"processed_text_bigrams\"]]\n"
   ]
  },
  {
   "cell_type": "markdown",
   "metadata": {},
   "source": [
    "C. Use the create_dtm function and the `processed_text_bigrams` column to create a document-term matrix (`dtm_bigram`) with these bigrams. Keep the following three columns in the data: `id`, `topics_clean`, and `compound` \n",
    "\n",
    "D. Print the (1) dimensions of the `dtm` matrix from question 2.2  and (2) the dimensions of the `dtm_bigram` matrix. Comment on why the bigram matrix has more dimensions than the unigram matrix "
   ]
  },
  {
   "cell_type": "code",
   "execution_count": 580,
   "metadata": {},
   "outputs": [
    {
     "data": {
      "text/html": [
       "<div>\n",
       "<style scoped>\n",
       "    .dataframe tbody tr th:only-of-type {\n",
       "        vertical-align: middle;\n",
       "    }\n",
       "\n",
       "    .dataframe tbody tr th {\n",
       "        vertical-align: top;\n",
       "    }\n",
       "\n",
       "    .dataframe thead th {\n",
       "        text-align: right;\n",
       "    }\n",
       "</style>\n",
       "<table border=\"1\" class=\"dataframe\">\n",
       "  <thead>\n",
       "    <tr style=\"text-align: right;\">\n",
       "      <th></th>\n",
       "      <th>index</th>\n",
       "      <th>metadata_id</th>\n",
       "      <th>metadata_compound</th>\n",
       "      <th>metadata_topics_clean</th>\n",
       "      <th>aaron_ford</th>\n",
       "      <th>aaron_latham</th>\n",
       "      <th>aaron_mcgrath</th>\n",
       "      <th>aaron_parrish</th>\n",
       "      <th>aaron_polster</th>\n",
       "      <th>aaron_rice</th>\n",
       "      <th>...</th>\n",
       "      <th>zone_religi</th>\n",
       "      <th>zone_request</th>\n",
       "      <th>zone_restrict</th>\n",
       "      <th>zone_student</th>\n",
       "      <th>zone_time</th>\n",
       "      <th>zone_varianc</th>\n",
       "      <th>zunggeemog_noel</th>\n",
       "      <th>zunggeemog_prompt</th>\n",
       "      <th>zunggeemog_write</th>\n",
       "      <th>zwengel_princeton</th>\n",
       "    </tr>\n",
       "  </thead>\n",
       "  <tbody>\n",
       "    <tr>\n",
       "      <th>0</th>\n",
       "      <td>0</td>\n",
       "      <td>17-1235</td>\n",
       "      <td>-0.9920</td>\n",
       "      <td>Civil Rights</td>\n",
       "      <td>0</td>\n",
       "      <td>0</td>\n",
       "      <td>0</td>\n",
       "      <td>0</td>\n",
       "      <td>0</td>\n",
       "      <td>0</td>\n",
       "      <td>...</td>\n",
       "      <td>0</td>\n",
       "      <td>0</td>\n",
       "      <td>0</td>\n",
       "      <td>0</td>\n",
       "      <td>0</td>\n",
       "      <td>0</td>\n",
       "      <td>0</td>\n",
       "      <td>0</td>\n",
       "      <td>0</td>\n",
       "      <td>0</td>\n",
       "    </tr>\n",
       "    <tr>\n",
       "      <th>1</th>\n",
       "      <td>1</td>\n",
       "      <td>15-1522</td>\n",
       "      <td>-0.8910</td>\n",
       "      <td>Project Safe Childhood</td>\n",
       "      <td>0</td>\n",
       "      <td>0</td>\n",
       "      <td>0</td>\n",
       "      <td>0</td>\n",
       "      <td>0</td>\n",
       "      <td>0</td>\n",
       "      <td>...</td>\n",
       "      <td>0</td>\n",
       "      <td>0</td>\n",
       "      <td>0</td>\n",
       "      <td>0</td>\n",
       "      <td>0</td>\n",
       "      <td>0</td>\n",
       "      <td>0</td>\n",
       "      <td>0</td>\n",
       "      <td>0</td>\n",
       "      <td>0</td>\n",
       "    </tr>\n",
       "    <tr>\n",
       "      <th>2</th>\n",
       "      <td>2</td>\n",
       "      <td>16-213</td>\n",
       "      <td>-0.8316</td>\n",
       "      <td>Project Safe Childhood</td>\n",
       "      <td>0</td>\n",
       "      <td>0</td>\n",
       "      <td>0</td>\n",
       "      <td>0</td>\n",
       "      <td>0</td>\n",
       "      <td>0</td>\n",
       "      <td>...</td>\n",
       "      <td>0</td>\n",
       "      <td>0</td>\n",
       "      <td>0</td>\n",
       "      <td>0</td>\n",
       "      <td>0</td>\n",
       "      <td>0</td>\n",
       "      <td>0</td>\n",
       "      <td>0</td>\n",
       "      <td>0</td>\n",
       "      <td>0</td>\n",
       "    </tr>\n",
       "    <tr>\n",
       "      <th>3</th>\n",
       "      <td>3</td>\n",
       "      <td>16-381</td>\n",
       "      <td>-0.9037</td>\n",
       "      <td>Project Safe Childhood</td>\n",
       "      <td>0</td>\n",
       "      <td>0</td>\n",
       "      <td>0</td>\n",
       "      <td>0</td>\n",
       "      <td>0</td>\n",
       "      <td>0</td>\n",
       "      <td>...</td>\n",
       "      <td>0</td>\n",
       "      <td>0</td>\n",
       "      <td>0</td>\n",
       "      <td>0</td>\n",
       "      <td>0</td>\n",
       "      <td>0</td>\n",
       "      <td>0</td>\n",
       "      <td>0</td>\n",
       "      <td>0</td>\n",
       "      <td>0</td>\n",
       "    </tr>\n",
       "    <tr>\n",
       "      <th>4</th>\n",
       "      <td>4</td>\n",
       "      <td>14-464</td>\n",
       "      <td>-0.9839</td>\n",
       "      <td>Hate Crimes</td>\n",
       "      <td>0</td>\n",
       "      <td>0</td>\n",
       "      <td>0</td>\n",
       "      <td>0</td>\n",
       "      <td>0</td>\n",
       "      <td>0</td>\n",
       "      <td>...</td>\n",
       "      <td>0</td>\n",
       "      <td>0</td>\n",
       "      <td>0</td>\n",
       "      <td>0</td>\n",
       "      <td>0</td>\n",
       "      <td>0</td>\n",
       "      <td>0</td>\n",
       "      <td>0</td>\n",
       "      <td>0</td>\n",
       "      <td>0</td>\n",
       "    </tr>\n",
       "    <tr>\n",
       "      <th>...</th>\n",
       "      <td>...</td>\n",
       "      <td>...</td>\n",
       "      <td>...</td>\n",
       "      <td>...</td>\n",
       "      <td>...</td>\n",
       "      <td>...</td>\n",
       "      <td>...</td>\n",
       "      <td>...</td>\n",
       "      <td>...</td>\n",
       "      <td>...</td>\n",
       "      <td>...</td>\n",
       "      <td>...</td>\n",
       "      <td>...</td>\n",
       "      <td>...</td>\n",
       "      <td>...</td>\n",
       "      <td>...</td>\n",
       "      <td>...</td>\n",
       "      <td>...</td>\n",
       "      <td>...</td>\n",
       "      <td>...</td>\n",
       "      <td>...</td>\n",
       "    </tr>\n",
       "    <tr>\n",
       "      <th>712</th>\n",
       "      <td>712</td>\n",
       "      <td>09-368</td>\n",
       "      <td>-0.9787</td>\n",
       "      <td>Hate Crimes</td>\n",
       "      <td>0</td>\n",
       "      <td>0</td>\n",
       "      <td>0</td>\n",
       "      <td>0</td>\n",
       "      <td>0</td>\n",
       "      <td>0</td>\n",
       "      <td>...</td>\n",
       "      <td>0</td>\n",
       "      <td>0</td>\n",
       "      <td>0</td>\n",
       "      <td>0</td>\n",
       "      <td>0</td>\n",
       "      <td>0</td>\n",
       "      <td>0</td>\n",
       "      <td>0</td>\n",
       "      <td>0</td>\n",
       "      <td>0</td>\n",
       "    </tr>\n",
       "    <tr>\n",
       "      <th>713</th>\n",
       "      <td>713</td>\n",
       "      <td>18-775</td>\n",
       "      <td>0.7003</td>\n",
       "      <td>Project Safe Childhood</td>\n",
       "      <td>0</td>\n",
       "      <td>0</td>\n",
       "      <td>0</td>\n",
       "      <td>0</td>\n",
       "      <td>0</td>\n",
       "      <td>0</td>\n",
       "      <td>...</td>\n",
       "      <td>0</td>\n",
       "      <td>0</td>\n",
       "      <td>0</td>\n",
       "      <td>0</td>\n",
       "      <td>0</td>\n",
       "      <td>0</td>\n",
       "      <td>0</td>\n",
       "      <td>0</td>\n",
       "      <td>0</td>\n",
       "      <td>0</td>\n",
       "    </tr>\n",
       "    <tr>\n",
       "      <th>714</th>\n",
       "      <td>714</td>\n",
       "      <td>12-596</td>\n",
       "      <td>-0.9538</td>\n",
       "      <td>Project Safe Childhood</td>\n",
       "      <td>0</td>\n",
       "      <td>0</td>\n",
       "      <td>0</td>\n",
       "      <td>0</td>\n",
       "      <td>0</td>\n",
       "      <td>0</td>\n",
       "      <td>...</td>\n",
       "      <td>0</td>\n",
       "      <td>0</td>\n",
       "      <td>0</td>\n",
       "      <td>0</td>\n",
       "      <td>0</td>\n",
       "      <td>0</td>\n",
       "      <td>0</td>\n",
       "      <td>0</td>\n",
       "      <td>0</td>\n",
       "      <td>0</td>\n",
       "    </tr>\n",
       "    <tr>\n",
       "      <th>715</th>\n",
       "      <td>715</td>\n",
       "      <td>18-359</td>\n",
       "      <td>-0.9866</td>\n",
       "      <td>Civil Rights</td>\n",
       "      <td>0</td>\n",
       "      <td>0</td>\n",
       "      <td>0</td>\n",
       "      <td>0</td>\n",
       "      <td>0</td>\n",
       "      <td>0</td>\n",
       "      <td>...</td>\n",
       "      <td>0</td>\n",
       "      <td>0</td>\n",
       "      <td>0</td>\n",
       "      <td>0</td>\n",
       "      <td>0</td>\n",
       "      <td>0</td>\n",
       "      <td>0</td>\n",
       "      <td>0</td>\n",
       "      <td>0</td>\n",
       "      <td>0</td>\n",
       "    </tr>\n",
       "    <tr>\n",
       "      <th>716</th>\n",
       "      <td>716</td>\n",
       "      <td>14-1377</td>\n",
       "      <td>-0.9938</td>\n",
       "      <td>Hate Crimes</td>\n",
       "      <td>0</td>\n",
       "      <td>0</td>\n",
       "      <td>0</td>\n",
       "      <td>0</td>\n",
       "      <td>0</td>\n",
       "      <td>0</td>\n",
       "      <td>...</td>\n",
       "      <td>0</td>\n",
       "      <td>0</td>\n",
       "      <td>0</td>\n",
       "      <td>0</td>\n",
       "      <td>0</td>\n",
       "      <td>0</td>\n",
       "      <td>0</td>\n",
       "      <td>0</td>\n",
       "      <td>0</td>\n",
       "      <td>0</td>\n",
       "    </tr>\n",
       "  </tbody>\n",
       "</table>\n",
       "<p>717 rows × 72763 columns</p>\n",
       "</div>"
      ],
      "text/plain": [
       "     index metadata_id  metadata_compound   metadata_topics_clean  aaron_ford  \\\n",
       "0        0     17-1235            -0.9920            Civil Rights           0   \n",
       "1        1     15-1522            -0.8910  Project Safe Childhood           0   \n",
       "2        2      16-213            -0.8316  Project Safe Childhood           0   \n",
       "3        3      16-381            -0.9037  Project Safe Childhood           0   \n",
       "4        4      14-464            -0.9839             Hate Crimes           0   \n",
       "..     ...         ...                ...                     ...         ...   \n",
       "712    712      09-368            -0.9787             Hate Crimes           0   \n",
       "713    713      18-775             0.7003  Project Safe Childhood           0   \n",
       "714    714      12-596            -0.9538  Project Safe Childhood           0   \n",
       "715    715      18-359            -0.9866            Civil Rights           0   \n",
       "716    716     14-1377            -0.9938             Hate Crimes           0   \n",
       "\n",
       "     aaron_latham  aaron_mcgrath  aaron_parrish  aaron_polster  aaron_rice  \\\n",
       "0               0              0              0              0           0   \n",
       "1               0              0              0              0           0   \n",
       "2               0              0              0              0           0   \n",
       "3               0              0              0              0           0   \n",
       "4               0              0              0              0           0   \n",
       "..            ...            ...            ...            ...         ...   \n",
       "712             0              0              0              0           0   \n",
       "713             0              0              0              0           0   \n",
       "714             0              0              0              0           0   \n",
       "715             0              0              0              0           0   \n",
       "716             0              0              0              0           0   \n",
       "\n",
       "     ...  zone_religi  zone_request  zone_restrict  zone_student  zone_time  \\\n",
       "0    ...            0             0              0             0          0   \n",
       "1    ...            0             0              0             0          0   \n",
       "2    ...            0             0              0             0          0   \n",
       "3    ...            0             0              0             0          0   \n",
       "4    ...            0             0              0             0          0   \n",
       "..   ...          ...           ...            ...           ...        ...   \n",
       "712  ...            0             0              0             0          0   \n",
       "713  ...            0             0              0             0          0   \n",
       "714  ...            0             0              0             0          0   \n",
       "715  ...            0             0              0             0          0   \n",
       "716  ...            0             0              0             0          0   \n",
       "\n",
       "     zone_varianc  zunggeemog_noel  zunggeemog_prompt  zunggeemog_write  \\\n",
       "0               0                0                  0                 0   \n",
       "1               0                0                  0                 0   \n",
       "2               0                0                  0                 0   \n",
       "3               0                0                  0                 0   \n",
       "4               0                0                  0                 0   \n",
       "..            ...              ...                ...               ...   \n",
       "712             0                0                  0                 0   \n",
       "713             0                0                  0                 0   \n",
       "714             0                0                  0                 0   \n",
       "715             0                0                  0                 0   \n",
       "716             0                0                  0                 0   \n",
       "\n",
       "     zwengel_princeton  \n",
       "0                    0  \n",
       "1                    0  \n",
       "2                    0  \n",
       "3                    0  \n",
       "4                    0  \n",
       "..                 ...  \n",
       "712                  0  \n",
       "713                  0  \n",
       "714                  0  \n",
       "715                  0  \n",
       "716                  0  \n",
       "\n",
       "[717 rows x 72763 columns]"
      ]
     },
     "execution_count": 580,
     "metadata": {},
     "output_type": "execute_result"
    }
   ],
   "source": [
    "##C\n",
    "##Create document term matrix \n",
    "dtm_bigram = create_dtm(list_of_strings= doj_subset_wscore.processed_text_bigrams,\n",
    "                        metadata = doj_subset_wscore[[\"id\", \"compound\",\"topics_clean\"]])\n",
    "\n",
    "dtm_bigram"
   ]
  },
  {
   "cell_type": "code",
   "execution_count": 581,
   "metadata": {},
   "outputs": [
    {
     "name": "stdout",
     "output_type": "stream",
     "text": [
      "Dimensions of unigram matrix\n"
     ]
    },
    {
     "data": {
      "text/plain": [
       "(717, 6932)"
      ]
     },
     "execution_count": 581,
     "metadata": {},
     "output_type": "execute_result"
    },
    {
     "name": "stdout",
     "output_type": "stream",
     "text": [
      "Dimensions of bigram matrix\n"
     ]
    },
    {
     "data": {
      "text/plain": [
       "(717, 72763)"
      ]
     },
     "execution_count": 581,
     "metadata": {},
     "output_type": "execute_result"
    }
   ],
   "source": [
    "##D\n",
    "##Print dimensions of dtm matrix \n",
    "print(\"Dimensions of unigram matrix\")\n",
    "dtm_pre.shape\n",
    "\n",
    "print(\"Dimensions of bigram matrix\")\n",
    "dtm_bigram.shape\n",
    "\n",
    "#The bigram matrix has more dimensions than the unigram matrix because bigram matrix takes \n",
    "##more unique sets of adjacent words.\n"
   ]
  },
  {
   "cell_type": "markdown",
   "metadata": {},
   "source": [
    "E. Find and print the 10 most prevelant bigrams for each of the three topics_clean using the `get_topwords` function from 2.2"
   ]
  },
  {
   "cell_type": "code",
   "execution_count": 583,
   "metadata": {},
   "outputs": [
    {
     "name": "stdout",
     "output_type": "stream",
     "text": [
      "Top 10 words: Civil Rights\n"
     ]
    },
    {
     "data": {
      "text/plain": [
       "fair_hous         231\n",
       "deputi_gener      221\n",
       "princip_deputi    221\n",
       "vanita_gupta      202\n",
       "gupta_head        200\n",
       "gener_vanita      199\n",
       "said_princip      186\n",
       "unit_state        156\n",
       "nation_origin     143\n",
       "consent_decre     128\n",
       "dtype: int64"
      ]
     },
     "execution_count": 583,
     "metadata": {},
     "output_type": "execute_result"
    },
    {
     "name": "stdout",
     "output_type": "stream",
     "text": [
      "Top 10 words: Project Safe Childhood\n"
     ]
    },
    {
     "data": {
      "text/plain": [
       "safe_childhood       474\n",
       "project_safe         472\n",
       "child_pornographi    450\n",
       "child_exploit        281\n",
       "sexual_exploit       223\n",
       "exploit_children     200\n",
       "plead_guilti         197\n",
       "exploit_obscen       176\n",
       "obscen_section       175\n",
       "child_sexual         174\n",
       "dtype: int64"
      ]
     },
     "execution_count": 583,
     "metadata": {},
     "output_type": "execute_result"
    },
    {
     "name": "stdout",
     "output_type": "stream",
     "text": [
      "Top 10 words: Hate Crimes\n"
     ]
    },
    {
     "data": {
      "text/plain": [
       "hate_crime          379\n",
       "african_american    367\n",
       "plead_guilti        275\n",
       "year_prison         161\n",
       "special_agent       124\n",
       "racial_motiv        114\n",
       "thoma_perez         111\n",
       "grand_juri          101\n",
       "perez_gener          95\n",
       "said_thoma           91\n",
       "dtype: int64"
      ]
     },
     "execution_count": 583,
     "metadata": {},
     "output_type": "execute_result"
    }
   ],
   "source": [
    "##E\n",
    "## Dataset subset to Civil Rights\n",
    "doj_subset_rights2 = dtm_bigram[dtm_bigram[\"metadata_topics_clean\"] == \"Civil Rights\"]\n",
    "print(\"Top 10 words: Civil Rights\")\n",
    "get_topwords(doj_subset_rights2)\n",
    "\n",
    "## Dataset subset to Project Safe Childhood\n",
    "doj_subset_child2 = dtm_bigram[dtm_bigram[\"metadata_topics_clean\"] == \"Project Safe Childhood\"]\n",
    "print(\"Top 10 words: Project Safe Childhood\")\n",
    "get_topwords(doj_subset_child2)\n",
    "\n",
    "## Dataset subset to Hate Crimes\n",
    "doj_subset_crimes2 = dtm_bigram[dtm_bigram[\"metadata_topics_clean\"] == \"Hate Crimes\"]\n",
    "print(\"Top 10 words: Hate Crimes\")\n",
    "get_topwords(doj_subset_crimes2)\n"
   ]
  },
  {
   "cell_type": "markdown",
   "metadata": {},
   "source": [
    "# 4. Optional extra credit 1 (3 points)\n",
    "\n",
    "You notice that the pharmaceutical kickbacks press release we analyzed in question 1 was for an indictment, and that in the original data, there's not a clear label for whether a press release outlines an indictment (charging someone with a crime), a conviction (convicting them after that charge either via a settlement or trial), or a sentencing (how many years of prison or supervised release a defendant is sentenced to after their conviction).\n",
    "\n",
    "You want to see if you can identify pairs of press releases where one press release is from one stage (e.g., indictment) and another is from a different stage (e.g., a sentencing).\n",
    "\n",
    "You decide that one way to approach is to find the pairwise string similarity between each of the processed press releases in `doj_subset`. There are many ways to do this, so Google for some approaches, focusing on ones that work well for entire documents rather than small strings.\n",
    "\n",
    "Find the top two pairs (so four press releases total)-- do they seem like different stages of the same crime or just press releases covering similar crimes?"
   ]
  },
  {
   "cell_type": "code",
   "execution_count": 23,
   "metadata": {},
   "outputs": [],
   "source": [
    "# your code here "
   ]
  },
  {
   "cell_type": "markdown",
   "metadata": {},
   "source": [
    "# 5. Optional extra credit 2 (6 points)\n",
    "\n",
    "Review the scraping code here: https://github.com/jbencina/dojreleases/blob/master/scraper.py\n",
    "    \n",
    "Write code to scrape press releases from more recent years from the DOJ website than the years available in the combined.json (which stops around 2018 or 2019) and produce a visualization of how top words or topics in the press releases changed across the Trump administration (2016-December 2020) versus Biden administration (January 2021 onwards)  "
   ]
  },
  {
   "cell_type": "code",
   "execution_count": 24,
   "metadata": {},
   "outputs": [],
   "source": [
    "# your code here"
   ]
  }
 ],
 "metadata": {
  "kernelspec": {
   "display_name": "Python 3 (ipykernel)",
   "language": "python",
   "name": "python3"
  },
  "language_info": {
   "codemirror_mode": {
    "name": "ipython",
    "version": 3
   },
   "file_extension": ".py",
   "mimetype": "text/x-python",
   "name": "python",
   "nbconvert_exporter": "python",
   "pygments_lexer": "ipython3",
   "version": "3.9.7"
  }
 },
 "nbformat": 4,
 "nbformat_minor": 4
}
